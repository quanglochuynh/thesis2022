{
 "cells": [
  {
   "cell_type": "code",
   "execution_count": 1,
   "metadata": {},
   "outputs": [
    {
     "name": "stdout",
     "output_type": "stream",
     "text": [
      "OS: Windows\n",
      "0 :  overall_geometry\n",
      "1 :  overall_rgb\n",
      "2 :  overall_hsv\n",
      "3 :  color_grid\n",
      "4 :  glcm_grid\n",
      "5 :  comp_hsv\n",
      "6 :  lbp_hist\n",
      "7 :  haralick\n",
      "8 :  red_haralick\n",
      "9 :  blue_haralick\n"
     ]
    }
   ],
   "source": [
    "import numpy as np\n",
    "import tensorflow as tf\n",
    "from tensorflow import keras\n",
    "from keras import layers\n",
    "import matplotlib.pyplot as plt\n",
    "from image_extractor import DataSetup\n",
    "data = DataSetup()"
   ]
  },
  {
   "cell_type": "code",
   "execution_count": 2,
   "metadata": {},
   "outputs": [
    {
     "name": "stdout",
     "output_type": "stream",
     "text": [
      "x_test size: (1260, 571)\n",
      "x_train size: (7140, 571)\n",
      "y_test size: (1260, 14)\n",
      "y_train size: (7140, 14)\n",
      "Model name = ' overall_geometry_color_grid_glcm_grid_comp_hsv_lbp_hist_haralick.h5 '\n",
      "D:./TF_backup/mlp/overall_geometry_color_grid_glcm_grid_comp_hsv_lbp_hist_haralick.h5\n"
     ]
    }
   ],
   "source": [
    "data.concat(dataID=[0, 3, 4, 5, 6, 7])\n",
    "model_dir = 'D:./TF_backup/mlp/' + data.model_name\n",
    "checkpoint_dir = 'D:./TF_checkpoint/mlp/weight/'\n",
    "print(model_dir)\n",
    "\n",
    "input_shape = (data.length,)\n",
    "batch_size = 8\n",
    "\n",
    "model_checkpoint = keras.callbacks.ModelCheckpoint(\n",
    "    checkpoint_dir,\n",
    "    save_weights_only=True,\n",
    "    monitor='val_accuracy',\n",
    "    mode='max',\n",
    ")"
   ]
  },
  {
   "cell_type": "code",
   "execution_count": 3,
   "metadata": {},
   "outputs": [],
   "source": [
    "normalizer = layers.Normalization()\n",
    "normalizer.adapt(data.x_train)\n",
    "\n",
    "# Define model\n",
    "input_layer = layers.Input(shape=input_shape)\n",
    "norm = normalizer(input_layer)\n",
    "den1 = layers.Dense(1024, activation='relu', kernel_initializer='HeNormal')(norm)\n",
    "drop1 = layers.Dropout(0.2)(den1)\n",
    "den2 = layers.Dense(1024, activation='relu', kernel_initializer='HeNormal')(drop1)\n",
    "drop2 = layers.Dropout(0.2)(den2)\n",
    "den3 = layers.Dense(512, activation='relu', kernel_initializer='HeNormal')(drop2)\n",
    "drop3 = layers.Dropout(0.2)(den3)\n",
    "den4 = layers.Dense(512, activation='relu', kernel_initializer='HeNormal')(drop3)\n",
    "drop4 = layers.Dropout(0.2)(den4)\n",
    "den5 = layers.Dense(14, activation='softmax')(drop4)\n",
    "model = keras.Model(input_layer, den5)\n",
    "\n",
    "opt = tf.keras.optimizers.SGD(\n",
    "    learning_rate=0.0001,\n",
    "    momentum=0.4,\n",
    "    nesterov=True,\n",
    "    name='SGD',\n",
    ")\n",
    "\n",
    "model.compile(\n",
    "    optimizer=opt, \n",
    "    loss=\"categorical_crossentropy\", \n",
    "    metrics=[\"accuracy\"]\n",
    "    )\n",
    "\n",
    "# model = keras.models.load_model(model_dir)"
   ]
  },
  {
   "cell_type": "code",
   "execution_count": 4,
   "metadata": {},
   "outputs": [
    {
     "name": "stdout",
     "output_type": "stream",
     "text": [
      "Model: \"model\"\n",
      "_________________________________________________________________\n",
      " Layer (type)                Output Shape              Param #   \n",
      "=================================================================\n",
      " input_1 (InputLayer)        [(None, 571)]             0         \n",
      "                                                                 \n",
      " normalization (Normalizatio  (None, 571)              1143      \n",
      " n)                                                              \n",
      "                                                                 \n",
      " dense (Dense)               (None, 1024)              585728    \n",
      "                                                                 \n",
      " dropout (Dropout)           (None, 1024)              0         \n",
      "                                                                 \n",
      " dense_1 (Dense)             (None, 1024)              1049600   \n",
      "                                                                 \n",
      " dropout_1 (Dropout)         (None, 1024)              0         \n",
      "                                                                 \n",
      " dense_2 (Dense)             (None, 512)               524800    \n",
      "                                                                 \n",
      " dropout_2 (Dropout)         (None, 512)               0         \n",
      "                                                                 \n",
      " dense_3 (Dense)             (None, 512)               262656    \n",
      "                                                                 \n",
      " dropout_3 (Dropout)         (None, 512)               0         \n",
      "                                                                 \n",
      " dense_4 (Dense)             (None, 14)                7182      \n",
      "                                                                 \n",
      "=================================================================\n",
      "Total params: 2,431,109\n",
      "Trainable params: 2,429,966\n",
      "Non-trainable params: 1,143\n",
      "_________________________________________________________________\n"
     ]
    }
   ],
   "source": [
    "model.summary()"
   ]
  },
  {
   "cell_type": "code",
   "execution_count": 5,
   "metadata": {},
   "outputs": [
    {
     "name": "stdout",
     "output_type": "stream",
     "text": [
      "Epoch 1/10\n",
      "893/893 [==============================] - 6s 6ms/step - loss: 3.1964 - accuracy: 0.1088\n",
      "Epoch 2/10\n",
      "893/893 [==============================] - 5s 5ms/step - loss: 2.5717 - accuracy: 0.2071\n",
      "Epoch 3/10\n",
      "893/893 [==============================] - 5s 5ms/step - loss: 2.2343 - accuracy: 0.2832\n",
      "Epoch 4/10\n",
      "893/893 [==============================] - 5s 5ms/step - loss: 2.0521 - accuracy: 0.3354\n",
      "Epoch 5/10\n",
      "893/893 [==============================] - 5s 5ms/step - loss: 1.8964 - accuracy: 0.3818\n",
      "Epoch 6/10\n",
      "893/893 [==============================] - 5s 5ms/step - loss: 1.7533 - accuracy: 0.4203\n",
      "Epoch 7/10\n",
      "893/893 [==============================] - 5s 6ms/step - loss: 1.6559 - accuracy: 0.4525\n",
      "Epoch 8/10\n",
      "893/893 [==============================] - 5s 5ms/step - loss: 1.5576 - accuracy: 0.4810\n",
      "Epoch 9/10\n",
      "893/893 [==============================] - 5s 6ms/step - loss: 1.4659 - accuracy: 0.5050\n",
      "Epoch 10/10\n",
      "893/893 [==============================] - 5s 5ms/step - loss: 1.4225 - accuracy: 0.5099\n"
     ]
    }
   ],
   "source": [
    "epochs = 10\n",
    "model.fit(data.x_train, data.y_train, batch_size=8, shuffle=True, epochs=epochs, callbacks=[model_checkpoint])\n",
    "model.save(model_dir)"
   ]
  },
  {
   "cell_type": "code",
   "execution_count": 12,
   "metadata": {},
   "outputs": [
    {
     "name": "stdout",
     "output_type": "stream",
     "text": [
      "Epoch 1/10\n",
      "1785/1785 [==============================] - 10s 5ms/step - loss: 0.8523 - accuracy: 0.7029\n",
      "Epoch 2/10\n",
      "1785/1785 [==============================] - 9s 5ms/step - loss: 0.8432 - accuracy: 0.6975\n",
      "Epoch 3/10\n",
      "1785/1785 [==============================] - 9s 5ms/step - loss: 0.7997 - accuracy: 0.7176\n",
      "Epoch 4/10\n",
      "1785/1785 [==============================] - 9s 5ms/step - loss: 0.7933 - accuracy: 0.7150\n",
      "Epoch 5/10\n",
      "1785/1785 [==============================] - 9s 5ms/step - loss: 0.7772 - accuracy: 0.7242\n",
      "Epoch 6/10\n",
      "1785/1785 [==============================] - 9s 5ms/step - loss: 0.7360 - accuracy: 0.7410\n",
      "Epoch 7/10\n",
      "1785/1785 [==============================] - 9s 5ms/step - loss: 0.7266 - accuracy: 0.7406\n",
      "Epoch 8/10\n",
      "1785/1785 [==============================] - 9s 5ms/step - loss: 0.7301 - accuracy: 0.7396\n",
      "Epoch 9/10\n",
      "1785/1785 [==============================] - 9s 5ms/step - loss: 0.6942 - accuracy: 0.7514\n",
      "Epoch 10/10\n",
      "1785/1785 [==============================] - 9s 5ms/step - loss: 0.6858 - accuracy: 0.7541\n"
     ]
    }
   ],
   "source": [
    "epochs = 10\n",
    "model.fit(data.x_train, data.y_train, batch_size=4, shuffle=True, epochs=epochs, callbacks=[model_checkpoint])\n",
    "model.save(model_dir)"
   ]
  },
  {
   "cell_type": "code",
   "execution_count": 17,
   "metadata": {},
   "outputs": [
    {
     "name": "stdout",
     "output_type": "stream",
     "text": [
      "40/40 [==============================] - 0s 4ms/step - loss: 0.6588 - accuracy: 0.7643\n",
      "Test loss: 0.6588096022605896\n",
      "Test accuracy: 0.7642857432365417\n"
     ]
    }
   ],
   "source": [
    "score = model.evaluate(data.x_test, data.y_test, verbose=1)\n",
    "print(\"Test loss:\", score[0])\n",
    "print(\"Test accuracy:\", score[1])"
   ]
  },
  {
   "cell_type": "code",
   "execution_count": 14,
   "metadata": {},
   "outputs": [
    {
     "data": {
      "image/png": "[encoded data removed]",
      "text/plain": [
       "<Figure size 432x432 with 1 Axes>"
      ]
     },
     "metadata": {
      "needs_background": "light"
     },
     "output_type": "display_data"
    }
   ],
   "source": [
    "i = 0\n",
    "cmatrix = np.zeros((14,14), dtype=np.int16)\n",
    "bat = int(len(data.x_test)/60)\n",
    "for i in range(0, len(data.x_test),bat):\n",
    "    result = model.predict_on_batch(data.x_test[i:i+bat])\n",
    "    ans = data.y_test[i:i+bat]\n",
    "    for j in range(bat):\n",
    "        id1 = np.argmax(result[j])\n",
    "        id2 = np.argmax(ans[j])\n",
    "        cmatrix[id1, id2] = cmatrix[id1][id2] + 1\n",
    "\n",
    "cmatrix = np.absolute(cmatrix)\n",
    "# print(repr(cmatrix))\n",
    "\n",
    "fig = plt.figure(figsize=(6,6))\n",
    "plt.imshow(cmatrix)\n",
    "plt.title(\"Plot 2D array\")\n",
    "plt.show()"
   ]
  },
  {
   "cell_type": "code",
   "execution_count": 18,
   "metadata": {},
   "outputs": [
    {
     "name": "stdout",
     "output_type": "stream",
     "text": [
      "Agglutinated: \t \t0.844\n",
      "Brittle: \t \t0.556\n",
      "Compartmentalized_Brown: \t \t0.789\n",
      "Compartmentalized_PartiallyPurple: \t \t0.467\n",
      "Compartmentalized_Purple: \t \t0.789\n",
      "Compartmentalized_Slaty: \t \t0.9\n",
      "Compartmentalized_White: \t \t0.956\n",
      "Flattened: \t \t0.922\n",
      "Moldered: \t \t0.989\n",
      "Plated_Brown: \t \t0.544\n",
      "Plated_PartiallyPurple: \t \t0.322\n",
      "Plated_Purple: \t \t0.833\n",
      "Plated_Slaty: \t \t0.933\n",
      "Plated_White: \t \t0.856\n",
      "0.7642857142857142\n"
     ]
    }
   ],
   "source": [
    "classes_name = ['Agglutinated', 'Brittle', 'Compartmentalized_Brown', 'Compartmentalized_PartiallyPurple', 'Compartmentalized_Purple', 'Compartmentalized_Slaty', 'Compartmentalized_White', 'Flattened', 'Moldered', 'Plated_Brown', 'Plated_PartiallyPurple', 'Plated_Purple', 'Plated_Slaty', 'Plated_White']\n",
    "acc = []\n",
    "for i in range(14):\n",
    "    acc.append(np.round(cmatrix[i][i]/90,3))\n",
    "    print(classes_name[i] + ': \\t \\t' + str(acc[i]))\n",
    "print(np.mean(acc))"
   ]
  }
 ],
 "metadata": {
  "kernelspec": {
   "display_name": "Python 3.10.4 64-bit",
   "language": "python",
   "name": "python3"
  },
  "language_info": {
   "codemirror_mode": {
    "name": "ipython",
    "version": 3
   },
   "file_extension": ".py",
   "mimetype": "text/x-python",
   "name": "python",
   "nbconvert_exporter": "python",
   "pygments_lexer": "ipython3",
   "version": "3.10.4"
  },
  "orig_nbformat": 4,
  "vscode": {
   "interpreter": {
    "hash": "26de051ba29f2982a8de78e945f0abaf191376122a1563185a90213a26c5da77"
   }
  }
 },
 "nbformat": 4,
 "nbformat_minor": 2
}
