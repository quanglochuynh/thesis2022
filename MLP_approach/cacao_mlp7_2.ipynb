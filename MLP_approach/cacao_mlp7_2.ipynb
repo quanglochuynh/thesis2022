{
 "cells": [
  {
   "cell_type": "code",
   "execution_count": 1,
   "metadata": {},
   "outputs": [],
   "source": [
    "import numpy as np\n",
    "import pathlib\n",
    "import os\n",
    "import tensorflow as tf\n",
    "from tensorflow import keras\n",
    "from keras import layers\n",
    "import matplotlib.pyplot as plt"
   ]
  },
  {
   "cell_type": "code",
   "execution_count": 5,
   "metadata": {},
   "outputs": [],
   "source": [
    "input_shape = (727,)\n",
    "batch_size = 8\n",
    "\n",
    "cwd = os.getcwd()\n",
    "x_train_dir = pathlib.Path(cwd + '/data/X_train_727_new.npz')\n",
    "y_train_dir = pathlib.Path(cwd + '/data/Y_train_195.npz')\n",
    "x_test_dir  = pathlib.Path(cwd + '/data/X_test_727_new.npz')\n",
    "y_test_dir  = pathlib.Path(cwd + '/data/Y_test_195.npz')\n",
    "checkpoint_dir = pathlib.Path('D:./TF_checkpoint/mlp/weight/')\n",
    "model_dir = pathlib.Path('D:./TF_backup/mlp/mlp7_631.h5')\n",
    "\n",
    "x_train = np.asarray(np.load(x_train_dir, allow_pickle=True)['arr_0'], dtype=np.float32)\n",
    "y_train = np.asarray(np.load(y_train_dir, allow_pickle=True)['arr_0'], dtype=np.float32)\n",
    "x_test = np.asarray(np.load(x_test_dir, allow_pickle=True)['arr_0'], dtype=np.float32)\n",
    "y_test = np.asarray(np.load(y_test_dir, allow_pickle=True)['arr_0'], dtype=np.float32)\n",
    "\n",
    "model_checkpoint = keras.callbacks.ModelCheckpoint(\n",
    "    checkpoint_dir,\n",
    "    save_weights_only=True,\n",
    "    monitor='val_accuracy',\n",
    "    mode='max',\n",
    ")"
   ]
  },
  {
   "cell_type": "code",
   "execution_count": 3,
   "metadata": {},
   "outputs": [
    {
     "name": "stdout",
     "output_type": "stream",
     "text": [
      "(6720, 727)\n"
     ]
    }
   ],
   "source": [
    "print(np.shape(x_train))"
   ]
  },
  {
   "cell_type": "code",
   "execution_count": 12,
   "metadata": {},
   "outputs": [],
   "source": [
    "normalizer = layers.Normalization()\n",
    "normalizer.adapt(x_train)\n",
    "\n",
    "# Define model\n",
    "input_layer = layers.Input(shape=input_shape)\n",
    "norm = normalizer(input_layer)\n",
    "den1 = layers.Dense(1024, activation='relu', kernel_initializer='HeNormal')(norm)\n",
    "drop1 = layers.Dropout(0.4)(den1)\n",
    "den2 = layers.Dense(1024, activation='relu', kernel_initializer='HeNormal')(drop1)\n",
    "drop2 = layers.Dropout(0.2)(den2)\n",
    "den3 = layers.Dense(1024, activation='relu', kernel_initializer='HeNormal')(drop2)\n",
    "drop3 = layers.Dropout(0.2)(den3)\n",
    "den4 = layers.Dense(14, activation='softmax')(drop3)\n",
    "model = keras.Model(input_layer, den4)\n",
    "\n",
    "opt = tf.keras.optimizers.SGD(\n",
    "    learning_rate=0.0001,\n",
    "    momentum=0.8,\n",
    "    nesterov=True,\n",
    "    name='SGD',\n",
    ")\n",
    "\n",
    "model.compile(\n",
    "    optimizer=opt, \n",
    "    loss=\"categorical_crossentropy\", \n",
    "    metrics=[\"accuracy\"]\n",
    "    )"
   ]
  },
  {
   "cell_type": "code",
   "execution_count": 7,
   "metadata": {},
   "outputs": [
    {
     "name": "stdout",
     "output_type": "stream",
     "text": [
      "Model: \"model\"\n",
      "_________________________________________________________________\n",
      " Layer (type)                Output Shape              Param #   \n",
      "=================================================================\n",
      " input_2 (InputLayer)        [(None, 727)]             0         \n",
      "                                                                 \n",
      " normalization_1 (Normalizat  (None, 727)              1455      \n",
      " ion)                                                            \n",
      "                                                                 \n",
      " dense (Dense)               (None, 1024)              745472    \n",
      "                                                                 \n",
      " dropout (Dropout)           (None, 1024)              0         \n",
      "                                                                 \n",
      " dense_1 (Dense)             (None, 1024)              1049600   \n",
      "                                                                 \n",
      " dropout_1 (Dropout)         (None, 1024)              0         \n",
      "                                                                 \n",
      " dense_2 (Dense)             (None, 1024)              1049600   \n",
      "                                                                 \n",
      " dropout_2 (Dropout)         (None, 1024)              0         \n",
      "                                                                 \n",
      " dense_3 (Dense)             (None, 14)                14350     \n",
      "                                                                 \n",
      "=================================================================\n",
      "Total params: 2,860,477\n",
      "Trainable params: 2,859,022\n",
      "Non-trainable params: 1,455\n",
      "_________________________________________________________________\n"
     ]
    }
   ],
   "source": [
    "model.summary()"
   ]
  },
  {
   "cell_type": "code",
   "execution_count": 13,
   "metadata": {},
   "outputs": [
    {
     "name": "stdout",
     "output_type": "stream",
     "text": [
      "Epoch 1/50\n",
      "840/840 [==============================] - 5s 6ms/step - loss: 2.9080 - accuracy: 0.1884\n",
      "Epoch 2/50\n",
      "840/840 [==============================] - 4s 5ms/step - loss: 2.1029 - accuracy: 0.3399\n",
      "Epoch 3/50\n",
      "840/840 [==============================] - 4s 5ms/step - loss: 1.8074 - accuracy: 0.4118\n",
      "Epoch 4/50\n",
      "840/840 [==============================] - 4s 5ms/step - loss: 1.6112 - accuracy: 0.4670\n",
      "Epoch 5/50\n",
      "840/840 [==============================] - 4s 5ms/step - loss: 1.4575 - accuracy: 0.5046\n",
      "Epoch 6/50\n",
      "840/840 [==============================] - 5s 5ms/step - loss: 1.3695 - accuracy: 0.5307\n",
      "Epoch 7/50\n",
      "840/840 [==============================] - 5s 5ms/step - loss: 1.2857 - accuracy: 0.5635\n",
      "Epoch 8/50\n",
      "840/840 [==============================] - 4s 5ms/step - loss: 1.2392 - accuracy: 0.5696\n",
      "Epoch 9/50\n",
      "840/840 [==============================] - 5s 6ms/step - loss: 1.1660 - accuracy: 0.5952\n",
      "Epoch 10/50\n",
      "840/840 [==============================] - 5s 6ms/step - loss: 1.1143 - accuracy: 0.6121\n",
      "Epoch 11/50\n",
      "840/840 [==============================] - 5s 6ms/step - loss: 1.0701 - accuracy: 0.6305\n",
      "Epoch 12/50\n",
      "840/840 [==============================] - 5s 6ms/step - loss: 1.0355 - accuracy: 0.6339\n",
      "Epoch 13/50\n",
      "840/840 [==============================] - 5s 6ms/step - loss: 1.0048 - accuracy: 0.6476\n",
      "Epoch 14/50\n",
      "840/840 [==============================] - 5s 6ms/step - loss: 0.9758 - accuracy: 0.6568\n",
      "Epoch 15/50\n",
      "840/840 [==============================] - 5s 6ms/step - loss: 0.9498 - accuracy: 0.6701\n",
      "Epoch 16/50\n",
      "840/840 [==============================] - 5s 6ms/step - loss: 0.9058 - accuracy: 0.6845\n",
      "Epoch 17/50\n",
      "840/840 [==============================] - 5s 5ms/step - loss: 0.8736 - accuracy: 0.6881\n",
      "Epoch 18/50\n",
      "840/840 [==============================] - 4s 5ms/step - loss: 0.8668 - accuracy: 0.6874\n",
      "Epoch 19/50\n",
      "840/840 [==============================] - 5s 6ms/step - loss: 0.8252 - accuracy: 0.7125\n",
      "Epoch 20/50\n",
      "840/840 [==============================] - 5s 6ms/step - loss: 0.8230 - accuracy: 0.7070\n",
      "Epoch 21/50\n",
      "840/840 [==============================] - 5s 6ms/step - loss: 0.8079 - accuracy: 0.7137\n",
      "Epoch 22/50\n",
      "840/840 [==============================] - 5s 6ms/step - loss: 0.7684 - accuracy: 0.7253\n",
      "Epoch 23/50\n",
      "840/840 [==============================] - 5s 6ms/step - loss: 0.7717 - accuracy: 0.7301\n",
      "Epoch 24/50\n",
      "840/840 [==============================] - 5s 6ms/step - loss: 0.7488 - accuracy: 0.7393\n",
      "Epoch 25/50\n",
      "840/840 [==============================] - 5s 6ms/step - loss: 0.7270 - accuracy: 0.7460\n",
      "Epoch 26/50\n",
      "840/840 [==============================] - 5s 6ms/step - loss: 0.7169 - accuracy: 0.7440\n",
      "Epoch 27/50\n",
      "840/840 [==============================] - 5s 6ms/step - loss: 0.6921 - accuracy: 0.7563\n",
      "Epoch 28/50\n",
      "840/840 [==============================] - 5s 6ms/step - loss: 0.6954 - accuracy: 0.7516\n",
      "Epoch 29/50\n",
      "840/840 [==============================] - 5s 6ms/step - loss: 0.6623 - accuracy: 0.7649\n",
      "Epoch 30/50\n",
      "840/840 [==============================] - 5s 6ms/step - loss: 0.6630 - accuracy: 0.7689\n",
      "Epoch 31/50\n",
      "840/840 [==============================] - 5s 6ms/step - loss: 0.6398 - accuracy: 0.7759\n",
      "Epoch 32/50\n",
      "840/840 [==============================] - 5s 6ms/step - loss: 0.6349 - accuracy: 0.7787\n",
      "Epoch 33/50\n",
      "840/840 [==============================] - 5s 6ms/step - loss: 0.6369 - accuracy: 0.7729\n",
      "Epoch 34/50\n",
      "840/840 [==============================] - 5s 6ms/step - loss: 0.6153 - accuracy: 0.7793\n",
      "Epoch 35/50\n",
      "840/840 [==============================] - 5s 6ms/step - loss: 0.5957 - accuracy: 0.7879\n",
      "Epoch 36/50\n",
      "840/840 [==============================] - 5s 6ms/step - loss: 0.5853 - accuracy: 0.7917\n",
      "Epoch 37/50\n",
      "840/840 [==============================] - 5s 6ms/step - loss: 0.5841 - accuracy: 0.7899\n",
      "Epoch 38/50\n",
      "840/840 [==============================] - 5s 6ms/step - loss: 0.5637 - accuracy: 0.8019\n",
      "Epoch 39/50\n",
      "840/840 [==============================] - 5s 6ms/step - loss: 0.5485 - accuracy: 0.8080\n",
      "Epoch 40/50\n",
      "840/840 [==============================] - 5s 6ms/step - loss: 0.5352 - accuracy: 0.8112\n",
      "Epoch 41/50\n",
      "840/840 [==============================] - 5s 6ms/step - loss: 0.5426 - accuracy: 0.8100\n",
      "Epoch 42/50\n",
      "840/840 [==============================] - 5s 6ms/step - loss: 0.5241 - accuracy: 0.8170\n",
      "Epoch 43/50\n",
      "840/840 [==============================] - 5s 6ms/step - loss: 0.5056 - accuracy: 0.8232\n",
      "Epoch 44/50\n",
      "840/840 [==============================] - 5s 6ms/step - loss: 0.5260 - accuracy: 0.8129\n",
      "Epoch 45/50\n",
      "840/840 [==============================] - 5s 6ms/step - loss: 0.5094 - accuracy: 0.8208\n",
      "Epoch 46/50\n",
      "840/840 [==============================] - 5s 5ms/step - loss: 0.4815 - accuracy: 0.8330\n",
      "Epoch 47/50\n",
      "840/840 [==============================] - 5s 6ms/step - loss: 0.4873 - accuracy: 0.8259\n",
      "Epoch 48/50\n",
      "840/840 [==============================] - 5s 6ms/step - loss: 0.4777 - accuracy: 0.8310\n",
      "Epoch 49/50\n",
      "840/840 [==============================] - 5s 5ms/step - loss: 0.4672 - accuracy: 0.8368\n",
      "Epoch 50/50\n",
      "840/840 [==============================] - 5s 6ms/step - loss: 0.4622 - accuracy: 0.8399\n"
     ]
    }
   ],
   "source": [
    "epochs = 50\n",
    "model.fit(x_train, y_train, batch_size=batch_size, shuffle=True, epochs=epochs, callbacks=[model_checkpoint])\n",
    "model.save(model_dir)"
   ]
  },
  {
   "cell_type": "code",
   "execution_count": 14,
   "metadata": {},
   "outputs": [
    {
     "name": "stdout",
     "output_type": "stream",
     "text": [
      "53/53 [==============================] - 0s 3ms/step - loss: 0.8937 - accuracy: 0.7351\n",
      "Test loss: 0.8936924338340759\n",
      "Test accuracy: 0.7351190447807312\n"
     ]
    }
   ],
   "source": [
    "score = model.evaluate(x_test, y_test, verbose=1)\n",
    "print(\"Test loss:\", score[0])\n",
    "print(\"Test accuracy:\", score[1])"
   ]
  },
  {
   "cell_type": "code",
   "execution_count": 15,
   "metadata": {},
   "outputs": [
    {
     "name": "stdout",
     "output_type": "stream",
     "text": [
      "[===========================================================-] 98.4% ...\r"
     ]
    },
    {
     "data": {
      "image/png": "[encoded data removed]",
      "text/plain": [
       "<Figure size 432x432 with 1 Axes>"
      ]
     },
     "metadata": {
      "needs_background": "light"
     },
     "output_type": "display_data"
    }
   ],
   "source": [
    "cmatrix = np.zeros((14,14), dtype=np.int16)\n",
    "bat = int(len(x_test)/60)\n",
    "for i in range(0, len(x_test),bat):\n",
    "    result = model.predict_on_batch(x_test[i:i+bat])\n",
    "    ans = y_test[i:i+bat]\n",
    "    for j in range(bat):\n",
    "        id1 = np.argmax(result[j])\n",
    "        id2 = np.argmax(ans[j])\n",
    "        cmatrix[id1, id2] = cmatrix[id1][id2] + 1\n",
    "\n",
    "cmatrix = np.absolute(cmatrix)\n",
    "# print(repr(cmatrix))\n",
    "\n",
    "fig = plt.figure(figsize=(6,6))\n",
    "plt.imshow(cmatrix)\n",
    "plt.title(\"Plot 2D array\")\n",
    "plt.show()"
   ]
  },
  {
   "cell_type": "markdown",
   "metadata": {},
   "source": [
    "Confusion: <br>\n",
    "flatten vs brittle <br>\n",
    "plated partially_purple vs plated purple\n"
   ]
  },
  {
   "cell_type": "code",
   "execution_count": 16,
   "metadata": {},
   "outputs": [
    {
     "name": "stdout",
     "output_type": "stream",
     "text": [
      "[0.8, 0.6, 0.633, 0.458, 0.667, 0.867, 0.883, 0.9, 0.95, 0.517, 0.258, 0.858, 0.958, 0.942]\n",
      "0.7350714285714286\n"
     ]
    }
   ],
   "source": [
    "acc = []\n",
    "for i in range(14):\n",
    "    acc.append(np.round(cmatrix[i][i]/120,3))\n",
    "print(acc)\n",
    "print(np.mean(acc))"
   ]
  }
 ],
 "metadata": {
  "interpreter": {
   "hash": "26de051ba29f2982a8de78e945f0abaf191376122a1563185a90213a26c5da77"
  },
  "kernelspec": {
   "display_name": "Python 3.10.4 64-bit",
   "language": "python",
   "name": "python3"
  },
  "language_info": {
   "codemirror_mode": {
    "name": "ipython",
    "version": 3
   },
   "file_extension": ".py",
   "mimetype": "text/x-python",
   "name": "python",
   "nbconvert_exporter": "python",
   "pygments_lexer": "ipython3",
   "version": "3.10.4"
  },
  "orig_nbformat": 4
 },
 "nbformat": 4,
 "nbformat_minor": 2
}
