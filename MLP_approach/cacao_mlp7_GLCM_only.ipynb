{
 "cells": [
  {
   "cell_type": "code",
   "execution_count": 1,
   "metadata": {},
   "outputs": [],
   "source": [
    "import numpy as np\n",
    "import pathlib\n",
    "import os\n",
    "import tensorflow as tf\n",
    "from tensorflow import keras\n",
    "from keras import layers\n",
    "import matplotlib.pyplot as plt"
   ]
  },
  {
   "cell_type": "code",
   "execution_count": 2,
   "metadata": {},
   "outputs": [],
   "source": [
    "input_shape = (48,)\n",
    "batch_size = 8\n",
    "\n",
    "cwd = os.getcwd()\n",
    "# x_train_dir = pathlib.Path(cwd + '/data/X_train_631_new.npz')\n",
    "# y_train_dir = pathlib.Path(cwd + '/data/Y_train_195.npz')\n",
    "# x_test_dir  = pathlib.Path(cwd + '/data/X_test_631_new.npz')\n",
    "# y_test_dir  = pathlib.Path(cwd + '/data/Y_test_195.npz')\n",
    "x_train_dir = pathlib.Path('D:/Thesis_data/mlp_data/new/train_glcm_2.npz')\n",
    "y_train_dir = pathlib.Path(cwd + '/data/Y_train_195.npz')\n",
    "x_test_dir  = pathlib.Path('D:/Thesis_data/mlp_data/new/test_glcm_2.npz')\n",
    "y_test_dir  = pathlib.Path(cwd + '/data/Y_test_195.npz')\n",
    "checkpoint_dir = pathlib.Path('D:./TF_checkpoint/mlp/weight/')\n",
    "model_dir = pathlib.Path('D:./TF_backup/mlp/mlp7_631.h5')\n",
    "\n",
    "x_train = np.asarray(np.load(x_train_dir, allow_pickle=True)['arr_0'], dtype=np.float32)\n",
    "y_train = np.asarray(np.load(y_train_dir, allow_pickle=True)['arr_0'], dtype=np.float32)\n",
    "x_test = np.asarray(np.load(x_test_dir, allow_pickle=True)['arr_0'], dtype=np.float32)\n",
    "y_test = np.asarray(np.load(y_test_dir, allow_pickle=True)['arr_0'], dtype=np.float32)\n",
    "\n",
    "model_checkpoint = keras.callbacks.ModelCheckpoint(\n",
    "    checkpoint_dir,\n",
    "    save_weights_only=True,\n",
    "    monitor='val_accuracy',\n",
    "    mode='max',\n",
    ")"
   ]
  },
  {
   "cell_type": "code",
   "execution_count": 3,
   "metadata": {},
   "outputs": [
    {
     "name": "stdout",
     "output_type": "stream",
     "text": [
      "(6720, 48)\n"
     ]
    }
   ],
   "source": [
    "print(np.shape(x_train))"
   ]
  },
  {
   "cell_type": "code",
   "execution_count": 5,
   "metadata": {},
   "outputs": [],
   "source": [
    "normalizer = layers.Normalization()\n",
    "normalizer.adapt(x_train)\n",
    "\n",
    "# Define model\n",
    "input_layer = layers.Input(shape=input_shape)\n",
    "norm = normalizer(input_layer)\n",
    "den1 = layers.Dense(1024, activation='relu', kernel_initializer='HeNormal')(norm)\n",
    "drop1 = layers.Dropout(0.2)(den1)\n",
    "den2 = layers.Dense(1024, activation='relu', kernel_initializer='HeNormal')(drop1)\n",
    "drop2 = layers.Dropout(0.2)(den2)\n",
    "den3 = layers.Dense(1024, activation='relu', kernel_initializer='HeNormal')(drop2)\n",
    "drop3 = layers.Dropout(0.2)(den3)\n",
    "den4 = layers.Dense(14, activation='softmax')(drop3)\n",
    "model = keras.Model(input_layer, den4)\n",
    "\n",
    "opt = tf.keras.optimizers.SGD(\n",
    "    learning_rate=0.0001,\n",
    "    momentum=0.8,\n",
    "    nesterov=True,\n",
    "    name='SGD',\n",
    ")\n",
    "\n",
    "model.compile(\n",
    "    optimizer=opt, \n",
    "    loss=\"categorical_crossentropy\", \n",
    "    metrics=[\"accuracy\"]\n",
    "    )"
   ]
  },
  {
   "cell_type": "code",
   "execution_count": 6,
   "metadata": {},
   "outputs": [
    {
     "name": "stdout",
     "output_type": "stream",
     "text": [
      "Model: \"model\"\n",
      "_________________________________________________________________\n",
      " Layer (type)                Output Shape              Param #   \n",
      "=================================================================\n",
      " input_1 (InputLayer)        [(None, 48)]              0         \n",
      "                                                                 \n",
      " normalization (Normalizatio  (None, 48)               97        \n",
      " n)                                                              \n",
      "                                                                 \n",
      " dense (Dense)               (None, 1024)              50176     \n",
      "                                                                 \n",
      " dropout (Dropout)           (None, 1024)              0         \n",
      "                                                                 \n",
      " dense_1 (Dense)             (None, 1024)              1049600   \n",
      "                                                                 \n",
      " dropout_1 (Dropout)         (None, 1024)              0         \n",
      "                                                                 \n",
      " dense_2 (Dense)             (None, 1024)              1049600   \n",
      "                                                                 \n",
      " dropout_2 (Dropout)         (None, 1024)              0         \n",
      "                                                                 \n",
      " dense_3 (Dense)             (None, 14)                14350     \n",
      "                                                                 \n",
      "=================================================================\n",
      "Total params: 2,163,823\n",
      "Trainable params: 2,163,726\n",
      "Non-trainable params: 97\n",
      "_________________________________________________________________\n"
     ]
    }
   ],
   "source": [
    "model.summary()"
   ]
  },
  {
   "cell_type": "code",
   "execution_count": 4,
   "metadata": {},
   "outputs": [],
   "source": [
    "model = keras.models.load_model(model_dir)"
   ]
  },
  {
   "cell_type": "code",
   "execution_count": 7,
   "metadata": {},
   "outputs": [
    {
     "name": "stdout",
     "output_type": "stream",
     "text": [
      "Epoch 1/20\n",
      "840/840 [==============================] - 6s 6ms/step - loss: 2.8449 - accuracy: 0.1576\n",
      "Epoch 2/20\n",
      "840/840 [==============================] - 4s 5ms/step - loss: 2.4547 - accuracy: 0.2321\n",
      "Epoch 3/20\n",
      "840/840 [==============================] - 4s 5ms/step - loss: 2.3152 - accuracy: 0.2610\n",
      "Epoch 4/20\n",
      "840/840 [==============================] - 4s 5ms/step - loss: 2.1799 - accuracy: 0.2972\n",
      "Epoch 5/20\n",
      "840/840 [==============================] - 4s 5ms/step - loss: 2.1283 - accuracy: 0.2994\n",
      "Epoch 6/20\n",
      "840/840 [==============================] - 4s 5ms/step - loss: 2.0633 - accuracy: 0.3080\n",
      "Epoch 7/20\n",
      "840/840 [==============================] - 4s 5ms/step - loss: 2.0061 - accuracy: 0.3211\n",
      "Epoch 8/20\n",
      "840/840 [==============================] - 4s 5ms/step - loss: 1.9754 - accuracy: 0.3326\n",
      "Epoch 9/20\n",
      "840/840 [==============================] - 4s 5ms/step - loss: 1.9402 - accuracy: 0.3385\n",
      "Epoch 10/20\n",
      "840/840 [==============================] - 4s 5ms/step - loss: 1.8972 - accuracy: 0.3417\n",
      "Epoch 11/20\n",
      "840/840 [==============================] - 4s 5ms/step - loss: 1.9011 - accuracy: 0.3452\n",
      "Epoch 12/20\n",
      "840/840 [==============================] - 4s 5ms/step - loss: 1.8921 - accuracy: 0.3440\n",
      "Epoch 13/20\n",
      "840/840 [==============================] - 4s 5ms/step - loss: 1.8403 - accuracy: 0.3573\n",
      "Epoch 14/20\n",
      "840/840 [==============================] - 4s 5ms/step - loss: 1.8360 - accuracy: 0.3600\n",
      "Epoch 15/20\n",
      "840/840 [==============================] - 4s 5ms/step - loss: 1.8206 - accuracy: 0.3644\n",
      "Epoch 16/20\n",
      "840/840 [==============================] - 4s 5ms/step - loss: 1.8151 - accuracy: 0.3637\n",
      "Epoch 17/20\n",
      "840/840 [==============================] - 4s 5ms/step - loss: 1.7935 - accuracy: 0.3674\n",
      "Epoch 18/20\n",
      "840/840 [==============================] - 4s 5ms/step - loss: 1.7890 - accuracy: 0.3688\n",
      "Epoch 19/20\n",
      "840/840 [==============================] - 4s 5ms/step - loss: 1.7675 - accuracy: 0.3756\n",
      "Epoch 20/20\n",
      "840/840 [==============================] - 4s 5ms/step - loss: 1.7636 - accuracy: 0.3749\n"
     ]
    }
   ],
   "source": [
    "epochs = 20\n",
    "model.fit(x_train, y_train, batch_size=batch_size, shuffle=True, epochs=epochs, callbacks=[model_checkpoint])\n",
    "model.save(model_dir)"
   ]
  },
  {
   "cell_type": "code",
   "execution_count": 5,
   "metadata": {},
   "outputs": [
    {
     "name": "stdout",
     "output_type": "stream",
     "text": [
      "53/53 [==============================] - 1s 3ms/step - loss: 1.7039 - accuracy: 0.3845\n",
      "Test loss: 1.7039381265640259\n",
      "Test accuracy: 0.38452380895614624\n"
     ]
    }
   ],
   "source": [
    "score = model.evaluate(x_test, y_test, verbose=1)\n",
    "print(\"Test loss:\", score[0])\n",
    "print(\"Test accuracy:\", score[1])"
   ]
  },
  {
   "cell_type": "code",
   "execution_count": 6,
   "metadata": {},
   "outputs": [
    {
     "name": "stdout",
     "output_type": "stream",
     "text": [
      "(1, 1680, 48)\n"
     ]
    }
   ],
   "source": [
    "print(np.shape(np.array([x_test])))"
   ]
  },
  {
   "cell_type": "code",
   "execution_count": 7,
   "metadata": {},
   "outputs": [
    {
     "name": "stdout",
     "output_type": "stream",
     "text": [
      "[===========================================================-] 98.4% ...\r"
     ]
    },
    {
     "data": {
      "image/png": "[encoded data removed]",
      "text/plain": [
       "<Figure size 432x432 with 1 Axes>"
      ]
     },
     "metadata": {
      "needs_background": "light"
     },
     "output_type": "display_data"
    }
   ],
   "source": [
    "# draw confusion matrix\n",
    "import sys\n",
    "def progress(count, total, status=''):\n",
    "    bar_len = 60\n",
    "    filled_len = int(round(bar_len * count / float(total)))\n",
    "\n",
    "    percents = round(100.0 * count / float(total), 1)\n",
    "    bar = '=' * filled_len + '-' * (bar_len - filled_len)\n",
    "\n",
    "    sys.stdout.write('[%s] %s%s ...%s\\r' % (bar, percents, '%', status))\n",
    "    sys.stdout.flush() \n",
    "\n",
    "i = 0\n",
    "cmatrix = np.zeros((14,14), dtype=np.int16)\n",
    "bat = int(len(x_test)/60)\n",
    "for i in range(0, len(x_test),bat):\n",
    "    progress(i, 1679)\n",
    "    result = model.predict_on_batch(x_test[i:i+bat])\n",
    "    ans = y_test[i:i+bat]\n",
    "    for j in range(bat):\n",
    "        id1 = np.argmax(result[j])\n",
    "        id2 = np.argmax(ans[j])\n",
    "        cmatrix[id1, id2] = cmatrix[id1][id2] + 1\n",
    "\n",
    "cmatrix = np.absolute(cmatrix)\n",
    "# print(repr(cmatrix))\n",
    "\n",
    "fig = plt.figure(figsize=(6,6))\n",
    "plt.imshow(cmatrix)\n",
    "plt.title(\"Plot 2D array\")\n",
    "plt.show()"
   ]
  },
  {
   "cell_type": "markdown",
   "metadata": {},
   "source": [
    "Confusion: <br>\n",
    "flatten vs brittle <br>\n",
    "plated partially_purple vs plated purple\n"
   ]
  },
  {
   "cell_type": "code",
   "execution_count": 16,
   "metadata": {},
   "outputs": [
    {
     "name": "stdout",
     "output_type": "stream",
     "text": [
      "[0.858, 0.692, 0.625, 0.508, 0.558, 0.892, 0.867, 0.875, 0.967, 0.575, 0.35, 0.775, 0.958, 0.933]\n",
      "0.7452142857142857\n"
     ]
    }
   ],
   "source": [
    "acc = []\n",
    "for i in range(14):\n",
    "    acc.append(np.round(cmatrix[i][i]/120,3))\n",
    "print(acc)\n",
    "print(np.mean(acc))"
   ]
  }
 ],
 "metadata": {
  "interpreter": {
   "hash": "26de051ba29f2982a8de78e945f0abaf191376122a1563185a90213a26c5da77"
  },
  "kernelspec": {
   "display_name": "Python 3.10.4 64-bit",
   "language": "python",
   "name": "python3"
  },
  "language_info": {
   "codemirror_mode": {
    "name": "ipython",
    "version": 3
   },
   "file_extension": ".py",
   "mimetype": "text/x-python",
   "name": "python",
   "nbconvert_exporter": "python",
   "pygments_lexer": "ipython3",
   "version": "3.10.4"
  },
  "orig_nbformat": 4
 },
 "nbformat": 4,
 "nbformat_minor": 2
}
