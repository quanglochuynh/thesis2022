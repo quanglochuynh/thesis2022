{
 "cells": [
  {
   "cell_type": "code",
   "execution_count": 1,
   "metadata": {},
   "outputs": [],
   "source": [
    "import numpy as np\n",
    "import pathlib\n",
    "import os\n",
    "import tensorflow as tf\n",
    "from tensorflow import keras\n",
    "from keras import layers\n",
    "import matplotlib.pyplot as plt"
   ]
  },
  {
   "cell_type": "code",
   "execution_count": 4,
   "metadata": {},
   "outputs": [],
   "source": [
    "input_shape = (375,)\n",
    "batch_size = 8\n",
    "\n",
    "cwd = os.getcwd()\n",
    "x_train_dir = pathlib.Path(cwd + '/data/X_train_375_new.npz')\n",
    "y_train_dir = pathlib.Path(cwd + '/data/Y_train_195.npz')\n",
    "x_test_dir  = pathlib.Path(cwd + '/data/X_test_375_new.npz')\n",
    "y_test_dir  = pathlib.Path(cwd + '/data/Y_test_195.npz')\n",
    "checkpoint_dir = pathlib.Path('D:./TF_checkpoint/mlp/weight/')\n",
    "model_dir = pathlib.Path('D:./TF_backup/mlp/mlp7_399.h5')\n",
    "\n",
    "x_train = np.asarray(np.load(x_train_dir, allow_pickle=True)['arr_0'], dtype=np.float32)\n",
    "y_train = np.asarray(np.load(y_train_dir, allow_pickle=True)['arr_0'], dtype=np.float32)\n",
    "x_test = np.asarray(np.load(x_test_dir, allow_pickle=True)['arr_0'], dtype=np.float32)\n",
    "y_test = np.asarray(np.load(y_test_dir, allow_pickle=True)['arr_0'], dtype=np.float32)\n",
    "\n",
    "model_checkpoint = keras.callbacks.ModelCheckpoint(\n",
    "    checkpoint_dir,\n",
    "    save_weights_only=True,\n",
    "    monitor='val_accuracy',\n",
    "    mode='max',\n",
    ")"
   ]
  },
  {
   "cell_type": "code",
   "execution_count": 3,
   "metadata": {},
   "outputs": [
    {
     "name": "stdout",
     "output_type": "stream",
     "text": [
      "(6720, 375)\n"
     ]
    }
   ],
   "source": [
    "print(np.shape(x_train))"
   ]
  },
  {
   "cell_type": "code",
   "execution_count": 11,
   "metadata": {},
   "outputs": [],
   "source": [
    "normalizer = layers.Normalization()\n",
    "normalizer.adapt(x_train)\n",
    "\n",
    "# Define model\n",
    "input_layer = layers.Input(shape=input_shape)\n",
    "norm = normalizer(input_layer)\n",
    "den1 = layers.Dense(1024, activation='relu', kernel_initializer='HeNormal')(norm)\n",
    "drop1 = layers.Dropout(0.3)(den1)\n",
    "den2 = layers.Dense(1024, activation='relu', kernel_initializer='HeNormal')(drop1)\n",
    "drop2 = layers.Dropout(0.3)(den2)\n",
    "den3 = layers.Dense(1024, activation='relu', kernel_initializer='HeNormal')(drop2)\n",
    "drop3 = layers.Dropout(0.3)(den3)\n",
    "den4 = layers.Dense(14, activation='softmax')(drop3)\n",
    "model = keras.Model(input_layer, den4)\n",
    "\n",
    "opt = tf.keras.optimizers.SGD(\n",
    "    learning_rate=0.00006,\n",
    "    momentum=0.8,\n",
    "    nesterov=True,\n",
    "    name='SGD',\n",
    ")\n",
    "\n",
    "model.compile(\n",
    "    optimizer=opt, \n",
    "    loss=\"categorical_crossentropy\", \n",
    "    metrics=[\"accuracy\"]\n",
    "    )"
   ]
  },
  {
   "cell_type": "code",
   "execution_count": 12,
   "metadata": {},
   "outputs": [
    {
     "name": "stdout",
     "output_type": "stream",
     "text": [
      "Model: \"model_2\"\n",
      "_________________________________________________________________\n",
      " Layer (type)                Output Shape              Param #   \n",
      "=================================================================\n",
      " input_3 (InputLayer)        [(None, 375)]             0         \n",
      "                                                                 \n",
      " normalization_2 (Normalizat  (None, 375)              751       \n",
      " ion)                                                            \n",
      "                                                                 \n",
      " dense_8 (Dense)             (None, 1024)              385024    \n",
      "                                                                 \n",
      " dropout_6 (Dropout)         (None, 1024)              0         \n",
      "                                                                 \n",
      " dense_9 (Dense)             (None, 1024)              1049600   \n",
      "                                                                 \n",
      " dropout_7 (Dropout)         (None, 1024)              0         \n",
      "                                                                 \n",
      " dense_10 (Dense)            (None, 1024)              1049600   \n",
      "                                                                 \n",
      " dropout_8 (Dropout)         (None, 1024)              0         \n",
      "                                                                 \n",
      " dense_11 (Dense)            (None, 14)                14350     \n",
      "                                                                 \n",
      "=================================================================\n",
      "Total params: 2,499,325\n",
      "Trainable params: 2,498,574\n",
      "Non-trainable params: 751\n",
      "_________________________________________________________________\n"
     ]
    }
   ],
   "source": [
    "model.summary()"
   ]
  },
  {
   "cell_type": "code",
   "execution_count": 15,
   "metadata": {},
   "outputs": [
    {
     "name": "stdout",
     "output_type": "stream",
     "text": [
      "Epoch 1/20\n",
      "840/840 [==============================] - 4s 5ms/step - loss: 0.8558 - accuracy: 0.6932\n",
      "Epoch 2/20\n",
      "840/840 [==============================] - 4s 5ms/step - loss: 0.8552 - accuracy: 0.7015\n",
      "Epoch 3/20\n",
      "840/840 [==============================] - 4s 5ms/step - loss: 0.8492 - accuracy: 0.6970\n",
      "Epoch 4/20\n",
      "840/840 [==============================] - 4s 5ms/step - loss: 0.8330 - accuracy: 0.7003\n",
      "Epoch 5/20\n",
      "840/840 [==============================] - 4s 5ms/step - loss: 0.8212 - accuracy: 0.7088\n",
      "Epoch 6/20\n",
      "840/840 [==============================] - 4s 5ms/step - loss: 0.8232 - accuracy: 0.7129\n",
      "Epoch 7/20\n",
      "840/840 [==============================] - 4s 5ms/step - loss: 0.8141 - accuracy: 0.7152\n",
      "Epoch 8/20\n",
      "840/840 [==============================] - 4s 5ms/step - loss: 0.8088 - accuracy: 0.7146\n",
      "Epoch 9/20\n",
      "840/840 [==============================] - 4s 5ms/step - loss: 0.8008 - accuracy: 0.7110\n",
      "Epoch 10/20\n",
      "840/840 [==============================] - 4s 5ms/step - loss: 0.7827 - accuracy: 0.7231\n",
      "Epoch 11/20\n",
      "840/840 [==============================] - 4s 5ms/step - loss: 0.7705 - accuracy: 0.7232\n",
      "Epoch 12/20\n",
      "840/840 [==============================] - 4s 5ms/step - loss: 0.7762 - accuracy: 0.7266\n",
      "Epoch 13/20\n",
      "840/840 [==============================] - 4s 5ms/step - loss: 0.7652 - accuracy: 0.7293\n",
      "Epoch 14/20\n",
      "840/840 [==============================] - 4s 5ms/step - loss: 0.7473 - accuracy: 0.7351\n",
      "Epoch 15/20\n",
      "840/840 [==============================] - 4s 5ms/step - loss: 0.7532 - accuracy: 0.7405\n",
      "Epoch 16/20\n",
      "840/840 [==============================] - 4s 5ms/step - loss: 0.7490 - accuracy: 0.7281\n",
      "Epoch 17/20\n",
      "840/840 [==============================] - 4s 5ms/step - loss: 0.7424 - accuracy: 0.7347\n",
      "Epoch 18/20\n",
      "840/840 [==============================] - 4s 5ms/step - loss: 0.7255 - accuracy: 0.7433\n",
      "Epoch 19/20\n",
      "840/840 [==============================] - 4s 5ms/step - loss: 0.7137 - accuracy: 0.7475\n",
      "Epoch 20/20\n",
      "840/840 [==============================] - 4s 5ms/step - loss: 0.7234 - accuracy: 0.7403\n"
     ]
    }
   ],
   "source": [
    "epochs = 20\n",
    "model.fit(x_train, y_train, batch_size=batch_size, shuffle=True, epochs=epochs, callbacks=[model_checkpoint])\n",
    "model.save(model_dir)"
   ]
  },
  {
   "cell_type": "code",
   "execution_count": 16,
   "metadata": {},
   "outputs": [
    {
     "name": "stdout",
     "output_type": "stream",
     "text": [
      "53/53 [==============================] - 0s 3ms/step - loss: 0.9419 - accuracy: 0.6726\n",
      "Test loss: 0.941880464553833\n",
      "Test accuracy: 0.6726190447807312\n"
     ]
    }
   ],
   "source": [
    "score = model.evaluate(x_test, y_test, verbose=1)\n",
    "print(\"Test loss:\", score[0])\n",
    "print(\"Test accuracy:\", score[1])"
   ]
  },
  {
   "cell_type": "code",
   "execution_count": 10,
   "metadata": {},
   "outputs": [
    {
     "name": "stdout",
     "output_type": "stream",
     "text": [
      "(1, 1680, 375)\n"
     ]
    }
   ],
   "source": [
    "print(np.shape(np.array([x_test])))"
   ]
  },
  {
   "cell_type": "code",
   "execution_count": 17,
   "metadata": {},
   "outputs": [
    {
     "name": "stdout",
     "output_type": "stream",
     "text": [
      "array([[ 95,  30,   0,   0,   1,   0,   0,   1,   0,   0,   0,   0,   1,\n",
      "          1],\n",
      "       [  3,  74,   2,   0,   0,   1,   0,  20,   0,   0,   0,   0,   0,\n",
      "          1],\n",
      "       [  1,   1,  64,   2,   0,   1,   0,   0,   0,   1,   0,   0,   0,\n",
      "          0],\n",
      "       [  0,   0,  16,  56,  14,   4,   0,   0,   0,  15,   6,   1,   0,\n",
      "          0],\n",
      "       [  1,   1,   0,  31,  36,   4,   0,   0,   0,   7,   8,   3,   1,\n",
      "          0],\n",
      "       [  0,   0,  15,  12,   1, 102,   0,   0,   6,   0,   0,   0,  10,\n",
      "          0],\n",
      "       [ 12,   0,   5,   0,   0,   0, 105,   0,   0,   2,   0,   0,   0,\n",
      "          8],\n",
      "       [  1,  12,   0,   0,   0,   0,   3,  96,   0,   0,   0,   0,   0,\n",
      "          1],\n",
      "       [  0,   0,   6,   2,   0,   0,   0,   0, 114,   3,   0,   0,   0,\n",
      "          0],\n",
      "       [  0,   0,   9,   2,   0,   0,   0,   2,   0,  47,   5,   0,   0,\n",
      "          0],\n",
      "       [  0,   0,   3,   6,  15,   2,   0,   0,   0,  41,  27,  13,   0,\n",
      "          0],\n",
      "       [  0,   0,   0,   9,  53,   1,   0,   0,   0,   4,  73, 103,   6,\n",
      "          0],\n",
      "       [  0,   0,   0,   0,   0,   5,   0,   0,   0,   0,   1,   0, 102,\n",
      "          0],\n",
      "       [  7,   2,   0,   0,   0,   0,  12,   1,   0,   0,   0,   0,   0,\n",
      "        109]], dtype=int16)\n"
     ]
    },
    {
     "data": {
      "image/png": "[encoded data removed]",
      "text/plain": [
       "<Figure size 432x432 with 1 Axes>"
      ]
     },
     "metadata": {
      "needs_background": "light"
     },
     "output_type": "display_data"
    }
   ],
   "source": [
    "# draw confusion matrix\n",
    "import sys\n",
    "def progress(count, total, status=''):\n",
    "    bar_len = 60\n",
    "    filled_len = int(round(bar_len * count / float(total)))\n",
    "\n",
    "    percents = round(100.0 * count / float(total), 1)\n",
    "    bar = '=' * filled_len + '-' * (bar_len - filled_len)\n",
    "\n",
    "    sys.stdout.write('[%s] %s%s ...%s\\r' % (bar, percents, '%', status))\n",
    "    sys.stdout.flush() \n",
    "\n",
    "i = 0\n",
    "cmatrix = np.zeros((14,14), dtype=np.int16)\n",
    "bat = int(len(x_test)/60)\n",
    "for i in range(0, len(x_test),bat):\n",
    "    progress(i, 1680)\n",
    "    result = model.predict_on_batch(x_test[i:i+bat])\n",
    "    ans = y_test[i:i+bat]\n",
    "    for j in range(bat):\n",
    "        id1 = np.argmax(result[j])\n",
    "        id2 = np.argmax(ans[j])\n",
    "        cmatrix[id1, id2] = cmatrix[id1][id2] + 1\n",
    "    # break\n",
    "\n",
    "cmatrix = np.absolute(cmatrix)\n",
    "print(repr(cmatrix))\n",
    "\n",
    "fig = plt.figure(figsize=(6,6))\n",
    "plt.imshow(cmatrix)\n",
    "plt.title(\"Plot 2D array\")\n",
    "plt.show()"
   ]
  },
  {
   "cell_type": "markdown",
   "metadata": {},
   "source": [
    "Confusion: <br>\n",
    "flatten vs brittle <br>\n",
    "plated partially_purple vs plated purple\n"
   ]
  },
  {
   "cell_type": "code",
   "execution_count": 12,
   "metadata": {},
   "outputs": [
    {
     "name": "stdout",
     "output_type": "stream",
     "text": [
      "[0.7, 0.558, 0.458, 0.175, 0.35, 0.75, 0.842, 0.483, 0.942, 0.167, 0.367, 0.5, 0.867, 0.85]\n"
     ]
    }
   ],
   "source": [
    "acc = []\n",
    "for i in range(14):\n",
    "    acc.append(np.round(cmatrix[i][i]/120,3))\n",
    "print(acc)"
   ]
  }
 ],
 "metadata": {
  "interpreter": {
   "hash": "26de051ba29f2982a8de78e945f0abaf191376122a1563185a90213a26c5da77"
  },
  "kernelspec": {
   "display_name": "Python 3.10.4 64-bit",
   "language": "python",
   "name": "python3"
  },
  "language_info": {
   "codemirror_mode": {
    "name": "ipython",
    "version": 3
   },
   "file_extension": ".py",
   "mimetype": "text/x-python",
   "name": "python",
   "nbconvert_exporter": "python",
   "pygments_lexer": "ipython3",
   "version": "3.10.4"
  },
  "orig_nbformat": 4
 },
 "nbformat": 4,
 "nbformat_minor": 2
}
