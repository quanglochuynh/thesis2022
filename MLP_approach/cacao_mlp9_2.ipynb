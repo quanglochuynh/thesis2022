{
 "cells": [
  {
   "cell_type": "code",
   "execution_count": 1,
   "metadata": {},
   "outputs": [
    {
     "name": "stdout",
     "output_type": "stream",
     "text": [
      "OS: Windows\n",
      "0 :  overall_geometry\n",
      "1 :  overall_rgb\n",
      "2 :  overall_hsv\n",
      "3 :  color_grid\n",
      "4 :  glcm_grid\n",
      "5 :  comp_hsv\n",
      "6 :  lbp_hist\n",
      "7 :  haralick\n",
      "8 :  red_haralick\n",
      "9 :  blue_haralick\n",
      "10 :  green_haralick\n"
     ]
    }
   ],
   "source": [
    "import numpy as np\n",
    "import tensorflow as tf\n",
    "from tensorflow import keras\n",
    "from keras import layers\n",
    "import matplotlib.pyplot as plt\n",
    "from image_extractor import DataSetup\n",
    "data = DataSetup()"
   ]
  },
  {
   "cell_type": "code",
   "execution_count": 3,
   "metadata": {},
   "outputs": [
    {
     "name": "stdout",
     "output_type": "stream",
     "text": [
      "x_test size: (1260, 669)\n",
      "x_train size: (7140, 669)\n",
      "y_test size: (1260, 14)\n",
      "y_train size: (7140, 14)\n",
      "Model name = ' overall_geometry_overall_rgb_color_grid_glcm_grid_comp_hsv_red_haralick_blue_haralick_green_haralick '\n",
      "D:./TF_backup/mlp/overall_geometry_overall_rgb_color_grid_glcm_grid_comp_hsv_red_haralick_blue_haralick_green_haralick.h5\n"
     ]
    }
   ],
   "source": [
    "data.concat(dataID=[0, 1, 3, 4, 5, 8, 9,10])\n",
    "model_dir = 'D:./TF_backup/mlp/' + data.model_name + \".h5\"\n",
    "checkpoint_dir = 'D:./TF_checkpoint/mlp/weight/'\n",
    "print(model_dir)\n",
    "\n",
    "input_shape = (data.length,)\n",
    "batch_size = 8\n",
    "\n",
    "model_checkpoint = keras.callbacks.ModelCheckpoint(\n",
    "    checkpoint_dir,\n",
    "    save_weights_only=True,\n",
    "    monitor='val_accuracy',\n",
    "    mode='max',\n",
    ")"
   ]
  },
  {
   "cell_type": "code",
   "execution_count": 4,
   "metadata": {},
   "outputs": [],
   "source": [
    "# normalizer = layers.Normalization()\n",
    "# normalizer.adapt(data.x_train)\n",
    "\n",
    "# # Define model\n",
    "# input_layer = layers.Input(shape=input_shape)\n",
    "# norm = normalizer(input_layer)\n",
    "# den1 = layers.Dense(1024, activation='tanh', kernel_initializer='HeNormal')(norm)\n",
    "# drop1 = layers.Dropout(0.2)(den1)\n",
    "# den2 = layers.Dense(1024, activation='tanh', kernel_initializer='HeNormal')(drop1)\n",
    "# drop2 = layers.Dropout(0.2)(den2)\n",
    "# den3 = layers.Dense(512, activation='tanh', kernel_initializer='HeNormal')(drop2)\n",
    "# drop3 = layers.Dropout(0.2)(den3)\n",
    "# den4 = layers.Dense(512, activation='tanh', kernel_initializer='HeNormal')(drop3)\n",
    "# drop4 = layers.Dropout(0.2)(den4)\n",
    "# den5 = layers.Dense(14, activation='softmax')(drop4)\n",
    "# model = keras.Model(input_layer, den5)\n",
    "\n",
    "# opt = tf.keras.optimizers.SGD(\n",
    "#     learning_rate=0.0001,\n",
    "#     momentum=0.4,\n",
    "#     nesterov=True,\n",
    "#     name='SGD',\n",
    "# )\n",
    "\n",
    "# model.compile(\n",
    "#     optimizer=opt, \n",
    "#     loss=\"categorical_crossentropy\", \n",
    "#     metrics=[\"accuracy\"]\n",
    "#     )\n",
    "\n",
    "model = keras.models.load_model(model_dir)"
   ]
  },
  {
   "cell_type": "code",
   "execution_count": 5,
   "metadata": {},
   "outputs": [
    {
     "name": "stdout",
     "output_type": "stream",
     "text": [
      "Model: \"model_2\"\n",
      "_________________________________________________________________\n",
      " Layer (type)                Output Shape              Param #   \n",
      "=================================================================\n",
      " input_3 (InputLayer)        [(None, 669)]             0         \n",
      "                                                                 \n",
      " normalization_2 (Normalizat  (None, 669)              1339      \n",
      " ion)                                                            \n",
      "                                                                 \n",
      " dense_9 (Dense)             (None, 1024)              686080    \n",
      "                                                                 \n",
      " dropout_7 (Dropout)         (None, 1024)              0         \n",
      "                                                                 \n",
      " dense_10 (Dense)            (None, 1024)              1049600   \n",
      "                                                                 \n",
      " dropout_8 (Dropout)         (None, 1024)              0         \n",
      "                                                                 \n",
      " dense_11 (Dense)            (None, 512)               524800    \n",
      "                                                                 \n",
      " dropout_9 (Dropout)         (None, 512)               0         \n",
      "                                                                 \n",
      " dense_12 (Dense)            (None, 512)               262656    \n",
      "                                                                 \n",
      " dropout_10 (Dropout)        (None, 512)               0         \n",
      "                                                                 \n",
      " dense_13 (Dense)            (None, 14)                7182      \n",
      "                                                                 \n",
      "=================================================================\n",
      "Total params: 2,531,657\n",
      "Trainable params: 2,530,318\n",
      "Non-trainable params: 1,339\n",
      "_________________________________________________________________\n"
     ]
    }
   ],
   "source": [
    "model.summary()"
   ]
  },
  {
   "cell_type": "code",
   "execution_count": 27,
   "metadata": {},
   "outputs": [
    {
     "name": "stdout",
     "output_type": "stream",
     "text": [
      "Epoch 1/20\n",
      "893/893 [==============================] - 6s 6ms/step - loss: 0.8303 - accuracy: 0.7157\n",
      "Epoch 2/20\n",
      "893/893 [==============================] - 5s 6ms/step - loss: 0.8135 - accuracy: 0.7165\n",
      "Epoch 3/20\n",
      "893/893 [==============================] - 5s 6ms/step - loss: 0.7921 - accuracy: 0.7312\n",
      "Epoch 4/20\n",
      "893/893 [==============================] - 5s 6ms/step - loss: 0.7784 - accuracy: 0.7305\n",
      "Epoch 5/20\n",
      "893/893 [==============================] - 5s 6ms/step - loss: 0.7823 - accuracy: 0.7268\n",
      "Epoch 6/20\n",
      "893/893 [==============================] - 5s 6ms/step - loss: 0.7589 - accuracy: 0.7408\n",
      "Epoch 7/20\n",
      "893/893 [==============================] - 5s 6ms/step - loss: 0.7466 - accuracy: 0.7401\n",
      "Epoch 8/20\n",
      "893/893 [==============================] - 5s 6ms/step - loss: 0.7249 - accuracy: 0.7522\n",
      "Epoch 9/20\n",
      "893/893 [==============================] - 5s 6ms/step - loss: 0.7318 - accuracy: 0.7506\n",
      "Epoch 10/20\n",
      "893/893 [==============================] - 5s 6ms/step - loss: 0.7178 - accuracy: 0.7546\n",
      "Epoch 11/20\n",
      "893/893 [==============================] - 5s 6ms/step - loss: 0.7089 - accuracy: 0.7548\n",
      "Epoch 12/20\n",
      "893/893 [==============================] - 5s 6ms/step - loss: 0.6969 - accuracy: 0.7569\n",
      "Epoch 13/20\n",
      "893/893 [==============================] - 5s 6ms/step - loss: 0.6858 - accuracy: 0.7592\n",
      "Epoch 14/20\n",
      "893/893 [==============================] - 5s 6ms/step - loss: 0.6820 - accuracy: 0.7669\n",
      "Epoch 15/20\n",
      "893/893 [==============================] - 5s 6ms/step - loss: 0.6660 - accuracy: 0.7661\n",
      "Epoch 16/20\n",
      "893/893 [==============================] - 5s 6ms/step - loss: 0.6520 - accuracy: 0.7735\n",
      "Epoch 17/20\n",
      "893/893 [==============================] - 5s 5ms/step - loss: 0.6340 - accuracy: 0.7805\n",
      "Epoch 18/20\n",
      "893/893 [==============================] - 5s 5ms/step - loss: 0.6403 - accuracy: 0.7766\n",
      "Epoch 19/20\n",
      "893/893 [==============================] - 5s 5ms/step - loss: 0.6403 - accuracy: 0.7790\n",
      "Epoch 20/20\n",
      "893/893 [==============================] - 5s 5ms/step - loss: 0.6281 - accuracy: 0.7842\n"
     ]
    }
   ],
   "source": [
    "epochs = 20\n",
    "history = model.fit(data.x_train, data.y_train, batch_size=8, shuffle=True, epochs=epochs, callbacks=[model_checkpoint])\n",
    "model.save(model_dir)"
   ]
  },
  {
   "cell_type": "code",
   "execution_count": 14,
   "metadata": {},
   "outputs": [
    {
     "data": {
      "image/png": "[encoded data removed]",
      "text/plain": [
       "<Figure size 432x288 with 1 Axes>"
      ]
     },
     "metadata": {
      "needs_background": "light"
     },
     "output_type": "display_data"
    }
   ],
   "source": [
    "plt.plot(history.history['accuracy'])\n",
    "plt.plot(history.history['loss'])\n",
    "plt.grid(True, which='both')\n",
    "plt.ylim(0,1)\n",
    "plt.legend([\"abc\", \"def\"])\n",
    "plt.rcParams[\"legend.loc\"] ='lower right'\n"
   ]
  },
  {
   "cell_type": "code",
   "execution_count": 7,
   "metadata": {},
   "outputs": [
    {
     "name": "stdout",
     "output_type": "stream",
     "text": [
      "Epoch 1/10\n",
      "1785/1785 [==============================] - 10s 5ms/step - loss: 0.5098 - accuracy: 0.8256\n",
      "Epoch 2/10\n",
      "1785/1785 [==============================] - 9s 5ms/step - loss: 0.4936 - accuracy: 0.8321\n",
      "Epoch 3/10\n",
      "1785/1785 [==============================] - 9s 5ms/step - loss: 0.4767 - accuracy: 0.8399\n",
      "Epoch 4/10\n",
      "1785/1785 [==============================] - 9s 5ms/step - loss: 0.4832 - accuracy: 0.8308\n",
      "Epoch 5/10\n",
      "1785/1785 [==============================] - 9s 5ms/step - loss: 0.4692 - accuracy: 0.8398\n",
      "Epoch 6/10\n",
      "1785/1785 [==============================] - 9s 5ms/step - loss: 0.4524 - accuracy: 0.8447\n",
      "Epoch 7/10\n",
      "1785/1785 [==============================] - 9s 5ms/step - loss: 0.4473 - accuracy: 0.8437\n",
      "Epoch 8/10\n",
      "1785/1785 [==============================] - 9s 5ms/step - loss: 0.4378 - accuracy: 0.8539\n",
      "Epoch 9/10\n",
      "1785/1785 [==============================] - 9s 5ms/step - loss: 0.4416 - accuracy: 0.8459\n",
      "Epoch 10/10\n",
      "1785/1785 [==============================] - 9s 5ms/step - loss: 0.4282 - accuracy: 0.8546\n"
     ]
    }
   ],
   "source": [
    "epochs = 10\n",
    "history = model.fit(data.x_train, data.y_train, batch_size=4, shuffle=True, epochs=epochs, callbacks=[model_checkpoint])\n",
    "model.save(model_dir)"
   ]
  },
  {
   "cell_type": "code",
   "execution_count": 9,
   "metadata": {},
   "outputs": [
    {
     "name": "stdout",
     "output_type": "stream",
     "text": [
      "40/40 [==============================] - 0s 6ms/step - loss: 0.6075 - accuracy: 0.7873\n",
      "Test loss: 0.6074771881103516\n",
      "Test accuracy: 0.7873015999794006\n"
     ]
    }
   ],
   "source": [
    "score = model.evaluate(data.x_test, data.y_test, verbose=1)\n",
    "print(\"Test loss:\", score[0])\n",
    "print(\"Test accuracy:\", score[1])"
   ]
  },
  {
   "cell_type": "code",
   "execution_count": 31,
   "metadata": {},
   "outputs": [
    {
     "data": {
      "image/png": "[encoded data removed]",
      "text/plain": [
       "<Figure size 432x432 with 1 Axes>"
      ]
     },
     "metadata": {
      "needs_background": "light"
     },
     "output_type": "display_data"
    }
   ],
   "source": [
    "i = 0\n",
    "cmatrix = np.zeros((14,14), dtype=np.int16)\n",
    "bat = int(len(data.x_test)/60)\n",
    "for i in range(0, len(data.x_test),bat):\n",
    "    result = model.predict_on_batch(data.x_test[i:i+bat])\n",
    "    ans = data.y_test[i:i+bat]\n",
    "    for j in range(bat):\n",
    "        id1 = np.argmax(result[j])\n",
    "        id2 = np.argmax(ans[j])\n",
    "        cmatrix[id1, id2] = cmatrix[id1][id2] + 1\n",
    "\n",
    "cmatrix = np.absolute(cmatrix)\n",
    "# print(repr(cmatrix))\n",
    "\n",
    "fig = plt.figure(figsize=(6,6))\n",
    "plt.imshow(cmatrix)\n",
    "plt.title(\"Plot 2D array\")\n",
    "plt.show()"
   ]
  },
  {
   "cell_type": "code",
   "execution_count": 32,
   "metadata": {},
   "outputs": [
    {
     "name": "stdout",
     "output_type": "stream",
     "text": [
      "Agglutinated: \t \t0.856\n",
      "Brittle: \t \t0.578\n",
      "Compartmentalized_Brown: \t \t0.656\n",
      "Compartmentalized_PartiallyPurple: \t \t0.633\n",
      "Compartmentalized_Purple: \t \t0.822\n",
      "Compartmentalized_Slaty: \t \t0.911\n",
      "Compartmentalized_White: \t \t0.967\n",
      "Flattened: \t \t0.933\n",
      "Moldered: \t \t1.0\n",
      "Plated_Brown: \t \t0.622\n",
      "Plated_PartiallyPurple: \t \t0.333\n",
      "Plated_Purple: \t \t0.833\n",
      "Plated_Slaty: \t \t0.911\n",
      "Plated_White: \t \t0.933\n",
      "0.7848571428571428\n"
     ]
    }
   ],
   "source": [
    "classes_name = ['Agglutinated', 'Brittle', 'Compartmentalized_Brown', 'Compartmentalized_PartiallyPurple', 'Compartmentalized_Purple', 'Compartmentalized_Slaty', 'Compartmentalized_White', 'Flattened', 'Moldered', 'Plated_Brown', 'Plated_PartiallyPurple', 'Plated_Purple', 'Plated_Slaty', 'Plated_White']\n",
    "acc = []\n",
    "for i in range(14):\n",
    "    acc.append(np.round(cmatrix[i][i]/90,3))\n",
    "    print(classes_name[i] + ': \\t \\t' + str(acc[i]))\n",
    "print(np.mean(acc))"
   ]
  }
 ],
 "metadata": {
  "kernelspec": {
   "display_name": "Python 3.10.4 64-bit",
   "language": "python",
   "name": "python3"
  },
  "language_info": {
   "codemirror_mode": {
    "name": "ipython",
    "version": 3
   },
   "file_extension": ".py",
   "mimetype": "text/x-python",
   "name": "python",
   "nbconvert_exporter": "python",
   "pygments_lexer": "ipython3",
   "version": "3.10.5"
  },
  "orig_nbformat": 4,
  "vscode": {
   "interpreter": {
    "hash": "26de051ba29f2982a8de78e945f0abaf191376122a1563185a90213a26c5da77"
   }
  }
 },
 "nbformat": 4,
 "nbformat_minor": 2
}
