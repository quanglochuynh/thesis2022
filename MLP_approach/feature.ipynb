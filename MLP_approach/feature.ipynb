{
 "cells": [
  {
   "cell_type": "code",
   "execution_count": 1,
   "metadata": {},
   "outputs": [],
   "source": [
    "import cv2\n",
    "import numpy as np\n",
    "from numpy import shape\n",
    "import matplotlib.pyplot as plt \n",
    "from image_extractor import feature_extract, statistic_analysis\n",
    "\n",
    "image_dir  = 'D:/Thesis_data/Backups/Color_Corrected_512x512/Agglutinated/image (17).JPG'\n",
    "# image_dir  = 'D:/Thesis_data/Backups/Color_Corrected_512x512/Brittle/image (1).JPG'\n",
    "# image_dir = 'D:/Thesis_data/Backups/Color_Corrected_512x512/Plated_Purple/image (10).JPG'\n",
    "# image_dir = 'D:/Thesis_data/Backups/Color_Corrected_512x512/Compartmentalized_PartiallyPurple/image (16).JPG'\n",
    "# image_dir = 'D:/Thesis_data/Backups/Color_Corrected_512x512/Compartmentalized_Brown/image (3).JPG'\n",
    "# image_dir = 'D:/Thesis_data/Backups/Color_Corrected_512x512/Plated_White/image (72).JPG'\n",
    "# image_dir = 'D:/Thesis_data/Backups/Color_Corrected_512x512/Plated_Slaty/image (71).JPG'\n",
    "# image_dir = 'D:/Thesis_data/Backups/Color_Corrected_512x512/Compartmentalized_Slaty/image (1).JPG'\n",
    "# image_dir = 'D:/Thesis_data/Backups/Color_Corrected_512x512/Moldered/image (7).JPG'\n",
    "# image_dir = 'D:/Thesis_data/mlp_data/training_img/Compartmentalized_Brown/image(3).JPG'\n",
    "# image_dir  = '/Users/lochuynhquang/Desktop/Color_Corrected_512x512/Plated_PartiallyPurple/image (10).JPG'\n",
    "\n",
    "plt.rcParams['figure.dpi'] = 102.46 "
   ]
  },
  {
   "cell_type": "code",
   "execution_count": 2,
   "metadata": {},
   "outputs": [],
   "source": [
    "extractor = feature_extract()\n",
    "# image_bgr = cv2.imread(image_dir)\n",
    "# extractor.extract(image_bgr)\n",
    "extractor.pre_process2(image_dir)\n",
    "extractor.extract_haralick()\n"
   ]
  },
  {
   "cell_type": "code",
   "execution_count": 3,
   "metadata": {},
   "outputs": [
    {
     "data": {
      "text/plain": [
       "(56,)"
      ]
     },
     "execution_count": 3,
     "metadata": {},
     "output_type": "execute_result"
    }
   ],
   "source": [
    "shape(extractor.red_haralick)"
   ]
  },
  {
   "cell_type": "code",
   "execution_count": 10,
   "metadata": {},
   "outputs": [
    {
     "data": {
      "text/plain": [
       "<matplotlib.image.AxesImage at 0x23a2794feb0>"
      ]
     },
     "execution_count": 10,
     "metadata": {},
     "output_type": "execute_result"
    },
    {
     "data": {
      "image/png": "[encoded data removed]",
      "text/plain": [
       "<Figure size 614.76x409.84 with 1 Axes>"
      ]
     },
     "metadata": {
      "needs_background": "light"
     },
     "output_type": "display_data"
    }
   ],
   "source": [
    "plt.imshow(np.reshape(extractor.blue_haralick, (4,14)))"
   ]
  },
  {
   "cell_type": "code",
   "execution_count": 6,
   "metadata": {},
   "outputs": [
    {
     "name": "stdout",
     "output_type": "stream",
     "text": [
      "[ 5.00860432e-01  5.70241790e+01  9.81850081e-01  1.57092108e+03\n",
      "  7.56099477e-01  4.65141267e+01  6.22666012e+03  3.08384245e+00\n",
      "  4.31271674e+00  2.74149081e-03  2.06024609e+00 -4.44746639e-01\n",
      "  9.56621158e-01  4.81331562e+00  4.99469440e-01  7.48003033e+01\n",
      "  9.76222693e-01  1.57293472e+03  7.49701972e-01  4.66051524e+01\n",
      "  6.21693857e+03  3.09021673e+00  4.38135999e+00  2.71218529e-03\n",
      "  2.14258495e+00 -4.22534023e-01  9.50977671e-01  5.06961014e+00\n",
      "  5.00907562e-01  4.79270426e+01  9.84745560e-01  1.57092108e+03\n",
      "  7.61865304e-01  4.65141267e+01  6.23575726e+03  3.08671679e+00\n",
      "  4.27376228e+00  2.76712198e-03  2.00060172e+00 -4.58794409e-01\n",
      "  9.59940418e-01  4.61619889e+00  4.99616222e-01  6.95406114e+01\n",
      "  9.77894629e-01  1.57293472e+03  7.51060895e-01  4.66051524e+01\n",
      "  6.22219826e+03  3.09038258e+00  4.36938635e+00  2.71529672e-03\n",
      "  2.12735411e+00 -4.26845016e-01  9.52166833e-01  5.00981692e+00]\n"
     ]
    }
   ],
   "source": [
    "print(extractor.red_haralick)"
   ]
  }
 ],
 "metadata": {
  "kernelspec": {
   "display_name": "Python 3.10.4 64-bit",
   "language": "python",
   "name": "python3"
  },
  "language_info": {
   "codemirror_mode": {
    "name": "ipython",
    "version": 3
   },
   "file_extension": ".py",
   "mimetype": "text/x-python",
   "name": "python",
   "nbconvert_exporter": "python",
   "pygments_lexer": "ipython3",
   "version": "3.10.4"
  },
  "orig_nbformat": 4,
  "vscode": {
   "interpreter": {
    "hash": "26de051ba29f2982a8de78e945f0abaf191376122a1563185a90213a26c5da77"
   }
  }
 },
 "nbformat": 4,
 "nbformat_minor": 2
}
