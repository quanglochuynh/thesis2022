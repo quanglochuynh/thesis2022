{
 "cells": [
  {
   "cell_type": "code",
   "execution_count": 1,
   "metadata": {},
   "outputs": [],
   "source": [
    "import numpy as np\n",
    "\n",
    "classes_name = ['Agglutinated', 'Brittle', 'Compartmentalized_Brown', 'Compartmentalized_PartiallyPurple', 'Compartmentalized_Purple', 'Compartmentalized_Slaty', 'Compartmentalized_White', 'Flattened', 'Moldered', 'Plated_Brown', 'Plated_PartiallyPurple', 'Plated_Purple', 'Plated_Slaty', 'Plated_White']\n",
    "training_address = 'D:/Thesis_data/mlp_data/'\n",
    "testing_address = 'D:/Thesis_data/mlp_data/'\n",
    "\n",
    "inp = []\n",
    "ft_name = ['overall_geometry_', 'overall_rgb_', 'overall_hsv_', 'color_grid_', 'glcm_grid_', 'haralick_', 'lbp_hist_', 'comp_hsv_', 'red_haralick_', 'blue_haralick_', 'green_haralick_']\n",
    "tmp = [[0]*14]"
   ]
  },
  {
   "cell_type": "code",
   "execution_count": 2,
   "metadata": {},
   "outputs": [
    {
     "name": "stdout",
     "output_type": "stream",
     "text": [
      "[12, 12, 12, 288, 128, 56, 26, 61, 56, 56, 56]\n"
     ]
    }
   ],
   "source": [
    "for k in range(len(ft_name)):\n",
    "    str = testing_address + 'test_'+ ft_name[k] + classes_name[1] + '.npz'\n",
    "    data = np.load(str,allow_pickle=True)['arr_0']\n",
    "    inp.append(np.shape(data)[1])\n",
    "print(inp)"
   ]
  },
  {
   "cell_type": "code",
   "execution_count": 4,
   "metadata": {},
   "outputs": [
    {
     "name": "stdout",
     "output_type": "stream",
     "text": [
      "(1261, 56)\n",
      "(1260, 56)\n",
      "(1261, 56)\n",
      "(1260, 56)\n"
     ]
    }
   ],
   "source": [
    "for k in range(9,len(ft_name)):\n",
    "    x_test = [[0]*inp[k]]\n",
    "    y_test = [[0]*14]\n",
    "    for i in range(0, 14):\n",
    "        str = testing_address + 'test_'+ ft_name[k] + classes_name[i] + '.npz'\n",
    "        # print(str)\n",
    "        data = np.load(str,allow_pickle=True)\n",
    "\n",
    "        a = data['arr_0']\n",
    "\n",
    "\n",
    "        row2 = np.zeros([90,14])\n",
    "        row2[:,i] = 1\n",
    "        x_test = np.concatenate( [x_test, a], axis=0)\n",
    "        # print(np.shape(row1))\n",
    "        # break\n",
    "        y_test = np.concatenate( [y_test, row2], axis=0)\n",
    "        # y_test.append(np.reshape(data['ytest'], (120,394)))\n",
    "        # print(np.shape(x_test))\n",
    "    print(np.shape(x_test))\n",
    "    x_test = x_test[1:1681, :]\n",
    "    y_test = y_test[1:1681, :]\n",
    "    print(np.shape(x_test))\n",
    "    # np.savez_compressed('D:/Thesis_data/mlp_data/new/y_test_' + ft_name[k], y_test)\n",
    "    np.savez_compressed('D:/Thesis_data/mlp_data/new/x_test_' + ft_name[k], x_test)"
   ]
  },
  {
   "cell_type": "code",
   "execution_count": 5,
   "metadata": {},
   "outputs": [
    {
     "name": "stdout",
     "output_type": "stream",
     "text": [
      "(7141, 14)\n",
      "(7140, 14)\n",
      "(7141, 14)\n",
      "(7140, 14)\n"
     ]
    }
   ],
   "source": [
    "for k in range(9,len(ft_name)):\n",
    "    x_train = [[0]*inp[k]]\n",
    "    y_train = [[0]*14]\n",
    "    for i in range(0, 14):\n",
    "        str = training_address + 'train_'+ ft_name[k] + classes_name[i] + '.npz'\n",
    "        # print(str)\n",
    "        data = np.load(str,allow_pickle=True)\n",
    "\n",
    "        a = data['arr_0']\n",
    "\n",
    "\n",
    "        row2 = np.zeros([510,14])\n",
    "        row2[:,i] = 1\n",
    "        x_train = np.concatenate( [x_train, a], axis=0)\n",
    "        # print(np.shape(row1))\n",
    "        # break\n",
    "        y_train = np.concatenate( [y_train, row2], axis=0)\n",
    "        # y_test.append(np.reshape(data['ytest'], (120,394)))\n",
    "        # print(np.shape(x_test))\n",
    "    print(np.shape(y_train))\n",
    "    x_train = x_train[1:7141, :]\n",
    "    y_train = y_train[1:7141, :]\n",
    "    print(np.shape(y_train))\n",
    "    # np.savez_compressed('D:/Thesis_data/mlp_data/new/y_train_' + ft_name[k], y_train)\n",
    "    np.savez_compressed('D:/Thesis_data/mlp_data/new/x_train_' + ft_name[k], x_train)"
   ]
  },
  {
   "cell_type": "code",
   "execution_count": 6,
   "metadata": {},
   "outputs": [
    {
     "data": {
      "text/plain": [
       "array([ 1.12976381e-02,  3.06536141e+02,  9.21576328e-01,  1.95435979e+03,\n",
       "        2.17996008e-01,  1.63101347e+02,  7.51090302e+03,  7.37853890e+00,\n",
       "        1.13674959e+01,  2.87726333e-04,  4.76398716e+00, -2.47539070e-01,\n",
       "        9.79642076e-01,  5.30624314e+00,  1.04939393e-02,  3.46064382e+02,\n",
       "        9.10681966e-01,  1.93725928e+03,  2.09084439e-01,  1.63717184e+02,\n",
       "        7.40297276e+03,  7.38710525e+00,  1.14651033e+01,  2.67738451e-04,\n",
       "        4.86223869e+00, -2.34805642e-01,  9.76037448e-01,  5.25019862e+00,\n",
       "        1.25185236e-02,  1.05096140e+02,  9.73300268e-01,  1.96811225e+03,\n",
       "        2.79057349e-01,  1.62554841e+02,  7.76735287e+03,  7.39182861e+00,\n",
       "        1.08103815e+01,  4.51383381e-04,  4.08316597e+00, -3.32872734e-01,\n",
       "        9.93307581e-01,  4.75125842e+00,  1.05540053e-02,  3.68178015e+02,\n",
       "        9.04974513e-01,  1.93725928e+03,  2.07011445e-01,  1.63717184e+02,\n",
       "        7.38085912e+03,  7.38415155e+00,  1.14777232e+01,  2.62994774e-04,\n",
       "        4.88536712e+00, -2.32862656e-01,  9.75417226e-01,  5.31351771e+00])"
      ]
     },
     "execution_count": 6,
     "metadata": {},
     "output_type": "execute_result"
    }
   ],
   "source": [
    "x_train[0]"
   ]
  },
  {
   "cell_type": "code",
   "execution_count": 7,
   "metadata": {},
   "outputs": [
    {
     "data": {
      "text/plain": [
       "(7140, 14)"
      ]
     },
     "execution_count": 7,
     "metadata": {},
     "output_type": "execute_result"
    }
   ],
   "source": [
    "np.shape(y_train)"
   ]
  }
 ],
 "metadata": {
  "interpreter": {
   "hash": "26de051ba29f2982a8de78e945f0abaf191376122a1563185a90213a26c5da77"
  },
  "kernelspec": {
   "display_name": "Python 3.10.4 64-bit",
   "language": "python",
   "name": "python3"
  },
  "language_info": {
   "codemirror_mode": {
    "name": "ipython",
    "version": 3
   },
   "file_extension": ".py",
   "mimetype": "text/x-python",
   "name": "python",
   "nbconvert_exporter": "python",
   "pygments_lexer": "ipython3",
   "version": "3.10.4"
  },
  "orig_nbformat": 4
 },
 "nbformat": 4,
 "nbformat_minor": 2
}
