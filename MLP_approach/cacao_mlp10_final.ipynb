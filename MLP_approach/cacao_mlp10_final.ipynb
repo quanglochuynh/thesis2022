{
 "cells": [
  {
   "cell_type": "code",
   "execution_count": 1,
   "metadata": {},
   "outputs": [
    {
     "name": "stdout",
     "output_type": "stream",
     "text": [
      "OS: Windows\n",
      "0 :  overall_geometry\n",
      "1 :  overall_rgb\n",
      "2 :  overall_hsv\n",
      "3 :  color_grid\n",
      "4 :  glcm_grid\n",
      "5 :  comp_hsv\n",
      "6 :  lbp_hist\n",
      "7 :  haralick\n",
      "8 :  red_haralick\n",
      "9 :  blue_haralick\n",
      "10 :  green_haralick\n"
     ]
    }
   ],
   "source": [
    "import numpy as np\n",
    "import tensorflow as tf\n",
    "from tensorflow import keras\n",
    "from keras import layers\n",
    "import matplotlib.pyplot as plt\n",
    "from image_extractor import DataSetup\n",
    "data = DataSetup()"
   ]
  },
  {
   "cell_type": "code",
   "execution_count": 2,
   "metadata": {},
   "outputs": [
    {
     "name": "stdout",
     "output_type": "stream",
     "text": [
      "x_test size: (1260, 695)\n",
      "x_train size: (7140, 695)\n",
      "y_test size: (1260, 14)\n",
      "y_train size: (7140, 14)\n",
      "Model name = ' overall_geometry_overall_rgb_color_grid_glcm_grid_comp_hsv_lbp_hist_red_haralick_blue_haralick_green_haralick '\n",
      "D:./TF_backup/mlp/overall_geometry_overall_rgb_color_grid_glcm_grid_comp_hsv_lbp_hist_red_haralick_blue_haralick_green_haralick.h5\n"
     ]
    }
   ],
   "source": [
    "data.concat(dataID=[0,1,3,4,5,6,8,9,10])\n",
    "model_dir = 'D:./TF_backup/mlp/' + data.model_name + \".h5\"\n",
    "checkpoint_dir = 'D:./TF_checkpoint/mlp/weight/'\n",
    "print(model_dir)\n",
    "\n",
    "input_shape = (data.length,)\n",
    "batch_size = 8\n",
    "\n",
    "model_checkpoint = keras.callbacks.ModelCheckpoint(\n",
    "    checkpoint_dir,\n",
    "    save_weights_only=True,\n",
    "    monitor='val_accuracy',\n",
    "    mode='max',\n",
    ")"
   ]
  },
  {
   "cell_type": "code",
   "execution_count": 3,
   "metadata": {},
   "outputs": [],
   "source": [
    "normalizer = layers.Normalization()\n",
    "normalizer.adapt(data.x_train)\n",
    "\n",
    "# Define model\n",
    "input_layer = layers.Input(shape=input_shape)\n",
    "norm = normalizer(input_layer)\n",
    "den1 = layers.Dense(1024, activation='tanh', kernel_initializer='HeNormal')(norm)\n",
    "drop1 = layers.Dropout(0.2)(den1)\n",
    "den2 = layers.Dense(1024, activation='tanh', kernel_initializer='HeNormal')(drop1)\n",
    "drop2 = layers.Dropout(0.2)(den2)\n",
    "den3 = layers.Dense(512, activation='tanh', kernel_initializer='HeNormal')(drop2)\n",
    "drop3 = layers.Dropout(0.2)(den3)\n",
    "den4 = layers.Dense(512, activation='tanh', kernel_initializer='HeNormal')(drop3)\n",
    "drop4 = layers.Dropout(0.2)(den4)\n",
    "den5 = layers.Dense(14, activation='softmax')(drop4)\n",
    "model = keras.Model(input_layer, den5)\n",
    "\n",
    "opt = tf.keras.optimizers.SGD(\n",
    "    learning_rate=0.0001,\n",
    "    momentum=0.4,\n",
    "    nesterov=True,\n",
    "    name='SGD',\n",
    ")\n",
    "\n",
    "model.compile(\n",
    "    optimizer=opt, \n",
    "    loss=\"categorical_crossentropy\", \n",
    "    metrics=[\"accuracy\"]\n",
    "    )\n",
    "\n",
    "# model = keras.models.load_model(model_dir)"
   ]
  },
  {
   "cell_type": "code",
   "execution_count": 9,
   "metadata": {},
   "outputs": [
    {
     "name": "stdout",
     "output_type": "stream",
     "text": [
      "Model: \"model\"\n",
      "_________________________________________________________________\n",
      " Layer (type)                Output Shape              Param #   \n",
      "=================================================================\n",
      " input_1 (InputLayer)        [(None, 695)]             0         \n",
      "                                                                 \n",
      " normalization (Normalizatio  (None, 695)              1391      \n",
      " n)                                                              \n",
      "                                                                 \n",
      " dense (Dense)               (None, 1024)              712704    \n",
      "                                                                 \n",
      " dropout (Dropout)           (None, 1024)              0         \n",
      "                                                                 \n",
      " dense_1 (Dense)             (None, 1024)              1049600   \n",
      "                                                                 \n",
      " dropout_1 (Dropout)         (None, 1024)              0         \n",
      "                                                                 \n",
      " dense_2 (Dense)             (None, 512)               524800    \n",
      "                                                                 \n",
      " dropout_2 (Dropout)         (None, 512)               0         \n",
      "                                                                 \n",
      " dense_3 (Dense)             (None, 512)               262656    \n",
      "                                                                 \n",
      " dropout_3 (Dropout)         (None, 512)               0         \n",
      "                                                                 \n",
      " dense_4 (Dense)             (None, 14)                7182      \n",
      "                                                                 \n",
      "=================================================================\n",
      "Total params: 2,558,333\n",
      "Trainable params: 2,556,942\n",
      "Non-trainable params: 1,391\n",
      "_________________________________________________________________\n"
     ]
    }
   ],
   "source": [
    "model.summary()"
   ]
  },
  {
   "cell_type": "code",
   "execution_count": 4,
   "metadata": {},
   "outputs": [
    {
     "name": "stdout",
     "output_type": "stream",
     "text": [
      "Epoch 1/20\n",
      "447/447 [==============================] - 4s 7ms/step - loss: 2.7882 - accuracy: 0.1234\n",
      "Epoch 2/20\n",
      "447/447 [==============================] - 3s 6ms/step - loss: 2.4116 - accuracy: 0.2118\n",
      "Epoch 3/20\n",
      "447/447 [==============================] - 3s 6ms/step - loss: 2.1791 - accuracy: 0.2881\n",
      "Epoch 4/20\n",
      "447/447 [==============================] - 3s 6ms/step - loss: 1.9846 - accuracy: 0.3452\n",
      "Epoch 5/20\n",
      "447/447 [==============================] - 3s 6ms/step - loss: 1.8433 - accuracy: 0.3755\n",
      "Epoch 6/20\n",
      "447/447 [==============================] - 3s 6ms/step - loss: 1.7443 - accuracy: 0.4209\n",
      "Epoch 7/20\n",
      "447/447 [==============================] - 3s 6ms/step - loss: 1.6565 - accuracy: 0.4396\n",
      "Epoch 8/20\n",
      "447/447 [==============================] - 3s 6ms/step - loss: 1.5712 - accuracy: 0.4713\n",
      "Epoch 9/20\n",
      "447/447 [==============================] - 2s 6ms/step - loss: 1.5192 - accuracy: 0.4891\n",
      "Epoch 10/20\n",
      "447/447 [==============================] - 3s 6ms/step - loss: 1.4601 - accuracy: 0.4999\n",
      "Epoch 11/20\n",
      "447/447 [==============================] - 3s 6ms/step - loss: 1.4011 - accuracy: 0.5207\n",
      "Epoch 12/20\n",
      "447/447 [==============================] - 3s 6ms/step - loss: 1.3571 - accuracy: 0.5331\n",
      "Epoch 13/20\n",
      "447/447 [==============================] - 3s 6ms/step - loss: 1.3133 - accuracy: 0.5545\n",
      "Epoch 14/20\n",
      "447/447 [==============================] - 3s 6ms/step - loss: 1.2928 - accuracy: 0.5560\n",
      "Epoch 15/20\n",
      "447/447 [==============================] - 3s 6ms/step - loss: 1.2447 - accuracy: 0.5730\n",
      "Epoch 16/20\n",
      "447/447 [==============================] - 3s 6ms/step - loss: 1.2267 - accuracy: 0.5824\n",
      "Epoch 17/20\n",
      "447/447 [==============================] - 3s 6ms/step - loss: 1.1875 - accuracy: 0.5877\n",
      "Epoch 18/20\n",
      "447/447 [==============================] - 3s 6ms/step - loss: 1.1611 - accuracy: 0.6053\n",
      "Epoch 19/20\n",
      "447/447 [==============================] - 3s 6ms/step - loss: 1.1311 - accuracy: 0.6171\n",
      "Epoch 20/20\n",
      "447/447 [==============================] - 3s 6ms/step - loss: 1.1210 - accuracy: 0.6127\n",
      "Epoch 1/20\n",
      "893/893 [==============================] - 5s 5ms/step - loss: 1.0916 - accuracy: 0.6204\n",
      "Epoch 2/20\n",
      "893/893 [==============================] - 5s 5ms/step - loss: 1.0397 - accuracy: 0.6412\n",
      "Epoch 3/20\n",
      "893/893 [==============================] - 5s 5ms/step - loss: 1.0119 - accuracy: 0.6520\n",
      "Epoch 4/20\n",
      "893/893 [==============================] - 5s 5ms/step - loss: 0.9904 - accuracy: 0.6546\n",
      "Epoch 5/20\n",
      "893/893 [==============================] - 5s 6ms/step - loss: 0.9609 - accuracy: 0.6640\n",
      "Epoch 6/20\n",
      "893/893 [==============================] - 5s 5ms/step - loss: 0.9360 - accuracy: 0.6730\n",
      "Epoch 7/20\n",
      "893/893 [==============================] - 5s 5ms/step - loss: 0.9030 - accuracy: 0.6901\n",
      "Epoch 8/20\n",
      "893/893 [==============================] - 5s 5ms/step - loss: 0.8818 - accuracy: 0.6927\n",
      "Epoch 9/20\n",
      "893/893 [==============================] - 5s 5ms/step - loss: 0.8589 - accuracy: 0.6976\n",
      "Epoch 10/20\n",
      "893/893 [==============================] - 5s 5ms/step - loss: 0.8458 - accuracy: 0.6996\n",
      "Epoch 11/20\n",
      "893/893 [==============================] - 5s 5ms/step - loss: 0.8329 - accuracy: 0.7073\n",
      "Epoch 12/20\n",
      "893/893 [==============================] - 5s 5ms/step - loss: 0.8241 - accuracy: 0.7024\n",
      "Epoch 13/20\n",
      "893/893 [==============================] - 5s 6ms/step - loss: 0.7891 - accuracy: 0.7305\n",
      "Epoch 14/20\n",
      "893/893 [==============================] - 5s 6ms/step - loss: 0.7799 - accuracy: 0.7242\n",
      "Epoch 15/20\n",
      "893/893 [==============================] - 5s 6ms/step - loss: 0.7571 - accuracy: 0.7373\n",
      "Epoch 16/20\n",
      "893/893 [==============================] - 5s 6ms/step - loss: 0.7465 - accuracy: 0.7395\n",
      "Epoch 17/20\n",
      "893/893 [==============================] - 5s 5ms/step - loss: 0.7340 - accuracy: 0.7440\n",
      "Epoch 18/20\n",
      "893/893 [==============================] - 5s 5ms/step - loss: 0.7296 - accuracy: 0.7444\n",
      "Epoch 19/20\n",
      "893/893 [==============================] - 5s 5ms/step - loss: 0.7144 - accuracy: 0.7531\n",
      "Epoch 20/20\n",
      "893/893 [==============================] - 5s 5ms/step - loss: 0.7049 - accuracy: 0.7552\n",
      "Epoch 1/40\n",
      "1785/1785 [==============================] - 9s 5ms/step - loss: 0.6821 - accuracy: 0.7650\n",
      "Epoch 2/40\n",
      "1785/1785 [==============================] - 10s 6ms/step - loss: 0.6691 - accuracy: 0.7724\n",
      "Epoch 3/40\n",
      "1785/1785 [==============================] - 10s 5ms/step - loss: 0.6584 - accuracy: 0.7713\n",
      "Epoch 4/40\n",
      "1785/1785 [==============================] - 10s 5ms/step - loss: 0.6321 - accuracy: 0.7804\n",
      "Epoch 5/40\n",
      "1785/1785 [==============================] - 10s 5ms/step - loss: 0.6134 - accuracy: 0.7878\n",
      "Epoch 6/40\n",
      "1785/1785 [==============================] - 10s 5ms/step - loss: 0.6030 - accuracy: 0.7933\n",
      "Epoch 7/40\n",
      "1785/1785 [==============================] - 10s 5ms/step - loss: 0.5939 - accuracy: 0.7943\n",
      "Epoch 8/40\n",
      "1785/1785 [==============================] - 10s 5ms/step - loss: 0.5810 - accuracy: 0.7940\n",
      "Epoch 9/40\n",
      "1785/1785 [==============================] - 10s 5ms/step - loss: 0.5689 - accuracy: 0.7989\n",
      "Epoch 10/40\n",
      "1785/1785 [==============================] - 9s 5ms/step - loss: 0.5451 - accuracy: 0.8165\n",
      "Epoch 11/40\n",
      "1785/1785 [==============================] - 9s 5ms/step - loss: 0.5445 - accuracy: 0.8094\n",
      "Epoch 12/40\n",
      "1785/1785 [==============================] - 10s 5ms/step - loss: 0.5306 - accuracy: 0.8161\n",
      "Epoch 13/40\n",
      "1785/1785 [==============================] - 10s 5ms/step - loss: 0.5137 - accuracy: 0.8255\n",
      "Epoch 14/40\n",
      "1785/1785 [==============================] - 10s 5ms/step - loss: 0.5045 - accuracy: 0.8239\n",
      "Epoch 15/40\n",
      "1785/1785 [==============================] - 10s 5ms/step - loss: 0.5030 - accuracy: 0.8241\n",
      "Epoch 16/40\n",
      "1785/1785 [==============================] - 10s 5ms/step - loss: 0.4858 - accuracy: 0.8340\n",
      "Epoch 17/40\n",
      "1785/1785 [==============================] - 10s 5ms/step - loss: 0.4759 - accuracy: 0.8329\n",
      "Epoch 18/40\n",
      "1785/1785 [==============================] - 10s 5ms/step - loss: 0.4684 - accuracy: 0.8403\n",
      "Epoch 19/40\n",
      "1785/1785 [==============================] - 10s 5ms/step - loss: 0.4492 - accuracy: 0.8479\n",
      "Epoch 20/40\n",
      "1785/1785 [==============================] - 10s 5ms/step - loss: 0.4522 - accuracy: 0.8427\n",
      "Epoch 21/40\n",
      "1785/1785 [==============================] - 10s 5ms/step - loss: 0.4523 - accuracy: 0.8454\n",
      "Epoch 22/40\n",
      "1785/1785 [==============================] - 10s 5ms/step - loss: 0.4360 - accuracy: 0.8549\n",
      "Epoch 23/40\n",
      "1785/1785 [==============================] - 10s 5ms/step - loss: 0.4229 - accuracy: 0.8549\n",
      "Epoch 24/40\n",
      "1785/1785 [==============================] - 9s 5ms/step - loss: 0.4271 - accuracy: 0.8546\n",
      "Epoch 25/40\n",
      "1785/1785 [==============================] - 9s 5ms/step - loss: 0.4080 - accuracy: 0.8605\n",
      "Epoch 26/40\n",
      "1785/1785 [==============================] - 9s 5ms/step - loss: 0.4047 - accuracy: 0.8611\n",
      "Epoch 27/40\n",
      "1785/1785 [==============================] - 9s 5ms/step - loss: 0.3979 - accuracy: 0.8669\n",
      "Epoch 28/40\n",
      "1785/1785 [==============================] - 9s 5ms/step - loss: 0.3902 - accuracy: 0.8678\n",
      "Epoch 29/40\n",
      "1785/1785 [==============================] - 9s 5ms/step - loss: 0.3912 - accuracy: 0.8685\n",
      "Epoch 30/40\n",
      "1785/1785 [==============================] - 9s 5ms/step - loss: 0.3909 - accuracy: 0.8654\n",
      "Epoch 31/40\n",
      "1785/1785 [==============================] - 9s 5ms/step - loss: 0.3743 - accuracy: 0.8716\n",
      "Epoch 32/40\n",
      "1785/1785 [==============================] - 9s 5ms/step - loss: 0.3755 - accuracy: 0.8745\n",
      "Epoch 33/40\n",
      "1785/1785 [==============================] - 9s 5ms/step - loss: 0.3639 - accuracy: 0.8791\n",
      "Epoch 34/40\n",
      "1785/1785 [==============================] - 9s 5ms/step - loss: 0.3515 - accuracy: 0.8866\n",
      "Epoch 35/40\n",
      "1785/1785 [==============================] - 9s 5ms/step - loss: 0.3546 - accuracy: 0.8775\n",
      "Epoch 36/40\n",
      "1785/1785 [==============================] - 9s 5ms/step - loss: 0.3471 - accuracy: 0.8854\n",
      "Epoch 37/40\n",
      "1785/1785 [==============================] - 9s 5ms/step - loss: 0.3474 - accuracy: 0.8845\n",
      "Epoch 38/40\n",
      "1785/1785 [==============================] - 9s 5ms/step - loss: 0.3385 - accuracy: 0.8896\n",
      "Epoch 39/40\n",
      "1785/1785 [==============================] - 9s 5ms/step - loss: 0.3358 - accuracy: 0.8863\n",
      "Epoch 40/40\n",
      "1785/1785 [==============================] - 9s 5ms/step - loss: 0.3315 - accuracy: 0.8901\n"
     ]
    }
   ],
   "source": [
    "accu = []\n",
    "history = model.fit(data.x_train, data.y_train, batch_size=16, shuffle=True, epochs=20, callbacks=[model_checkpoint])\n",
    "accu.append(history)\n",
    "history = model.fit(data.x_train, data.y_train, batch_size=8, shuffle=True, epochs=20, callbacks=[model_checkpoint])\n",
    "accu.append(history)\n",
    "history = model.fit(data.x_train, data.y_train, batch_size=4, shuffle=True, epochs=40, callbacks=[model_checkpoint])\n",
    "accu.append(history)\n",
    "\n",
    "model.save(model_dir)"
   ]
  },
  {
   "cell_type": "code",
   "execution_count": 12,
   "metadata": {},
   "outputs": [
    {
     "data": {
      "image/png": "[encoded data removed]",
      "text/plain": [
       "<Figure size 432x288 with 1 Axes>"
      ]
     },
     "metadata": {
      "needs_background": "light"
     },
     "output_type": "display_data"
    }
   ],
   "source": [
    "plt.plot(accu[0].history['accuracy'])\n",
    "# plt.plot(history.history['loss'])\n",
    "plt.grid(True, which='both')\n",
    "plt.ylim(0,1)\n",
    "plt.legend([\"abc\", \"def\"])\n",
    "plt.rcParams[\"legend.loc\"] ='lower right'\n"
   ]
  },
  {
   "cell_type": "code",
   "execution_count": 6,
   "metadata": {},
   "outputs": [
    {
     "name": "stdout",
     "output_type": "stream",
     "text": [
      "40/40 [==============================] - 0s 7ms/step - loss: 0.6329 - accuracy: 0.7833\n",
      "Test loss: 0.632897138595581\n",
      "Test accuracy: 0.7833333611488342\n"
     ]
    }
   ],
   "source": [
    "score = model.evaluate(data.x_test, data.y_test, verbose=1)\n",
    "print(\"Test loss:\", score[0])\n",
    "print(\"Test accuracy:\", score[1])"
   ]
  },
  {
   "cell_type": "code",
   "execution_count": 7,
   "metadata": {},
   "outputs": [
    {
     "data": {
      "image/png": "[encoded data removed]",
      "text/plain": [
       "<Figure size 432x432 with 1 Axes>"
      ]
     },
     "metadata": {
      "needs_background": "light"
     },
     "output_type": "display_data"
    }
   ],
   "source": [
    "classes_name = ['Agglutinated', 'Brittle', 'Compartmentalized_Brown', 'Compartmentalized_PartiallyPurple', 'Compartmentalized_Purple', 'Compartmentalized_Slaty', 'Compartmentalized_White', 'Flattened', 'Moldered', 'Plated_Brown', 'Plated_PartiallyPurple', 'Plated_Purple', 'Plated_Slaty', 'Plated_White']\n",
    "i = 0\n",
    "cmatrix = np.zeros((14,14), dtype=np.int16)\n",
    "bat = int(len(data.x_test)/60)\n",
    "for i in range(0, len(data.x_test),bat):\n",
    "    result = model.predict_on_batch(data.x_test[i:i+bat])\n",
    "    ans = data.y_test[i:i+bat]\n",
    "    for j in range(bat):\n",
    "        id1 = np.argmax(result[j])\n",
    "        id2 = np.argmax(ans[j])\n",
    "        cmatrix[id1, id2] = cmatrix[id1][id2] + 1\n",
    "\n",
    "cmatrix = np.absolute(cmatrix)\n",
    "# print(repr(cmatrix))\n",
    "\n",
    "fig = plt.figure(figsize=(8,8))\n",
    "plt.imshow(cmatrix)\n",
    "plt.title(\"Plot 2D array\")\n",
    "plt.show()"
   ]
  },
  {
   "cell_type": "code",
   "execution_count": 23,
   "metadata": {},
   "outputs": [
    {
     "data": {
      "image/png": "[encoded data removed]",
      "text/plain": [
       "<Figure size 576x576 with 1 Axes>"
      ]
     },
     "metadata": {
      "needs_background": "light"
     },
     "output_type": "display_data"
    }
   ],
   "source": [
    "fig = plt.figure(figsize=(8,8))\n",
    "plt.imshow(cmatrix)\n",
    "plt.title(\"Plot 2D array\")\n",
    "plt.show()"
   ]
  },
  {
   "cell_type": "code",
   "execution_count": 8,
   "metadata": {},
   "outputs": [
    {
     "name": "stdout",
     "output_type": "stream",
     "text": [
      "Agglutinated: \t \t0.889\n",
      "Brittle: \t \t0.667\n",
      "Compartmentalized_Brown: \t \t0.689\n",
      "Compartmentalized_PartiallyPurple: \t \t0.5\n",
      "Compartmentalized_Purple: \t \t0.778\n",
      "Compartmentalized_Slaty: \t \t0.911\n",
      "Compartmentalized_White: \t \t0.967\n",
      "Flattened: \t \t0.956\n",
      "Moldered: \t \t0.989\n",
      "Plated_Brown: \t \t0.633\n",
      "Plated_PartiallyPurple: \t \t0.333\n",
      "Plated_Purple: \t \t0.867\n",
      "Plated_Slaty: \t \t0.933\n",
      "Plated_White: \t \t0.856\n",
      "0.7834285714285713\n"
     ]
    }
   ],
   "source": [
    "acc = []\n",
    "for i in range(14):\n",
    "    acc.append(np.round(cmatrix[i][i]/90,3))\n",
    "    print(classes_name[i] + ': \\t \\t' + str(acc[i]))\n",
    "print(np.mean(acc))"
   ]
  },
  {
   "cell_type": "code",
   "execution_count": 24,
   "metadata": {},
   "outputs": [
    {
     "name": "stdout",
     "output_type": "stream",
     "text": [
      "[0.         0.12338936 0.21176471 0.28809524 0.34523809 0.37549019\n",
      " 0.42086834 0.43963584 0.4712885  0.48907563 0.49985993 0.52072829\n",
      " 0.53305322 0.5544818  0.55602241 0.5729692  0.58235294 0.58767509\n",
      " 0.60532212 0.61708683 0.61274511 0.62044817 0.64117646 0.65196079\n",
      " 0.65462184 0.66400558 0.67296916 0.69005603 0.69271708 0.69761902\n",
      " 0.69957983 0.7072829  0.70238096 0.73053223 0.72422969 0.73725492\n",
      " 0.73949581 0.74397761 0.74439776 0.75308126 0.75518209 0.76498598\n",
      " 0.77240896 0.77128851 0.78039217 0.78781515 0.79327732 0.7942577\n",
      " 0.79397762 0.79887956 0.81652659 0.80938375 0.81610644 0.82549018\n",
      " 0.82394958 0.82408965 0.83403361 0.83291316 0.84033614 0.84789914\n",
      " 0.84271711 0.84537816 0.85490197 0.85490197 0.85462183 0.86050421\n",
      " 0.86106443 0.86694676 0.86778712 0.86848742 0.86540616 0.87156862\n",
      " 0.87450981 0.87913167 0.8865546  0.877451   0.88543415 0.88445377\n",
      " 0.88963586 0.88627452 0.89005601]\n",
      "[2.78818846 2.41161871 2.17912006 1.98461199 1.84330153 1.74429655\n",
      " 1.65645051 1.57123828 1.51923263 1.46005166 1.40109038 1.35713696\n",
      " 1.31332266 1.29276896 1.24468267 1.22672534 1.18751228 1.16108382\n",
      " 1.13106596 1.12099433 1.09157193 1.03966367 1.01188707 0.99041474\n",
      " 0.96090502 0.9360013  0.90303063 0.88177431 0.85894889 0.84582454\n",
      " 0.83291954 0.82407391 0.78910011 0.77990055 0.75711954 0.74650079\n",
      " 0.73397446 0.72955525 0.71442455 0.70491755 0.68207514 0.66908079\n",
      " 0.65839148 0.63209957 0.61340141 0.60296869 0.59387171 0.58102745\n",
      " 0.56890166 0.54513252 0.54447716 0.53058797 0.51365393 0.50453281\n",
      " 0.50295854 0.48583344 0.47585368 0.46840903 0.44924322 0.45222905\n",
      " 0.45232183 0.43596485 0.42288384 0.42707998 0.40797153 0.4047426\n",
      " 0.39791626 0.39024165 0.39116681 0.39090365 0.37432858 0.37546259\n",
      " 0.36386111 0.35153815 0.35455489 0.3471207  0.34744945 0.33852133\n",
      " 0.33581626 0.33154508]\n"
     ]
    }
   ],
   "source": [
    "ac = np.array([0], dtype=np.float32)\n",
    "lo = np.array([], dtype=np.float32)\n",
    "for i in range(len(accu)):\n",
    "    ac = np.concatenate([ac, accu[i].history['accuracy']])\n",
    "    lo = np.concatenate([lo, accu[i].history['loss']])\n",
    "\n",
    "print(ac)\n",
    "print(lo)"
   ]
  },
  {
   "cell_type": "code",
   "execution_count": 22,
   "metadata": {},
   "outputs": [
    {
     "data": {
      "text/plain": [
       "Text(0.5, 0, 'Epoch')"
      ]
     },
     "execution_count": 22,
     "metadata": {},
     "output_type": "execute_result"
    },
    {
     "data": {
      "image/png": "[encoded data removed]",
      "text/plain": [
       "<Figure size 720x576 with 1 Axes>"
      ]
     },
     "metadata": {
      "needs_background": "light"
     },
     "output_type": "display_data"
    }
   ],
   "source": [
    "plt.rcParams[\"figure.figsize\"] = (10,8)\n",
    "plt.plot(ac)\n",
    "plt.plot(lo)\n",
    "plt.grid(True, which='both')\n",
    "plt.ylim(0,1)\n",
    "plt.legend([\"Training accuracy\", \"Training loss\"])\n",
    "plt.rcParams[\"legend.loc\"] ='lower right'\n",
    "\n",
    "plt.xlabel(\"Epoch\")\n"
   ]
  }
 ],
 "metadata": {
  "kernelspec": {
   "display_name": "Python 3.10.4 64-bit",
   "language": "python",
   "name": "python3"
  },
  "language_info": {
   "codemirror_mode": {
    "name": "ipython",
    "version": 3
   },
   "file_extension": ".py",
   "mimetype": "text/x-python",
   "name": "python",
   "nbconvert_exporter": "python",
   "pygments_lexer": "ipython3",
   "version": "3.10.5"
  },
  "orig_nbformat": 4,
  "vscode": {
   "interpreter": {
    "hash": "26de051ba29f2982a8de78e945f0abaf191376122a1563185a90213a26c5da77"
   }
  }
 },
 "nbformat": 4,
 "nbformat_minor": 2
}
