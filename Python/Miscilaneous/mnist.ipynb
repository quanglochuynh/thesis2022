{
 "cells": [
  {
   "cell_type": "code",
   "execution_count": 177,
   "metadata": {},
   "outputs": [],
   "source": [
    "import numpy as np\n",
    "import gzip as gz\n",
    "import matplotlib.pyplot as plt\n",
    "import struct\n",
    "from gpu_mlnn import GPUMultilayerNeuralNetwork, train_data\n",
    "\n",
    "dir = \"D:/Thesis_data/MNIST/\"\n",
    "train_img_dir = \"train-images-idx3-ubyte.gz\"\n",
    "train_lab_dir = \"train-labels-idx1-ubyte.gz\"\n",
    "test_img_dir  = \"t10k-images-idx3-ubyte.gz\"\n",
    "test_lab_dir  = \"t10k-labels-idx1-ubyte.gz\"\n",
    "\n",
    "inp_training = gz.open(dir+train_img_dir, 'r')\n",
    "\n",
    "num_of_training = 60000"
   ]
  },
  {
   "cell_type": "code",
   "execution_count": 178,
   "metadata": {},
   "outputs": [],
   "source": [
    "def read_idx(filename):\n",
    "    with gz.open(filename, 'rb') as f:\n",
    "        zero, data_type, dims = struct.unpack('>HBB', f.read(4))\n",
    "        shape = tuple(struct.unpack('>I', f.read(4))[0] for d in range(dims))\n",
    "        return np.frombuffer(f.read(), dtype=np.uint8).reshape(shape)"
   ]
  },
  {
   "cell_type": "code",
   "execution_count": 179,
   "metadata": {},
   "outputs": [],
   "source": [
    "# data processing\n",
    "training_data = read_idx(dir+train_img_dir)\n",
    "training_label_data = read_idx(dir + train_lab_dir)\n",
    "testing_data = read_idx(dir+test_img_dir)\n",
    "testing_label_data = read_idx(dir+test_lab_dir)\n",
    "\n",
    "train_dataset = []\n",
    "\n",
    "for i in range(np.shape(training_data)[0]):\n",
    "    train_dataset.append(train_data(training_data[i].flatten(), np.array([0]*10)))\n",
    "    train_dataset[i].target_array[training_label_data[i]] = 1\n",
    "# print(train_dataset[5].input_array)"
   ]
  },
  {
   "cell_type": "code",
   "execution_count": 182,
   "metadata": {},
   "outputs": [],
   "source": [
    "# id = 1564\n",
    "# im1 = np.reshape(train_dataset[id].input_array, (28,28))\n",
    "# print(train_dataset[id].target_array)\n",
    "# plt.imshow(im1)\n",
    "# plt.show()\n"
   ]
  },
  {
   "cell_type": "code",
   "execution_count": 181,
   "metadata": {},
   "outputs": [
    {
     "name": "stdout",
     "output_type": "stream",
     "text": [
      "Training...\n"
     ]
    }
   ],
   "source": [
    "\n",
    "mlnn = GPUMultilayerNeuralNetwork([784, 64, 32, 16, 10], 0.1)\n",
    "\n",
    "mlnn.batch_training(train_dataset, 12000, 0.2, 0.99996)\n"
   ]
  }
 ],
 "metadata": {
  "interpreter": {
   "hash": "b89b5cfaba6639976dc87ff2fec6d58faec662063367e2c229c520fe71072417"
  },
  "kernelspec": {
   "display_name": "Python 3.10.3 64-bit",
   "language": "python",
   "name": "python3"
  },
  "language_info": {
   "codemirror_mode": {
    "name": "ipython",
    "version": 3
   },
   "file_extension": ".py",
   "mimetype": "text/x-python",
   "name": "python",
   "nbconvert_exporter": "python",
   "pygments_lexer": "ipython3",
   "version": "3.10.3"
  },
  "orig_nbformat": 4
 },
 "nbformat": 4,
 "nbformat_minor": 2
}
