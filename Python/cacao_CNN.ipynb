{
 "cells": [
  {
   "cell_type": "code",
   "execution_count": 8,
   "metadata": {},
   "outputs": [],
   "source": [
    "import pathlib\n",
    "import numpy as np\n",
    "data_dir = pathlib.Path('D:/Thesis_data/Backups/Augmented_224x224')\n",
    "# data_dir = pathlib.Path('D:/Thesis_data/training_img')\n",
    "import tensorflow as tf\n",
    "import matplotlib.pyplot as plt\n",
    "from tensorflow.keras import layers\n",
    "img_height = 224\n",
    "img_width = 224\n",
    "batch_size = 8"
   ]
  },
  {
   "cell_type": "code",
   "execution_count": 9,
   "metadata": {},
   "outputs": [
    {
     "name": "stdout",
     "output_type": "stream",
     "text": [
      "Found 16800 files belonging to 14 classes.\n",
      "Using 13440 files for training.\n"
     ]
    }
   ],
   "source": [
    "train_ds = tf.keras.utils.image_dataset_from_directory(\n",
    "  data_dir,\n",
    "  validation_split=0.2,\n",
    "  subset=\"training\",\n",
    "  seed=123,\n",
    "  image_size=(img_height, img_width),\n",
    "  batch_size=batch_size)"
   ]
  },
  {
   "cell_type": "code",
   "execution_count": null,
   "metadata": {},
   "outputs": [
    {
     "name": "stdout",
     "output_type": "stream",
     "text": [
      "tf.Tensor(\n",
      "[ 4  0  9  8 11  7 11 10  5  6  5 12 11  0  0  1  4  3  3  9 10  5  4  5\n",
      "  4 12  5 11 12  2  4  6], shape=(32,), dtype=int32)\n"
     ]
    }
   ],
   "source": [
    "# for img,label in train_ds.take(1):\n",
    "#     print(label)\n",
    "#     # image = tf.keras.utils.img_to_array(img[0], data_format=None, dtype=None)\n",
    "#     # image = np.asarray(image, dtype=\"uint8\")\n",
    "#     # plt.imshow(image)\n",
    "#     # plt.show()"
   ]
  },
  {
   "cell_type": "code",
   "execution_count": 10,
   "metadata": {},
   "outputs": [
    {
     "ename": "ResourceExhaustedError",
     "evalue": "failed to allocate memory [Op:AddV2]",
     "output_type": "error",
     "traceback": [
      "\u001b[1;31m---------------------------------------------------------------------------\u001b[0m",
      "\u001b[1;31mResourceExhaustedError\u001b[0m                    Traceback (most recent call last)",
      "\u001b[1;32mc:\\Users\\quang\\Documents\\thesis2022\\Python\\cae2.ipynb Cell 4'\u001b[0m in \u001b[0;36m<cell line: 2>\u001b[1;34m()\u001b[0m\n\u001b[0;32m      <a href='vscode-notebook-cell:/c%3A/Users/quang/Documents/thesis2022/Python/cae2.ipynb#ch0000003?line=0'>1</a>\u001b[0m \u001b[39mfrom\u001b[39;00m \u001b[39mkeras\u001b[39;00m\u001b[39m.\u001b[39;00m\u001b[39mapplications\u001b[39;00m\u001b[39m.\u001b[39;00m\u001b[39mvgg16\u001b[39;00m \u001b[39mimport\u001b[39;00m VGG16\n\u001b[1;32m----> <a href='vscode-notebook-cell:/c%3A/Users/quang/Documents/thesis2022/Python/cae2.ipynb#ch0000003?line=1'>2</a>\u001b[0m model \u001b[39m=\u001b[39m VGG16()\n\u001b[0;32m      <a href='vscode-notebook-cell:/c%3A/Users/quang/Documents/thesis2022/Python/cae2.ipynb#ch0000003?line=2'>3</a>\u001b[0m model\u001b[39m.\u001b[39msummary()\n\u001b[0;32m      <a href='vscode-notebook-cell:/c%3A/Users/quang/Documents/thesis2022/Python/cae2.ipynb#ch0000003?line=3'>4</a>\u001b[0m model\u001b[39m.\u001b[39mlayers\u001b[39m.\u001b[39mpop()\n",
      "File \u001b[1;32m~\\AppData\\Roaming\\Python\\Python310\\site-packages\\keras\\applications\\vgg16.py:188\u001b[0m, in \u001b[0;36mVGG16\u001b[1;34m(include_top, weights, input_tensor, input_shape, pooling, classes, classifier_activation)\u001b[0m\n\u001b[0;32m    <a href='file:///c%3A/Users/quang/AppData/Roaming/Python/Python310/site-packages/keras/applications/vgg16.py?line=184'>185</a>\u001b[0m \u001b[39mif\u001b[39;00m include_top:\n\u001b[0;32m    <a href='file:///c%3A/Users/quang/AppData/Roaming/Python/Python310/site-packages/keras/applications/vgg16.py?line=185'>186</a>\u001b[0m   \u001b[39m# Classification block\u001b[39;00m\n\u001b[0;32m    <a href='file:///c%3A/Users/quang/AppData/Roaming/Python/Python310/site-packages/keras/applications/vgg16.py?line=186'>187</a>\u001b[0m   x \u001b[39m=\u001b[39m layers\u001b[39m.\u001b[39mFlatten(name\u001b[39m=\u001b[39m\u001b[39m'\u001b[39m\u001b[39mflatten\u001b[39m\u001b[39m'\u001b[39m)(x)\n\u001b[1;32m--> <a href='file:///c%3A/Users/quang/AppData/Roaming/Python/Python310/site-packages/keras/applications/vgg16.py?line=187'>188</a>\u001b[0m   x \u001b[39m=\u001b[39m layers\u001b[39m.\u001b[39;49mDense(\u001b[39m4096\u001b[39;49m, activation\u001b[39m=\u001b[39;49m\u001b[39m'\u001b[39;49m\u001b[39mrelu\u001b[39;49m\u001b[39m'\u001b[39;49m, name\u001b[39m=\u001b[39;49m\u001b[39m'\u001b[39;49m\u001b[39mfc1\u001b[39;49m\u001b[39m'\u001b[39;49m)(x)\n\u001b[0;32m    <a href='file:///c%3A/Users/quang/AppData/Roaming/Python/Python310/site-packages/keras/applications/vgg16.py?line=188'>189</a>\u001b[0m   x \u001b[39m=\u001b[39m layers\u001b[39m.\u001b[39mDense(\u001b[39m4096\u001b[39m, activation\u001b[39m=\u001b[39m\u001b[39m'\u001b[39m\u001b[39mrelu\u001b[39m\u001b[39m'\u001b[39m, name\u001b[39m=\u001b[39m\u001b[39m'\u001b[39m\u001b[39mfc2\u001b[39m\u001b[39m'\u001b[39m)(x)\n\u001b[0;32m    <a href='file:///c%3A/Users/quang/AppData/Roaming/Python/Python310/site-packages/keras/applications/vgg16.py?line=190'>191</a>\u001b[0m   imagenet_utils\u001b[39m.\u001b[39mvalidate_activation(classifier_activation, weights)\n",
      "File \u001b[1;32m~\\AppData\\Roaming\\Python\\Python310\\site-packages\\keras\\utils\\traceback_utils.py:67\u001b[0m, in \u001b[0;36mfilter_traceback.<locals>.error_handler\u001b[1;34m(*args, **kwargs)\u001b[0m\n\u001b[0;32m     <a href='file:///c%3A/Users/quang/AppData/Roaming/Python/Python310/site-packages/keras/utils/traceback_utils.py?line=64'>65</a>\u001b[0m \u001b[39mexcept\u001b[39;00m \u001b[39mException\u001b[39;00m \u001b[39mas\u001b[39;00m e:  \u001b[39m# pylint: disable=broad-except\u001b[39;00m\n\u001b[0;32m     <a href='file:///c%3A/Users/quang/AppData/Roaming/Python/Python310/site-packages/keras/utils/traceback_utils.py?line=65'>66</a>\u001b[0m   filtered_tb \u001b[39m=\u001b[39m _process_traceback_frames(e\u001b[39m.\u001b[39m__traceback__)\n\u001b[1;32m---> <a href='file:///c%3A/Users/quang/AppData/Roaming/Python/Python310/site-packages/keras/utils/traceback_utils.py?line=66'>67</a>\u001b[0m   \u001b[39mraise\u001b[39;00m e\u001b[39m.\u001b[39mwith_traceback(filtered_tb) \u001b[39mfrom\u001b[39;00m \u001b[39mNone\u001b[39m\n\u001b[0;32m     <a href='file:///c%3A/Users/quang/AppData/Roaming/Python/Python310/site-packages/keras/utils/traceback_utils.py?line=67'>68</a>\u001b[0m \u001b[39mfinally\u001b[39;00m:\n\u001b[0;32m     <a href='file:///c%3A/Users/quang/AppData/Roaming/Python/Python310/site-packages/keras/utils/traceback_utils.py?line=68'>69</a>\u001b[0m   \u001b[39mdel\u001b[39;00m filtered_tb\n",
      "File \u001b[1;32m~\\AppData\\Roaming\\Python\\Python310\\site-packages\\keras\\backend.py:1920\u001b[0m, in \u001b[0;36mRandomGenerator.random_uniform\u001b[1;34m(self, shape, minval, maxval, dtype)\u001b[0m\n\u001b[0;32m   <a href='file:///c%3A/Users/quang/AppData/Roaming/Python/Python310/site-packages/keras/backend.py?line=1916'>1917</a>\u001b[0m \u001b[39mif\u001b[39;00m \u001b[39mself\u001b[39m\u001b[39m.\u001b[39m_generator:\n\u001b[0;32m   <a href='file:///c%3A/Users/quang/AppData/Roaming/Python/Python310/site-packages/keras/backend.py?line=1917'>1918</a>\u001b[0m   \u001b[39mreturn\u001b[39;00m \u001b[39mself\u001b[39m\u001b[39m.\u001b[39m_generator\u001b[39m.\u001b[39muniform(\n\u001b[0;32m   <a href='file:///c%3A/Users/quang/AppData/Roaming/Python/Python310/site-packages/keras/backend.py?line=1918'>1919</a>\u001b[0m       shape\u001b[39m=\u001b[39mshape, minval\u001b[39m=\u001b[39mminval, maxval\u001b[39m=\u001b[39mmaxval, dtype\u001b[39m=\u001b[39mdtype)\n\u001b[1;32m-> <a href='file:///c%3A/Users/quang/AppData/Roaming/Python/Python310/site-packages/keras/backend.py?line=1919'>1920</a>\u001b[0m \u001b[39mreturn\u001b[39;00m tf\u001b[39m.\u001b[39;49mrandom\u001b[39m.\u001b[39;49muniform(\n\u001b[0;32m   <a href='file:///c%3A/Users/quang/AppData/Roaming/Python/Python310/site-packages/keras/backend.py?line=1920'>1921</a>\u001b[0m     shape\u001b[39m=\u001b[39;49mshape, minval\u001b[39m=\u001b[39;49mminval, maxval\u001b[39m=\u001b[39;49mmaxval, dtype\u001b[39m=\u001b[39;49mdtype,\n\u001b[0;32m   <a href='file:///c%3A/Users/quang/AppData/Roaming/Python/Python310/site-packages/keras/backend.py?line=1921'>1922</a>\u001b[0m     seed\u001b[39m=\u001b[39;49m\u001b[39mself\u001b[39;49m\u001b[39m.\u001b[39;49mmake_legacy_seed())\n",
      "\u001b[1;31mResourceExhaustedError\u001b[0m: failed to allocate memory [Op:AddV2]"
     ]
    }
   ],
   "source": [
    "from keras.applications.vgg16 import VGG16\n",
    "model = VGG16()\n",
    "model.summary()\n",
    "model.layers.pop()\n",
    "# model.layers.Dense(14, activation=\"softmax\")\n",
    "model.summary()\n"
   ]
  },
  {
   "cell_type": "code",
   "execution_count": null,
   "metadata": {},
   "outputs": [],
   "source": [
    "model.compile(optimizer=\"adam\", loss=\"categorical_crossentropy\", metrics=[\"accuracy\"])\n",
    "model.save(\"D:/Thesis_data/TF_weight\")"
   ]
  },
  {
   "cell_type": "code",
   "execution_count": null,
   "metadata": {},
   "outputs": [
    {
     "ename": "ValueError",
     "evalue": "in user code:\n\n    File \"C:\\Users\\quang\\AppData\\Roaming\\Python\\Python310\\site-packages\\keras\\engine\\training.py\", line 1021, in train_function  *\n        return step_function(self, iterator)\n    File \"C:\\Users\\quang\\AppData\\Roaming\\Python\\Python310\\site-packages\\keras\\engine\\training.py\", line 1010, in step_function  **\n        outputs = model.distribute_strategy.run(run_step, args=(data,))\n    File \"C:\\Users\\quang\\AppData\\Roaming\\Python\\Python310\\site-packages\\keras\\engine\\training.py\", line 1000, in run_step  **\n        outputs = model.train_step(data)\n    File \"C:\\Users\\quang\\AppData\\Roaming\\Python\\Python310\\site-packages\\keras\\engine\\training.py\", line 860, in train_step\n        loss = self.compute_loss(x, y, y_pred, sample_weight)\n    File \"C:\\Users\\quang\\AppData\\Roaming\\Python\\Python310\\site-packages\\keras\\engine\\training.py\", line 918, in compute_loss\n        return self.compiled_loss(\n    File \"C:\\Users\\quang\\AppData\\Roaming\\Python\\Python310\\site-packages\\keras\\engine\\compile_utils.py\", line 201, in __call__\n        loss_value = loss_obj(y_t, y_p, sample_weight=sw)\n    File \"C:\\Users\\quang\\AppData\\Roaming\\Python\\Python310\\site-packages\\keras\\losses.py\", line 141, in __call__\n        losses = call_fn(y_true, y_pred)\n    File \"C:\\Users\\quang\\AppData\\Roaming\\Python\\Python310\\site-packages\\keras\\losses.py\", line 245, in call  **\n        return ag_fn(y_true, y_pred, **self._fn_kwargs)\n    File \"C:\\Users\\quang\\AppData\\Roaming\\Python\\Python310\\site-packages\\keras\\losses.py\", line 1789, in categorical_crossentropy\n        return backend.categorical_crossentropy(\n    File \"C:\\Users\\quang\\AppData\\Roaming\\Python\\Python310\\site-packages\\keras\\backend.py\", line 5083, in categorical_crossentropy\n        target.shape.assert_is_compatible_with(output.shape)\n\n    ValueError: Shapes (None, 1) and (None, 1000) are incompatible\n",
     "output_type": "error",
     "traceback": [
      "\u001b[1;31m---------------------------------------------------------------------------\u001b[0m",
      "\u001b[1;31mValueError\u001b[0m                                Traceback (most recent call last)",
      "\u001b[1;32mc:\\Users\\quang\\Documents\\thesis2022\\Python\\cae2.ipynb Cell 5'\u001b[0m in \u001b[0;36m<cell line: 1>\u001b[1;34m()\u001b[0m\n\u001b[1;32m----> <a href='vscode-notebook-cell:/c%3A/Users/quang/Documents/thesis2022/Python/cae2.ipynb#ch0000004?line=0'>1</a>\u001b[0m model\u001b[39m.\u001b[39;49mfit(train_ds)\n\u001b[0;32m      <a href='vscode-notebook-cell:/c%3A/Users/quang/Documents/thesis2022/Python/cae2.ipynb#ch0000004?line=2'>3</a>\u001b[0m model\u001b[39m.\u001b[39msave(\u001b[39m\"\u001b[39m\u001b[39mD:/Thesis_data/\u001b[39m\u001b[39m\"\u001b[39m)\n",
      "File \u001b[1;32m~\\AppData\\Roaming\\Python\\Python310\\site-packages\\keras\\utils\\traceback_utils.py:67\u001b[0m, in \u001b[0;36mfilter_traceback.<locals>.error_handler\u001b[1;34m(*args, **kwargs)\u001b[0m\n\u001b[0;32m     <a href='file:///c%3A/Users/quang/AppData/Roaming/Python/Python310/site-packages/keras/utils/traceback_utils.py?line=64'>65</a>\u001b[0m \u001b[39mexcept\u001b[39;00m \u001b[39mException\u001b[39;00m \u001b[39mas\u001b[39;00m e:  \u001b[39m# pylint: disable=broad-except\u001b[39;00m\n\u001b[0;32m     <a href='file:///c%3A/Users/quang/AppData/Roaming/Python/Python310/site-packages/keras/utils/traceback_utils.py?line=65'>66</a>\u001b[0m   filtered_tb \u001b[39m=\u001b[39m _process_traceback_frames(e\u001b[39m.\u001b[39m__traceback__)\n\u001b[1;32m---> <a href='file:///c%3A/Users/quang/AppData/Roaming/Python/Python310/site-packages/keras/utils/traceback_utils.py?line=66'>67</a>\u001b[0m   \u001b[39mraise\u001b[39;00m e\u001b[39m.\u001b[39mwith_traceback(filtered_tb) \u001b[39mfrom\u001b[39;00m \u001b[39mNone\u001b[39m\n\u001b[0;32m     <a href='file:///c%3A/Users/quang/AppData/Roaming/Python/Python310/site-packages/keras/utils/traceback_utils.py?line=67'>68</a>\u001b[0m \u001b[39mfinally\u001b[39;00m:\n\u001b[0;32m     <a href='file:///c%3A/Users/quang/AppData/Roaming/Python/Python310/site-packages/keras/utils/traceback_utils.py?line=68'>69</a>\u001b[0m   \u001b[39mdel\u001b[39;00m filtered_tb\n",
      "File \u001b[1;32m~\\AppData\\Roaming\\Python\\Python310\\site-packages\\tensorflow\\python\\framework\\func_graph.py:1147\u001b[0m, in \u001b[0;36mfunc_graph_from_py_func.<locals>.autograph_handler\u001b[1;34m(*args, **kwargs)\u001b[0m\n\u001b[0;32m   <a href='file:///c%3A/Users/quang/AppData/Roaming/Python/Python310/site-packages/tensorflow/python/framework/func_graph.py?line=1144'>1145</a>\u001b[0m \u001b[39mexcept\u001b[39;00m \u001b[39mException\u001b[39;00m \u001b[39mas\u001b[39;00m e:  \u001b[39m# pylint:disable=broad-except\u001b[39;00m\n\u001b[0;32m   <a href='file:///c%3A/Users/quang/AppData/Roaming/Python/Python310/site-packages/tensorflow/python/framework/func_graph.py?line=1145'>1146</a>\u001b[0m   \u001b[39mif\u001b[39;00m \u001b[39mhasattr\u001b[39m(e, \u001b[39m\"\u001b[39m\u001b[39mag_error_metadata\u001b[39m\u001b[39m\"\u001b[39m):\n\u001b[1;32m-> <a href='file:///c%3A/Users/quang/AppData/Roaming/Python/Python310/site-packages/tensorflow/python/framework/func_graph.py?line=1146'>1147</a>\u001b[0m     \u001b[39mraise\u001b[39;00m e\u001b[39m.\u001b[39mag_error_metadata\u001b[39m.\u001b[39mto_exception(e)\n\u001b[0;32m   <a href='file:///c%3A/Users/quang/AppData/Roaming/Python/Python310/site-packages/tensorflow/python/framework/func_graph.py?line=1147'>1148</a>\u001b[0m   \u001b[39melse\u001b[39;00m:\n\u001b[0;32m   <a href='file:///c%3A/Users/quang/AppData/Roaming/Python/Python310/site-packages/tensorflow/python/framework/func_graph.py?line=1148'>1149</a>\u001b[0m     \u001b[39mraise\u001b[39;00m\n",
      "\u001b[1;31mValueError\u001b[0m: in user code:\n\n    File \"C:\\Users\\quang\\AppData\\Roaming\\Python\\Python310\\site-packages\\keras\\engine\\training.py\", line 1021, in train_function  *\n        return step_function(self, iterator)\n    File \"C:\\Users\\quang\\AppData\\Roaming\\Python\\Python310\\site-packages\\keras\\engine\\training.py\", line 1010, in step_function  **\n        outputs = model.distribute_strategy.run(run_step, args=(data,))\n    File \"C:\\Users\\quang\\AppData\\Roaming\\Python\\Python310\\site-packages\\keras\\engine\\training.py\", line 1000, in run_step  **\n        outputs = model.train_step(data)\n    File \"C:\\Users\\quang\\AppData\\Roaming\\Python\\Python310\\site-packages\\keras\\engine\\training.py\", line 860, in train_step\n        loss = self.compute_loss(x, y, y_pred, sample_weight)\n    File \"C:\\Users\\quang\\AppData\\Roaming\\Python\\Python310\\site-packages\\keras\\engine\\training.py\", line 918, in compute_loss\n        return self.compiled_loss(\n    File \"C:\\Users\\quang\\AppData\\Roaming\\Python\\Python310\\site-packages\\keras\\engine\\compile_utils.py\", line 201, in __call__\n        loss_value = loss_obj(y_t, y_p, sample_weight=sw)\n    File \"C:\\Users\\quang\\AppData\\Roaming\\Python\\Python310\\site-packages\\keras\\losses.py\", line 141, in __call__\n        losses = call_fn(y_true, y_pred)\n    File \"C:\\Users\\quang\\AppData\\Roaming\\Python\\Python310\\site-packages\\keras\\losses.py\", line 245, in call  **\n        return ag_fn(y_true, y_pred, **self._fn_kwargs)\n    File \"C:\\Users\\quang\\AppData\\Roaming\\Python\\Python310\\site-packages\\keras\\losses.py\", line 1789, in categorical_crossentropy\n        return backend.categorical_crossentropy(\n    File \"C:\\Users\\quang\\AppData\\Roaming\\Python\\Python310\\site-packages\\keras\\backend.py\", line 5083, in categorical_crossentropy\n        target.shape.assert_is_compatible_with(output.shape)\n\n    ValueError: Shapes (None, 1) and (None, 1000) are incompatible\n"
     ]
    }
   ],
   "source": [
    "model.fit(train_ds)\n",
    "\n",
    "model.save(\"D:/Thesis_data/\")"
   ]
  }
 ],
 "metadata": {
  "interpreter": {
   "hash": "b89b5cfaba6639976dc87ff2fec6d58faec662063367e2c229c520fe71072417"
  },
  "kernelspec": {
   "display_name": "Python 3.10.3 64-bit",
   "language": "python",
   "name": "python3"
  },
  "language_info": {
   "codemirror_mode": {
    "name": "ipython",
    "version": 3
   },
   "file_extension": ".py",
   "mimetype": "text/x-python",
   "name": "python",
   "nbconvert_exporter": "python",
   "pygments_lexer": "ipython3",
   "version": "3.10.3"
  },
  "orig_nbformat": 4
 },
 "nbformat": 4,
 "nbformat_minor": 2
}
