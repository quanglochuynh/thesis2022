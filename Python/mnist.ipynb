{
 "cells": [
  {
   "cell_type": "code",
   "execution_count": 172,
   "metadata": {},
   "outputs": [],
   "source": [
    "import numpy as np\n",
    "import gzip as gz\n",
    "import matplotlib.pyplot as plt\n",
    "import struct\n",
    "from gpu_mlnn import GPUMultilayerNeuralNetwork, train_data\n",
    "\n",
    "dir = \"D:/Thesis_data/MNIST/\"\n",
    "train_img_dir = \"train-images-idx3-ubyte.gz\"\n",
    "train_lab_dir = \"train-labels-idx1-ubyte.gz\"\n",
    "test_img_dir  = \"t10k-images-idx3-ubyte.gz\"\n",
    "test_lab_dir  = \"t10k-labels-idx1-ubyte.gz\"\n",
    "\n",
    "inp_training = gz.open(dir+train_img_dir, 'r')\n",
    "\n",
    "num_of_training = 60000"
   ]
  },
  {
   "cell_type": "code",
   "execution_count": 173,
   "metadata": {},
   "outputs": [],
   "source": [
    "def read_idx(filename):\n",
    "    with gz.open(filename, 'rb') as f:\n",
    "        zero, data_type, dims = struct.unpack('>HBB', f.read(4))\n",
    "        shape = tuple(struct.unpack('>I', f.read(4))[0] for d in range(dims))\n",
    "        return np.frombuffer(f.read(), dtype=np.uint8).reshape(shape)"
   ]
  },
  {
   "cell_type": "code",
   "execution_count": 174,
   "metadata": {},
   "outputs": [],
   "source": [
    "# data processing\n",
    "training_data = read_idx(dir+train_img_dir)\n",
    "training_label_data = read_idx(dir + train_lab_dir)\n",
    "testing_data = read_idx(dir+test_img_dir)\n",
    "testing_label_data = read_idx(dir+test_lab_dir)\n",
    "\n",
    "train_dataset = []\n",
    "\n",
    "for i in range(np.shape(training_data)[0]):\n",
    "    train_dataset.append(train_data(training_data[i].flatten(), np.array([0]*10)))\n",
    "    train_dataset[i].target_array[training_label_data[i]] = 1\n",
    "# print(train_dataset[5].input_array)"
   ]
  },
  {
   "cell_type": "code",
   "execution_count": 175,
   "metadata": {},
   "outputs": [
    {
     "name": "stdout",
     "output_type": "stream",
     "text": [
      "[0 0 0 0 0 0 0 1 0 0]\n"
     ]
    },
    {
     "data": {
      "image/png": "[encoded data removed]",
      "text/plain": [
       "<Figure size 432x288 with 1 Axes>"
      ]
     },
     "metadata": {
      "needs_background": "light"
     },
     "output_type": "display_data"
    }
   ],
   "source": [
    "id = 1564\n",
    "im1 = np.reshape(train_dataset[id].input_array, (28,28))\n",
    "print(train_dataset[id].target_array)\n",
    "plt.imshow(im1)\n",
    "plt.show()\n"
   ]
  },
  {
   "cell_type": "code",
   "execution_count": 176,
   "metadata": {},
   "outputs": [
    {
     "name": "stdout",
     "output_type": "stream",
     "text": [
      "Training...\n"
     ]
    },
    {
     "ename": "KeyboardInterrupt",
     "evalue": "",
     "output_type": "error",
     "traceback": [
      "\u001b[1;31m---------------------------------------------------------------------------\u001b[0m",
      "\u001b[1;31mKeyboardInterrupt\u001b[0m                         Traceback (most recent call last)",
      "\u001b[1;32mc:\\Users\\quang\\Documents\\thesis2022\\Python\\mnist.ipynb Cell 5'\u001b[0m in \u001b[0;36m<cell line: 3>\u001b[1;34m()\u001b[0m\n\u001b[0;32m      <a href='vscode-notebook-cell:/c%3A/Users/quang/Documents/thesis2022/Python/mnist.ipynb#ch0000007?line=0'>1</a>\u001b[0m mlnn \u001b[39m=\u001b[39m GPUMultilayerNeuralNetwork([\u001b[39m784\u001b[39m, \u001b[39m64\u001b[39m, \u001b[39m32\u001b[39m, \u001b[39m16\u001b[39m, \u001b[39m10\u001b[39m], \u001b[39m0.1\u001b[39m)\n\u001b[1;32m----> <a href='vscode-notebook-cell:/c%3A/Users/quang/Documents/thesis2022/Python/mnist.ipynb#ch0000007?line=2'>3</a>\u001b[0m mlnn\u001b[39m.\u001b[39;49mbatch_training(train_dataset, \u001b[39m12000\u001b[39;49m, \u001b[39m0.2\u001b[39;49m, \u001b[39m0.99996\u001b[39;49m)\n",
      "File \u001b[1;32mc:\\Users\\quang\\Documents\\thesis2022\\Python\\gpu_mlnn.py:83\u001b[0m, in \u001b[0;36mGPUMultilayerNeuralNetwork.batch_training\u001b[1;34m(self, test_array, n, initial_lr, damping_coeficient)\u001b[0m\n\u001b[0;32m     <a href='file:///c%3A/Users/quang/Documents/thesis2022/Python/gpu_mlnn.py?line=80'>81</a>\u001b[0m \u001b[39mfor\u001b[39;00m i \u001b[39min\u001b[39;00m \u001b[39mrange\u001b[39m(n):\n\u001b[0;32m     <a href='file:///c%3A/Users/quang/Documents/thesis2022/Python/gpu_mlnn.py?line=81'>82</a>\u001b[0m     data \u001b[39m=\u001b[39m rd\u001b[39m.\u001b[39mchoice(test_array)\n\u001b[1;32m---> <a href='file:///c%3A/Users/quang/Documents/thesis2022/Python/gpu_mlnn.py?line=82'>83</a>\u001b[0m     \u001b[39mself\u001b[39;49m\u001b[39m.\u001b[39;49mtrain(data\u001b[39m.\u001b[39;49minput_array, data\u001b[39m.\u001b[39;49mtarget_array)\n\u001b[0;32m     <a href='file:///c%3A/Users/quang/Documents/thesis2022/Python/gpu_mlnn.py?line=83'>84</a>\u001b[0m     \u001b[39mself\u001b[39m\u001b[39m.\u001b[39mlearning_rate \u001b[39m=\u001b[39m \u001b[39mself\u001b[39m\u001b[39m.\u001b[39mlearning_rate \u001b[39m*\u001b[39m damping_coeficient\n\u001b[0;32m     <a href='file:///c%3A/Users/quang/Documents/thesis2022/Python/gpu_mlnn.py?line=84'>85</a>\u001b[0m \u001b[39mself\u001b[39m\u001b[39m.\u001b[39mlearning_rate \u001b[39m=\u001b[39m original_lr\n",
      "File \u001b[1;32mc:\\Users\\quang\\Documents\\thesis2022\\Python\\gpu_mlnn.py:59\u001b[0m, in \u001b[0;36mGPUMultilayerNeuralNetwork.train\u001b[1;34m(self, input_array, target_array)\u001b[0m\n\u001b[0;32m     <a href='file:///c%3A/Users/quang/Documents/thesis2022/Python/gpu_mlnn.py?line=56'>57</a>\u001b[0m     feed_matrix \u001b[39m=\u001b[39m GPUMatrix\u001b[39m.\u001b[39mmultiply(\u001b[39mself\u001b[39m\u001b[39m.\u001b[39mweight_matrix[i], feed_matrix)\n\u001b[0;32m     <a href='file:///c%3A/Users/quang/Documents/thesis2022/Python/gpu_mlnn.py?line=57'>58</a>\u001b[0m     feed_matrix \u001b[39m=\u001b[39m GPUMatrix\u001b[39m.\u001b[39madd(feed_matrix, \u001b[39mself\u001b[39m\u001b[39m.\u001b[39mbias_matrix[i])\n\u001b[1;32m---> <a href='file:///c%3A/Users/quang/Documents/thesis2022/Python/gpu_mlnn.py?line=58'>59</a>\u001b[0m     feed_matrix \u001b[39m=\u001b[39m GPUMatrix\u001b[39m.\u001b[39;49mmap(feed_matrix, sigmoid)\n\u001b[0;32m     <a href='file:///c%3A/Users/quang/Documents/thesis2022/Python/gpu_mlnn.py?line=59'>60</a>\u001b[0m     layer_result_matrix_array\u001b[39m.\u001b[39mappend(feed_matrix)\n\u001b[0;32m     <a href='file:///c%3A/Users/quang/Documents/thesis2022/Python/gpu_mlnn.py?line=60'>61</a>\u001b[0m feed_result_matrix \u001b[39m=\u001b[39m layer_result_matrix_array[\u001b[39mlen\u001b[39m(layer_result_matrix_array)\u001b[39m-\u001b[39m\u001b[39m1\u001b[39m]\n",
      "File \u001b[1;32mc:\\Users\\quang\\Documents\\thesis2022\\Python\\gpu_matrix.py:26\u001b[0m, in \u001b[0;36mGPUMatrix.map\u001b[1;34m(m, fn)\u001b[0m\n\u001b[0;32m     <a href='file:///c%3A/Users/quang/Documents/thesis2022/Python/gpu_matrix.py?line=23'>24</a>\u001b[0m \u001b[39mfor\u001b[39;00m i \u001b[39min\u001b[39;00m \u001b[39mrange\u001b[39m(m\u001b[39m.\u001b[39mdata\u001b[39m.\u001b[39mshape[\u001b[39m0\u001b[39m]):\n\u001b[0;32m     <a href='file:///c%3A/Users/quang/Documents/thesis2022/Python/gpu_matrix.py?line=24'>25</a>\u001b[0m     \u001b[39mfor\u001b[39;00m j \u001b[39min\u001b[39;00m \u001b[39mrange\u001b[39m(m\u001b[39m.\u001b[39mdata\u001b[39m.\u001b[39mshape[\u001b[39m1\u001b[39m]):\n\u001b[1;32m---> <a href='file:///c%3A/Users/quang/Documents/thesis2022/Python/gpu_matrix.py?line=25'>26</a>\u001b[0m         m\u001b[39m.\u001b[39mdata[i][j] \u001b[39m=\u001b[39m fn(m\u001b[39m.\u001b[39mdata[i][j])\n\u001b[0;32m     <a href='file:///c%3A/Users/quang/Documents/thesis2022/Python/gpu_matrix.py?line=26'>27</a>\u001b[0m \u001b[39mreturn\u001b[39;00m res\n",
      "\u001b[1;31mKeyboardInterrupt\u001b[0m: "
     ]
    }
   ],
   "source": [
    "\n",
    "mlnn = GPUMultilayerNeuralNetwork([784, 64, 32, 16, 10], 0.1)\n",
    "\n",
    "mlnn.batch_training(train_dataset, 12000, 0.2, 0.99996)\n"
   ]
  }
 ],
 "metadata": {
  "interpreter": {
   "hash": "b89b5cfaba6639976dc87ff2fec6d58faec662063367e2c229c520fe71072417"
  },
  "kernelspec": {
   "display_name": "Python 3.10.3 64-bit",
   "language": "python",
   "name": "python3"
  },
  "language_info": {
   "codemirror_mode": {
    "name": "ipython",
    "version": 3
   },
   "file_extension": ".py",
   "mimetype": "text/x-python",
   "name": "python",
   "nbconvert_exporter": "python",
   "pygments_lexer": "ipython3",
   "version": "3.10.3"
  },
  "orig_nbformat": 4
 },
 "nbformat": 4,
 "nbformat_minor": 2
}
