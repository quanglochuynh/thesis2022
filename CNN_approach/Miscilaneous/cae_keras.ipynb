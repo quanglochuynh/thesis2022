{
 "cells": [
  {
   "cell_type": "code",
   "execution_count": 1,
   "metadata": {},
   "outputs": [],
   "source": [
    "import pathlib\n",
    "import tensorflow as tf\n",
    "from tensorflow import keras\n",
    "from keras import layers"
   ]
  },
  {
   "cell_type": "code",
   "execution_count": 2,
   "metadata": {},
   "outputs": [],
   "source": [
    "img_height = 224\n",
    "img_width = 224\n",
    "input_shape = (img_width, img_height, 3)\n",
    "batch_size = 8\n",
    "train_dir = pathlib.Path('D:/Thesis_data/training_img')\n",
    "test_dir  = pathlib.Path('D:/Thesis_data/testing_img')\n",
    "checkpoint_dir = pathlib.Path('D:./TF_checkpoint/cacao_CAE/weight/')\n",
    "model_dir = pathlib.Path('D:./TF_backup/cacao_CAE/')\n",
    "\n",
    "# train_ds = keras.utils.image_dataset_from_directory(\n",
    "#   train_dir,\n",
    "#   label_mode=\"categorical\",\n",
    "#   shuffle=True,\n",
    "#   image_size=(img_height, img_width),\n",
    "#   batch_size=batch_size\n",
    "# )\n",
    "# train_ds = train_ds.prefetch(tf.data.AUTOTUNE)"
   ]
  },
  {
   "cell_type": "code",
   "execution_count": 10,
   "metadata": {},
   "outputs": [
    {
     "name": "stdout",
     "output_type": "stream",
     "text": [
      "(None, 224, 224, 3)\n",
      "(None, 224, 224, 64)\n",
      "(None, 56, 56, 64)\n",
      "(None, 56, 56, 28)\n",
      "(None, 28, 28, 28)\n",
      "(None, 28, 28, 12)\n",
      "(None, 14, 14, 12)\n",
      "(None, 2352)\n",
      "(None, 96)\n",
      "(None, 48)\n",
      "(None, 14)\n",
      "(None, 48)\n",
      "(None, 96)\n",
      "(None, 2352)\n",
      "(None, 14, 14, 12)\n"
     ]
    }
   ],
   "source": [
    "input_layer = layers.Input(shape=input_shape)\n",
    "input_layer = layers.Rescaling(scale=1./255, offset=0)(input_layer)\n",
    "print(input_layer.shape)\n",
    "# encoder\n",
    "x = layers.Conv2D(64, kernel_size=(6,6), activation=\"relu\", padding=\"same\")(input_layer)\n",
    "print(x.shape)\n",
    "x = layers.MaxPooling2D(pool_size=(4,4), strides=4)(x)\n",
    "print(x.shape)\n",
    "x = layers.Conv2D(28, kernel_size=(8,8), activation=\"relu\", padding=\"same\")(x)\n",
    "print(x.shape)\n",
    "x = layers.MaxPooling2D(pool_size=(2,2), strides=2)(x)\n",
    "print(x.shape)\n",
    "x = layers.Conv2D(12, kernel_size=(3,3), activation=\"relu\", padding=\"same\")(x)\n",
    "print(x.shape)\n",
    "x = layers.MaxPooling2D(pool_size=(2,2), strides=2)(x)\n",
    "print(x.shape)\n",
    "x = layers.Flatten()(x)\n",
    "print(x.shape)\n",
    "x = layers.Dense(96, activation=\"relu\")(x)\n",
    "print(x.shape)\n",
    "x = layers.Dense(48, activation=\"relu\")(x)\n",
    "print(x.shape)\n",
    "latent = layers.Dense(14, activation=\"relu\")(x)\n",
    "print(latent.shape)\n",
    "x = layers.Dense(48, activation=\"relu\")(latent)\n",
    "print(x.shape)\n",
    "x = layers.Dense(96, activation=\"relu\")(x)\n",
    "print(x.shape)\n",
    "x = layers.Dense(2352, activation=\"relu\")(x)\n",
    "print(x.shape)\n",
    "x = layers.Reshape((14,14,12))(x)\n",
    "print(x.shape)\n",
    "\n"
   ]
  },
  {
   "cell_type": "code",
   "execution_count": null,
   "metadata": {},
   "outputs": [],
   "source": []
  }
 ],
 "metadata": {
  "interpreter": {
   "hash": "b89b5cfaba6639976dc87ff2fec6d58faec662063367e2c229c520fe71072417"
  },
  "kernelspec": {
   "display_name": "Python 3.10.3 64-bit",
   "language": "python",
   "name": "python3"
  },
  "language_info": {
   "codemirror_mode": {
    "name": "ipython",
    "version": 3
   },
   "file_extension": ".py",
   "mimetype": "text/x-python",
   "name": "python",
   "nbconvert_exporter": "python",
   "pygments_lexer": "ipython3",
   "version": "3.10.4"
  },
  "orig_nbformat": 4
 },
 "nbformat": 4,
 "nbformat_minor": 2
}
