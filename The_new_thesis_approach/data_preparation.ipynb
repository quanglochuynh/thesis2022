{
 "cells": [
  {
   "cell_type": "code",
   "execution_count": 1,
   "metadata": {},
   "outputs": [],
   "source": [
    "import numpy as np\n",
    "import pathlib\n",
    "import cv2\n",
    "from image_extractor import select_feature\n",
    "\n",
    "\n",
    "classes_name = ['Agglutinated', 'Brittle', 'Compartmentalized_Brown', 'Compartmentalized_PartiallyPurple', 'Compartmentalized_Purple', 'Compartmentalized_Slaty', 'Compartmentalized_White', 'Flattened', 'Moldered', 'Plated_Brown', 'Plated_PartiallyPurple', 'Plated_Purple', 'Plated_Slaty', 'Plated_White']\n",
    "training_address = 'D:/Thesis_data/mlp_data/'\n",
    "testing_address = 'D:/Thesis_data/mlp_data/'"
   ]
  },
  {
   "cell_type": "code",
   "execution_count": 2,
   "metadata": {},
   "outputs": [],
   "source": [
    "x_test = [[0]*394]\n",
    "y_test = [[0]*14]\n",
    "\n",
    "for i in range(0, 14):\n",
    "    str = testing_address + 'XY_test_' + classes_name[i] + '.npz'\n",
    "    # print(str)\n",
    "    data = np.load(str,allow_pickle=True)\n",
    "    # x_test = np.concatenate([x_test, data['xtest']], axis=1)\n",
    "    # y_test = np.concatenate([y_test, data['ytest']], axis=1)\n",
    "    row1 = np.reshape(data['xtest'], (120,394))\n",
    "    row2 = np.reshape(data['ytest'], (120,14))\n",
    "    # print(np.shape(row))\n",
    "    x_test = np.concatenate( [x_test, row1], axis=0)\n",
    "    y_test = np.concatenate( [y_test, row2], axis=0)\n",
    "    # y_test.append(np.reshape(data['ytest'], (120,394)))\n",
    "    # print(np.shape(x_test))"
   ]
  },
  {
   "cell_type": "code",
   "execution_count": 3,
   "metadata": {},
   "outputs": [
    {
     "name": "stdout",
     "output_type": "stream",
     "text": [
      "(1680, 394)\n"
     ]
    }
   ],
   "source": [
    "x_test = x_test[1:1681, :]\n",
    "y_test = y_test[1:1681, :]\n",
    "\n",
    "print(np.shape(x_test))"
   ]
  },
  {
   "cell_type": "code",
   "execution_count": 4,
   "metadata": {},
   "outputs": [],
   "source": [
    "np.savez_compressed('D:/Thesis_data/mlp_data/Y_test', y_test)\n",
    "np.savez_compressed('D:/Thesis_data/mlp_data/X_test', x_test)"
   ]
  },
  {
   "cell_type": "code",
   "execution_count": 5,
   "metadata": {},
   "outputs": [],
   "source": [
    "x_train = [[0]*394]\n",
    "y_train = [[0]*14]\n",
    "\n",
    "for i in range(0, 14):\n",
    "    str = training_address + 'XY_train_' + classes_name[i] + '.npz'\n",
    "    # print(str)\n",
    "    data = np.load(str,allow_pickle=True)\n",
    "    # x_test = np.concatenate([x_test, data['xtest']], axis=1)\n",
    "    # y_test = np.concatenate([y_test, data['ytest']], axis=1)\n",
    "    row1 = np.reshape(data['xtrain'], (480,394))\n",
    "    row2 = np.reshape(data['ytrain'], (480,14))\n",
    "    # print(np.shape(row))\n",
    "    x_train = np.concatenate( [x_train, row1], axis=0)\n",
    "    y_train = np.concatenate( [y_train, row2], axis=0)\n",
    "    # y_test.append(np.reshape(data['ytest'], (120,394)))\n",
    "    # print(np.shape(x_test))"
   ]
  },
  {
   "cell_type": "code",
   "execution_count": 6,
   "metadata": {},
   "outputs": [],
   "source": [
    "x_train = x_train[1:6721, :]\n",
    "y_train = y_train[1:6721, :]\n",
    "\n"
   ]
  },
  {
   "cell_type": "code",
   "execution_count": 7,
   "metadata": {},
   "outputs": [
    {
     "name": "stdout",
     "output_type": "stream",
     "text": [
      "(6720, 394)\n"
     ]
    }
   ],
   "source": [
    "print(np.shape(x_train))"
   ]
  },
  {
   "cell_type": "code",
   "execution_count": 8,
   "metadata": {},
   "outputs": [],
   "source": [
    "np.savez_compressed('D:/Thesis_data/mlp_data/X_train', x_train)\n",
    "np.savez_compressed('D:/Thesis_data/mlp_data/Y_train', y_train)"
   ]
  }
 ],
 "metadata": {
  "interpreter": {
   "hash": "26de051ba29f2982a8de78e945f0abaf191376122a1563185a90213a26c5da77"
  },
  "kernelspec": {
   "display_name": "Python 3.10.4 64-bit",
   "language": "python",
   "name": "python3"
  },
  "language_info": {
   "codemirror_mode": {
    "name": "ipython",
    "version": 3
   },
   "file_extension": ".py",
   "mimetype": "text/x-python",
   "name": "python",
   "nbconvert_exporter": "python",
   "pygments_lexer": "ipython3",
   "version": "3.10.4"
  },
  "orig_nbformat": 4
 },
 "nbformat": 4,
 "nbformat_minor": 2
}
