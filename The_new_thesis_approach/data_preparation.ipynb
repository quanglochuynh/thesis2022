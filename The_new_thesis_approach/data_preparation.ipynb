{
 "cells": [
  {
   "cell_type": "code",
   "execution_count": 3,
   "metadata": {},
   "outputs": [],
   "source": [
    "import numpy as np\n",
    "\n",
    "classes_name = ['Agglutinated', 'Brittle', 'Compartmentalized_Brown', 'Compartmentalized_PartiallyPurple', 'Compartmentalized_Purple', 'Compartmentalized_Slaty', 'Compartmentalized_White', 'Flattened', 'Moldered', 'Plated_Brown', 'Plated_PartiallyPurple', 'Plated_Purple', 'Plated_Slaty', 'Plated_White']\n",
    "training_address = 'D:/Thesis_data/mlp_data/'\n",
    "testing_address = 'D:/Thesis_data/mlp_data/'\n",
    "\n",
    "inp = 288"
   ]
  },
  {
   "cell_type": "code",
   "execution_count": 4,
   "metadata": {},
   "outputs": [
    {
     "name": "stdout",
     "output_type": "stream",
     "text": [
      "(120, 288)\n",
      "(120, 288)\n",
      "(120, 288)\n",
      "(120, 288)\n",
      "(120, 288)\n",
      "(120, 288)\n",
      "(120, 288)\n",
      "(120, 288)\n",
      "(120, 288)\n",
      "(120, 288)\n",
      "(120, 288)\n",
      "(120, 288)\n",
      "(120, 288)\n",
      "(120, 288)\n"
     ]
    }
   ],
   "source": [
    "x_test = [[0]*inp]\n",
    "y_test = [[0]*14]\n",
    "\n",
    "for i in range(0, 14):\n",
    "    str = testing_address + 'test_color_grid_' + classes_name[i] + '.npz'\n",
    "    # print(str)\n",
    "    data = np.load(str,allow_pickle=True)\n",
    "    # x_test = np.concatenate([x_test, data['xtest']], axis=1)\n",
    "    # y_test = np.concatenate([y_test, data['ytest']], axis=1)\n",
    "    # row1 = np.reshape(np.concatenate([data['overall_geometry'], data['overall_rgb'], data['overall_hsv'], data['n1'], data['structure'], data['n2'], data['moldered'], data['color_grid'], data['glcm_grid']], axis=None), (120,inp))\n",
    "    # a = np.concatenate([data['overall_geometry'], data['overall_rgb'], data['n1'], data['structure'], data['n2'], data['moldered'], data['color_grid']], axis=None)\n",
    "    a = data['arr_0']\n",
    "    print(np.shape(a))\n",
    "    # col = np.shape(a)[0]/120\n",
    "    # print(col)\n",
    "    # row1 = np.reshape(a, (120,int(col)))\n",
    "\n",
    "    # row2 = np.reshape(data['ytest'], (120,14))\n",
    "    x_test = np.concatenate( [x_test, a], axis=0)\n",
    "    # print(np.shape(row1))\n",
    "    # break\n",
    "    # y_test = np.concatenate( [y_test, row2], axis=0)\n",
    "    # y_test.append(np.reshape(data['ytest'], (120,394)))\n",
    "    # print(np.shape(x_test))"
   ]
  },
  {
   "cell_type": "code",
   "execution_count": 5,
   "metadata": {},
   "outputs": [
    {
     "name": "stdout",
     "output_type": "stream",
     "text": [
      "(1681, 288)\n"
     ]
    }
   ],
   "source": [
    "print(np.shape(x_test))"
   ]
  },
  {
   "cell_type": "code",
   "execution_count": 6,
   "metadata": {},
   "outputs": [
    {
     "name": "stdout",
     "output_type": "stream",
     "text": [
      "(1680, 288)\n"
     ]
    }
   ],
   "source": [
    "x_test = x_test[1:1681, :]\n",
    "# y_test = y_test[1:1681, :]\n",
    "\n",
    "print(np.shape(x_test))"
   ]
  },
  {
   "cell_type": "code",
   "execution_count": 7,
   "metadata": {},
   "outputs": [],
   "source": [
    "# np.savez_compressed('D:/Thesis_data/mlp_data/glcm_test_195', y_test)\n",
    "np.savez_compressed('D:/Thesis_data/mlp_data/new/test_color_grid_2', x_test)"
   ]
  },
  {
   "cell_type": "code",
   "execution_count": 8,
   "metadata": {},
   "outputs": [],
   "source": [
    "x_train = [[0]*inp]\n",
    "y_train = [[0]*14]\n",
    "\n",
    "for i in range(0, 14):\n",
    "    str = training_address + 'train_color_grid_' + classes_name[i] + '.npz'\n",
    "    # print(str)\n",
    "    data = np.load(str,allow_pickle=True)\n",
    "    # x_test = np.concatenate([x_test, data['xtest']], axis=1)\n",
    "    # y_test = np.concatenate([y_test, data['ytest']], axis=1)\n",
    "    # a = np.concatenate([data['overall_geometry'], data['overall_rgb'], data['n1'], data['structure'], data['n2'], data['moldered'], data['color_grid']], axis=None)\n",
    "    a = data['arr_0']\n",
    "    # col = int(np.shape(a)[0]/480)\n",
    "    # print(np.shape(a))\n",
    "    # row1 = np.reshape(a, (480,col))\n",
    "    # row1 = np.reshape(np.concatenate([data['overall_geometry'], data['overall_rgb'], data['overall_hsv'], data['n1'], data['structure'], data['n2'], data['moldered'], data['color_grid'], data['glcm_grid']], axis=None), (480,inp))\n",
    "    # row2 = np.reshape(data['ytrain'], (480,14))\n",
    "    # print(np.shape(np.concatenate([data['overall_geometry'], data['overall_rgb'], data['overall_hsv'], data['n1'], data['structure'], data['n2'], data['moldered'], data['color_grid'], data['glcm_grid']], axis=None)))\n",
    "    # break\n",
    "    \n",
    "    # a = np.array([a]).transpose()\n",
    "    # print(np.shape(a))\n",
    "    x_train = np.concatenate( [x_train, a], axis=0)\n",
    "    # y_train = np.concatenate( [y_train, row2], axis=0)\n",
    "    # y_test.append(np.reshape(data['ytest'], (120,394)))\n",
    "    # print(np.shape(x_test))"
   ]
  },
  {
   "cell_type": "code",
   "execution_count": 9,
   "metadata": {},
   "outputs": [
    {
     "name": "stdout",
     "output_type": "stream",
     "text": [
      "(6721, 288)\n"
     ]
    }
   ],
   "source": [
    "print(np.shape(x_train))"
   ]
  },
  {
   "cell_type": "code",
   "execution_count": 10,
   "metadata": {},
   "outputs": [
    {
     "name": "stdout",
     "output_type": "stream",
     "text": [
      "(6720, 288)\n"
     ]
    }
   ],
   "source": [
    "x_train = x_train[1:6721, :]\n",
    "# y_train = y_train[201:6721, :]\n",
    "\n",
    "print(np.shape(x_train))"
   ]
  },
  {
   "cell_type": "code",
   "execution_count": 13,
   "metadata": {},
   "outputs": [
    {
     "data": {
      "text/plain": [
       "array([ 7.08659592e+01,  6.33607979e+01,  4.82698402e+01,  4.16971321e+01,\n",
       "        3.80871506e+01,  3.00459900e+01, -6.26710236e-01, -5.01512289e-01,\n",
       "       -3.06676924e-01, -7.86517262e-01, -7.70869792e-01, -8.19751740e-01,\n",
       "        7.55719299e+01,  6.65013885e+01,  4.59942055e+01,  2.77492352e+01,\n",
       "        2.46753845e+01,  1.71438179e+01, -1.30505547e-01, -1.46721631e-01,\n",
       "        2.71812350e-01, -1.03096020e+00, -9.63999033e-01, -4.89111364e-01,\n",
       "        6.76376953e+01,  6.27467880e+01,  4.56830444e+01,  2.42766571e+01,\n",
       "        2.50878429e+01,  1.58093100e+01,  9.04413536e-02, -1.97148845e-02,\n",
       "        2.74895430e-01, -8.76286745e-01, -1.06901789e+00, -3.24349850e-01,\n",
       "        6.44618301e+01,  6.30309906e+01,  4.15076828e+01,  4.19160500e+01,\n",
       "        4.11826172e+01,  2.77638817e+01, -6.62815511e-01, -6.74331248e-01,\n",
       "       -5.05235255e-01, -1.14672768e+00, -1.18047404e+00, -1.21258891e+00,\n",
       "        8.64217682e+01,  7.85676498e+01,  6.02103806e+01,  2.94545517e+01,\n",
       "        2.73996239e+01,  2.38165417e+01, -1.07762241e+00, -9.13478494e-01,\n",
       "       -3.74088556e-01,  1.59880126e+00,  1.33580840e+00,  2.58632839e-01,\n",
       "        6.30176353e+01,  5.62607727e+01,  4.23756599e+01,  2.73858089e+01,\n",
       "        2.54838924e+01,  1.74516830e+01,  2.54119366e-01,  3.16212773e-01,\n",
       "        6.40262783e-01, -9.79375005e-01, -8.44291329e-01, -8.51774737e-02,\n",
       "        7.06792679e+01,  6.40985107e+01,  4.90718079e+01,  2.36003494e+01,\n",
       "        2.33351536e+01,  1.56139030e+01,  8.62459317e-02, -1.48905944e-02,\n",
       "        4.28774595e-01, -6.98502004e-01, -6.63033187e-01,  3.83495867e-01,\n",
       "        7.62254944e+01,  7.01489029e+01,  4.62476692e+01,  3.41669235e+01,\n",
       "        3.17953663e+01,  2.25097961e+01, -1.22362018e+00, -1.19820225e+00,\n",
       "       -8.01687181e-01,  6.30887747e-01,  5.38576007e-01,  3.20213772e-02,\n",
       "        7.73945541e+01,  7.12950363e+01,  5.65923424e+01,  2.65415840e+01,\n",
       "        2.61416607e+01,  2.33779354e+01, -5.12694716e-01, -2.32403427e-01,\n",
       "        7.71663859e-02,  1.26487386e+00,  8.04618120e-01,  2.00107247e-01,\n",
       "        4.66208115e+01,  4.17291527e+01,  3.31879578e+01,  2.14677792e+01,\n",
       "        2.15440845e+01,  1.39823818e+01,  8.99367571e-01,  8.31130087e-01,\n",
       "        1.19008589e+00, -9.82123539e-02, -2.23027736e-01,  1.13910878e+00,\n",
       "        7.02406158e+01,  6.14063988e+01,  5.01589813e+01,  2.05023556e+01,\n",
       "        2.02029858e+01,  1.63090172e+01,  1.19681716e-01, -1.26723340e-02,\n",
       "        4.31213647e-01,  1.73431803e-02,  5.05117059e-04,  4.80728149e-01,\n",
       "        8.60294800e+01,  7.87981873e+01,  5.19077835e+01,  2.46078281e+01,\n",
       "        2.34131317e+01,  1.78839664e+01, -1.69913840e+00, -1.48948503e+00,\n",
       "       -8.63601089e-01,  3.84383845e+00,  3.24368763e+00,  1.40789235e+00,\n",
       "        8.08644485e+01,  7.43134308e+01,  6.01335335e+01,  2.85489502e+01,\n",
       "        2.70818653e+01,  2.40145245e+01, -6.75990224e-01, -5.29897749e-01,\n",
       "       -2.69470960e-01,  1.16964507e+00,  1.01278925e+00,  3.08034360e-01,\n",
       "        4.05923424e+01,  3.55510216e+01,  2.98495846e+01,  1.64293022e+01,\n",
       "        1.80531235e+01,  1.09095802e+01,  1.31818759e+00,  1.12485015e+00,\n",
       "        1.39632738e+00,  1.41484058e+00,  6.24102771e-01,  2.70100212e+00,\n",
       "        7.47475433e+01,  6.52393570e+01,  5.43260269e+01,  1.81831036e+01,\n",
       "        1.84360580e+01,  1.73639889e+01,  6.71744585e-01,  5.26301265e-01,\n",
       "        6.96309328e-01,  9.22557831e-01,  9.09775019e-01,  5.80659747e-01,\n",
       "        8.85628586e+01,  8.01204300e+01,  5.28316956e+01,  1.70159035e+01,\n",
       "        1.63195667e+01,  1.36392689e+01, -1.41137099e+00, -1.12175846e+00,\n",
       "       -4.22199905e-01,  4.54724169e+00,  3.49647641e+00,  1.39708459e+00,\n",
       "        6.49765701e+01,  6.05948601e+01,  4.76641464e+01,  3.63273621e+01,\n",
       "        3.39560776e+01,  2.76058331e+01, -7.06602454e-01, -6.98658466e-01,\n",
       "       -4.44875181e-01, -5.25094509e-01, -5.08679986e-01, -6.00703478e-01,\n",
       "        4.25348969e+01,  3.77094994e+01,  3.04323502e+01,  1.72351913e+01,\n",
       "        1.94138260e+01,  1.15953064e+01,  8.96819770e-01,  6.69744313e-01,\n",
       "        1.04804134e+00,  1.50767580e-01, -5.59923768e-01,  1.10205984e+00,\n",
       "        8.06762390e+01,  6.82821884e+01,  5.36958923e+01,  1.80508137e+01,\n",
       "        1.71488380e+01,  1.64366455e+01,  1.27755210e-01,  2.70752996e-01,\n",
       "        5.14650643e-01,  3.10710043e-01,  5.69842160e-01,  2.69985944e-01,\n",
       "        8.86150131e+01,  7.58684845e+01,  4.78810768e+01,  2.45959587e+01,\n",
       "        2.26856880e+01,  1.54603243e+01, -1.81192434e+00, -1.40879929e+00,\n",
       "       -9.39050376e-01,  3.94331551e+00,  2.59066558e+00,  1.50199580e+00,\n",
       "        5.07679520e+01,  4.53665924e+01,  3.35434608e+01,  4.69153023e+01,\n",
       "        4.24712830e+01,  3.18175678e+01,  3.31480280e-02,  1.13422297e-01,\n",
       "        1.99467152e-01, -1.69721425e+00, -1.56977141e+00, -1.49314094e+00,\n",
       "        5.88838501e+01,  5.01267319e+01,  3.46696892e+01,  2.05424767e+01,\n",
       "        1.86662598e+01,  1.08012648e+01,  5.07060438e-02, -3.25376503e-02,\n",
       "        6.17893577e-01, -8.59030604e-01, -6.68658137e-01,  5.39651752e-01,\n",
       "        7.67724838e+01,  6.36427307e+01,  4.28969498e+01,  2.76596432e+01,\n",
       "        2.34746857e+01,  1.65480633e+01, -6.95856273e-01, -6.08696580e-01,\n",
       "       -1.92189552e-02,  2.59435833e-01,  2.09755406e-01,  4.44138050e-01,\n",
       "        7.22562332e+01,  6.35003777e+01,  3.54132042e+01,  4.11791382e+01,\n",
       "        3.70534363e+01,  2.08913059e+01, -8.22334111e-01, -7.20829368e-01,\n",
       "       -5.32126069e-01, -7.15736330e-01, -7.90308595e-01, -8.49654734e-01])"
      ]
     },
     "execution_count": 13,
     "metadata": {},
     "output_type": "execute_result"
    }
   ],
   "source": [
    "x_train[0]"
   ]
  },
  {
   "cell_type": "code",
   "execution_count": 12,
   "metadata": {},
   "outputs": [],
   "source": [
    "np.savez_compressed('D:/Thesis_data/mlp_data/new/train_color_grid_2', x_train)\n",
    "# np.savez_compressed('D:/Thesis_data/mlp_data/_train_195', y_train)"
   ]
  }
 ],
 "metadata": {
  "interpreter": {
   "hash": "26de051ba29f2982a8de78e945f0abaf191376122a1563185a90213a26c5da77"
  },
  "kernelspec": {
   "display_name": "Python 3.10.4 64-bit",
   "language": "python",
   "name": "python3"
  },
  "language_info": {
   "codemirror_mode": {
    "name": "ipython",
    "version": 3
   },
   "file_extension": ".py",
   "mimetype": "text/x-python",
   "name": "python",
   "nbconvert_exporter": "python",
   "pygments_lexer": "ipython3",
   "version": "3.10.4"
  },
  "orig_nbformat": 4
 },
 "nbformat": 4,
 "nbformat_minor": 2
}
