{
 "cells": [
  {
   "cell_type": "code",
   "execution_count": 17,
   "metadata": {},
   "outputs": [],
   "source": [
    "import numpy as np\n",
    "\n",
    "classes_name = ['Agglutinated', 'Brittle', 'Compartmentalized_Brown', 'Compartmentalized_PartiallyPurple', 'Compartmentalized_Purple', 'Compartmentalized_Slaty', 'Compartmentalized_White', 'Flattened', 'Moldered', 'Plated_Brown', 'Plated_PartiallyPurple', 'Plated_Purple', 'Plated_Slaty', 'Plated_White']\n",
    "training_address = 'D:/Thesis_data/mlp_data/'\n",
    "testing_address = 'D:/Thesis_data/mlp_data/'\n",
    "\n",
    "inp = 48"
   ]
  },
  {
   "cell_type": "code",
   "execution_count": 18,
   "metadata": {},
   "outputs": [
    {
     "name": "stdout",
     "output_type": "stream",
     "text": [
      "(120, 48)\n",
      "(120, 48)\n",
      "(120, 48)\n",
      "(120, 48)\n",
      "(120, 48)\n",
      "(120, 48)\n",
      "(120, 48)\n",
      "(120, 48)\n",
      "(120, 48)\n",
      "(120, 48)\n",
      "(120, 48)\n",
      "(120, 48)\n",
      "(120, 48)\n",
      "(120, 48)\n"
     ]
    }
   ],
   "source": [
    "x_test = [[0]*inp]\n",
    "y_test = [[0]*14]\n",
    "\n",
    "for i in range(0, 14):\n",
    "    str = testing_address + 'test_glcm_2_' + classes_name[i] + '.npz'\n",
    "    # print(str)\n",
    "    data = np.load(str,allow_pickle=True)\n",
    "    # x_test = np.concatenate([x_test, data['xtest']], axis=1)\n",
    "    # y_test = np.concatenate([y_test, data['ytest']], axis=1)\n",
    "    # row1 = np.reshape(np.concatenate([data['overall_geometry'], data['overall_rgb'], data['overall_hsv'], data['n1'], data['structure'], data['n2'], data['moldered'], data['color_grid'], data['glcm_grid']], axis=None), (120,inp))\n",
    "    # a = np.concatenate([data['overall_geometry'], data['overall_rgb'], data['n1'], data['structure'], data['n2'], data['moldered'], data['color_grid']], axis=None)\n",
    "    a = data['arr_0']\n",
    "    print(np.shape(a))\n",
    "    # col = np.shape(a)[0]/120\n",
    "    # print(col)\n",
    "    # row1 = np.reshape(a, (120,int(col)))\n",
    "\n",
    "    # row2 = np.reshape(data['ytest'], (120,14))\n",
    "    x_test = np.concatenate( [x_test, a], axis=0)\n",
    "    # print(np.shape(row1))\n",
    "    # break\n",
    "    # y_test = np.concatenate( [y_test, row2], axis=0)\n",
    "    # y_test.append(np.reshape(data['ytest'], (120,394)))\n",
    "    # print(np.shape(x_test))"
   ]
  },
  {
   "cell_type": "code",
   "execution_count": 19,
   "metadata": {},
   "outputs": [
    {
     "name": "stdout",
     "output_type": "stream",
     "text": [
      "(1681, 48)\n"
     ]
    }
   ],
   "source": [
    "print(np.shape(x_test))"
   ]
  },
  {
   "cell_type": "code",
   "execution_count": 20,
   "metadata": {},
   "outputs": [
    {
     "name": "stdout",
     "output_type": "stream",
     "text": [
      "(1680, 48)\n"
     ]
    }
   ],
   "source": [
    "x_test = x_test[1:1681, :]\n",
    "# y_test = y_test[1:1681, :]\n",
    "\n",
    "print(np.shape(x_test))"
   ]
  },
  {
   "cell_type": "code",
   "execution_count": 21,
   "metadata": {},
   "outputs": [],
   "source": [
    "# np.savez_compressed('D:/Thesis_data/mlp_data/glcm_test_195', y_test)\n",
    "np.savez_compressed('D:/Thesis_data/mlp_data/new/test_glcm_2', x_test)"
   ]
  },
  {
   "cell_type": "code",
   "execution_count": 22,
   "metadata": {},
   "outputs": [],
   "source": [
    "x_train = [[0]*inp]\n",
    "y_train = [[0]*14]\n",
    "\n",
    "for i in range(0, 14):\n",
    "    str = training_address + 'train_glcm_2_' + classes_name[i] + '.npz'\n",
    "    # print(str)\n",
    "    data = np.load(str,allow_pickle=True)\n",
    "    # x_test = np.concatenate([x_test, data['xtest']], axis=1)\n",
    "    # y_test = np.concatenate([y_test, data['ytest']], axis=1)\n",
    "    # a = np.concatenate([data['overall_geometry'], data['overall_rgb'], data['n1'], data['structure'], data['n2'], data['moldered'], data['color_grid']], axis=None)\n",
    "    a = data['arr_0']\n",
    "    # col = int(np.shape(a)[0]/480)\n",
    "    # print(np.shape(a))\n",
    "    # row1 = np.reshape(a, (480,col))\n",
    "    # row1 = np.reshape(np.concatenate([data['overall_geometry'], data['overall_rgb'], data['overall_hsv'], data['n1'], data['structure'], data['n2'], data['moldered'], data['color_grid'], data['glcm_grid']], axis=None), (480,inp))\n",
    "    # row2 = np.reshape(data['ytrain'], (480,14))\n",
    "    # print(np.shape(np.concatenate([data['overall_geometry'], data['overall_rgb'], data['overall_hsv'], data['n1'], data['structure'], data['n2'], data['moldered'], data['color_grid'], data['glcm_grid']], axis=None)))\n",
    "    # break\n",
    "    \n",
    "    # a = np.array([a]).transpose()\n",
    "    # print(np.shape(a))\n",
    "    x_train = np.concatenate( [x_train, a], axis=0)\n",
    "    # y_train = np.concatenate( [y_train, row2], axis=0)\n",
    "    # y_test.append(np.reshape(data['ytest'], (120,394)))\n",
    "    # print(np.shape(x_test))"
   ]
  },
  {
   "cell_type": "code",
   "execution_count": 23,
   "metadata": {},
   "outputs": [
    {
     "name": "stdout",
     "output_type": "stream",
     "text": [
      "(6721, 48)\n"
     ]
    }
   ],
   "source": [
    "print(np.shape(x_train))"
   ]
  },
  {
   "cell_type": "code",
   "execution_count": 24,
   "metadata": {},
   "outputs": [
    {
     "name": "stdout",
     "output_type": "stream",
     "text": [
      "(6720, 48)\n"
     ]
    }
   ],
   "source": [
    "x_train = x_train[1:6721, :]\n",
    "# y_train = y_train[201:6721, :]\n",
    "\n",
    "print(np.shape(x_train))"
   ]
  },
  {
   "cell_type": "code",
   "execution_count": 25,
   "metadata": {},
   "outputs": [
    {
     "data": {
      "text/plain": [
       "array([9.65856768e-03, 9.35978637e-03, 1.39938184e-02, 9.16712580e-03,\n",
       "       7.36506871e-03, 7.73035600e-03, 9.01903017e-03, 7.68359216e-03,\n",
       "       8.06145467e+00, 8.67298688e+00, 3.88992409e+00, 8.91780504e+00,\n",
       "       1.49120605e+01, 1.31138594e+01, 9.10252924e+00, 1.32800707e+01,\n",
       "       6.23091068e-01, 5.94580183e-01, 8.18735665e-01, 5.83037902e-01,\n",
       "       3.04232282e-01, 3.86614282e-01, 5.75029121e-01, 3.78560804e-01,\n",
       "       2.10170343e+00, 2.18860039e+00, 1.38559160e+00, 2.23060253e+00,\n",
       "       3.01429363e+00, 2.79411072e+00, 2.27219395e+00, 2.81990968e+00,\n",
       "       9.82780122e-02, 9.67459889e-02, 1.18295471e-01, 9.57451085e-02,\n",
       "       8.58199785e-02, 8.79224431e-02, 9.49685746e-02, 8.76561016e-02,\n",
       "       3.88320259e-01, 3.76473490e-01, 5.11530930e-01, 3.70354320e-01,\n",
       "       2.83975690e-01, 3.05925341e-01, 3.61950368e-01, 3.01489977e-01])"
      ]
     },
     "execution_count": 25,
     "metadata": {},
     "output_type": "execute_result"
    }
   ],
   "source": [
    "x_train[0]"
   ]
  },
  {
   "cell_type": "code",
   "execution_count": 26,
   "metadata": {},
   "outputs": [],
   "source": [
    "np.savez_compressed('D:/Thesis_data/mlp_data/new/train_glcm_2', x_train)\n",
    "# np.savez_compressed('D:/Thesis_data/mlp_data/_train_195', y_train)"
   ]
  }
 ],
 "metadata": {
  "interpreter": {
   "hash": "26de051ba29f2982a8de78e945f0abaf191376122a1563185a90213a26c5da77"
  },
  "kernelspec": {
   "display_name": "Python 3.10.4 64-bit",
   "language": "python",
   "name": "python3"
  },
  "language_info": {
   "codemirror_mode": {
    "name": "ipython",
    "version": 3
   },
   "file_extension": ".py",
   "mimetype": "text/x-python",
   "name": "python",
   "nbconvert_exporter": "python",
   "pygments_lexer": "ipython3",
   "version": "3.10.4"
  },
  "orig_nbformat": 4
 },
 "nbformat": 4,
 "nbformat_minor": 2
}
