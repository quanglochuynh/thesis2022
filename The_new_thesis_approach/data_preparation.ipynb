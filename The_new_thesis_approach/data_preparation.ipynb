{
 "cells": [
  {
   "cell_type": "code",
   "execution_count": 5,
   "metadata": {},
   "outputs": [],
   "source": [
    "import numpy as np\n",
    "\n",
    "classes_name = ['Agglutinated', 'Brittle', 'Compartmentalized_Brown', 'Compartmentalized_PartiallyPurple', 'Compartmentalized_Purple', 'Compartmentalized_Slaty', 'Compartmentalized_White', 'Flattened', 'Moldered', 'Plated_Brown', 'Plated_PartiallyPurple', 'Plated_Purple', 'Plated_Slaty', 'Plated_White']\n",
    "training_address = 'D:/Thesis_data/mlp_data/'\n",
    "testing_address = 'D:/Thesis_data/mlp_data/'\n",
    "\n",
    "inp = 256"
   ]
  },
  {
   "cell_type": "code",
   "execution_count": 12,
   "metadata": {},
   "outputs": [
    {
     "name": "stdout",
     "output_type": "stream",
     "text": [
      "(120, 256)\n",
      "(120, 256)\n",
      "(120, 256)\n",
      "(120, 256)\n",
      "(120, 256)\n",
      "(120, 256)\n",
      "(120, 256)\n",
      "(120, 256)\n",
      "(120, 256)\n",
      "(120, 256)\n",
      "(120, 256)\n",
      "(120, 256)\n",
      "(120, 256)\n",
      "(120, 256)\n"
     ]
    }
   ],
   "source": [
    "x_test = [[0]*inp]\n",
    "y_test = [[0]*14]\n",
    "\n",
    "for i in range(0, 14):\n",
    "    str = testing_address + 'test_glcm_grid_' + classes_name[i] + '.npz'\n",
    "    # print(str)\n",
    "    data = np.load(str,allow_pickle=True)\n",
    "    # x_test = np.concatenate([x_test, data['xtest']], axis=1)\n",
    "    # y_test = np.concatenate([y_test, data['ytest']], axis=1)\n",
    "    # row1 = np.reshape(np.concatenate([data['overall_geometry'], data['overall_rgb'], data['overall_hsv'], data['n1'], data['structure'], data['n2'], data['moldered'], data['color_grid'], data['glcm_grid']], axis=None), (120,inp))\n",
    "    # a = np.concatenate([data['overall_geometry'], data['overall_rgb'], data['n1'], data['structure'], data['n2'], data['moldered'], data['color_grid']], axis=None)\n",
    "    a = data['arr_0']\n",
    "    print(np.shape(a))\n",
    "    # col = np.shape(a)[0]/120\n",
    "    # print(col)\n",
    "    # row1 = np.reshape(a, (120,int(col)))\n",
    "\n",
    "    # row2 = np.reshape(data['ytest'], (120,14))\n",
    "    x_test = np.concatenate( [x_test, a], axis=0)\n",
    "    # print(np.shape(row1))\n",
    "    # break\n",
    "    # y_test = np.concatenate( [y_test, row2], axis=0)\n",
    "    # y_test.append(np.reshape(data['ytest'], (120,394)))\n",
    "    # print(np.shape(x_test))"
   ]
  },
  {
   "cell_type": "code",
   "execution_count": 13,
   "metadata": {},
   "outputs": [
    {
     "name": "stdout",
     "output_type": "stream",
     "text": [
      "(1681, 256)\n"
     ]
    }
   ],
   "source": [
    "print(np.shape(x_test))"
   ]
  },
  {
   "cell_type": "code",
   "execution_count": 14,
   "metadata": {},
   "outputs": [
    {
     "name": "stdout",
     "output_type": "stream",
     "text": [
      "(1680, 256)\n"
     ]
    }
   ],
   "source": [
    "x_test = x_test[1:1681, :]\n",
    "# y_test = y_test[1:1681, :]\n",
    "\n",
    "print(np.shape(x_test))"
   ]
  },
  {
   "cell_type": "code",
   "execution_count": 15,
   "metadata": {},
   "outputs": [],
   "source": [
    "# np.savez_compressed('D:/Thesis_data/mlp_data/glcm_test_195', y_test)\n",
    "np.savez_compressed('D:/Thesis_data/mlp_data/new/test_glcm_grid', x_test)"
   ]
  },
  {
   "cell_type": "code",
   "execution_count": 16,
   "metadata": {},
   "outputs": [],
   "source": [
    "x_train = [[0]*inp]\n",
    "y_train = [[0]*14]\n",
    "\n",
    "for i in range(0, 14):\n",
    "    str = training_address + 'train_glcm_grid_' + classes_name[i] + '.npz'\n",
    "    # print(str)\n",
    "    data = np.load(str,allow_pickle=True)\n",
    "    # x_test = np.concatenate([x_test, data['xtest']], axis=1)\n",
    "    # y_test = np.concatenate([y_test, data['ytest']], axis=1)\n",
    "    # a = np.concatenate([data['overall_geometry'], data['overall_rgb'], data['n1'], data['structure'], data['n2'], data['moldered'], data['color_grid']], axis=None)\n",
    "    a = data['arr_0']\n",
    "    # col = int(np.shape(a)[0]/480)\n",
    "    # print(np.shape(a))\n",
    "    # row1 = np.reshape(a, (480,col))\n",
    "    # row1 = np.reshape(np.concatenate([data['overall_geometry'], data['overall_rgb'], data['overall_hsv'], data['n1'], data['structure'], data['n2'], data['moldered'], data['color_grid'], data['glcm_grid']], axis=None), (480,inp))\n",
    "    # row2 = np.reshape(data['ytrain'], (480,14))\n",
    "    # print(np.shape(np.concatenate([data['overall_geometry'], data['overall_rgb'], data['overall_hsv'], data['n1'], data['structure'], data['n2'], data['moldered'], data['color_grid'], data['glcm_grid']], axis=None)))\n",
    "    # break\n",
    "    \n",
    "    # a = np.array([a]).transpose()\n",
    "    # print(np.shape(a))\n",
    "    x_train = np.concatenate( [x_train, a], axis=0)\n",
    "    # y_train = np.concatenate( [y_train, row2], axis=0)\n",
    "    # y_test.append(np.reshape(data['ytest'], (120,394)))\n",
    "    # print(np.shape(x_test))"
   ]
  },
  {
   "cell_type": "code",
   "execution_count": 17,
   "metadata": {},
   "outputs": [
    {
     "name": "stdout",
     "output_type": "stream",
     "text": [
      "(6721, 256)\n"
     ]
    }
   ],
   "source": [
    "print(np.shape(x_train))"
   ]
  },
  {
   "cell_type": "code",
   "execution_count": 18,
   "metadata": {},
   "outputs": [
    {
     "name": "stdout",
     "output_type": "stream",
     "text": [
      "(6720, 256)\n"
     ]
    }
   ],
   "source": [
    "x_train = x_train[1:6721, :]\n",
    "# y_train = y_train[201:6721, :]\n",
    "\n",
    "print(np.shape(x_train))"
   ]
  },
  {
   "cell_type": "code",
   "execution_count": 19,
   "metadata": {},
   "outputs": [
    {
     "data": {
      "text/plain": [
       "array([ 1.79402602e+00,  1.79929708e+00,  1.16896552e+00,  1.44857566e+00,\n",
       "        1.84951364e+00,  1.86557502e+00,  1.40270936e+00,  1.57673267e+00,\n",
       "        5.45938600e-01,  5.40390210e-01,  7.48696340e-01,  6.58627127e-01,\n",
       "        5.28398928e-01,  5.29045817e-01,  6.64120623e-01,  6.07916833e-01,\n",
       "        2.68737402e+00,  2.52941176e+00,  2.13534483e+00,  2.48483167e+00,\n",
       "        2.91226397e+00,  2.73000762e+00,  2.31157635e+00,  2.76770754e+00,\n",
       "        3.34763374e-01,  3.40935484e-01,  4.00309438e-01,  3.40324293e-01,\n",
       "        2.36449781e-01,  2.70086097e-01,  3.35836265e-01,  1.97587253e-01,\n",
       "        1.78248122e+00,  1.52053274e+00,  1.61879310e+00,  1.91620422e+00,\n",
       "        1.93724967e+00,  1.62585682e+00,  1.88705137e+00,  2.08301599e+00,\n",
       "        6.86291877e-01,  7.75054685e-01,  6.85788895e-01,  6.20653009e-01,\n",
       "        6.38607565e-01,  7.44673205e-01,  6.10896765e-01,  5.76060577e-01,\n",
       "        6.98002566e-01,  3.77728450e-01,  3.33620690e-01,  7.03107658e-01,\n",
       "        7.80659928e-01,  4.28408225e-01,  4.05876144e-01,  7.90175171e-01,\n",
       "        5.82618402e-01,  8.26463021e-01,  8.42880702e-01,  5.77811773e-01,\n",
       "        5.19263877e-01,  7.82534062e-01,  7.89291767e-01,  5.06763851e-01,\n",
       "        2.61993769e+00,  2.42323344e+00,  1.15620690e+00,  2.26563078e+00,\n",
       "        2.92485218e+00,  2.66127190e+00,  1.31773399e+00,  2.46020564e+00,\n",
       "        4.86846364e-01,  5.46074862e-01,  8.83866233e-01,  5.79269798e-01,\n",
       "        4.03957031e-01,  4.84006100e-01,  8.52624366e-01,  5.26151135e-01,\n",
       "        2.97379513e+00,  3.00203478e+00,  1.83862069e+00,  1.85571587e+00,\n",
       "        3.34312417e+00,  3.30178979e+00,  2.16643209e+00,  2.08244478e+00,\n",
       "        2.11838234e-01,  2.18683249e-01,  6.68833347e-01,  6.24815118e-01,\n",
       "        6.70434295e-02,  9.27165882e-02,  5.61360754e-01,  5.42442277e-01,\n",
       "        3.57449148e+00,  3.23177950e+00,  1.89051724e+00,  3.01849797e+00,\n",
       "        3.84207515e+00,  3.49028941e+00,  2.07635468e+00,  3.31150038e+00,\n",
       "        8.99069710e-02,  2.35080299e-01,  6.49169568e-01,  3.44059029e-01,\n",
       "       -5.66023252e-02,  1.29152114e-01,  6.10139595e-01,  2.42044402e-01,\n",
       "        2.61205791e+00,  2.32648909e+00,  1.77620690e+00,  2.26933037e+00,\n",
       "        2.95861148e+00,  2.51466108e+00,  1.97853624e+00,  2.48838538e+00,\n",
       "        5.31816829e-01,  5.98811231e-01,  7.38009372e-01,  5.94725965e-01,\n",
       "        4.47786936e-01,  5.54204012e-01,  6.88086138e-01,  5.40330682e-01,\n",
       "        3.11764706e+00,  2.90584536e+00,  2.01396552e+00,  2.65131336e+00,\n",
       "        3.56399008e+00,  3.20182788e+00,  2.28078818e+00,  2.81759330e+00,\n",
       "        4.89971746e-01,  5.37579671e-01,  7.35181812e-01,  5.91320065e-01,\n",
       "        3.60505831e-01,  4.60356229e-01,  6.84127761e-01,  5.52449713e-01,\n",
       "        3.92468389e+00,  3.50499445e+00,  2.10310345e+00,  3.09748428e+00,\n",
       "        4.47835209e+00,  3.85243717e+00,  2.38845883e+00,  3.43602437e+00,\n",
       "        1.52728829e-01,  2.94804089e-01,  7.20102182e-01,  4.51951859e-01,\n",
       "       -6.01221681e-02,  1.65323600e-01,  6.56909614e-01,  3.42309386e-01,\n",
       "        3.82682793e+00,  3.42230855e+00,  2.22500000e+00,  3.55660377e+00,\n",
       "        4.13007820e+00,  3.66546078e+00,  2.39584799e+00,  3.77760853e+00,\n",
       "        9.90269843e-02,  2.28254079e-01,  5.94022460e-01,  1.82474194e-01,\n",
       "        2.39320420e-03,  1.42198766e-01,  5.43584359e-01,  1.02161320e-01,\n",
       "        3.03811618e+00,  3.04254532e+00,  2.20344828e+00,  2.51775805e+00,\n",
       "        3.42456609e+00,  3.31778370e+00,  2.42874736e+00,  2.67345773e+00,\n",
       "        3.58318652e-01,  3.68853880e-01,  6.80521419e-01,  5.58129614e-01,\n",
       "        2.25785158e-01,  2.67245845e-01,  6.21254936e-01,  4.97113220e-01,\n",
       "        1.91387209e+00,  1.45412505e+00,  1.48293103e+00,  1.99963004e+00,\n",
       "        2.17451841e+00,  1.59082254e+00,  1.70056298e+00,  2.21915461e+00,\n",
       "        6.70617065e-01,  7.83346342e-01,  7.61420680e-01,  6.31579664e-01,\n",
       "        6.03791553e-01,  7.49573210e-01,  7.01984094e-01,  5.70451372e-01,\n",
       "        3.51035367e+00,  3.64964854e+00,  3.80448276e+00,  3.75027747e+00,\n",
       "        3.88365440e+00,  3.98571973e+00,  4.16185785e+00,  4.06568926e+00,\n",
       "        2.88907104e-01,  2.11566014e-01,  1.15465234e-01,  1.27618939e-01,\n",
       "        1.55650431e-01,  9.27302090e-02, -6.62889441e-04,  2.08898655e-02,\n",
       "        2.84845153e+00,  3.17610063e+00,  3.13586207e+00,  2.51017388e+00,\n",
       "        3.20884990e+00,  3.50875857e+00,  3.55647431e+00,  2.72600914e+00,\n",
       "        5.07349887e-01,  3.93290097e-01,  4.09877957e-01,  5.85898475e-01,\n",
       "        4.07991571e-01,  2.91848906e-01,  2.79332852e-01,  5.19280529e-01,\n",
       "        1.21018875e+00,  1.32130966e+00,  8.06206897e-01,  4.59119497e-01,\n",
       "        1.47396529e+00,  1.51675552e+00,  9.51442646e-01,  5.33891851e-01,\n",
       "        6.31248117e-01,  5.68299152e-01,  7.76785564e-01,  9.30483141e-01,\n",
       "        5.07891028e-01,  4.79367090e-01,  7.04710397e-01,  9.08577746e-01])"
      ]
     },
     "execution_count": 19,
     "metadata": {},
     "output_type": "execute_result"
    }
   ],
   "source": [
    "x_train[4156]"
   ]
  },
  {
   "cell_type": "code",
   "execution_count": 20,
   "metadata": {},
   "outputs": [],
   "source": [
    "np.savez_compressed('D:/Thesis_data/mlp_data/new/train_glcm_grid', x_train)\n",
    "# np.savez_compressed('D:/Thesis_data/mlp_data/_train_195', y_train)"
   ]
  }
 ],
 "metadata": {
  "interpreter": {
   "hash": "26de051ba29f2982a8de78e945f0abaf191376122a1563185a90213a26c5da77"
  },
  "kernelspec": {
   "display_name": "Python 3.10.4 64-bit",
   "language": "python",
   "name": "python3"
  },
  "language_info": {
   "codemirror_mode": {
    "name": "ipython",
    "version": 3
   },
   "file_extension": ".py",
   "mimetype": "text/x-python",
   "name": "python",
   "nbconvert_exporter": "python",
   "pygments_lexer": "ipython3",
   "version": "3.10.4"
  },
  "orig_nbformat": 4
 },
 "nbformat": 4,
 "nbformat_minor": 2
}
