{
 "cells": [
  {
   "cell_type": "code",
   "execution_count": 3,
   "metadata": {},
   "outputs": [],
   "source": [
    "import numpy as np\n",
    "\n",
    "classes_name = ['Agglutinated', 'Brittle', 'Compartmentalized_Brown', 'Compartmentalized_PartiallyPurple', 'Compartmentalized_Purple', 'Compartmentalized_Slaty', 'Compartmentalized_White', 'Flattened', 'Moldered', 'Plated_Brown', 'Plated_PartiallyPurple', 'Plated_Purple', 'Plated_Slaty', 'Plated_White']\n",
    "training_address = 'D:/Thesis_data/mlp_data/'\n",
    "testing_address = 'D:/Thesis_data/mlp_data/'\n",
    "\n",
    "inp = 771"
   ]
  },
  {
   "cell_type": "code",
   "execution_count": 6,
   "metadata": {},
   "outputs": [
    {
     "name": "stdout",
     "output_type": "stream",
     "text": [
      "(120, 771)\n",
      "(120, 771)\n",
      "(120, 771)\n",
      "(120, 771)\n",
      "(120, 771)\n",
      "(120, 771)\n",
      "(120, 771)\n",
      "(120, 771)\n",
      "(120, 771)\n",
      "(120, 771)\n",
      "(120, 771)\n",
      "(120, 771)\n",
      "(120, 771)\n",
      "(120, 771)\n"
     ]
    }
   ],
   "source": [
    "x_test = [[0]*inp]\n",
    "y_test = [[0]*14]\n",
    "\n",
    "for i in range(0, 14):\n",
    "    str = testing_address + 'Extracted_features_TEST_' + classes_name[i] + '.npz'\n",
    "    # print(str)\n",
    "    data = np.load(str,allow_pickle=True)\n",
    "    # x_test = np.concatenate([x_test, data['xtest']], axis=1)\n",
    "    # y_test = np.concatenate([y_test, data['ytest']], axis=1)\n",
    "    row1 = np.reshape(np.concatenate([data['overall_geometry'], data['overall_rgb'], data['overall_hsv'], data['n1'], data['structure'], data['n2'], data['moldered'], data['color_grid'], data['glcm_grid']], axis=None), (120,inp))\n",
    "    # row2 = np.reshape(data['ytest'], (120,14))\n",
    "    # print(np.shape(row))\n",
    "    x_test = np.concatenate( [x_test, row1], axis=0)\n",
    "    # print(np.shape(row1))\n",
    "    # break\n",
    "    # y_test = np.concatenate( [y_test, row2], axis=0)\n",
    "    # y_test.append(np.reshape(data['ytest'], (120,394)))\n",
    "    # print(np.shape(x_test))"
   ]
  },
  {
   "cell_type": "code",
   "execution_count": 7,
   "metadata": {},
   "outputs": [
    {
     "name": "stdout",
     "output_type": "stream",
     "text": [
      "(1680, 771)\n"
     ]
    }
   ],
   "source": [
    "x_test = x_test[1:1681, :]\n",
    "# y_test = y_test[1:1681, :]\n",
    "\n",
    "print(np.shape(x_test))"
   ]
  },
  {
   "cell_type": "code",
   "execution_count": 8,
   "metadata": {},
   "outputs": [],
   "source": [
    "# np.savez_compressed('D:/Thesis_data/mlp_data/glcm_test_195', y_test)\n",
    "np.savez_compressed('D:/Thesis_data/mlp_data/X_test_771', x_test)"
   ]
  },
  {
   "cell_type": "code",
   "execution_count": 22,
   "metadata": {},
   "outputs": [],
   "source": [
    "x_train = [[0]*inp]\n",
    "y_train = [[0]*14]\n",
    "\n",
    "for i in range(0, 14):\n",
    "    str = training_address + 'Extracted_features_TRAIN_' + classes_name[i] + '.npz'\n",
    "    # print(str)\n",
    "    data = np.load(str,allow_pickle=True)\n",
    "    # x_test = np.concatenate([x_test, data['xtest']], axis=1)\n",
    "    # y_test = np.concatenate([y_test, data['ytest']], axis=1)\n",
    "    row1 = np.reshape(np.concatenate([data['overall_geometry'], data['overall_rgb'], data['overall_hsv'], data['n1'], data['structure'], data['n2'], data['moldered'], data['color_grid'], data['glcm_grid']], axis=None), (600,inp))\n",
    "    # row2 = np.reshape(data['ytrain'], (480,14))\n",
    "    # print(np.shape(np.concatenate([data['overall_geometry'], data['overall_rgb'], data['overall_hsv'], data['n1'], data['structure'], data['n2'], data['moldered'], data['color_grid'], data['glcm_grid']], axis=None)))\n",
    "    # break\n",
    "    x_train = np.concatenate( [x_train, row1], axis=0)\n",
    "    # y_train = np.concatenate( [y_train, row2], axis=0)\n",
    "    # y_test.append(np.reshape(data['ytest'], (120,394)))\n",
    "    # print(np.shape(x_test))"
   ]
  },
  {
   "cell_type": "code",
   "execution_count": 23,
   "metadata": {},
   "outputs": [
    {
     "name": "stdout",
     "output_type": "stream",
     "text": [
      "(8401, 771)\n"
     ]
    }
   ],
   "source": [
    "print(np.shape(x_train))"
   ]
  },
  {
   "cell_type": "code",
   "execution_count": 24,
   "metadata": {},
   "outputs": [],
   "source": [
    "x_train = x_train[1681:8401, :]\n",
    "# y_train = y_train[201:6721, :]\n",
    "\n"
   ]
  },
  {
   "cell_type": "code",
   "execution_count": 25,
   "metadata": {},
   "outputs": [
    {
     "name": "stdout",
     "output_type": "stream",
     "text": [
      "(6720, 771)\n"
     ]
    }
   ],
   "source": [
    "print(np.shape(x_train))"
   ]
  },
  {
   "cell_type": "code",
   "execution_count": 26,
   "metadata": {},
   "outputs": [],
   "source": [
    "np.savez_compressed('D:/Thesis_data/mlp_data/X_train_771', x_train)\n",
    "# np.savez_compressed('D:/Thesis_data/mlp_data/_train_195', y_train)"
   ]
  }
 ],
 "metadata": {
  "interpreter": {
   "hash": "26de051ba29f2982a8de78e945f0abaf191376122a1563185a90213a26c5da77"
  },
  "kernelspec": {
   "display_name": "Python 3.10.4 64-bit",
   "language": "python",
   "name": "python3"
  },
  "language_info": {
   "codemirror_mode": {
    "name": "ipython",
    "version": 3
   },
   "file_extension": ".py",
   "mimetype": "text/x-python",
   "name": "python",
   "nbconvert_exporter": "python",
   "pygments_lexer": "ipython3",
   "version": "3.10.4"
  },
  "orig_nbformat": 4
 },
 "nbformat": 4,
 "nbformat_minor": 2
}
