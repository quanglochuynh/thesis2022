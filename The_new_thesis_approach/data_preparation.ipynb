{
 "cells": [
  {
   "cell_type": "code",
   "execution_count": 97,
   "metadata": {},
   "outputs": [],
   "source": [
    "import numpy as np\n",
    "\n",
    "classes_name = ['Agglutinated', 'Brittle', 'Compartmentalized_Brown', 'Compartmentalized_PartiallyPurple', 'Compartmentalized_Purple', 'Compartmentalized_Slaty', 'Compartmentalized_White', 'Flattened', 'Moldered', 'Plated_Brown', 'Plated_PartiallyPurple', 'Plated_Purple', 'Plated_Slaty', 'Plated_White']\n",
    "training_address = 'D:/Thesis_data/mlp_data/'\n",
    "testing_address = 'D:/Thesis_data/mlp_data/'\n",
    "\n",
    "inp = 192"
   ]
  },
  {
   "cell_type": "code",
   "execution_count": 108,
   "metadata": {},
   "outputs": [
    {
     "name": "stdout",
     "output_type": "stream",
     "text": [
      "(0,)\n",
      "0.0\n"
     ]
    },
    {
     "ename": "ValueError",
     "evalue": "all the input array dimensions for the concatenation axis must match exactly, but along dimension 1, the array at index 0 has size 192 and the array at index 1 has size 0",
     "output_type": "error",
     "traceback": [
      "\u001b[1;31m---------------------------------------------------------------------------\u001b[0m",
      "\u001b[1;31mValueError\u001b[0m                                Traceback (most recent call last)",
      "\u001b[1;32mc:\\Users\\quang\\Documents\\thesis2022\\The_new_thesis_approach\\data_preparation.ipynb Cell 2'\u001b[0m in \u001b[0;36m<cell line: 4>\u001b[1;34m()\u001b[0m\n\u001b[0;32m     <a href='vscode-notebook-cell:/c%3A/Users/quang/Documents/thesis2022/The_new_thesis_approach/data_preparation.ipynb#ch0000001?line=15'>16</a>\u001b[0m row1 \u001b[39m=\u001b[39m np\u001b[39m.\u001b[39mreshape(a, (\u001b[39m120\u001b[39m,\u001b[39mint\u001b[39m(col)))\n\u001b[0;32m     <a href='vscode-notebook-cell:/c%3A/Users/quang/Documents/thesis2022/The_new_thesis_approach/data_preparation.ipynb#ch0000001?line=17'>18</a>\u001b[0m \u001b[39m# row2 = np.reshape(data['ytest'], (120,14))\u001b[39;00m\n\u001b[1;32m---> <a href='vscode-notebook-cell:/c%3A/Users/quang/Documents/thesis2022/The_new_thesis_approach/data_preparation.ipynb#ch0000001?line=18'>19</a>\u001b[0m x_test \u001b[39m=\u001b[39m np\u001b[39m.\u001b[39;49mconcatenate( [x_test, row1], axis\u001b[39m=\u001b[39;49m\u001b[39m0\u001b[39;49m)\n",
      "File \u001b[1;32m<__array_function__ internals>:180\u001b[0m, in \u001b[0;36mconcatenate\u001b[1;34m(*args, **kwargs)\u001b[0m\n",
      "\u001b[1;31mValueError\u001b[0m: all the input array dimensions for the concatenation axis must match exactly, but along dimension 1, the array at index 0 has size 192 and the array at index 1 has size 0"
     ]
    }
   ],
   "source": [
    "x_test = [[0]*inp]\n",
    "y_test = [[0]*14]\n",
    "\n",
    "for i in range(0, 14):\n",
    "    str = testing_address + 'test_glcm_grid_' + classes_name[i] + '.npz'\n",
    "    # print(str)\n",
    "    data = np.load(str,allow_pickle=True)\n",
    "    # x_test = np.concatenate([x_test, data['xtest']], axis=1)\n",
    "    # y_test = np.concatenate([y_test, data['ytest']], axis=1)\n",
    "    # row1 = np.reshape(np.concatenate([data['overall_geometry'], data['overall_rgb'], data['overall_hsv'], data['n1'], data['structure'], data['n2'], data['moldered'], data['color_grid'], data['glcm_grid']], axis=None), (120,inp))\n",
    "    # a = np.concatenate([data['overall_geometry'], data['overall_rgb'], data['n1'], data['structure'], data['n2'], data['moldered'], data['color_grid']], axis=None)\n",
    "    a = data['arr_0']\n",
    "    print(np.shape(a))\n",
    "    col = np.shape(a)[0]/120\n",
    "    print(col)\n",
    "    row1 = np.reshape(a, (120,int(col)))\n",
    "\n",
    "    # row2 = np.reshape(data['ytest'], (120,14))\n",
    "    x_test = np.concatenate( [x_test, row1], axis=0)\n",
    "    # print(np.shape(row1))\n",
    "    # break\n",
    "    # y_test = np.concatenate( [y_test, row2], axis=0)\n",
    "    # y_test.append(np.reshape(data['ytest'], (120,394)))\n",
    "    # print(np.shape(x_test))"
   ]
  },
  {
   "cell_type": "code",
   "execution_count": 99,
   "metadata": {},
   "outputs": [
    {
     "name": "stdout",
     "output_type": "stream",
     "text": [
      "(1681, 192)\n"
     ]
    }
   ],
   "source": [
    "print(np.shape(x_test))"
   ]
  },
  {
   "cell_type": "code",
   "execution_count": 100,
   "metadata": {},
   "outputs": [
    {
     "name": "stdout",
     "output_type": "stream",
     "text": [
      "(1680, 192)\n"
     ]
    }
   ],
   "source": [
    "x_test = x_test[1:1681, :]\n",
    "# y_test = y_test[1:1681, :]\n",
    "\n",
    "print(np.shape(x_test))"
   ]
  },
  {
   "cell_type": "code",
   "execution_count": 101,
   "metadata": {},
   "outputs": [],
   "source": [
    "# np.savez_compressed('D:/Thesis_data/mlp_data/glcm_test_195', y_test)\n",
    "np.savez_compressed('D:/Thesis_data/mlp_data/new/test_color_grid', x_test)"
   ]
  },
  {
   "cell_type": "code",
   "execution_count": 102,
   "metadata": {},
   "outputs": [],
   "source": [
    "x_train = [[0]*inp]\n",
    "y_train = [[0]*14]\n",
    "\n",
    "for i in range(0, 14):\n",
    "    str = training_address + 'train_color_grid' + classes_name[i] + '.npz'\n",
    "    # print(str)\n",
    "    data = np.load(str,allow_pickle=True)\n",
    "    # x_test = np.concatenate([x_test, data['xtest']], axis=1)\n",
    "    # y_test = np.concatenate([y_test, data['ytest']], axis=1)\n",
    "    # a = np.concatenate([data['overall_geometry'], data['overall_rgb'], data['n1'], data['structure'], data['n2'], data['moldered'], data['color_grid']], axis=None)\n",
    "    a = data['arr_0']\n",
    "    # col = int(np.shape(a)[0]/480)\n",
    "    # print(np.shape(a))\n",
    "    # row1 = np.reshape(a, (480,col))\n",
    "    # row1 = np.reshape(np.concatenate([data['overall_geometry'], data['overall_rgb'], data['overall_hsv'], data['n1'], data['structure'], data['n2'], data['moldered'], data['color_grid'], data['glcm_grid']], axis=None), (480,inp))\n",
    "    # row2 = np.reshape(data['ytrain'], (480,14))\n",
    "    # print(np.shape(np.concatenate([data['overall_geometry'], data['overall_rgb'], data['overall_hsv'], data['n1'], data['structure'], data['n2'], data['moldered'], data['color_grid'], data['glcm_grid']], axis=None)))\n",
    "    # break\n",
    "    \n",
    "    # a = np.array([a]).transpose()\n",
    "    # print(np.shape(a))\n",
    "    x_train = np.concatenate( [x_train, a], axis=0)\n",
    "    # y_train = np.concatenate( [y_train, row2], axis=0)\n",
    "    # y_test.append(np.reshape(data['ytest'], (120,394)))\n",
    "    # print(np.shape(x_test))"
   ]
  },
  {
   "cell_type": "code",
   "execution_count": 103,
   "metadata": {},
   "outputs": [
    {
     "name": "stdout",
     "output_type": "stream",
     "text": [
      "(6721, 192)\n"
     ]
    }
   ],
   "source": [
    "print(np.shape(x_train))"
   ]
  },
  {
   "cell_type": "code",
   "execution_count": 104,
   "metadata": {},
   "outputs": [
    {
     "name": "stdout",
     "output_type": "stream",
     "text": [
      "(6720, 192)\n"
     ]
    }
   ],
   "source": [
    "x_train = x_train[1:6721, :]\n",
    "# y_train = y_train[201:6721, :]\n",
    "\n",
    "print(np.shape(x_train))"
   ]
  },
  {
   "cell_type": "code",
   "execution_count": 105,
   "metadata": {},
   "outputs": [
    {
     "data": {
      "text/plain": [
       "array([ 2.01435699e+01,  1.93061562e+01,  1.35839510e+01,  3.11190090e+01,\n",
       "        2.98270817e+01,  2.14029961e+01,  1.30477202e+00,  1.29468763e+00,\n",
       "        1.46618760e+00,  6.00465298e-01,  5.77199459e-01,  1.35578930e+00,\n",
       "        4.88296814e+01,  4.62359009e+01,  3.04853363e+01,  1.60713615e+01,\n",
       "        1.50744410e+01,  1.00498533e+01, -5.20676255e-01, -6.35841012e-01,\n",
       "       -6.19764447e-01,  2.95489430e+00,  2.78751659e+00,  2.56711173e+00,\n",
       "        3.25899124e+01,  3.06516266e+01,  2.19152431e+01,  2.50612259e+01,\n",
       "        2.32908287e+01,  1.64116535e+01,  4.05188262e-01,  4.68933493e-01,\n",
       "        7.66136527e-01,  1.26681119e-01,  8.36049378e-01,  3.59806299e+00,\n",
       "        7.05736399e+00,  7.67724800e+00,  5.19336128e+00,  1.71989231e+01,\n",
       "        1.85462227e+01,  1.25604296e+01,  2.16371417e+00,  2.11686707e+00,\n",
       "        2.15369201e+00,  2.94925427e+00,  2.66146779e+00,  2.89602208e+00,\n",
       "        3.88660965e+01,  3.53855934e+01,  2.58428936e+01,  3.14126282e+01,\n",
       "        2.90269775e+01,  2.14062347e+01,  2.35020578e-01,  2.87408531e-01,\n",
       "        3.83754998e-01, -6.93985939e-01, -6.61135912e-01, -4.89418536e-01,\n",
       "        5.39029961e+01,  4.49880753e+01,  3.11756363e+01,  1.65172119e+01,\n",
       "        1.50539999e+01,  1.04571152e+01,  9.46559489e-01,  1.60848641e+00,\n",
       "        2.10016203e+00,  3.67169189e+00,  9.04422855e+00,  1.11262226e+01,\n",
       "        5.45715446e+01,  4.43794708e+01,  3.25934563e+01,  1.99191093e+01,\n",
       "        1.91397324e+01,  1.55279236e+01,  1.91105926e+00,  2.62902546e+00,\n",
       "        3.51348567e+00,  7.45239496e+00,  1.17909622e+01,  1.78236217e+01,\n",
       "        4.64822769e+01,  4.04753456e+01,  2.66622620e+01,  3.21758766e+01,\n",
       "        2.70352497e+01,  1.83187561e+01,  2.63031393e-01,  1.43021792e-01,\n",
       "        5.41519821e-01,  1.18856661e-01,  5.38870811e-01,  2.70437407e+00,\n",
       "        4.50235252e+01,  3.92379951e+01,  2.85547848e+01,  3.08737488e+01,\n",
       "        2.86565742e+01,  2.19197388e+01,  4.13824290e-01,  7.48288870e-01,\n",
       "        1.47201204e+00,  8.73560667e-01,  1.86187184e+00,  5.85181570e+00,\n",
       "        7.00971603e+01,  5.52144699e+01,  4.12017403e+01,  2.51639595e+01,\n",
       "        2.26762142e+01,  1.67016544e+01,  4.33505833e-01,  6.19953394e-01,\n",
       "        1.16137636e+00, -3.53452004e-02,  5.37762582e-01,  3.70049191e+00,\n",
       "        4.64803429e+01,  3.76248779e+01,  2.76567841e+01,  2.00407925e+01,\n",
       "        1.95944481e+01,  1.43932276e+01,  1.46815443e+00,  1.68449295e+00,\n",
       "        2.19722819e+00,  3.00660706e+00,  3.51663542e+00,  6.04463959e+00,\n",
       "        6.88438644e+01,  5.37748947e+01,  3.59123421e+01,  3.53261337e+01,\n",
       "        2.86125202e+01,  1.73136215e+01, -8.17790851e-02,  1.53256714e-01,\n",
       "       -1.72171727e-01, -2.53699124e-01,  2.68585205e-01,  9.55678046e-01,\n",
       "        2.65586529e+01,  2.31260071e+01,  1.52866583e+01,  3.47703285e+01,\n",
       "        3.08480492e+01,  2.05102158e+01,  8.63176882e-01,  9.63578522e-01,\n",
       "        1.06273997e+00, -6.72616839e-01, -3.54664475e-01, -7.56392535e-03,\n",
       "        6.18614235e+01,  5.17740898e+01,  3.51864319e+01,  2.47143650e+01,\n",
       "        2.33931999e+01,  1.72994633e+01,  7.55059719e-01,  1.28941417e+00,\n",
       "        2.24174190e+00,  2.32322907e+00,  4.01217079e+00,  1.03586941e+01,\n",
       "        4.45725098e+01,  3.78922005e+01,  2.49099255e+01,  2.69117432e+01,\n",
       "        2.46979980e+01,  1.57217579e+01,  3.28763463e-02,  3.63114148e-01,\n",
       "        4.09699887e-01, -4.16859724e-02,  2.77087033e-01,  8.37612450e-01,\n",
       "        1.61793423e+01,  1.34803419e+01,  7.80953932e+00,  3.62801971e+01,\n",
       "        3.12383747e+01,  1.71707497e+01,  2.30392003e+00,  2.49071336e+00,\n",
       "        2.31250381e+00,  4.28802776e+00,  5.36538172e+00,  4.50023222e+00])"
      ]
     },
     "execution_count": 105,
     "metadata": {},
     "output_type": "execute_result"
    }
   ],
   "source": [
    "x_train[4156]"
   ]
  },
  {
   "cell_type": "code",
   "execution_count": 106,
   "metadata": {},
   "outputs": [],
   "source": [
    "np.savez_compressed('D:/Thesis_data/mlp_data/new/train_color_grid', x_train)\n",
    "# np.savez_compressed('D:/Thesis_data/mlp_data/_train_195', y_train)"
   ]
  }
 ],
 "metadata": {
  "interpreter": {
   "hash": "26de051ba29f2982a8de78e945f0abaf191376122a1563185a90213a26c5da77"
  },
  "kernelspec": {
   "display_name": "Python 3.10.4 64-bit",
   "language": "python",
   "name": "python3"
  },
  "language_info": {
   "codemirror_mode": {
    "name": "ipython",
    "version": 3
   },
   "file_extension": ".py",
   "mimetype": "text/x-python",
   "name": "python",
   "nbconvert_exporter": "python",
   "pygments_lexer": "ipython3",
   "version": "3.10.4"
  },
  "orig_nbformat": 4
 },
 "nbformat": 4,
 "nbformat_minor": 2
}
