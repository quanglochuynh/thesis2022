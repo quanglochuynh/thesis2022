{
 "cells": [
  {
   "cell_type": "code",
   "execution_count": 3,
   "metadata": {},
   "outputs": [],
   "source": [
    "import numpy as np\n",
    "\n",
    "classes_name = ['Agglutinated', 'Brittle', 'Compartmentalized_Brown', 'Compartmentalized_PartiallyPurple', 'Compartmentalized_Purple', 'Compartmentalized_Slaty', 'Compartmentalized_White', 'Flattened', 'Moldered', 'Plated_Brown', 'Plated_PartiallyPurple', 'Plated_Purple', 'Plated_Slaty', 'Plated_White']\n",
    "training_address = 'D:/Thesis_data/mlp_data/'\n",
    "testing_address = 'D:/Thesis_data/mlp_data/'\n",
    "\n",
    "inp = []\n",
    "ft_name = ['overall_geometry_', 'overall_rgb_', 'overall_hsv_', 'color_grid_', 'glcm_grid_', 'haralick_', 'lbp_hist_', 'comp_hsv_', 'red_haralick_', 'blue_haralick_']\n",
    "tmp = [[0]*14]"
   ]
  },
  {
   "cell_type": "code",
   "execution_count": 4,
   "metadata": {},
   "outputs": [
    {
     "name": "stdout",
     "output_type": "stream",
     "text": [
      "[12, 12, 12, 288, 128, 56, 26, 61, 56, 56]\n"
     ]
    }
   ],
   "source": [
    "for k in range(len(ft_name)):\n",
    "    str = testing_address + 'test_'+ ft_name[k] + classes_name[1] + '.npz'\n",
    "    data = np.load(str,allow_pickle=True)['arr_0']\n",
    "    inp.append(np.shape(data)[1])\n",
    "print(inp)"
   ]
  },
  {
   "cell_type": "code",
   "execution_count": 5,
   "metadata": {},
   "outputs": [
    {
     "name": "stdout",
     "output_type": "stream",
     "text": [
      "(1261, 56)\n",
      "(1260, 56)\n",
      "(1261, 56)\n",
      "(1260, 56)\n"
     ]
    }
   ],
   "source": [
    "for k in range(8,len(ft_name)):\n",
    "    x_test = [[0]*inp[k]]\n",
    "    y_test = [[0]*14]\n",
    "    for i in range(0, 14):\n",
    "        str = testing_address + 'test_'+ ft_name[k] + classes_name[i] + '.npz'\n",
    "        # print(str)\n",
    "        data = np.load(str,allow_pickle=True)\n",
    "\n",
    "        a = data['arr_0']\n",
    "\n",
    "\n",
    "        row2 = np.zeros([90,14])\n",
    "        row2[:,i] = 1\n",
    "        x_test = np.concatenate( [x_test, a], axis=0)\n",
    "        # print(np.shape(row1))\n",
    "        # break\n",
    "        y_test = np.concatenate( [y_test, row2], axis=0)\n",
    "        # y_test.append(np.reshape(data['ytest'], (120,394)))\n",
    "        # print(np.shape(x_test))\n",
    "    print(np.shape(x_test))\n",
    "    x_test = x_test[1:1681, :]\n",
    "    y_test = y_test[1:1681, :]\n",
    "    print(np.shape(x_test))\n",
    "    # np.savez_compressed('D:/Thesis_data/mlp_data/new/y_test_' + ft_name[k], y_test)\n",
    "    np.savez_compressed('D:/Thesis_data/mlp_data/new/x_test_' + ft_name[k], x_test)"
   ]
  },
  {
   "cell_type": "code",
   "execution_count": 6,
   "metadata": {},
   "outputs": [
    {
     "name": "stdout",
     "output_type": "stream",
     "text": [
      "(7141, 14)\n",
      "(7140, 14)\n",
      "(7141, 14)\n",
      "(7140, 14)\n"
     ]
    }
   ],
   "source": [
    "for k in range(8,len(ft_name)):\n",
    "    x_train = [[0]*inp[k]]\n",
    "    y_train = [[0]*14]\n",
    "    for i in range(0, 14):\n",
    "        str = training_address + 'train_'+ ft_name[k] + classes_name[i] + '.npz'\n",
    "        # print(str)\n",
    "        data = np.load(str,allow_pickle=True)\n",
    "\n",
    "        a = data['arr_0']\n",
    "\n",
    "\n",
    "        row2 = np.zeros([510,14])\n",
    "        row2[:,i] = 1\n",
    "        x_train = np.concatenate( [x_train, a], axis=0)\n",
    "        # print(np.shape(row1))\n",
    "        # break\n",
    "        y_train = np.concatenate( [y_train, row2], axis=0)\n",
    "        # y_test.append(np.reshape(data['ytest'], (120,394)))\n",
    "        # print(np.shape(x_test))\n",
    "    print(np.shape(y_train))\n",
    "    x_train = x_train[1:7141, :]\n",
    "    y_train = y_train[1:7141, :]\n",
    "    print(np.shape(y_train))\n",
    "    # np.savez_compressed('D:/Thesis_data/mlp_data/new/y_train_' + ft_name[k], y_train)\n",
    "    np.savez_compressed('D:/Thesis_data/mlp_data/new/x_train_' + ft_name[k], x_train)"
   ]
  },
  {
   "cell_type": "code",
   "execution_count": 13,
   "metadata": {},
   "outputs": [
    {
     "data": {
      "text/plain": [
       "array([1.16854370e-02, 5.58779889e-02, 3.33390090e-02, 8.21677896e-03,\n",
       "       8.90272676e-04, 9.72975603e-05, 3.50757705e-03, 1.45946340e-05,\n",
       "       9.24326823e-05, 4.86487801e-05, 4.37839021e-05, 2.43243901e-05,\n",
       "       4.37839021e-04, 4.18379509e-04, 4.30541704e-03, 5.30271703e-04,\n",
       "       2.52973657e-04, 9.72975603e-05, 1.70270730e-04, 1.33297658e-03,\n",
       "       2.48595266e-03, 5.78920484e-04, 0.00000000e+00, 0.00000000e+00,\n",
       "       0.00000000e+00, 0.00000000e+00, 0.00000000e+00, 0.00000000e+00,\n",
       "       0.00000000e+00, 0.00000000e+00, 0.00000000e+00, 7.63251700e-05,\n",
       "       1.42129844e-03, 4.12155918e-03, 7.37053601e-03, 9.59428015e-03,\n",
       "       1.16880652e-02, 1.01780646e-02, 6.92908773e-03, 2.80752855e-03,\n",
       "       9.61284573e-04, 5.05396396e-04, 2.02158558e-04, 9.90164367e-05,\n",
       "       9.28279094e-05, 3.09426365e-05, 1.09780351e-03, 3.14601007e-04,\n",
       "       2.21760710e-03, 4.30321377e-03, 4.68601500e-03, 8.20382625e-03,\n",
       "       1.39392446e-02, 1.55144496e-02, 8.11362596e-03, 1.58400507e-03,\n",
       "       8.58002746e-05, 0.00000000e+00, 0.00000000e+00, 0.00000000e+00,\n",
       "       0.00000000e+00])"
      ]
     },
     "execution_count": 13,
     "metadata": {},
     "output_type": "execute_result"
    }
   ],
   "source": [
    "x_train[0]"
   ]
  },
  {
   "cell_type": "code",
   "execution_count": 7,
   "metadata": {},
   "outputs": [
    {
     "data": {
      "text/plain": [
       "(7139, 61)"
      ]
     },
     "execution_count": 7,
     "metadata": {},
     "output_type": "execute_result"
    }
   ],
   "source": [
    "np.shape(y_train)"
   ]
  }
 ],
 "metadata": {
  "interpreter": {
   "hash": "26de051ba29f2982a8de78e945f0abaf191376122a1563185a90213a26c5da77"
  },
  "kernelspec": {
   "display_name": "Python 3.10.4 64-bit",
   "language": "python",
   "name": "python3"
  },
  "language_info": {
   "codemirror_mode": {
    "name": "ipython",
    "version": 3
   },
   "file_extension": ".py",
   "mimetype": "text/x-python",
   "name": "python",
   "nbconvert_exporter": "python",
   "pygments_lexer": "ipython3",
   "version": "3.10.4"
  },
  "orig_nbformat": 4
 },
 "nbformat": 4,
 "nbformat_minor": 2
}
