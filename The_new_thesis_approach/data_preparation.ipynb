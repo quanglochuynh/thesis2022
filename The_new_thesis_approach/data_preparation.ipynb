{
 "cells": [
  {
   "cell_type": "code",
   "execution_count": 1,
   "metadata": {},
   "outputs": [],
   "source": [
    "import numpy as np\n",
    "\n",
    "classes_name = ['Agglutinated', 'Brittle', 'Compartmentalized_Brown', 'Compartmentalized_PartiallyPurple', 'Compartmentalized_Purple', 'Compartmentalized_Slaty', 'Compartmentalized_White', 'Flattened', 'Moldered', 'Plated_Brown', 'Plated_PartiallyPurple', 'Plated_Purple', 'Plated_Slaty', 'Plated_White']\n",
    "training_address = 'D:/Thesis_data/mlp_data/'\n",
    "testing_address = 'D:/Thesis_data/mlp_data/'\n",
    "\n",
    "inp = 56"
   ]
  },
  {
   "cell_type": "code",
   "execution_count": 2,
   "metadata": {},
   "outputs": [
    {
     "name": "stdout",
     "output_type": "stream",
     "text": [
      "(120, 56)\n",
      "(120, 56)\n",
      "(120, 56)\n",
      "(120, 56)\n",
      "(120, 56)\n",
      "(120, 56)\n",
      "(120, 56)\n",
      "(120, 56)\n",
      "(120, 56)\n",
      "(120, 56)\n",
      "(120, 56)\n",
      "(120, 56)\n",
      "(120, 56)\n",
      "(120, 56)\n"
     ]
    }
   ],
   "source": [
    "x_test = [[0]*inp]\n",
    "y_test = [[0]*14]\n",
    "\n",
    "for i in range(0, 14):\n",
    "    str = testing_address + 'test_haralick_' + classes_name[i] + '.npz'\n",
    "    # print(str)\n",
    "    data = np.load(str,allow_pickle=True)\n",
    "    # x_test = np.concatenate([x_test, data['xtest']], axis=1)\n",
    "    # y_test = np.concatenate([y_test, data['ytest']], axis=1)\n",
    "    # row1 = np.reshape(np.concatenate([data['overall_geometry'], data['overall_rgb'], data['overall_hsv'], data['n1'], data['structure'], data['n2'], data['moldered'], data['color_grid'], data['glcm_grid']], axis=None), (120,inp))\n",
    "    # a = np.concatenate([data['overall_geometry'], data['overall_rgb'], data['n1'], data['structure'], data['n2'], data['moldered'], data['color_grid']], axis=None)\n",
    "    a = data['arr_0']\n",
    "    print(np.shape(a))\n",
    "    # col = np.shape(a)[0]/120\n",
    "    # print(col)\n",
    "    # row1 = np.reshape(a, (120,int(col)))\n",
    "\n",
    "    # row2 = np.reshape(data['ytest'], (120,14))\n",
    "    x_test = np.concatenate( [x_test, a], axis=0)\n",
    "    # print(np.shape(row1))\n",
    "    # break\n",
    "    # y_test = np.concatenate( [y_test, row2], axis=0)\n",
    "    # y_test.append(np.reshape(data['ytest'], (120,394)))\n",
    "    # print(np.shape(x_test))"
   ]
  },
  {
   "cell_type": "code",
   "execution_count": 3,
   "metadata": {},
   "outputs": [
    {
     "name": "stdout",
     "output_type": "stream",
     "text": [
      "(1681, 56)\n"
     ]
    }
   ],
   "source": [
    "print(np.shape(x_test))"
   ]
  },
  {
   "cell_type": "code",
   "execution_count": 4,
   "metadata": {},
   "outputs": [
    {
     "name": "stdout",
     "output_type": "stream",
     "text": [
      "(1680, 56)\n"
     ]
    }
   ],
   "source": [
    "x_test = x_test[1:1681, :]\n",
    "# y_test = y_test[1:1681, :]\n",
    "\n",
    "print(np.shape(x_test))"
   ]
  },
  {
   "cell_type": "code",
   "execution_count": 5,
   "metadata": {},
   "outputs": [],
   "source": [
    "# np.savez_compressed('D:/Thesis_data/mlp_data/glcm_test_195', y_test)\n",
    "np.savez_compressed('D:/Thesis_data/mlp_data/new/test_haralick', x_test)"
   ]
  },
  {
   "cell_type": "code",
   "execution_count": 7,
   "metadata": {},
   "outputs": [],
   "source": [
    "x_train = [[0]*inp]\n",
    "y_train = [[0]*14]\n",
    "\n",
    "for i in range(0, 14):\n",
    "    str = training_address + 'train_haralick_' + classes_name[i] + '.npz'\n",
    "    # print(str)\n",
    "    data = np.load(str,allow_pickle=True)\n",
    "    # x_test = np.concatenate([x_test, data['xtest']], axis=1)\n",
    "    # y_test = np.concatenate([y_test, data['ytest']], axis=1)\n",
    "    # a = np.concatenate([data['overall_geometry'], data['overall_rgb'], data['n1'], data['structure'], data['n2'], data['moldered'], data['color_grid']], axis=None)\n",
    "    a = data['arr_0']\n",
    "    # col = int(np.shape(a)[0]/480)\n",
    "    # print(np.shape(a))\n",
    "    # row1 = np.reshape(a, (480,col))\n",
    "    # row1 = np.reshape(np.concatenate([data['overall_geometry'], data['overall_rgb'], data['overall_hsv'], data['n1'], data['structure'], data['n2'], data['moldered'], data['color_grid'], data['glcm_grid']], axis=None), (480,inp))\n",
    "    # row2 = np.reshape(data['ytrain'], (480,14))\n",
    "    # print(np.shape(np.concatenate([data['overall_geometry'], data['overall_rgb'], data['overall_hsv'], data['n1'], data['structure'], data['n2'], data['moldered'], data['color_grid'], data['glcm_grid']], axis=None)))\n",
    "    # break\n",
    "    \n",
    "    # a = np.array([a]).transpose()\n",
    "    # print(np.shape(a))\n",
    "    x_train = np.concatenate( [x_train, a], axis=0)\n",
    "    # y_train = np.concatenate( [y_train, row2], axis=0)\n",
    "    # y_test.append(np.reshape(data['ytest'], (120,394)))\n",
    "    # print(np.shape(x_test))"
   ]
  },
  {
   "cell_type": "code",
   "execution_count": 8,
   "metadata": {},
   "outputs": [
    {
     "name": "stdout",
     "output_type": "stream",
     "text": [
      "(6721, 56)\n"
     ]
    }
   ],
   "source": [
    "print(np.shape(x_train))"
   ]
  },
  {
   "cell_type": "code",
   "execution_count": 9,
   "metadata": {},
   "outputs": [
    {
     "name": "stdout",
     "output_type": "stream",
     "text": [
      "(6720, 56)\n"
     ]
    }
   ],
   "source": [
    "x_train = x_train[1:6721, :]\n",
    "# y_train = y_train[201:6721, :]\n",
    "\n",
    "print(np.shape(x_train))"
   ]
  },
  {
   "cell_type": "code",
   "execution_count": 10,
   "metadata": {},
   "outputs": [
    {
     "data": {
      "text/plain": [
       "array([ 2.67914394e-02,  3.16880044e+02,  9.17846539e-01,  1.92858609e+03,\n",
       "        2.50439088e-01,  1.62681964e+02,  7.39746431e+03,  6.98647238e+00,\n",
       "        1.08549431e+01,  3.52187377e-04,  4.70711279e+00, -2.42286394e-01,\n",
       "        9.74597153e-01,  5.24841390e+00,  2.54714459e-02,  3.50088745e+02,\n",
       "        9.08400253e-01,  1.91097005e+03,  2.43208344e-01,  1.63304184e+02,\n",
       "        7.29379146e+03,  7.00538590e+00,  1.09289847e+01,  3.35770444e-04,\n",
       "        4.77931788e+00, -2.33662488e-01,  9.71857911e-01,  5.29041093e+00,\n",
       "        2.89071544e-02,  1.23022059e+02,  9.68341527e-01,  1.94295631e+03,\n",
       "        2.97970806e-01,  1.62130944e+02,  7.64880320e+03,  6.99101785e+00,\n",
       "        1.03718264e+01,  4.86748387e-04,  4.12734902e+00, -3.17899737e-01,\n",
       "        9.90033137e-01,  4.82041459e+00,  2.54382890e-02,  3.73272441e+02,\n",
       "        9.02334304e-01,  1.91097005e+03,  2.41335636e-01,  1.63304184e+02,\n",
       "        7.27060777e+03,  7.00142178e+00,  1.09463713e+01,  3.30815933e-04,\n",
       "        4.80374826e+00, -2.30852481e-01,  9.70847167e-01,  5.28512673e+00])"
      ]
     },
     "execution_count": 10,
     "metadata": {},
     "output_type": "execute_result"
    }
   ],
   "source": [
    "x_train[0]"
   ]
  },
  {
   "cell_type": "code",
   "execution_count": 11,
   "metadata": {},
   "outputs": [],
   "source": [
    "np.savez_compressed('D:/Thesis_data/mlp_data/new/train_haralick', x_train)\n",
    "# np.savez_compressed('D:/Thesis_data/mlp_data/_train_195', y_train)"
   ]
  }
 ],
 "metadata": {
  "interpreter": {
   "hash": "26de051ba29f2982a8de78e945f0abaf191376122a1563185a90213a26c5da77"
  },
  "kernelspec": {
   "display_name": "Python 3.10.4 64-bit",
   "language": "python",
   "name": "python3"
  },
  "language_info": {
   "codemirror_mode": {
    "name": "ipython",
    "version": 3
   },
   "file_extension": ".py",
   "mimetype": "text/x-python",
   "name": "python",
   "nbconvert_exporter": "python",
   "pygments_lexer": "ipython3",
   "version": "3.10.4"
  },
  "orig_nbformat": 4
 },
 "nbformat": 4,
 "nbformat_minor": 2
}
