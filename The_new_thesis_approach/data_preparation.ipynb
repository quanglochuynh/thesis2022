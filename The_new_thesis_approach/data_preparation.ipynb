{
 "cells": [
  {
   "cell_type": "code",
   "execution_count": 1,
   "metadata": {},
   "outputs": [],
   "source": [
    "import numpy as np\n",
    "import pathlib\n",
    "import cv2\n",
    "from image_extractor import select_feature\n",
    "\n",
    "\n",
    "classes_name = ['Agglutinated', 'Brittle', 'Compartmentalized_Brown', 'Compartmentalized_PartiallyPurple', 'Compartmentalized_Purple', 'Compartmentalized_Slaty', 'Compartmentalized_White', 'Flattened', 'Moldered', 'Plated_Brown', 'Plated_PartiallyPurple', 'Plated_Purple', 'Plated_Slaty', 'Plated_White']\n",
    "training_address = 'D:/Thesis_data/mlp_data/'\n",
    "testing_address = 'D:/Thesis_data/mlp_data/'"
   ]
  },
  {
   "cell_type": "code",
   "execution_count": 2,
   "metadata": {},
   "outputs": [
    {
     "name": "stdout",
     "output_type": "stream",
     "text": [
      "D:/Thesis_data/mlp_data/XY_test_Agglutinated.npz\n",
      "D:/Thesis_data/mlp_data/XY_test_Brittle.npz\n",
      "D:/Thesis_data/mlp_data/XY_test_Compartmentalized_Brown.npz\n",
      "D:/Thesis_data/mlp_data/XY_test_Compartmentalized_PartiallyPurple.npz\n",
      "D:/Thesis_data/mlp_data/XY_test_Compartmentalized_Purple.npz\n",
      "D:/Thesis_data/mlp_data/XY_test_Compartmentalized_Slaty.npz\n",
      "D:/Thesis_data/mlp_data/XY_test_Compartmentalized_White.npz\n",
      "D:/Thesis_data/mlp_data/XY_test_Flattened.npz\n",
      "D:/Thesis_data/mlp_data/XY_test_Moldered.npz\n",
      "D:/Thesis_data/mlp_data/XY_test_Plated_Brown.npz\n",
      "D:/Thesis_data/mlp_data/XY_test_Plated_PartiallyPurple.npz\n",
      "D:/Thesis_data/mlp_data/XY_test_Plated_Purple.npz\n",
      "D:/Thesis_data/mlp_data/XY_test_Plated_Slaty.npz\n",
      "D:/Thesis_data/mlp_data/XY_test_Plated_White.npz\n"
     ]
    }
   ],
   "source": [
    "x_test = np.array(dtype=float)\n",
    "y_test = np.array(dtype=float)\n",
    "\n",
    "for i in range(14):\n",
    "    str = training_address + 'XY_test_' + classes_name[i] + '.npz'\n",
    "    print(str)\n",
    "    data = np.load(str)\n",
    "    x_test = np.concatenate([x_test, data['xtest']], axis=1)\n",
    "    y_test = np.concatenate([y_test, data['ytest']], axis=1)"
   ]
  }
 ],
 "metadata": {
  "interpreter": {
   "hash": "26de051ba29f2982a8de78e945f0abaf191376122a1563185a90213a26c5da77"
  },
  "kernelspec": {
   "display_name": "Python 3.10.4 64-bit",
   "language": "python",
   "name": "python3"
  },
  "language_info": {
   "codemirror_mode": {
    "name": "ipython",
    "version": 3
   },
   "file_extension": ".py",
   "mimetype": "text/x-python",
   "name": "python",
   "nbconvert_exporter": "python",
   "pygments_lexer": "ipython3",
   "version": "3.10.4"
  },
  "orig_nbformat": 4
 },
 "nbformat": 4,
 "nbformat_minor": 2
}
