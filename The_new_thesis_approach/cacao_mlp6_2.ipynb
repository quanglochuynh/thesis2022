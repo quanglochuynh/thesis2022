{
 "cells": [
  {
   "cell_type": "code",
   "execution_count": 1,
   "metadata": {},
   "outputs": [],
   "source": [
    "import numpy as np\n",
    "import pathlib\n",
    "import os\n",
    "import tensorflow as tf\n",
    "from tensorflow import keras\n",
    "from keras import layers\n",
    "import matplotlib.pyplot as plt"
   ]
  },
  {
   "cell_type": "code",
   "execution_count": 7,
   "metadata": {},
   "outputs": [],
   "source": [
    "input_shape = (375,)\n",
    "batch_size = 16\n",
    "\n",
    "cwd = os.getcwd()\n",
    "x_train_dir = pathlib.Path(cwd + '/data/X_train_375_new.npz')\n",
    "y_train_dir = pathlib.Path(cwd + '/data/Y_train_195.npz')\n",
    "x_test_dir  = pathlib.Path(cwd + '/data/X_test_375_new.npz')\n",
    "y_test_dir  = pathlib.Path(cwd + '/data/Y_test_195.npz')\n",
    "checkpoint_dir = pathlib.Path('D:./TF_checkpoint/mlp/weight/')\n",
    "model_dir = pathlib.Path('D:./TF_backup/mlp/mlp7_399.h5')\n",
    "\n",
    "x_train = np.asarray(np.load(x_train_dir, allow_pickle=True)['arr_0'], dtype=np.float32)\n",
    "y_train = np.asarray(np.load(y_train_dir, allow_pickle=True)['arr_0'], dtype=np.float32)\n",
    "x_test = np.asarray(np.load(x_test_dir, allow_pickle=True)['arr_0'], dtype=np.float32)\n",
    "y_test = np.asarray(np.load(y_test_dir, allow_pickle=True)['arr_0'], dtype=np.float32)\n",
    "\n",
    "model_checkpoint = keras.callbacks.ModelCheckpoint(\n",
    "    checkpoint_dir,\n",
    "    save_weights_only=True,\n",
    "    monitor='val_accuracy',\n",
    "    mode='max',\n",
    ")"
   ]
  },
  {
   "cell_type": "code",
   "execution_count": 3,
   "metadata": {},
   "outputs": [
    {
     "name": "stdout",
     "output_type": "stream",
     "text": [
      "(6720, 375)\n"
     ]
    }
   ],
   "source": [
    "print(np.shape(x_train))"
   ]
  },
  {
   "cell_type": "code",
   "execution_count": 4,
   "metadata": {},
   "outputs": [],
   "source": [
    "normalizer = layers.Normalization()\n",
    "normalizer.adapt(x_train)\n",
    "\n",
    "# Define model\n",
    "input_layer = layers.Input(shape=input_shape)\n",
    "norm = normalizer(input_layer)\n",
    "den1 = layers.Dense(512, activation='relu', kernel_initializer='HeNormal')(norm)\n",
    "drop1 = layers.Dropout(0.2)(den1)\n",
    "den2 = layers.Dense(512, activation='relu', kernel_initializer='HeNormal')(drop1)\n",
    "drop2 = layers.Dropout(0.2)(den2)\n",
    "den3 = layers.Dense(256, activation='relu', kernel_initializer='HeNormal')(drop2)\n",
    "drop3 = layers.Dropout(0.2)(den3)\n",
    "den4 = layers.Dense(14, activation='softmax')(drop3)\n",
    "model = keras.Model(input_layer, den4)\n",
    "\n",
    "opt = tf.keras.optimizers.SGD(\n",
    "    learning_rate=0.0001,\n",
    "    momentum=0.8,\n",
    "    nesterov=True,\n",
    "    name='SGD',\n",
    ")\n",
    "\n",
    "model.compile(\n",
    "    optimizer=opt, \n",
    "    loss=\"categorical_crossentropy\", \n",
    "    metrics=[\"accuracy\"]\n",
    "    )"
   ]
  },
  {
   "cell_type": "code",
   "execution_count": 5,
   "metadata": {},
   "outputs": [
    {
     "name": "stdout",
     "output_type": "stream",
     "text": [
      "Model: \"model\"\n",
      "_________________________________________________________________\n",
      " Layer (type)                Output Shape              Param #   \n",
      "=================================================================\n",
      " input_1 (InputLayer)        [(None, 375)]             0         \n",
      "                                                                 \n",
      " normalization (Normalizatio  (None, 375)              751       \n",
      " n)                                                              \n",
      "                                                                 \n",
      " dense (Dense)               (None, 512)               192512    \n",
      "                                                                 \n",
      " dropout (Dropout)           (None, 512)               0         \n",
      "                                                                 \n",
      " dense_1 (Dense)             (None, 512)               262656    \n",
      "                                                                 \n",
      " dropout_1 (Dropout)         (None, 512)               0         \n",
      "                                                                 \n",
      " dense_2 (Dense)             (None, 256)               131328    \n",
      "                                                                 \n",
      " dropout_2 (Dropout)         (None, 256)               0         \n",
      "                                                                 \n",
      " dense_3 (Dense)             (None, 14)                3598      \n",
      "                                                                 \n",
      "=================================================================\n",
      "Total params: 590,845\n",
      "Trainable params: 590,094\n",
      "Non-trainable params: 751\n",
      "_________________________________________________________________\n"
     ]
    }
   ],
   "source": [
    "model.summary()"
   ]
  },
  {
   "cell_type": "code",
   "execution_count": 9,
   "metadata": {},
   "outputs": [
    {
     "name": "stdout",
     "output_type": "stream",
     "text": [
      "Epoch 1/40\n",
      "420/420 [==============================] - 2s 5ms/step - loss: 1.0107 - accuracy: 0.6466\n",
      "Epoch 2/40\n",
      "420/420 [==============================] - 2s 4ms/step - loss: 1.0011 - accuracy: 0.6458\n",
      "Epoch 3/40\n",
      "420/420 [==============================] - 2s 4ms/step - loss: 0.9808 - accuracy: 0.6595\n",
      "Epoch 4/40\n",
      "420/420 [==============================] - 2s 4ms/step - loss: 0.9604 - accuracy: 0.6652\n",
      "Epoch 5/40\n",
      "420/420 [==============================] - 2s 4ms/step - loss: 0.9627 - accuracy: 0.6548\n",
      "Epoch 6/40\n",
      "420/420 [==============================] - 2s 4ms/step - loss: 0.9452 - accuracy: 0.6664\n",
      "Epoch 7/40\n",
      "420/420 [==============================] - 2s 4ms/step - loss: 0.9441 - accuracy: 0.6643\n",
      "Epoch 8/40\n",
      "420/420 [==============================] - 2s 4ms/step - loss: 0.9310 - accuracy: 0.6687\n",
      "Epoch 9/40\n",
      "420/420 [==============================] - 2s 4ms/step - loss: 0.9149 - accuracy: 0.6804\n",
      "Epoch 10/40\n",
      "420/420 [==============================] - 2s 4ms/step - loss: 0.9271 - accuracy: 0.6750\n",
      "Epoch 11/40\n",
      "420/420 [==============================] - 2s 4ms/step - loss: 0.9049 - accuracy: 0.6871\n",
      "Epoch 12/40\n",
      "420/420 [==============================] - 2s 4ms/step - loss: 0.8946 - accuracy: 0.6807\n",
      "Epoch 13/40\n",
      "420/420 [==============================] - 2s 4ms/step - loss: 0.8893 - accuracy: 0.6796\n",
      "Epoch 14/40\n",
      "420/420 [==============================] - 2s 4ms/step - loss: 0.8779 - accuracy: 0.6878\n",
      "Epoch 15/40\n",
      "420/420 [==============================] - 2s 4ms/step - loss: 0.8861 - accuracy: 0.6875\n",
      "Epoch 16/40\n",
      "420/420 [==============================] - 2s 4ms/step - loss: 0.8652 - accuracy: 0.6908\n",
      "Epoch 17/40\n",
      "420/420 [==============================] - 2s 4ms/step - loss: 0.8517 - accuracy: 0.7027\n",
      "Epoch 18/40\n",
      "420/420 [==============================] - 2s 4ms/step - loss: 0.8460 - accuracy: 0.7018\n",
      "Epoch 19/40\n",
      "420/420 [==============================] - 2s 4ms/step - loss: 0.8537 - accuracy: 0.6964\n",
      "Epoch 20/40\n",
      "420/420 [==============================] - 2s 4ms/step - loss: 0.8521 - accuracy: 0.6961\n",
      "Epoch 21/40\n",
      "420/420 [==============================] - 2s 4ms/step - loss: 0.8402 - accuracy: 0.7027\n",
      "Epoch 22/40\n",
      "420/420 [==============================] - 2s 4ms/step - loss: 0.8271 - accuracy: 0.7098\n",
      "Epoch 23/40\n",
      "420/420 [==============================] - 2s 4ms/step - loss: 0.8159 - accuracy: 0.7104\n",
      "Epoch 24/40\n",
      "420/420 [==============================] - 2s 4ms/step - loss: 0.8153 - accuracy: 0.7135\n",
      "Epoch 25/40\n",
      "420/420 [==============================] - 2s 4ms/step - loss: 0.8163 - accuracy: 0.7085\n",
      "Epoch 26/40\n",
      "420/420 [==============================] - 2s 4ms/step - loss: 0.7981 - accuracy: 0.7121\n",
      "Epoch 27/40\n",
      "420/420 [==============================] - 2s 4ms/step - loss: 0.7913 - accuracy: 0.7170\n",
      "Epoch 28/40\n",
      "420/420 [==============================] - 2s 4ms/step - loss: 0.7838 - accuracy: 0.7256\n",
      "Epoch 29/40\n",
      "420/420 [==============================] - 2s 4ms/step - loss: 0.7659 - accuracy: 0.7241\n",
      "Epoch 30/40\n",
      "420/420 [==============================] - 2s 4ms/step - loss: 0.7833 - accuracy: 0.7222\n",
      "Epoch 31/40\n",
      "420/420 [==============================] - 2s 4ms/step - loss: 0.7704 - accuracy: 0.7231\n",
      "Epoch 32/40\n",
      "420/420 [==============================] - 2s 4ms/step - loss: 0.7625 - accuracy: 0.7329\n",
      "Epoch 33/40\n",
      "420/420 [==============================] - 2s 4ms/step - loss: 0.7573 - accuracy: 0.7330\n",
      "Epoch 34/40\n",
      "420/420 [==============================] - 2s 4ms/step - loss: 0.7532 - accuracy: 0.7286\n",
      "Epoch 35/40\n",
      "420/420 [==============================] - 2s 4ms/step - loss: 0.7491 - accuracy: 0.7332\n",
      "Epoch 36/40\n",
      "420/420 [==============================] - 2s 4ms/step - loss: 0.7388 - accuracy: 0.7368\n",
      "Epoch 37/40\n",
      "420/420 [==============================] - 2s 4ms/step - loss: 0.7291 - accuracy: 0.7446\n",
      "Epoch 38/40\n",
      "420/420 [==============================] - 2s 4ms/step - loss: 0.7256 - accuracy: 0.7440\n",
      "Epoch 39/40\n",
      "420/420 [==============================] - 2s 4ms/step - loss: 0.7256 - accuracy: 0.7426\n",
      "Epoch 40/40\n",
      "420/420 [==============================] - 2s 4ms/step - loss: 0.7266 - accuracy: 0.7430\n"
     ]
    }
   ],
   "source": [
    "epochs = 40\n",
    "model.fit(x_train, y_train, batch_size=batch_size, shuffle=True, epochs=epochs, callbacks=[model_checkpoint])\n",
    "model.save(model_dir)"
   ]
  },
  {
   "cell_type": "code",
   "execution_count": 10,
   "metadata": {},
   "outputs": [
    {
     "name": "stdout",
     "output_type": "stream",
     "text": [
      "53/53 [==============================] - 0s 2ms/step - loss: 0.9267 - accuracy: 0.6661\n",
      "Test loss: 0.9267343878746033\n",
      "Test accuracy: 0.6660714149475098\n"
     ]
    }
   ],
   "source": [
    "score = model.evaluate(x_test, y_test, verbose=1)\n",
    "print(\"Test loss:\", score[0])\n",
    "print(\"Test accuracy:\", score[1])"
   ]
  },
  {
   "cell_type": "code",
   "execution_count": 11,
   "metadata": {},
   "outputs": [
    {
     "name": "stdout",
     "output_type": "stream",
     "text": [
      "(1, 1680, 375)\n"
     ]
    }
   ],
   "source": [
    "print(np.shape(np.array([x_test])))"
   ]
  },
  {
   "cell_type": "code",
   "execution_count": 12,
   "metadata": {},
   "outputs": [
    {
     "name": "stdout",
     "output_type": "stream",
     "text": [
      "array([[ 94,  25,   0,   0,   1,   0,   0,   0,   0,   0,   0,   0,   1,\n",
      "          1],\n",
      "       [  6,  73,   0,   0,   0,   0,   0,  21,   1,   0,   0,   2,   0,\n",
      "          0],\n",
      "       [  0,   0,  67,   3,   0,   1,   0,   0,   0,   1,   0,   0,   0,\n",
      "          0],\n",
      "       [  0,   0,  13,  38,  11,   5,   0,   0,   0,  25,   3,   1,   0,\n",
      "          0],\n",
      "       [  1,   3,   1,  43,  48,   2,   0,   0,   0,   4,  13,  12,   0,\n",
      "          0],\n",
      "       [  0,   0,  10,   6,   0,  97,   0,   0,   0,   0,   0,   0,  12,\n",
      "          0],\n",
      "       [  8,   1,   9,   0,   0,   0, 106,   0,   0,   0,   0,   0,   0,\n",
      "          5],\n",
      "       [  0,  14,   0,   0,   0,   0,   1,  96,   0,   2,   1,   0,   0,\n",
      "          2],\n",
      "       [  1,   0,   6,   3,   0,   1,   0,   0, 119,   0,   0,   0,   0,\n",
      "          0],\n",
      "       [  0,   2,  10,  12,   0,   0,   0,   0,   0,  49,   4,   0,   0,\n",
      "          0],\n",
      "       [  0,   0,   4,   8,  21,   0,   0,   0,   0,  37,  33,  16,   0,\n",
      "          0],\n",
      "       [  0,   0,   0,   7,  39,   5,   0,   0,   0,   2,  65,  88,   8,\n",
      "          0],\n",
      "       [  0,   0,   0,   0,   0,   9,   0,   0,   0,   0,   1,   1,  99,\n",
      "          0],\n",
      "       [ 10,   2,   0,   0,   0,   0,  13,   3,   0,   0,   0,   0,   0,\n",
      "        112]], dtype=int16)\n"
     ]
    },
    {
     "data": {
      "image/png": "[encoded data removed]",
      "text/plain": [
       "<Figure size 432x432 with 1 Axes>"
      ]
     },
     "metadata": {
      "needs_background": "light"
     },
     "output_type": "display_data"
    }
   ],
   "source": [
    "# draw confusion matrix\n",
    "import sys\n",
    "def progress(count, total, status=''):\n",
    "    bar_len = 60\n",
    "    filled_len = int(round(bar_len * count / float(total)))\n",
    "\n",
    "    percents = round(100.0 * count / float(total), 1)\n",
    "    bar = '=' * filled_len + '-' * (bar_len - filled_len)\n",
    "\n",
    "    sys.stdout.write('[%s] %s%s ...%s\\r' % (bar, percents, '%', status))\n",
    "    sys.stdout.flush() \n",
    "\n",
    "i = 0\n",
    "cmatrix = np.zeros((14,14), dtype=np.int16)\n",
    "for i in range(len(x_test)):\n",
    "    progress(i, 1680)\n",
    "    result = model.predict(np.array([x_test[i]])).flatten()\n",
    "    id1 = np.argmax(result)\n",
    "    id2 = np.argmax(y_test[i])\n",
    "    cmatrix[id1][id2] = cmatrix[id1][id2] + 1\n",
    "    # break\n",
    "\n",
    "cmatrix = np.absolute(cmatrix)\n",
    "print(repr(cmatrix))\n",
    "\n",
    "fig = plt.figure(figsize=(6,6))\n",
    "plt.imshow(cmatrix)\n",
    "plt.title(\"Plot 2D array\")\n",
    "plt.show()"
   ]
  },
  {
   "cell_type": "markdown",
   "metadata": {},
   "source": [
    "Confusion: <br>\n",
    "flatten vs brittle <br>\n",
    "plated partially_purple vs plated purple\n"
   ]
  },
  {
   "cell_type": "code",
   "execution_count": 9,
   "metadata": {},
   "outputs": [
    {
     "name": "stdout",
     "output_type": "stream",
     "text": [
      "[0.808, 0.708, 0.717, 0.367, 0.542, 0.783, 0.908, 0.85, 1.0, 0.458, 0.258, 0.808, 0.883, 0.967]\n"
     ]
    }
   ],
   "source": [
    "acc = []\n",
    "for i in range(14):\n",
    "    acc.append(np.round(cmatrix[i][i]/120,3))\n",
    "print(acc)"
   ]
  }
 ],
 "metadata": {
  "interpreter": {
   "hash": "26de051ba29f2982a8de78e945f0abaf191376122a1563185a90213a26c5da77"
  },
  "kernelspec": {
   "display_name": "Python 3.10.4 64-bit",
   "language": "python",
   "name": "python3"
  },
  "language_info": {
   "codemirror_mode": {
    "name": "ipython",
    "version": 3
   },
   "file_extension": ".py",
   "mimetype": "text/x-python",
   "name": "python",
   "nbconvert_exporter": "python",
   "pygments_lexer": "ipython3",
   "version": "3.10.4"
  },
  "orig_nbformat": 4
 },
 "nbformat": 4,
 "nbformat_minor": 2
}
