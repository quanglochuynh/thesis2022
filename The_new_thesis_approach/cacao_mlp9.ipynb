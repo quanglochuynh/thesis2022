{
 "cells": [
  {
   "cell_type": "code",
   "execution_count": 1,
   "metadata": {},
   "outputs": [
    {
     "name": "stdout",
     "output_type": "stream",
     "text": [
      "OS: Windows\n",
      "0 :  overall_geometry\n",
      "1 :  overall_rgb\n",
      "2 :  overall_hsv\n",
      "3 :  n1\n",
      "4 :  structure\n",
      "5 :  n2\n",
      "6 :  moldered\n",
      "7 :  color_grid\n",
      "8 :  color_grid_2\n",
      "9 :  glcm_grid\n",
      "10 :  comp_hsv\n",
      "11 :  glcm_2\n",
      "12 :  lbp\n",
      "13 :  haralick\n"
     ]
    }
   ],
   "source": [
    "import numpy as np\n",
    "import tensorflow as tf\n",
    "from tensorflow import keras\n",
    "from keras import layers\n",
    "import matplotlib.pyplot as plt\n",
    "from image_extractor import DataSetup\n",
    "data = DataSetup()"
   ]
  },
  {
   "cell_type": "code",
   "execution_count": 2,
   "metadata": {},
   "outputs": [
    {
     "name": "stdout",
     "output_type": "stream",
     "text": [
      "x_test size: (1680, 699)\n",
      "x_train size: (6720, 699)\n",
      "y_test size: (1680, 14)\n",
      "y_train size: (6720, 14)\n",
      "Model name = ' overall_geometry_color_grid_2_glcm_grid_comp_hsv_lbp_haralick.h5 '\n",
      "D:./TF_backup/mlp/overall_geometry_color_grid_2_glcm_grid_comp_hsv_lbp_haralick.h5\n"
     ]
    }
   ],
   "source": [
    "data.concat(dataID=[0, 8, 9, 10, 12, 13])\n",
    "model_dir = 'D:./TF_backup/mlp/' + data.model_name\n",
    "checkpoint_dir = 'D:./TF_checkpoint/mlp/weight/'\n",
    "print(model_dir)\n",
    "\n",
    "input_shape = (data.length,)\n",
    "batch_size = 8\n",
    "\n",
    "model_checkpoint = keras.callbacks.ModelCheckpoint(\n",
    "    checkpoint_dir,\n",
    "    save_weights_only=True,\n",
    "    monitor='val_accuracy',\n",
    "    mode='max',\n",
    ")"
   ]
  },
  {
   "cell_type": "code",
   "execution_count": 16,
   "metadata": {},
   "outputs": [],
   "source": [
    "normalizer = layers.Normalization()\n",
    "normalizer.adapt(data.x_train)\n",
    "\n",
    "# Define model\n",
    "input_layer = layers.Input(shape=input_shape)\n",
    "norm = normalizer(input_layer)\n",
    "den1 = layers.Dense(1024, activation='tanh', kernel_initializer='HeNormal')(norm)\n",
    "drop1 = layers.Dropout(0.2)(den1)\n",
    "den2 = layers.Dense(1024, activation='tanh', kernel_initializer='HeNormal')(drop1)\n",
    "drop2 = layers.Dropout(0.2)(den2)\n",
    "den3 = layers.Dense(512, activation='tanh', kernel_initializer='HeNormal')(drop2)\n",
    "drop3 = layers.Dropout(0.2)(den3)\n",
    "# den4 = layers.Dense(512, activation='tanh', kernel_initializer='HeNormal')(drop3)\n",
    "# drop4 = layers.Dropout(0.2)(den4)\n",
    "den5 = layers.Dense(14, activation='sigmoid')(drop3)\n",
    "model = keras.Model(input_layer, den5)\n",
    "\n",
    "opt = tf.keras.optimizers.SGD(\n",
    "    learning_rate=0.0001,\n",
    "    momentum=0.4,\n",
    "    nesterov=True,\n",
    "    name='SGD',\n",
    ")\n",
    "\n",
    "model.compile(\n",
    "    optimizer=opt, \n",
    "    loss=\"categorical_crossentropy\", \n",
    "    metrics=[\"accuracy\"]\n",
    "    )\n",
    "\n",
    "# model = keras.models.load_model(model_dir)"
   ]
  },
  {
   "cell_type": "code",
   "execution_count": 12,
   "metadata": {},
   "outputs": [
    {
     "name": "stdout",
     "output_type": "stream",
     "text": [
      "Model: \"model_3\"\n",
      "_________________________________________________________________\n",
      " Layer (type)                Output Shape              Param #   \n",
      "=================================================================\n",
      " input_4 (InputLayer)        [(None, 699)]             0         \n",
      "                                                                 \n",
      " normalization_1 (Normalizat  (None, 699)              1399      \n",
      " ion)                                                            \n",
      "                                                                 \n",
      " dense_12 (Dense)            (None, 1024)              716800    \n",
      "                                                                 \n",
      " dropout_9 (Dropout)         (None, 1024)              0         \n",
      "                                                                 \n",
      " dense_13 (Dense)            (None, 1024)              1049600   \n",
      "                                                                 \n",
      " dropout_10 (Dropout)        (None, 1024)              0         \n",
      "                                                                 \n",
      " dense_14 (Dense)            (None, 512)               524800    \n",
      "                                                                 \n",
      " dropout_11 (Dropout)        (None, 512)               0         \n",
      "                                                                 \n",
      " dense_15 (Dense)            (None, 14)                7182      \n",
      "                                                                 \n",
      "=================================================================\n",
      "Total params: 2,299,781\n",
      "Trainable params: 2,298,382\n",
      "Non-trainable params: 1,399\n",
      "_________________________________________________________________\n"
     ]
    }
   ],
   "source": [
    "model.summary()"
   ]
  },
  {
   "cell_type": "code",
   "execution_count": 19,
   "metadata": {},
   "outputs": [
    {
     "name": "stdout",
     "output_type": "stream",
     "text": [
      "Epoch 1/20\n",
      "1428/1428 [==============================] - 8s 6ms/step - loss: 0.8723 - accuracy: 0.7034 - val_loss: 4.3750 - val_accuracy: 0.0397\n",
      "Epoch 2/20\n",
      "1428/1428 [==============================] - 8s 5ms/step - loss: 0.8430 - accuracy: 0.7150 - val_loss: 4.4576 - val_accuracy: 0.0387\n",
      "Epoch 3/20\n",
      "1428/1428 [==============================] - 8s 5ms/step - loss: 0.8125 - accuracy: 0.7211 - val_loss: 4.5246 - val_accuracy: 0.0407\n",
      "Epoch 4/20\n",
      "1428/1428 [==============================] - 8s 5ms/step - loss: 0.7856 - accuracy: 0.7302 - val_loss: 4.5950 - val_accuracy: 0.0407\n",
      "Epoch 5/20\n",
      "1428/1428 [==============================] - 8s 5ms/step - loss: 0.7625 - accuracy: 0.7391 - val_loss: 4.6580 - val_accuracy: 0.0407\n",
      "Epoch 6/20\n",
      "1428/1428 [==============================] - 8s 5ms/step - loss: 0.7405 - accuracy: 0.7461 - val_loss: 4.7208 - val_accuracy: 0.0417\n",
      "Epoch 7/20\n",
      "1428/1428 [==============================] - 8s 5ms/step - loss: 0.7127 - accuracy: 0.7560 - val_loss: 4.7789 - val_accuracy: 0.0417\n",
      "Epoch 8/20\n",
      "1428/1428 [==============================] - 8s 5ms/step - loss: 0.7035 - accuracy: 0.7633 - val_loss: 4.8369 - val_accuracy: 0.0417\n",
      "Epoch 9/20\n",
      "1428/1428 [==============================] - 8s 5ms/step - loss: 0.6869 - accuracy: 0.7644 - val_loss: 4.8872 - val_accuracy: 0.0407\n",
      "Epoch 10/20\n",
      "1428/1428 [==============================] - 8s 5ms/step - loss: 0.6666 - accuracy: 0.7757 - val_loss: 4.9354 - val_accuracy: 0.0417\n",
      "Epoch 11/20\n",
      "1428/1428 [==============================] - 8s 5ms/step - loss: 0.6513 - accuracy: 0.7813 - val_loss: 4.9911 - val_accuracy: 0.0417\n",
      "Epoch 12/20\n",
      "1428/1428 [==============================] - 7s 5ms/step - loss: 0.6372 - accuracy: 0.7826 - val_loss: 5.0391 - val_accuracy: 0.0417\n",
      "Epoch 13/20\n",
      "1428/1428 [==============================] - 8s 5ms/step - loss: 0.6185 - accuracy: 0.7973 - val_loss: 5.0908 - val_accuracy: 0.0417\n",
      "Epoch 14/20\n",
      "1428/1428 [==============================] - 8s 6ms/step - loss: 0.5995 - accuracy: 0.7981 - val_loss: 5.1368 - val_accuracy: 0.0417\n",
      "Epoch 15/20\n",
      "1428/1428 [==============================] - 8s 5ms/step - loss: 0.5915 - accuracy: 0.8053 - val_loss: 5.1699 - val_accuracy: 0.0417\n",
      "Epoch 16/20\n",
      "1428/1428 [==============================] - 9s 6ms/step - loss: 0.5745 - accuracy: 0.8111 - val_loss: 5.2151 - val_accuracy: 0.0417\n",
      "Epoch 17/20\n",
      "1428/1428 [==============================] - 9s 6ms/step - loss: 0.5663 - accuracy: 0.8071 - val_loss: 5.2623 - val_accuracy: 0.0417\n",
      "Epoch 18/20\n",
      "1428/1428 [==============================] - 8s 5ms/step - loss: 0.5556 - accuracy: 0.8127 - val_loss: 5.2904 - val_accuracy: 0.0417\n",
      "Epoch 19/20\n",
      "1428/1428 [==============================] - 8s 6ms/step - loss: 0.5437 - accuracy: 0.8209 - val_loss: 5.3322 - val_accuracy: 0.0417\n",
      "Epoch 20/20\n",
      "1428/1428 [==============================] - 8s 6ms/step - loss: 0.5319 - accuracy: 0.8227 - val_loss: 5.3689 - val_accuracy: 0.0417\n"
     ]
    }
   ],
   "source": [
    "epochs = 20\n",
    "model.fit(data.x_train, data.y_train, batch_size=4, shuffle=True, epochs=epochs, callbacks=[model_checkpoint], validation_split=0.15)\n",
    "model.save(model_dir)"
   ]
  },
  {
   "cell_type": "code",
   "execution_count": 20,
   "metadata": {},
   "outputs": [
    {
     "name": "stdout",
     "output_type": "stream",
     "text": [
      "53/53 [==============================] - 0s 3ms/step - loss: 1.3877 - accuracy: 0.6417\n",
      "Test loss: 1.387657642364502\n",
      "Test accuracy: 0.6416666507720947\n"
     ]
    }
   ],
   "source": [
    "score = model.evaluate(data.x_test, data.y_test, verbose=1)\n",
    "print(\"Test loss:\", score[0])\n",
    "print(\"Test accuracy:\", score[1])"
   ]
  },
  {
   "cell_type": "code",
   "execution_count": null,
   "metadata": {},
   "outputs": [
    {
     "data": {
      "image/png": "[encoded data removed]",
      "text/plain": [
       "<Figure size 432x432 with 1 Axes>"
      ]
     },
     "metadata": {
      "needs_background": "light"
     },
     "output_type": "display_data"
    }
   ],
   "source": [
    "i = 0\n",
    "cmatrix = np.zeros((14,14), dtype=np.int16)\n",
    "bat = int(len(data.x_test)/60)\n",
    "for i in range(0, len(data.x_test),bat):\n",
    "    result = model.predict_on_batch(data.x_test[i:i+bat])\n",
    "    ans = data.y_test[i:i+bat]\n",
    "    for j in range(bat):\n",
    "        id1 = np.argmax(result[j])\n",
    "        id2 = np.argmax(ans[j])\n",
    "        cmatrix[id1, id2] = cmatrix[id1][id2] + 1\n",
    "\n",
    "cmatrix = np.absolute(cmatrix)\n",
    "# print(repr(cmatrix))\n",
    "\n",
    "fig = plt.figure(figsize=(6,6))\n",
    "plt.imshow(cmatrix)\n",
    "plt.title(\"Plot 2D array\")\n",
    "plt.show()"
   ]
  },
  {
   "cell_type": "code",
   "execution_count": null,
   "metadata": {},
   "outputs": [
    {
     "name": "stdout",
     "output_type": "stream",
     "text": [
      "Agglutinated: \t \t0.817\n",
      "Brittle: \t \t0.667\n",
      "Compartmentalized_Brown: \t \t0.583\n",
      "Compartmentalized_PartiallyPurple: \t \t0.425\n",
      "Compartmentalized_Purple: \t \t0.55\n",
      "Compartmentalized_Slaty: \t \t0.908\n",
      "Compartmentalized_White: \t \t0.9\n",
      "Flattened: \t \t0.9\n",
      "Moldered: \t \t0.942\n",
      "Plated_Brown: \t \t0.633\n",
      "Plated_PartiallyPurple: \t \t0.225\n",
      "Plated_Purple: \t \t0.842\n",
      "Plated_Slaty: \t \t0.933\n",
      "Plated_White: \t \t0.933\n",
      "0.7327142857142857\n"
     ]
    }
   ],
   "source": [
    "classes_name = ['Agglutinated', 'Brittle', 'Compartmentalized_Brown', 'Compartmentalized_PartiallyPurple', 'Compartmentalized_Purple', 'Compartmentalized_Slaty', 'Compartmentalized_White', 'Flattened', 'Moldered', 'Plated_Brown', 'Plated_PartiallyPurple', 'Plated_Purple', 'Plated_Slaty', 'Plated_White']\n",
    "acc = []\n",
    "for i in range(14):\n",
    "    acc.append(np.round(cmatrix[i][i]/120,3))\n",
    "    print(classes_name[i] + ': \\t \\t' + str(acc[i]))\n",
    "print(np.mean(acc))"
   ]
  }
 ],
 "metadata": {
  "kernelspec": {
   "display_name": "Python 3.10.4 64-bit",
   "language": "python",
   "name": "python3"
  },
  "language_info": {
   "codemirror_mode": {
    "name": "ipython",
    "version": 3
   },
   "file_extension": ".py",
   "mimetype": "text/x-python",
   "name": "python",
   "nbconvert_exporter": "python",
   "pygments_lexer": "ipython3",
   "version": "3.10.4"
  },
  "orig_nbformat": 4,
  "vscode": {
   "interpreter": {
    "hash": "26de051ba29f2982a8de78e945f0abaf191376122a1563185a90213a26c5da77"
   }
  }
 },
 "nbformat": 4,
 "nbformat_minor": 2
}
