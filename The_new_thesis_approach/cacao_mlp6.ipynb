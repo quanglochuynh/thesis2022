{
 "cells": [
  {
   "cell_type": "code",
   "execution_count": 1,
   "metadata": {},
   "outputs": [],
   "source": [
    "import numpy as np\n",
    "import pathlib\n",
    "import os\n",
    "import tensorflow as tf\n",
    "from tensorflow import keras\n",
    "from keras import layers\n",
    "import matplotlib.pyplot as plt"
   ]
  },
  {
   "cell_type": "code",
   "execution_count": 6,
   "metadata": {},
   "outputs": [],
   "source": [
    "input_shape = (399,)\n",
    "batch_size = 16\n",
    "\n",
    "cwd = os.getcwd()\n",
    "x_train_dir = pathlib.Path(cwd + '/data/X_train_399.npz')\n",
    "y_train_dir = pathlib.Path(cwd + '/data/Y_train_195.npz')\n",
    "x_test_dir  = pathlib.Path(cwd + '/data/X_test_399.npz')\n",
    "y_test_dir  = pathlib.Path(cwd + '/data/Y_test_195.npz')\n",
    "checkpoint_dir = pathlib.Path('D:./TF_checkpoint/mlp/weight/')\n",
    "model_dir = pathlib.Path('D:./TF_backup/mlp/mlp7_399.h5')\n",
    "\n",
    "x_train = np.asarray(np.load(x_train_dir, allow_pickle=True)['arr_0'], dtype=np.float32)\n",
    "y_train = np.asarray(np.load(y_train_dir, allow_pickle=True)['arr_0'], dtype=np.float32)\n",
    "x_test = np.asarray(np.load(x_test_dir, allow_pickle=True)['arr_0'], dtype=np.float32)\n",
    "y_test = np.asarray(np.load(y_test_dir, allow_pickle=True)['arr_0'], dtype=np.float32)\n",
    "\n",
    "model_checkpoint = keras.callbacks.ModelCheckpoint(\n",
    "    checkpoint_dir,\n",
    "    save_weights_only=True,\n",
    "    monitor='val_accuracy',\n",
    "    mode='max',\n",
    ")"
   ]
  },
  {
   "cell_type": "code",
   "execution_count": 4,
   "metadata": {},
   "outputs": [
    {
     "name": "stdout",
     "output_type": "stream",
     "text": [
      "(6720, 399)\n"
     ]
    }
   ],
   "source": [
    "print(np.shape(x_train))"
   ]
  },
  {
   "cell_type": "code",
   "execution_count": 5,
   "metadata": {},
   "outputs": [],
   "source": [
    "normalizer = layers.Normalization()\n",
    "normalizer.adapt(x_train)\n",
    "\n",
    "# Define model\n",
    "input_layer = layers.Input(shape=input_shape)\n",
    "norm = normalizer(input_layer)\n",
    "den1 = layers.Dense(512, activation='relu', kernel_initializer='HeNormal')(norm)\n",
    "drop1 = layers.Dropout(0.2)(den1)\n",
    "den2 = layers.Dense(512, activation='relu', kernel_initializer='HeNormal')(drop1)\n",
    "drop2 = layers.Dropout(0.2)(den2)\n",
    "den3 = layers.Dense(256, activation='relu', kernel_initializer='HeNormal')(drop2)\n",
    "drop3 = layers.Dropout(0.2)(den3)\n",
    "den4 = layers.Dense(14, activation='softmax')(drop3)\n",
    "model = keras.Model(input_layer, den4)\n",
    "\n",
    "opt = tf.keras.optimizers.SGD(\n",
    "    learning_rate=0.0001,\n",
    "    momentum=0.8,\n",
    "    nesterov=True,\n",
    "    name='SGD',\n",
    ")\n",
    "\n",
    "model.compile(\n",
    "    optimizer=opt, \n",
    "    loss=\"categorical_crossentropy\", \n",
    "    metrics=[\"accuracy\"]\n",
    "    )"
   ]
  },
  {
   "cell_type": "code",
   "execution_count": 7,
   "metadata": {},
   "outputs": [
    {
     "name": "stdout",
     "output_type": "stream",
     "text": [
      "Model: \"model\"\n",
      "_________________________________________________________________\n",
      " Layer (type)                Output Shape              Param #   \n",
      "=================================================================\n",
      " input_1 (InputLayer)        [(None, 399)]             0         \n",
      "                                                                 \n",
      " normalization (Normalizatio  (None, 399)              799       \n",
      " n)                                                              \n",
      "                                                                 \n",
      " dense (Dense)               (None, 512)               204800    \n",
      "                                                                 \n",
      " dropout (Dropout)           (None, 512)               0         \n",
      "                                                                 \n",
      " dense_1 (Dense)             (None, 512)               262656    \n",
      "                                                                 \n",
      " dropout_1 (Dropout)         (None, 512)               0         \n",
      "                                                                 \n",
      " dense_2 (Dense)             (None, 256)               131328    \n",
      "                                                                 \n",
      " dropout_2 (Dropout)         (None, 256)               0         \n",
      "                                                                 \n",
      " dense_3 (Dense)             (None, 14)                3598      \n",
      "                                                                 \n",
      "=================================================================\n",
      "Total params: 603,181\n",
      "Trainable params: 602,382\n",
      "Non-trainable params: 799\n",
      "_________________________________________________________________\n"
     ]
    }
   ],
   "source": [
    "model.summary()"
   ]
  },
  {
   "cell_type": "code",
   "execution_count": 12,
   "metadata": {},
   "outputs": [
    {
     "name": "stdout",
     "output_type": "stream",
     "text": [
      "Epoch 1/40\n",
      "420/420 [==============================] - 2s 5ms/step - loss: 0.8063 - accuracy: 0.7083\n",
      "Epoch 2/40\n",
      "420/420 [==============================] - 2s 4ms/step - loss: 0.7867 - accuracy: 0.7259\n",
      "Epoch 3/40\n",
      "420/420 [==============================] - 2s 4ms/step - loss: 0.7801 - accuracy: 0.7272\n",
      "Epoch 4/40\n",
      "420/420 [==============================] - 2s 4ms/step - loss: 0.7808 - accuracy: 0.7240\n",
      "Epoch 5/40\n",
      "420/420 [==============================] - 2s 4ms/step - loss: 0.7719 - accuracy: 0.7222\n",
      "Epoch 6/40\n",
      "420/420 [==============================] - 2s 4ms/step - loss: 0.7493 - accuracy: 0.7400\n",
      "Epoch 7/40\n",
      "420/420 [==============================] - 2s 4ms/step - loss: 0.7376 - accuracy: 0.7362\n",
      "Epoch 8/40\n",
      "420/420 [==============================] - 2s 4ms/step - loss: 0.7461 - accuracy: 0.7366\n",
      "Epoch 9/40\n",
      "420/420 [==============================] - 2s 4ms/step - loss: 0.7235 - accuracy: 0.7458\n",
      "Epoch 10/40\n",
      "420/420 [==============================] - 2s 4ms/step - loss: 0.7207 - accuracy: 0.7445\n",
      "Epoch 11/40\n",
      "420/420 [==============================] - 2s 4ms/step - loss: 0.7279 - accuracy: 0.7396\n",
      "Epoch 12/40\n",
      "420/420 [==============================] - 2s 4ms/step - loss: 0.7171 - accuracy: 0.7500\n",
      "Epoch 13/40\n",
      "420/420 [==============================] - 2s 4ms/step - loss: 0.7024 - accuracy: 0.7501\n",
      "Epoch 14/40\n",
      "420/420 [==============================] - 2s 4ms/step - loss: 0.6979 - accuracy: 0.7537\n",
      "Epoch 15/40\n",
      "420/420 [==============================] - 2s 4ms/step - loss: 0.6957 - accuracy: 0.7494\n",
      "Epoch 16/40\n",
      "420/420 [==============================] - 2s 4ms/step - loss: 0.6850 - accuracy: 0.7539\n",
      "Epoch 17/40\n",
      "420/420 [==============================] - 2s 4ms/step - loss: 0.6727 - accuracy: 0.7588\n",
      "Epoch 18/40\n",
      "420/420 [==============================] - 2s 4ms/step - loss: 0.6644 - accuracy: 0.7714\n",
      "Epoch 19/40\n",
      "420/420 [==============================] - 2s 4ms/step - loss: 0.6608 - accuracy: 0.7689\n",
      "Epoch 20/40\n",
      "420/420 [==============================] - 2s 4ms/step - loss: 0.6661 - accuracy: 0.7604\n",
      "Epoch 21/40\n",
      "420/420 [==============================] - 2s 4ms/step - loss: 0.6519 - accuracy: 0.7731\n",
      "Epoch 22/40\n",
      "420/420 [==============================] - 2s 4ms/step - loss: 0.6441 - accuracy: 0.7702\n",
      "Epoch 23/40\n",
      "420/420 [==============================] - 2s 4ms/step - loss: 0.6436 - accuracy: 0.7688\n",
      "Epoch 24/40\n",
      "420/420 [==============================] - 2s 4ms/step - loss: 0.6250 - accuracy: 0.7810\n",
      "Epoch 25/40\n",
      "420/420 [==============================] - 2s 4ms/step - loss: 0.6224 - accuracy: 0.7735\n",
      "Epoch 26/40\n",
      "420/420 [==============================] - 2s 4ms/step - loss: 0.6183 - accuracy: 0.7777\n",
      "Epoch 27/40\n",
      "420/420 [==============================] - 2s 4ms/step - loss: 0.6196 - accuracy: 0.7777\n",
      "Epoch 28/40\n",
      "420/420 [==============================] - 2s 4ms/step - loss: 0.6111 - accuracy: 0.7817\n",
      "Epoch 29/40\n",
      "420/420 [==============================] - 2s 4ms/step - loss: 0.6143 - accuracy: 0.7746\n",
      "Epoch 30/40\n",
      "420/420 [==============================] - 2s 4ms/step - loss: 0.5931 - accuracy: 0.7865\n",
      "Epoch 31/40\n",
      "420/420 [==============================] - 2s 4ms/step - loss: 0.5978 - accuracy: 0.7881\n",
      "Epoch 32/40\n",
      "420/420 [==============================] - 2s 4ms/step - loss: 0.5774 - accuracy: 0.7888\n",
      "Epoch 33/40\n",
      "420/420 [==============================] - 2s 4ms/step - loss: 0.5911 - accuracy: 0.7940\n",
      "Epoch 34/40\n",
      "420/420 [==============================] - 2s 4ms/step - loss: 0.5878 - accuracy: 0.7888\n",
      "Epoch 35/40\n",
      "420/420 [==============================] - 2s 4ms/step - loss: 0.5709 - accuracy: 0.8003\n",
      "Epoch 36/40\n",
      "420/420 [==============================] - 2s 4ms/step - loss: 0.5685 - accuracy: 0.7987\n",
      "Epoch 37/40\n",
      "420/420 [==============================] - 2s 4ms/step - loss: 0.5717 - accuracy: 0.7966\n",
      "Epoch 38/40\n",
      "420/420 [==============================] - 2s 4ms/step - loss: 0.5497 - accuracy: 0.8082\n",
      "Epoch 39/40\n",
      "420/420 [==============================] - 2s 4ms/step - loss: 0.5593 - accuracy: 0.8022\n",
      "Epoch 40/40\n",
      "420/420 [==============================] - 2s 4ms/step - loss: 0.5478 - accuracy: 0.8052\n"
     ]
    }
   ],
   "source": [
    "epochs = 40\n",
    "model.fit(x_train, y_train, batch_size=batch_size, shuffle=True, epochs=epochs, callbacks=[model_checkpoint])\n",
    "model.save(model_dir)"
   ]
  },
  {
   "cell_type": "code",
   "execution_count": 13,
   "metadata": {},
   "outputs": [
    {
     "name": "stdout",
     "output_type": "stream",
     "text": [
      "53/53 [==============================] - 0s 4ms/step - loss: 0.7822 - accuracy: 0.7185\n",
      "Test loss: 0.7821994423866272\n",
      "Test accuracy: 0.7184523940086365\n"
     ]
    }
   ],
   "source": [
    "score = model.evaluate(x_test, y_test, verbose=1)\n",
    "print(\"Test loss:\", score[0])\n",
    "print(\"Test accuracy:\", score[1])"
   ]
  },
  {
   "cell_type": "code",
   "execution_count": 13,
   "metadata": {},
   "outputs": [
    {
     "name": "stdout",
     "output_type": "stream",
     "text": [
      "(1, 1680, 219)\n"
     ]
    }
   ],
   "source": [
    "print(np.shape(np.array([x_test])))"
   ]
  },
  {
   "cell_type": "code",
   "execution_count": 14,
   "metadata": {},
   "outputs": [
    {
     "name": "stdout",
     "output_type": "stream",
     "text": [
      "array([[ 97,  17,   0,   0,   1,   0,   0,   1,   0,   0,   0,   0,   0,\n",
      "          1],\n",
      "       [  7,  85,   0,   0,   0,   0,   0,  15,   0,   0,   0,   0,   0,\n",
      "          0],\n",
      "       [  0,   0,  86,  10,   0,   3,   2,   0,   0,   1,   0,   0,   0,\n",
      "          0],\n",
      "       [  0,   0,  17,  44,  13,   2,   0,   0,   0,  12,   5,   0,   0,\n",
      "          0],\n",
      "       [  0,   0,   3,  28,  65,   2,   0,   0,   0,   1,   8,   6,   0,\n",
      "          0],\n",
      "       [  0,   0,   0,   0,   0,  94,   0,   0,   0,   0,   0,   0,   8,\n",
      "          0],\n",
      "       [ 10,   0,   9,   0,   0,   0, 109,   0,   0,   1,   0,   0,   0,\n",
      "          2],\n",
      "       [  2,  18,   0,   0,   0,   0,   0, 102,   0,   1,   0,   0,   0,\n",
      "          1],\n",
      "       [  3,   0,   3,   0,   0,   0,   0,   0, 120,   2,   0,   0,   0,\n",
      "          0],\n",
      "       [  0,   0,   2,  11,   0,   1,   0,   2,   0,  55,   7,   0,   0,\n",
      "          0],\n",
      "       [  0,   0,   0,  17,  20,   1,   0,   0,   0,  44,  31,  17,   2,\n",
      "          0],\n",
      "       [  0,   0,   0,  10,  21,   4,   0,   0,   0,   0,  69,  97,   4,\n",
      "          0],\n",
      "       [  0,   0,   0,   0,   0,  13,   0,   0,   0,   0,   0,   0, 106,\n",
      "          0],\n",
      "       [  1,   0,   0,   0,   0,   0,   9,   0,   0,   3,   0,   0,   0,\n",
      "        116]], dtype=int16)\n"
     ]
    },
    {
     "data": {
      "image/png": "[encoded data removed]",
      "text/plain": [
       "<Figure size 432x432 with 1 Axes>"
      ]
     },
     "metadata": {
      "needs_background": "light"
     },
     "output_type": "display_data"
    }
   ],
   "source": [
    "# draw confusion matrix\n",
    "import sys\n",
    "def progress(count, total, status=''):\n",
    "    bar_len = 60\n",
    "    filled_len = int(round(bar_len * count / float(total)))\n",
    "\n",
    "    percents = round(100.0 * count / float(total), 1)\n",
    "    bar = '=' * filled_len + '-' * (bar_len - filled_len)\n",
    "\n",
    "    sys.stdout.write('[%s] %s%s ...%s\\r' % (bar, percents, '%', status))\n",
    "    sys.stdout.flush() \n",
    "\n",
    "i = 0\n",
    "cmatrix = np.zeros((14,14), dtype=np.int16)\n",
    "for i in range(len(x_test)):\n",
    "    progress(i, 1680)\n",
    "    result = model.predict(np.array([x_test[i]])).flatten()\n",
    "    id1 = np.argmax(result)\n",
    "    id2 = np.argmax(y_test[i])\n",
    "    cmatrix[id1][id2] = cmatrix[id1][id2] + 1\n",
    "    # break\n",
    "\n",
    "cmatrix = np.absolute(cmatrix)\n",
    "print(repr(cmatrix))\n",
    "\n",
    "fig = plt.figure(figsize=(6,6))\n",
    "plt.imshow(cmatrix)\n",
    "plt.title(\"Plot 2D array\")\n",
    "plt.show()"
   ]
  },
  {
   "cell_type": "markdown",
   "metadata": {},
   "source": [
    "Confusion:\n",
    "flatten vs brittle\n",
    "comp purple vs plated purple\n"
   ]
  }
 ],
 "metadata": {
  "interpreter": {
   "hash": "26de051ba29f2982a8de78e945f0abaf191376122a1563185a90213a26c5da77"
  },
  "kernelspec": {
   "display_name": "Python 3.10.4 64-bit",
   "language": "python",
   "name": "python3"
  },
  "language_info": {
   "codemirror_mode": {
    "name": "ipython",
    "version": 3
   },
   "file_extension": ".py",
   "mimetype": "text/x-python",
   "name": "python",
   "nbconvert_exporter": "python",
   "pygments_lexer": "ipython3",
   "version": "3.10.4"
  },
  "orig_nbformat": 4
 },
 "nbformat": 4,
 "nbformat_minor": 2
}
