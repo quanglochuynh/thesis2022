{
 "cells": [
  {
   "cell_type": "code",
   "execution_count": 1,
   "metadata": {},
   "outputs": [
    {
     "name": "stdout",
     "output_type": "stream",
     "text": [
      "OS: Windows\n",
      "0 :  overall_geometry\n",
      "1 :  overall_rgb\n",
      "2 :  overall_hsv\n",
      "3 :  color_grid\n",
      "4 :  glcm_grid\n",
      "5 :  comp_hsv\n",
      "6 :  lbp_hist\n",
      "7 :  haralick\n",
      "8 :  red_haralick\n",
      "9 :  blue_haralick\n"
     ]
    }
   ],
   "source": [
    "import numpy as np\n",
    "import tensorflow as tf\n",
    "from tensorflow import keras\n",
    "from keras import layers\n",
    "import matplotlib.pyplot as plt\n",
    "from image_extractor import DataSetup\n",
    "data = DataSetup()"
   ]
  },
  {
   "cell_type": "code",
   "execution_count": 36,
   "metadata": {},
   "outputs": [
    {
     "name": "stdout",
     "output_type": "stream",
     "text": [
      "x_test size: (1260, 613)\n",
      "x_train size: (7140, 613)\n",
      "y_test size: (1260, 14)\n",
      "y_train size: (7140, 14)\n",
      "Model name = ' overall_geometry_overall_rgb_color_grid_glcm_grid_comp_hsv_red_haralick_blue_haralick.h5 '\n",
      "D:./TF_backup/mlp/overall_geometry_overall_rgb_color_grid_glcm_grid_comp_hsv_red_haralick_blue_haralick.h5\n"
     ]
    }
   ],
   "source": [
    "data.concat(dataID=[0, 1, 3, 4, 5, 8, 9])\n",
    "model_dir = 'D:./TF_backup/mlp/' + data.model_name\n",
    "checkpoint_dir = 'D:./TF_checkpoint/mlp/weight/'\n",
    "print(model_dir)\n",
    "\n",
    "input_shape = (data.length,)\n",
    "batch_size = 8\n",
    "\n",
    "model_checkpoint = keras.callbacks.ModelCheckpoint(\n",
    "    checkpoint_dir,\n",
    "    save_weights_only=True,\n",
    "    monitor='val_accuracy',\n",
    "    mode='max',\n",
    ")"
   ]
  },
  {
   "cell_type": "code",
   "execution_count": 37,
   "metadata": {},
   "outputs": [],
   "source": [
    "normalizer = layers.Normalization()\n",
    "normalizer.adapt(data.x_train)\n",
    "\n",
    "# Define model\n",
    "input_layer = layers.Input(shape=input_shape)\n",
    "norm = normalizer(input_layer)\n",
    "den1 = layers.Dense(1024, activation='tanh', kernel_initializer='HeNormal')(norm)\n",
    "drop1 = layers.Dropout(0.2)(den1)\n",
    "den2 = layers.Dense(1024, activation='tanh', kernel_initializer='HeNormal')(drop1)\n",
    "drop2 = layers.Dropout(0.2)(den2)\n",
    "den3 = layers.Dense(512, activation='tanh', kernel_initializer='HeNormal')(drop2)\n",
    "drop3 = layers.Dropout(0.2)(den3)\n",
    "# den4 = layers.Dense(512, activation='tanh', kernel_initializer='HeNormal')(drop3)\n",
    "# drop4 = layers.Dropout(0.2)(den4)\n",
    "den5 = layers.Dense(14, activation='softmax')(drop3)\n",
    "model = keras.Model(input_layer, den5)\n",
    "\n",
    "opt = tf.keras.optimizers.SGD(\n",
    "    learning_rate=0.00008,\n",
    "    momentum=0.2,\n",
    "    nesterov=True,\n",
    "    name='SGD',\n",
    ")\n",
    "\n",
    "model.compile(\n",
    "    optimizer=opt, \n",
    "    loss=\"categorical_crossentropy\", \n",
    "    metrics=[\"accuracy\"]\n",
    "    )\n",
    "\n",
    "# model = keras.models.load_model(model_dir)"
   ]
  },
  {
   "cell_type": "code",
   "execution_count": 38,
   "metadata": {},
   "outputs": [
    {
     "name": "stdout",
     "output_type": "stream",
     "text": [
      "Model: \"model_5\"\n",
      "_________________________________________________________________\n",
      " Layer (type)                Output Shape              Param #   \n",
      "=================================================================\n",
      " input_6 (InputLayer)        [(None, 613)]             0         \n",
      "                                                                 \n",
      " normalization_5 (Normalizat  (None, 613)              1227      \n",
      " ion)                                                            \n",
      "                                                                 \n",
      " dense_20 (Dense)            (None, 1024)              628736    \n",
      "                                                                 \n",
      " dropout_15 (Dropout)        (None, 1024)              0         \n",
      "                                                                 \n",
      " dense_21 (Dense)            (None, 1024)              1049600   \n",
      "                                                                 \n",
      " dropout_16 (Dropout)        (None, 1024)              0         \n",
      "                                                                 \n",
      " dense_22 (Dense)            (None, 512)               524800    \n",
      "                                                                 \n",
      " dropout_17 (Dropout)        (None, 512)               0         \n",
      "                                                                 \n",
      " dense_23 (Dense)            (None, 14)                7182      \n",
      "                                                                 \n",
      "=================================================================\n",
      "Total params: 2,211,545\n",
      "Trainable params: 2,210,318\n",
      "Non-trainable params: 1,227\n",
      "_________________________________________________________________\n"
     ]
    }
   ],
   "source": [
    "model.summary()"
   ]
  },
  {
   "cell_type": "code",
   "execution_count": 39,
   "metadata": {},
   "outputs": [
    {
     "name": "stdout",
     "output_type": "stream",
     "text": [
      "Epoch 1/40\n",
      "893/893 [==============================] - 5s 5ms/step - loss: 2.8079 - accuracy: 0.1137\n",
      "Epoch 2/40\n",
      "893/893 [==============================] - 4s 5ms/step - loss: 2.3360 - accuracy: 0.2347\n",
      "Epoch 3/40\n",
      "893/893 [==============================] - 4s 5ms/step - loss: 2.0356 - accuracy: 0.3279\n",
      "Epoch 4/40\n",
      "893/893 [==============================] - 5s 5ms/step - loss: 1.8449 - accuracy: 0.3895\n",
      "Epoch 5/40\n",
      "893/893 [==============================] - 4s 5ms/step - loss: 1.7078 - accuracy: 0.4263\n",
      "Epoch 6/40\n",
      "893/893 [==============================] - 4s 5ms/step - loss: 1.5832 - accuracy: 0.4676\n",
      "Epoch 7/40\n",
      "893/893 [==============================] - 4s 5ms/step - loss: 1.5008 - accuracy: 0.4937\n",
      "Epoch 8/40\n",
      "893/893 [==============================] - 4s 5ms/step - loss: 1.4218 - accuracy: 0.5252\n",
      "Epoch 9/40\n",
      "893/893 [==============================] - 4s 5ms/step - loss: 1.3685 - accuracy: 0.5371\n",
      "Epoch 10/40\n",
      "893/893 [==============================] - 4s 5ms/step - loss: 1.3016 - accuracy: 0.5654\n",
      "Epoch 11/40\n",
      "893/893 [==============================] - 4s 5ms/step - loss: 1.2592 - accuracy: 0.5775\n",
      "Epoch 12/40\n",
      "893/893 [==============================] - 4s 5ms/step - loss: 1.2203 - accuracy: 0.5831\n",
      "Epoch 13/40\n",
      "893/893 [==============================] - 4s 5ms/step - loss: 1.1783 - accuracy: 0.6080\n",
      "Epoch 14/40\n",
      "893/893 [==============================] - 4s 5ms/step - loss: 1.1535 - accuracy: 0.6115\n",
      "Epoch 15/40\n",
      "893/893 [==============================] - 4s 5ms/step - loss: 1.1095 - accuracy: 0.6218\n",
      "Epoch 16/40\n",
      "893/893 [==============================] - 4s 5ms/step - loss: 1.0930 - accuracy: 0.6259\n",
      "Epoch 17/40\n",
      "893/893 [==============================] - 4s 5ms/step - loss: 1.0600 - accuracy: 0.6405\n",
      "Epoch 18/40\n",
      "893/893 [==============================] - 4s 5ms/step - loss: 1.0497 - accuracy: 0.6430\n",
      "Epoch 19/40\n",
      "893/893 [==============================] - 4s 5ms/step - loss: 1.0194 - accuracy: 0.6552\n",
      "Epoch 20/40\n",
      "893/893 [==============================] - 4s 5ms/step - loss: 0.9989 - accuracy: 0.6620\n",
      "Epoch 21/40\n",
      "893/893 [==============================] - 4s 5ms/step - loss: 0.9793 - accuracy: 0.6660\n",
      "Epoch 22/40\n",
      "893/893 [==============================] - 4s 5ms/step - loss: 0.9565 - accuracy: 0.6742\n",
      "Epoch 23/40\n",
      "893/893 [==============================] - 4s 5ms/step - loss: 0.9408 - accuracy: 0.6765\n",
      "Epoch 24/40\n",
      "893/893 [==============================] - 4s 5ms/step - loss: 0.9232 - accuracy: 0.6807\n",
      "Epoch 25/40\n",
      "893/893 [==============================] - 4s 5ms/step - loss: 0.9065 - accuracy: 0.6866\n",
      "Epoch 26/40\n",
      "893/893 [==============================] - 4s 5ms/step - loss: 0.9060 - accuracy: 0.6896\n",
      "Epoch 27/40\n",
      "893/893 [==============================] - 4s 5ms/step - loss: 0.8855 - accuracy: 0.6944\n",
      "Epoch 28/40\n",
      "893/893 [==============================] - 4s 5ms/step - loss: 0.8769 - accuracy: 0.6979\n",
      "Epoch 29/40\n",
      "893/893 [==============================] - 4s 5ms/step - loss: 0.8541 - accuracy: 0.7080\n",
      "Epoch 30/40\n",
      "893/893 [==============================] - 4s 5ms/step - loss: 0.8431 - accuracy: 0.7120\n",
      "Epoch 31/40\n",
      "893/893 [==============================] - 4s 5ms/step - loss: 0.8345 - accuracy: 0.7153\n",
      "Epoch 32/40\n",
      "893/893 [==============================] - 4s 5ms/step - loss: 0.8255 - accuracy: 0.7193\n",
      "Epoch 33/40\n",
      "893/893 [==============================] - 4s 5ms/step - loss: 0.8257 - accuracy: 0.7134\n",
      "Epoch 34/40\n",
      "893/893 [==============================] - 4s 5ms/step - loss: 0.7980 - accuracy: 0.7261\n",
      "Epoch 35/40\n",
      "893/893 [==============================] - 4s 5ms/step - loss: 0.7827 - accuracy: 0.7314\n",
      "Epoch 36/40\n",
      "893/893 [==============================] - 4s 5ms/step - loss: 0.7860 - accuracy: 0.7366\n",
      "Epoch 37/40\n",
      "893/893 [==============================] - 4s 5ms/step - loss: 0.7632 - accuracy: 0.7441\n",
      "Epoch 38/40\n",
      "893/893 [==============================] - 4s 5ms/step - loss: 0.7630 - accuracy: 0.7399\n",
      "Epoch 39/40\n",
      "893/893 [==============================] - 4s 5ms/step - loss: 0.7551 - accuracy: 0.7455\n",
      "Epoch 40/40\n",
      "893/893 [==============================] - 4s 5ms/step - loss: 0.7480 - accuracy: 0.7447\n",
      "Epoch 1/10\n",
      "1785/1785 [==============================] - 9s 5ms/step - loss: 0.7277 - accuracy: 0.7543\n",
      "Epoch 2/10\n",
      "1785/1785 [==============================] - 8s 5ms/step - loss: 0.7193 - accuracy: 0.7539\n",
      "Epoch 3/10\n",
      "1785/1785 [==============================] - 8s 5ms/step - loss: 0.6981 - accuracy: 0.7616\n",
      "Epoch 4/10\n",
      "1785/1785 [==============================] - 9s 5ms/step - loss: 0.6872 - accuracy: 0.7671\n",
      "Epoch 5/10\n",
      "1785/1785 [==============================] - 8s 5ms/step - loss: 0.6914 - accuracy: 0.7662\n",
      "Epoch 6/10\n",
      "1785/1785 [==============================] - 8s 5ms/step - loss: 0.6688 - accuracy: 0.7716\n",
      "Epoch 7/10\n",
      "1785/1785 [==============================] - 8s 5ms/step - loss: 0.6597 - accuracy: 0.7776\n",
      "Epoch 8/10\n",
      "1785/1785 [==============================] - 8s 5ms/step - loss: 0.6452 - accuracy: 0.7800\n",
      "Epoch 9/10\n",
      "1785/1785 [==============================] - 8s 5ms/step - loss: 0.6409 - accuracy: 0.7818\n",
      "Epoch 10/10\n",
      "1785/1785 [==============================] - 8s 5ms/step - loss: 0.6321 - accuracy: 0.7840\n"
     ]
    }
   ],
   "source": [
    "epochs = 40\n",
    "history = model.fit(data.x_train, data.y_train, batch_size=8, shuffle=True, epochs=epochs, callbacks=[model_checkpoint])\n",
    "epochs = 10\n",
    "history = model.fit(data.x_train, data.y_train, batch_size=4, shuffle=True, epochs=epochs, callbacks=[model_checkpoint])\n",
    "model.save(model_dir)"
   ]
  },
  {
   "cell_type": "code",
   "execution_count": 40,
   "metadata": {},
   "outputs": [
    {
     "data": {
      "text/plain": [
       "[<matplotlib.lines.Line2D at 0x1fd58674f70>]"
      ]
     },
     "execution_count": 40,
     "metadata": {},
     "output_type": "execute_result"
    },
    {
     "data": {
      "image/png": "[encoded data removed]",
      "text/plain": [
       "<Figure size 432x288 with 1 Axes>"
      ]
     },
     "metadata": {
      "needs_background": "light"
     },
     "output_type": "display_data"
    }
   ],
   "source": [
    "plt.plot(history.history['accuracy'])\n",
    "plt.plot(history.history['loss'])"
   ]
  },
  {
   "cell_type": "code",
   "execution_count": 41,
   "metadata": {},
   "outputs": [
    {
     "name": "stdout",
     "output_type": "stream",
     "text": [
      "40/40 [==============================] - 0s 6ms/step - loss: 0.6507 - accuracy: 0.7675\n",
      "Test loss: 0.6506837010383606\n",
      "Test accuracy: 0.7674603462219238\n"
     ]
    }
   ],
   "source": [
    "score = model.evaluate(data.x_test, data.y_test, verbose=1)\n",
    "print(\"Test loss:\", score[0])\n",
    "print(\"Test accuracy:\", score[1])"
   ]
  },
  {
   "cell_type": "code",
   "execution_count": 42,
   "metadata": {},
   "outputs": [
    {
     "data": {
      "image/png": "[encoded data removed]",
      "text/plain": [
       "<Figure size 432x432 with 1 Axes>"
      ]
     },
     "metadata": {
      "needs_background": "light"
     },
     "output_type": "display_data"
    }
   ],
   "source": [
    "i = 0\n",
    "cmatrix = np.zeros((14,14), dtype=np.int16)\n",
    "bat = int(len(data.x_test)/60)\n",
    "for i in range(0, len(data.x_test),bat):\n",
    "    result = model.predict_on_batch(data.x_test[i:i+bat])\n",
    "    ans = data.y_test[i:i+bat]\n",
    "    for j in range(bat):\n",
    "        id1 = np.argmax(result[j])\n",
    "        id2 = np.argmax(ans[j])\n",
    "        cmatrix[id1, id2] = cmatrix[id1][id2] + 1\n",
    "\n",
    "cmatrix = np.absolute(cmatrix)\n",
    "# print(repr(cmatrix))\n",
    "\n",
    "fig = plt.figure(figsize=(6,6))\n",
    "plt.imshow(cmatrix)\n",
    "plt.title(\"Plot 2D array\")\n",
    "plt.show()"
   ]
  },
  {
   "cell_type": "code",
   "execution_count": 16,
   "metadata": {},
   "outputs": [
    {
     "name": "stdout",
     "output_type": "stream",
     "text": [
      "Agglutinated: \t \t0.911\n",
      "Brittle: \t \t0.567\n",
      "Compartmentalized_Brown: \t \t0.7\n",
      "Compartmentalized_PartiallyPurple: \t \t0.5\n",
      "Compartmentalized_Purple: \t \t0.633\n",
      "Compartmentalized_Slaty: \t \t0.889\n",
      "Compartmentalized_White: \t \t0.911\n",
      "Flattened: \t \t1.0\n",
      "Moldered: \t \t0.822\n",
      "Plated_Brown: \t \t0.456\n",
      "Plated_PartiallyPurple: \t \t0.267\n",
      "Plated_Purple: \t \t0.833\n",
      "Plated_Slaty: \t \t0.933\n",
      "Plated_White: \t \t0.911\n",
      "0.7380714285714286\n"
     ]
    }
   ],
   "source": [
    "classes_name = ['Agglutinated', 'Brittle', 'Compartmentalized_Brown', 'Compartmentalized_PartiallyPurple', 'Compartmentalized_Purple', 'Compartmentalized_Slaty', 'Compartmentalized_White', 'Flattened', 'Moldered', 'Plated_Brown', 'Plated_PartiallyPurple', 'Plated_Purple', 'Plated_Slaty', 'Plated_White']\n",
    "acc = []\n",
    "for i in range(14):\n",
    "    acc.append(np.round(cmatrix[i][i]/90,3))\n",
    "    print(classes_name[i] + ': \\t \\t' + str(acc[i]))\n",
    "print(np.mean(acc))"
   ]
  }
 ],
 "metadata": {
  "kernelspec": {
   "display_name": "Python 3.10.4 64-bit",
   "language": "python",
   "name": "python3"
  },
  "language_info": {
   "codemirror_mode": {
    "name": "ipython",
    "version": 3
   },
   "file_extension": ".py",
   "mimetype": "text/x-python",
   "name": "python",
   "nbconvert_exporter": "python",
   "pygments_lexer": "ipython3",
   "version": "3.10.4"
  },
  "orig_nbformat": 4,
  "vscode": {
   "interpreter": {
    "hash": "26de051ba29f2982a8de78e945f0abaf191376122a1563185a90213a26c5da77"
   }
  }
 },
 "nbformat": 4,
 "nbformat_minor": 2
}
