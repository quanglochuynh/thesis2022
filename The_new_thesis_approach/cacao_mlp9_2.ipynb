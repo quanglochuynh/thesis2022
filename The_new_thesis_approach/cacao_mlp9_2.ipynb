{
 "cells": [
  {
   "cell_type": "code",
   "execution_count": 1,
   "metadata": {},
   "outputs": [
    {
     "name": "stdout",
     "output_type": "stream",
     "text": [
      "OS: Windows\n",
      "0 :  overall_geometry\n",
      "1 :  overall_rgb\n",
      "2 :  overall_hsv\n",
      "3 :  n1\n",
      "4 :  structure\n",
      "5 :  n2\n",
      "6 :  moldered\n",
      "7 :  color_grid\n",
      "8 :  color_grid_2\n",
      "9 :  glcm_grid\n",
      "10 :  comp_hsv\n",
      "11 :  glcm_2\n",
      "12 :  lbp\n",
      "13 :  haralick\n"
     ]
    }
   ],
   "source": [
    "import numpy as np\n",
    "import tensorflow as tf\n",
    "from tensorflow import keras\n",
    "from keras import layers\n",
    "import matplotlib.pyplot as plt\n",
    "from image_extractor import DataSetup\n",
    "data = DataSetup()"
   ]
  },
  {
   "cell_type": "code",
   "execution_count": 3,
   "metadata": {},
   "outputs": [
    {
     "name": "stdout",
     "output_type": "stream",
     "text": [
      "x_test size: (1680, 699)\n",
      "x_train size: (6720, 699)\n",
      "y_test size: (1680, 14)\n",
      "y_train size: (6720, 14)\n",
      "Model name = ' overall_geometry_color_grid_2_glcm_grid_comp_hsv_lbp_haralick.h5 '\n",
      "D:./TF_backup/mlp/2_overall_geometry_color_grid_2_glcm_grid_comp_hsv_lbp_haralick.h5\n"
     ]
    }
   ],
   "source": [
    "data.concat(dataID=[0, 8, 9, 10, 12, 13])\n",
    "model_dir = 'D:./TF_backup/mlp/2_' + data.model_name\n",
    "checkpoint_dir = 'D:./TF_checkpoint/mlp/weight/'\n",
    "print(model_dir)\n",
    "\n",
    "input_shape = (data.length,)\n",
    "batch_size = 8\n",
    "\n",
    "model_checkpoint = keras.callbacks.ModelCheckpoint(\n",
    "    checkpoint_dir,\n",
    "    save_weights_only=True,\n",
    "    monitor='val_accuracy',\n",
    "    mode='max',\n",
    ")"
   ]
  },
  {
   "cell_type": "code",
   "execution_count": 22,
   "metadata": {},
   "outputs": [],
   "source": [
    "normalizer = layers.Normalization()\n",
    "normalizer.adapt(data.x_train)\n",
    "\n",
    "# Define model\n",
    "input_layer = layers.Input(shape=input_shape)\n",
    "norm = normalizer(input_layer)\n",
    "den1 = layers.Dense(1024, activation='tanh', kernel_initializer='HeNormal')(norm)\n",
    "drop1 = layers.Dropout(0.2)(den1)\n",
    "den2 = layers.Dense(1024, activation='tanh', kernel_initializer='HeNormal')(drop1)\n",
    "drop2 = layers.Dropout(0.2)(den2)\n",
    "den3 = layers.Dense(512, activation='tanh', kernel_initializer='HeNormal')(drop2)\n",
    "drop3 = layers.Dropout(0.2)(den3)\n",
    "# den4 = layers.Dense(512, activation='tanh', kernel_initializer='HeNormal')(drop3)\n",
    "# drop4 = layers.Dropout(0.2)(den4)\n",
    "den5 = layers.Dense(14, activation='softmax')(drop3)\n",
    "model = keras.Model(input_layer, den5)\n",
    "\n",
    "opt = tf.keras.optimizers.SGD(\n",
    "    learning_rate=0.00008,\n",
    "    momentum=0.2,\n",
    "    nesterov=True,\n",
    "    name='SGD',\n",
    ")\n",
    "\n",
    "model.compile(\n",
    "    optimizer=opt, \n",
    "    loss=\"categorical_crossentropy\", \n",
    "    metrics=[\"accuracy\"]\n",
    "    )\n",
    "\n",
    "# model = keras.models.load_model(model_dir)"
   ]
  },
  {
   "cell_type": "code",
   "execution_count": 23,
   "metadata": {},
   "outputs": [
    {
     "name": "stdout",
     "output_type": "stream",
     "text": [
      "Model: \"model_1\"\n",
      "_________________________________________________________________\n",
      " Layer (type)                Output Shape              Param #   \n",
      "=================================================================\n",
      " input_2 (InputLayer)        [(None, 699)]             0         \n",
      "                                                                 \n",
      " normalization_1 (Normalizat  (None, 699)              1399      \n",
      " ion)                                                            \n",
      "                                                                 \n",
      " dense_4 (Dense)             (None, 1024)              716800    \n",
      "                                                                 \n",
      " dropout_3 (Dropout)         (None, 1024)              0         \n",
      "                                                                 \n",
      " dense_5 (Dense)             (None, 1024)              1049600   \n",
      "                                                                 \n",
      " dropout_4 (Dropout)         (None, 1024)              0         \n",
      "                                                                 \n",
      " dense_6 (Dense)             (None, 512)               524800    \n",
      "                                                                 \n",
      " dropout_5 (Dropout)         (None, 512)               0         \n",
      "                                                                 \n",
      " dense_7 (Dense)             (None, 14)                7182      \n",
      "                                                                 \n",
      "=================================================================\n",
      "Total params: 2,299,781\n",
      "Trainable params: 2,298,382\n",
      "Non-trainable params: 1,399\n",
      "_________________________________________________________________\n"
     ]
    }
   ],
   "source": [
    "model.summary()"
   ]
  },
  {
   "cell_type": "code",
   "execution_count": 26,
   "metadata": {},
   "outputs": [
    {
     "name": "stdout",
     "output_type": "stream",
     "text": [
      "Epoch 1/20\n",
      "1680/1680 [==============================] - 9s 5ms/step - loss: 0.7572 - accuracy: 0.7381\n",
      "Epoch 2/20\n",
      "1680/1680 [==============================] - 8s 5ms/step - loss: 0.7459 - accuracy: 0.7452\n",
      "Epoch 3/20\n",
      "1680/1680 [==============================] - 8s 5ms/step - loss: 0.7281 - accuracy: 0.7488\n",
      "Epoch 4/20\n",
      "1680/1680 [==============================] - 8s 5ms/step - loss: 0.7170 - accuracy: 0.7534\n",
      "Epoch 5/20\n",
      "1680/1680 [==============================] - 8s 5ms/step - loss: 0.7097 - accuracy: 0.7563\n",
      "Epoch 6/20\n",
      "1680/1680 [==============================] - 8s 5ms/step - loss: 0.7028 - accuracy: 0.7573\n",
      "Epoch 7/20\n",
      "1680/1680 [==============================] - 8s 5ms/step - loss: 0.6784 - accuracy: 0.7732\n",
      "Epoch 8/20\n",
      "1680/1680 [==============================] - 8s 5ms/step - loss: 0.6771 - accuracy: 0.7673\n",
      "Epoch 9/20\n",
      "1680/1680 [==============================] - 8s 5ms/step - loss: 0.6570 - accuracy: 0.7744\n",
      "Epoch 10/20\n",
      "1680/1680 [==============================] - 8s 5ms/step - loss: 0.6523 - accuracy: 0.7768\n",
      "Epoch 11/20\n",
      "1680/1680 [==============================] - 8s 5ms/step - loss: 0.6368 - accuracy: 0.7839\n",
      "Epoch 12/20\n",
      "1680/1680 [==============================] - 8s 5ms/step - loss: 0.6241 - accuracy: 0.7881\n",
      "Epoch 13/20\n",
      "1680/1680 [==============================] - 8s 5ms/step - loss: 0.6318 - accuracy: 0.7844\n",
      "Epoch 14/20\n",
      "1680/1680 [==============================] - 8s 5ms/step - loss: 0.6164 - accuracy: 0.7932\n",
      "Epoch 15/20\n",
      "1680/1680 [==============================] - 8s 5ms/step - loss: 0.5962 - accuracy: 0.7985\n",
      "Epoch 16/20\n",
      "1680/1680 [==============================] - 8s 5ms/step - loss: 0.6003 - accuracy: 0.7997\n",
      "Epoch 17/20\n",
      "1680/1680 [==============================] - 8s 5ms/step - loss: 0.5786 - accuracy: 0.8073\n",
      "Epoch 18/20\n",
      "1680/1680 [==============================] - 8s 5ms/step - loss: 0.5762 - accuracy: 0.8065\n",
      "Epoch 19/20\n",
      "1680/1680 [==============================] - 8s 5ms/step - loss: 0.5832 - accuracy: 0.8022\n",
      "Epoch 20/20\n",
      "1680/1680 [==============================] - 8s 5ms/step - loss: 0.5654 - accuracy: 0.8109\n"
     ]
    }
   ],
   "source": [
    "epochs = 20\n",
    "history = model.fit(data.x_train, data.y_train, batch_size=4, shuffle=True, epochs=epochs, callbacks=[model_checkpoint])\n",
    "model.save(model_dir)"
   ]
  },
  {
   "cell_type": "code",
   "execution_count": 27,
   "metadata": {},
   "outputs": [
    {
     "data": {
      "text/plain": [
       "[<matplotlib.lines.Line2D at 0x27b3ba5a9b0>]"
      ]
     },
     "execution_count": 27,
     "metadata": {},
     "output_type": "execute_result"
    },
    {
     "data": {
      "image/png": "[encoded data removed]",
      "text/plain": [
       "<Figure size 432x288 with 1 Axes>"
      ]
     },
     "metadata": {
      "needs_background": "light"
     },
     "output_type": "display_data"
    }
   ],
   "source": [
    "plt.plot(history.history['accuracy'])\n",
    "plt.plot(history.history['loss'])"
   ]
  },
  {
   "cell_type": "code",
   "execution_count": 28,
   "metadata": {},
   "outputs": [
    {
     "name": "stdout",
     "output_type": "stream",
     "text": [
      "53/53 [==============================] - 0s 5ms/step - loss: 0.7466 - accuracy: 0.7351\n",
      "Test loss: 0.7465691566467285\n",
      "Test accuracy: 0.7351190447807312\n"
     ]
    }
   ],
   "source": [
    "score = model.evaluate(data.x_test, data.y_test, verbose=1)\n",
    "print(\"Test loss:\", score[0])\n",
    "print(\"Test accuracy:\", score[1])"
   ]
  },
  {
   "cell_type": "code",
   "execution_count": 29,
   "metadata": {},
   "outputs": [
    {
     "data": {
      "image/png": "[encoded data removed]",
      "text/plain": [
       "<Figure size 432x432 with 1 Axes>"
      ]
     },
     "metadata": {
      "needs_background": "light"
     },
     "output_type": "display_data"
    }
   ],
   "source": [
    "i = 0\n",
    "cmatrix = np.zeros((14,14), dtype=np.int16)\n",
    "bat = int(len(data.x_test)/60)\n",
    "for i in range(0, len(data.x_test),bat):\n",
    "    result = model.predict_on_batch(data.x_test[i:i+bat])\n",
    "    ans = data.y_test[i:i+bat]\n",
    "    for j in range(bat):\n",
    "        id1 = np.argmax(result[j])\n",
    "        id2 = np.argmax(ans[j])\n",
    "        cmatrix[id1, id2] = cmatrix[id1][id2] + 1\n",
    "\n",
    "cmatrix = np.absolute(cmatrix)\n",
    "# print(repr(cmatrix))\n",
    "\n",
    "fig = plt.figure(figsize=(6,6))\n",
    "plt.imshow(cmatrix)\n",
    "plt.title(\"Plot 2D array\")\n",
    "plt.show()"
   ]
  },
  {
   "cell_type": "code",
   "execution_count": 18,
   "metadata": {},
   "outputs": [
    {
     "name": "stdout",
     "output_type": "stream",
     "text": [
      "Agglutinated: \t \t0.817\n",
      "Brittle: \t \t0.6\n",
      "Compartmentalized_Brown: \t \t0.675\n",
      "Compartmentalized_PartiallyPurple: \t \t0.417\n",
      "Compartmentalized_Purple: \t \t0.608\n",
      "Compartmentalized_Slaty: \t \t0.892\n",
      "Compartmentalized_White: \t \t0.917\n",
      "Flattened: \t \t0.908\n",
      "Moldered: \t \t0.933\n",
      "Plated_Brown: \t \t0.692\n",
      "Plated_PartiallyPurple: \t \t0.275\n",
      "Plated_Purple: \t \t0.817\n",
      "Plated_Slaty: \t \t0.9\n",
      "Plated_White: \t \t0.942\n",
      "0.7423571428571429\n"
     ]
    }
   ],
   "source": [
    "classes_name = ['Agglutinated', 'Brittle', 'Compartmentalized_Brown', 'Compartmentalized_PartiallyPurple', 'Compartmentalized_Purple', 'Compartmentalized_Slaty', 'Compartmentalized_White', 'Flattened', 'Moldered', 'Plated_Brown', 'Plated_PartiallyPurple', 'Plated_Purple', 'Plated_Slaty', 'Plated_White']\n",
    "acc = []\n",
    "for i in range(14):\n",
    "    acc.append(np.round(cmatrix[i][i]/120,3))\n",
    "    print(classes_name[i] + ': \\t \\t' + str(acc[i]))\n",
    "print(np.mean(acc))"
   ]
  }
 ],
 "metadata": {
  "kernelspec": {
   "display_name": "Python 3.10.4 64-bit",
   "language": "python",
   "name": "python3"
  },
  "language_info": {
   "codemirror_mode": {
    "name": "ipython",
    "version": 3
   },
   "file_extension": ".py",
   "mimetype": "text/x-python",
   "name": "python",
   "nbconvert_exporter": "python",
   "pygments_lexer": "ipython3",
   "version": "3.10.4"
  },
  "orig_nbformat": 4,
  "vscode": {
   "interpreter": {
    "hash": "26de051ba29f2982a8de78e945f0abaf191376122a1563185a90213a26c5da77"
   }
  }
 },
 "nbformat": 4,
 "nbformat_minor": 2
}
