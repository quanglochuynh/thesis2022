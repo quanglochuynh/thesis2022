{
 "cells": [
  {
   "cell_type": "code",
   "execution_count": 1,
   "metadata": {},
   "outputs": [
    {
     "name": "stdout",
     "output_type": "stream",
     "text": [
      "OS: Windows\n",
      "0 :  overall_geometry\n",
      "1 :  overall_rgb\n",
      "2 :  overall_hsv\n",
      "3 :  color_grid\n",
      "4 :  glcm_grid\n",
      "5 :  comp_hsv\n",
      "6 :  lbp_hist\n",
      "7 :  haralick\n",
      "8 :  red_haralick\n",
      "9 :  blue_haralick\n"
     ]
    }
   ],
   "source": [
    "import numpy as np\n",
    "import tensorflow as tf\n",
    "from tensorflow import keras\n",
    "from keras import layers\n",
    "import matplotlib.pyplot as plt\n",
    "from image_extractor import DataSetup\n",
    "data = DataSetup()"
   ]
  },
  {
   "cell_type": "code",
   "execution_count": 21,
   "metadata": {},
   "outputs": [
    {
     "name": "stdout",
     "output_type": "stream",
     "text": [
      "x_test size: (1260, 253)\n",
      "x_train size: (7140, 253)\n",
      "y_test size: (1260, 14)\n",
      "y_train size: (7140, 14)\n",
      "Model name = ' overall_geometry_overall_rgb_comp_hsv_haralick_red_haralick_blue_haralick.h5 '\n",
      "D:./TF_backup/mlp/overall_geometry_overall_rgb_comp_hsv_haralick_red_haralick_blue_haralick.h5\n"
     ]
    }
   ],
   "source": [
    "data.concat(dataID=[0, 1, 5, 7, 8, 9])\n",
    "model_dir = 'D:./TF_backup/mlp/' + data.model_name\n",
    "checkpoint_dir = 'D:./TF_checkpoint/mlp/weight/'\n",
    "print(model_dir)\n",
    "\n",
    "input_shape = (data.length,)\n",
    "batch_size = 8\n",
    "\n",
    "model_checkpoint = keras.callbacks.ModelCheckpoint(\n",
    "    checkpoint_dir,\n",
    "    save_weights_only=True,\n",
    "    monitor='val_accuracy',\n",
    "    mode='max',\n",
    ")"
   ]
  },
  {
   "cell_type": "code",
   "execution_count": 22,
   "metadata": {},
   "outputs": [],
   "source": [
    "normalizer = layers.Normalization()\n",
    "normalizer.adapt(data.x_train)\n",
    "\n",
    "# Define model\n",
    "input_layer = layers.Input(shape=input_shape)\n",
    "norm = normalizer(input_layer)\n",
    "den1 = layers.Dense(512, activation='tanh', kernel_initializer='HeNormal')(norm)\n",
    "drop1 = layers.Dropout(0.2)(den1)\n",
    "den2 = layers.Dense(512, activation='tanh', kernel_initializer='HeNormal')(drop1)\n",
    "drop2 = layers.Dropout(0.2)(den2)\n",
    "den3 = layers.Dense(512, activation='tanh', kernel_initializer='HeNormal')(drop2)\n",
    "drop3 = layers.Dropout(0.2)(den3)\n",
    "# den4 = layers.Dense(512, activation='tanh', kernel_initializer='HeNormal')(drop3)\n",
    "# drop4 = layers.Dropout(0.2)(den4)\n",
    "den5 = layers.Dense(14, activation='softmax')(drop3)\n",
    "model = keras.Model(input_layer, den5)\n",
    "\n",
    "opt = tf.keras.optimizers.SGD(\n",
    "    learning_rate=0.00008,\n",
    "    momentum=0.2,\n",
    "    nesterov=True,\n",
    "    name='SGD',\n",
    ")\n",
    "\n",
    "model.compile(\n",
    "    optimizer=opt, \n",
    "    loss=\"categorical_crossentropy\", \n",
    "    metrics=[\"accuracy\"]\n",
    "    )\n",
    "\n",
    "# model = keras.models.load_model(model_dir)"
   ]
  },
  {
   "cell_type": "code",
   "execution_count": 23,
   "metadata": {},
   "outputs": [
    {
     "name": "stdout",
     "output_type": "stream",
     "text": [
      "Model: \"model_3\"\n",
      "_________________________________________________________________\n",
      " Layer (type)                Output Shape              Param #   \n",
      "=================================================================\n",
      " input_4 (InputLayer)        [(None, 253)]             0         \n",
      "                                                                 \n",
      " normalization_3 (Normalizat  (None, 253)              507       \n",
      " ion)                                                            \n",
      "                                                                 \n",
      " dense_12 (Dense)            (None, 512)               130048    \n",
      "                                                                 \n",
      " dropout_9 (Dropout)         (None, 512)               0         \n",
      "                                                                 \n",
      " dense_13 (Dense)            (None, 512)               262656    \n",
      "                                                                 \n",
      " dropout_10 (Dropout)        (None, 512)               0         \n",
      "                                                                 \n",
      " dense_14 (Dense)            (None, 512)               262656    \n",
      "                                                                 \n",
      " dropout_11 (Dropout)        (None, 512)               0         \n",
      "                                                                 \n",
      " dense_15 (Dense)            (None, 14)                7182      \n",
      "                                                                 \n",
      "=================================================================\n",
      "Total params: 663,049\n",
      "Trainable params: 662,542\n",
      "Non-trainable params: 507\n",
      "_________________________________________________________________\n"
     ]
    }
   ],
   "source": [
    "model.summary()"
   ]
  },
  {
   "cell_type": "code",
   "execution_count": 24,
   "metadata": {},
   "outputs": [
    {
     "name": "stdout",
     "output_type": "stream",
     "text": [
      "Epoch 1/20\n",
      "893/893 [==============================] - 5s 5ms/step - loss: 2.8806 - accuracy: 0.0950\n",
      "Epoch 2/20\n",
      "893/893 [==============================] - 4s 4ms/step - loss: 2.3496 - accuracy: 0.2244\n",
      "Epoch 3/20\n",
      "893/893 [==============================] - 4s 4ms/step - loss: 2.0594 - accuracy: 0.3158\n",
      "Epoch 4/20\n",
      "893/893 [==============================] - 4s 4ms/step - loss: 1.8501 - accuracy: 0.3730\n",
      "Epoch 5/20\n",
      "893/893 [==============================] - 4s 4ms/step - loss: 1.7112 - accuracy: 0.4228\n",
      "Epoch 6/20\n",
      "893/893 [==============================] - 4s 5ms/step - loss: 1.6262 - accuracy: 0.4485\n",
      "Epoch 7/20\n",
      "893/893 [==============================] - 3s 4ms/step - loss: 1.5474 - accuracy: 0.4752\n",
      "Epoch 8/20\n",
      "893/893 [==============================] - 4s 4ms/step - loss: 1.4809 - accuracy: 0.4882\n",
      "Epoch 9/20\n",
      "893/893 [==============================] - 4s 4ms/step - loss: 1.4198 - accuracy: 0.5155\n",
      "Epoch 10/20\n",
      "893/893 [==============================] - 4s 4ms/step - loss: 1.3793 - accuracy: 0.5234\n",
      "Epoch 11/20\n",
      "893/893 [==============================] - 4s 4ms/step - loss: 1.3346 - accuracy: 0.5391\n",
      "Epoch 12/20\n",
      "893/893 [==============================] - 4s 4ms/step - loss: 1.2966 - accuracy: 0.5555\n",
      "Epoch 13/20\n",
      "893/893 [==============================] - 4s 5ms/step - loss: 1.2706 - accuracy: 0.5655\n",
      "Epoch 14/20\n",
      "893/893 [==============================] - 5s 5ms/step - loss: 1.2336 - accuracy: 0.5759\n",
      "Epoch 15/20\n",
      "893/893 [==============================] - 5s 5ms/step - loss: 1.1984 - accuracy: 0.5891\n",
      "Epoch 16/20\n",
      "893/893 [==============================] - 5s 6ms/step - loss: 1.1776 - accuracy: 0.5861\n",
      "Epoch 17/20\n",
      "893/893 [==============================] - 4s 4ms/step - loss: 1.1553 - accuracy: 0.6039\n",
      "Epoch 18/20\n",
      "893/893 [==============================] - 3s 4ms/step - loss: 1.1403 - accuracy: 0.6073\n",
      "Epoch 19/20\n",
      "893/893 [==============================] - 3s 4ms/step - loss: 1.1192 - accuracy: 0.6074\n",
      "Epoch 20/20\n",
      "893/893 [==============================] - 3s 4ms/step - loss: 1.0891 - accuracy: 0.6270\n",
      "Epoch 1/20\n",
      "1785/1785 [==============================] - 7s 4ms/step - loss: 1.0721 - accuracy: 0.6275\n",
      "Epoch 2/20\n",
      "1785/1785 [==============================] - 6s 4ms/step - loss: 1.0438 - accuracy: 0.6359\n",
      "Epoch 3/20\n",
      "1785/1785 [==============================] - 6s 4ms/step - loss: 1.0230 - accuracy: 0.6363\n",
      "Epoch 4/20\n",
      "1785/1785 [==============================] - 6s 4ms/step - loss: 0.9889 - accuracy: 0.6555\n",
      "Epoch 5/20\n",
      "1785/1785 [==============================] - 6s 4ms/step - loss: 0.9696 - accuracy: 0.6602\n",
      "Epoch 6/20\n",
      "1785/1785 [==============================] - 7s 4ms/step - loss: 0.9405 - accuracy: 0.6706\n",
      "Epoch 7/20\n",
      "1785/1785 [==============================] - 7s 4ms/step - loss: 0.9110 - accuracy: 0.6836\n",
      "Epoch 8/20\n",
      "1785/1785 [==============================] - 7s 4ms/step - loss: 0.9060 - accuracy: 0.6822\n",
      "Epoch 9/20\n",
      "1785/1785 [==============================] - 7s 4ms/step - loss: 0.8865 - accuracy: 0.6857\n",
      "Epoch 10/20\n",
      "1785/1785 [==============================] - 7s 4ms/step - loss: 0.8815 - accuracy: 0.6860\n",
      "Epoch 11/20\n",
      "1785/1785 [==============================] - 7s 4ms/step - loss: 0.8594 - accuracy: 0.6948\n",
      "Epoch 12/20\n",
      "1785/1785 [==============================] - 7s 4ms/step - loss: 0.8470 - accuracy: 0.6936\n",
      "Epoch 13/20\n",
      "1785/1785 [==============================] - 9s 5ms/step - loss: 0.8468 - accuracy: 0.7022\n",
      "Epoch 14/20\n",
      "1785/1785 [==============================] - 9s 5ms/step - loss: 0.8337 - accuracy: 0.6993\n",
      "Epoch 15/20\n",
      "1785/1785 [==============================] - 9s 5ms/step - loss: 0.8171 - accuracy: 0.7073\n",
      "Epoch 16/20\n",
      "1785/1785 [==============================] - 8s 5ms/step - loss: 0.8076 - accuracy: 0.7147\n",
      "Epoch 17/20\n",
      "1785/1785 [==============================] - 7s 4ms/step - loss: 0.7904 - accuracy: 0.7246\n",
      "Epoch 18/20\n",
      "1785/1785 [==============================] - 7s 4ms/step - loss: 0.7823 - accuracy: 0.7210\n",
      "Epoch 19/20\n",
      "1785/1785 [==============================] - 7s 4ms/step - loss: 0.7857 - accuracy: 0.7214\n",
      "Epoch 20/20\n",
      "1785/1785 [==============================] - 9s 5ms/step - loss: 0.7667 - accuracy: 0.7246\n"
     ]
    }
   ],
   "source": [
    "epochs = 20\n",
    "history = model.fit(data.x_train, data.y_train, batch_size=8, shuffle=True, epochs=epochs, callbacks=[model_checkpoint])\n",
    "epochs = 20\n",
    "history = model.fit(data.x_train, data.y_train, batch_size=4, shuffle=True, epochs=epochs, callbacks=[model_checkpoint])\n",
    "model.save(model_dir)"
   ]
  },
  {
   "cell_type": "code",
   "execution_count": 25,
   "metadata": {},
   "outputs": [
    {
     "data": {
      "text/plain": [
       "[<matplotlib.lines.Line2D at 0x1fd58614640>]"
      ]
     },
     "execution_count": 25,
     "metadata": {},
     "output_type": "execute_result"
    },
    {
     "data": {
      "image/png": "[encoded data removed]",
      "text/plain": [
       "<Figure size 432x288 with 1 Axes>"
      ]
     },
     "metadata": {
      "needs_background": "light"
     },
     "output_type": "display_data"
    }
   ],
   "source": [
    "plt.plot(history.history['accuracy'])\n",
    "plt.plot(history.history['loss'])"
   ]
  },
  {
   "cell_type": "code",
   "execution_count": 26,
   "metadata": {},
   "outputs": [
    {
     "name": "stdout",
     "output_type": "stream",
     "text": [
      "40/40 [==============================] - 0s 2ms/step - loss: 0.7133 - accuracy: 0.7437\n",
      "Test loss: 0.7132627964019775\n",
      "Test accuracy: 0.7436507940292358\n"
     ]
    }
   ],
   "source": [
    "score = model.evaluate(data.x_test, data.y_test, verbose=1)\n",
    "print(\"Test loss:\", score[0])\n",
    "print(\"Test accuracy:\", score[1])"
   ]
  },
  {
   "cell_type": "code",
   "execution_count": 20,
   "metadata": {},
   "outputs": [
    {
     "data": {
      "image/png": "[encoded data removed]",
      "text/plain": [
       "<Figure size 432x432 with 1 Axes>"
      ]
     },
     "metadata": {
      "needs_background": "light"
     },
     "output_type": "display_data"
    }
   ],
   "source": [
    "i = 0\n",
    "cmatrix = np.zeros((14,14), dtype=np.int16)\n",
    "bat = int(len(data.x_test)/60)\n",
    "for i in range(0, len(data.x_test),bat):\n",
    "    result = model.predict_on_batch(data.x_test[i:i+bat])\n",
    "    ans = data.y_test[i:i+bat]\n",
    "    for j in range(bat):\n",
    "        id1 = np.argmax(result[j])\n",
    "        id2 = np.argmax(ans[j])\n",
    "        cmatrix[id1, id2] = cmatrix[id1][id2] + 1\n",
    "\n",
    "cmatrix = np.absolute(cmatrix)\n",
    "# print(repr(cmatrix))\n",
    "\n",
    "fig = plt.figure(figsize=(6,6))\n",
    "plt.imshow(cmatrix)\n",
    "plt.title(\"Plot 2D array\")\n",
    "plt.show()"
   ]
  },
  {
   "cell_type": "code",
   "execution_count": 16,
   "metadata": {},
   "outputs": [
    {
     "name": "stdout",
     "output_type": "stream",
     "text": [
      "Agglutinated: \t \t0.911\n",
      "Brittle: \t \t0.567\n",
      "Compartmentalized_Brown: \t \t0.7\n",
      "Compartmentalized_PartiallyPurple: \t \t0.5\n",
      "Compartmentalized_Purple: \t \t0.633\n",
      "Compartmentalized_Slaty: \t \t0.889\n",
      "Compartmentalized_White: \t \t0.911\n",
      "Flattened: \t \t1.0\n",
      "Moldered: \t \t0.822\n",
      "Plated_Brown: \t \t0.456\n",
      "Plated_PartiallyPurple: \t \t0.267\n",
      "Plated_Purple: \t \t0.833\n",
      "Plated_Slaty: \t \t0.933\n",
      "Plated_White: \t \t0.911\n",
      "0.7380714285714286\n"
     ]
    }
   ],
   "source": [
    "classes_name = ['Agglutinated', 'Brittle', 'Compartmentalized_Brown', 'Compartmentalized_PartiallyPurple', 'Compartmentalized_Purple', 'Compartmentalized_Slaty', 'Compartmentalized_White', 'Flattened', 'Moldered', 'Plated_Brown', 'Plated_PartiallyPurple', 'Plated_Purple', 'Plated_Slaty', 'Plated_White']\n",
    "acc = []\n",
    "for i in range(14):\n",
    "    acc.append(np.round(cmatrix[i][i]/90,3))\n",
    "    print(classes_name[i] + ': \\t \\t' + str(acc[i]))\n",
    "print(np.mean(acc))"
   ]
  }
 ],
 "metadata": {
  "kernelspec": {
   "display_name": "Python 3.10.4 64-bit",
   "language": "python",
   "name": "python3"
  },
  "language_info": {
   "codemirror_mode": {
    "name": "ipython",
    "version": 3
   },
   "file_extension": ".py",
   "mimetype": "text/x-python",
   "name": "python",
   "nbconvert_exporter": "python",
   "pygments_lexer": "ipython3",
   "version": "3.10.4"
  },
  "orig_nbformat": 4,
  "vscode": {
   "interpreter": {
    "hash": "26de051ba29f2982a8de78e945f0abaf191376122a1563185a90213a26c5da77"
   }
  }
 },
 "nbformat": 4,
 "nbformat_minor": 2
}
