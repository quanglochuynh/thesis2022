{
 "cells": [
  {
   "cell_type": "code",
   "execution_count": 1,
   "metadata": {},
   "outputs": [],
   "source": [
    "import numpy as np\n",
    "import pathlib\n",
    "import os\n",
    "import tensorflow as tf\n",
    "from tensorflow import keras\n",
    "from keras import layers\n",
    "import matplotlib.pyplot as plt"
   ]
  },
  {
   "cell_type": "code",
   "execution_count": 4,
   "metadata": {},
   "outputs": [],
   "source": [
    "input_shape = (631,)\n",
    "batch_size = 8\n",
    "\n",
    "cwd = os.getcwd()\n",
    "x_train_dir = pathlib.Path(cwd + '/data/X_train_631_new.npz')\n",
    "y_train_dir = pathlib.Path(cwd + '/data/Y_train_195.npz')\n",
    "x_test_dir  = pathlib.Path(cwd + '/data/X_test_631_new.npz')\n",
    "y_test_dir  = pathlib.Path(cwd + '/data/Y_test_195.npz')\n",
    "checkpoint_dir = pathlib.Path('D:./TF_checkpoint/mlp/weight/')\n",
    "model_dir = pathlib.Path('D:./TF_backup/mlp/mlp7_631.h5')\n",
    "\n",
    "x_train = np.asarray(np.load(x_train_dir, allow_pickle=True)['arr_0'], dtype=np.float32)\n",
    "y_train = np.asarray(np.load(y_train_dir, allow_pickle=True)['arr_0'], dtype=np.float32)\n",
    "x_test = np.asarray(np.load(x_test_dir, allow_pickle=True)['arr_0'], dtype=np.float32)\n",
    "y_test = np.asarray(np.load(y_test_dir, allow_pickle=True)['arr_0'], dtype=np.float32)\n",
    "\n",
    "model_checkpoint = keras.callbacks.ModelCheckpoint(\n",
    "    checkpoint_dir,\n",
    "    save_weights_only=True,\n",
    "    monitor='val_accuracy',\n",
    "    mode='max',\n",
    ")"
   ]
  },
  {
   "cell_type": "code",
   "execution_count": 5,
   "metadata": {},
   "outputs": [
    {
     "name": "stdout",
     "output_type": "stream",
     "text": [
      "(6720, 631)\n"
     ]
    }
   ],
   "source": [
    "print(np.shape(x_train))"
   ]
  },
  {
   "cell_type": "code",
   "execution_count": 6,
   "metadata": {},
   "outputs": [],
   "source": [
    "normalizer = layers.Normalization()\n",
    "normalizer.adapt(x_train)\n",
    "\n",
    "# Define model\n",
    "input_layer = layers.Input(shape=input_shape)\n",
    "norm = normalizer(input_layer)\n",
    "den1 = layers.Dense(1024, activation='relu', kernel_initializer='HeNormal')(norm)\n",
    "drop1 = layers.Dropout(0.2)(den1)\n",
    "den2 = layers.Dense(1024, activation='relu', kernel_initializer='HeNormal')(drop1)\n",
    "drop2 = layers.Dropout(0.2)(den2)\n",
    "den3 = layers.Dense(1024, activation='relu', kernel_initializer='HeNormal')(drop2)\n",
    "drop3 = layers.Dropout(0.2)(den3)\n",
    "den4 = layers.Dense(14, activation='softmax')(drop3)\n",
    "model = keras.Model(input_layer, den4)\n",
    "\n",
    "opt = tf.keras.optimizers.SGD(\n",
    "    learning_rate=0.0001,\n",
    "    momentum=0.8,\n",
    "    nesterov=True,\n",
    "    name='SGD',\n",
    ")\n",
    "\n",
    "model.compile(\n",
    "    optimizer=opt, \n",
    "    loss=\"categorical_crossentropy\", \n",
    "    metrics=[\"accuracy\"]\n",
    "    )"
   ]
  },
  {
   "cell_type": "code",
   "execution_count": 7,
   "metadata": {},
   "outputs": [
    {
     "name": "stdout",
     "output_type": "stream",
     "text": [
      "Model: \"model\"\n",
      "_________________________________________________________________\n",
      " Layer (type)                Output Shape              Param #   \n",
      "=================================================================\n",
      " input_1 (InputLayer)        [(None, 631)]             0         \n",
      "                                                                 \n",
      " normalization (Normalizatio  (None, 631)              1263      \n",
      " n)                                                              \n",
      "                                                                 \n",
      " dense (Dense)               (None, 1024)              647168    \n",
      "                                                                 \n",
      " dropout (Dropout)           (None, 1024)              0         \n",
      "                                                                 \n",
      " dense_1 (Dense)             (None, 1024)              1049600   \n",
      "                                                                 \n",
      " dropout_1 (Dropout)         (None, 1024)              0         \n",
      "                                                                 \n",
      " dense_2 (Dense)             (None, 1024)              1049600   \n",
      "                                                                 \n",
      " dropout_2 (Dropout)         (None, 1024)              0         \n",
      "                                                                 \n",
      " dense_3 (Dense)             (None, 14)                14350     \n",
      "                                                                 \n",
      "=================================================================\n",
      "Total params: 2,761,981\n",
      "Trainable params: 2,760,718\n",
      "Non-trainable params: 1,263\n",
      "_________________________________________________________________\n"
     ]
    }
   ],
   "source": [
    "model.summary()"
   ]
  },
  {
   "cell_type": "code",
   "execution_count": 8,
   "metadata": {},
   "outputs": [
    {
     "name": "stdout",
     "output_type": "stream",
     "text": [
      "Epoch 1/50\n",
      "840/840 [==============================] - 5s 5ms/step - loss: 2.7390 - accuracy: 0.1933\n",
      "Epoch 2/50\n",
      "840/840 [==============================] - 4s 5ms/step - loss: 1.9472 - accuracy: 0.3647\n",
      "Epoch 3/50\n",
      "840/840 [==============================] - 4s 5ms/step - loss: 1.6496 - accuracy: 0.4497\n",
      "Epoch 4/50\n",
      "840/840 [==============================] - 4s 5ms/step - loss: 1.4440 - accuracy: 0.5057\n",
      "Epoch 5/50\n",
      "840/840 [==============================] - 4s 5ms/step - loss: 1.3242 - accuracy: 0.5457\n",
      "Epoch 6/50\n",
      "840/840 [==============================] - 4s 5ms/step - loss: 1.2264 - accuracy: 0.5798\n",
      "Epoch 7/50\n",
      "840/840 [==============================] - 4s 5ms/step - loss: 1.1496 - accuracy: 0.6001\n",
      "Epoch 8/50\n",
      "840/840 [==============================] - 4s 5ms/step - loss: 1.0852 - accuracy: 0.6228\n",
      "Epoch 9/50\n",
      "840/840 [==============================] - 4s 5ms/step - loss: 1.0136 - accuracy: 0.6433\n",
      "Epoch 10/50\n",
      "840/840 [==============================] - 4s 5ms/step - loss: 0.9730 - accuracy: 0.6577\n",
      "Epoch 11/50\n",
      "840/840 [==============================] - 4s 5ms/step - loss: 0.9264 - accuracy: 0.6746\n",
      "Epoch 12/50\n",
      "840/840 [==============================] - 4s 5ms/step - loss: 0.8968 - accuracy: 0.6835\n",
      "Epoch 13/50\n",
      "840/840 [==============================] - 4s 5ms/step - loss: 0.8615 - accuracy: 0.7015\n",
      "Epoch 14/50\n",
      "840/840 [==============================] - 4s 5ms/step - loss: 0.8335 - accuracy: 0.7126\n",
      "Epoch 15/50\n",
      "840/840 [==============================] - 4s 5ms/step - loss: 0.7829 - accuracy: 0.7222\n",
      "Epoch 16/50\n",
      "840/840 [==============================] - 4s 5ms/step - loss: 0.7748 - accuracy: 0.7240\n",
      "Epoch 17/50\n",
      "840/840 [==============================] - 4s 5ms/step - loss: 0.7267 - accuracy: 0.7436\n",
      "Epoch 18/50\n",
      "840/840 [==============================] - 4s 5ms/step - loss: 0.7146 - accuracy: 0.7528\n",
      "Epoch 19/50\n",
      "840/840 [==============================] - 4s 5ms/step - loss: 0.6859 - accuracy: 0.7560\n",
      "Epoch 20/50\n",
      "840/840 [==============================] - 4s 5ms/step - loss: 0.6646 - accuracy: 0.7634\n",
      "Epoch 21/50\n",
      "840/840 [==============================] - 4s 5ms/step - loss: 0.6432 - accuracy: 0.7824\n",
      "Epoch 22/50\n",
      "840/840 [==============================] - 4s 5ms/step - loss: 0.6234 - accuracy: 0.7899\n",
      "Epoch 23/50\n",
      "840/840 [==============================] - 4s 5ms/step - loss: 0.5969 - accuracy: 0.7932\n",
      "Epoch 24/50\n",
      "840/840 [==============================] - 4s 5ms/step - loss: 0.6011 - accuracy: 0.7902\n",
      "Epoch 25/50\n",
      "840/840 [==============================] - 4s 5ms/step - loss: 0.5730 - accuracy: 0.7982\n",
      "Epoch 26/50\n",
      "840/840 [==============================] - 4s 5ms/step - loss: 0.5522 - accuracy: 0.8101\n",
      "Epoch 27/50\n",
      "840/840 [==============================] - 4s 5ms/step - loss: 0.5365 - accuracy: 0.8159\n",
      "Epoch 28/50\n",
      "840/840 [==============================] - 4s 5ms/step - loss: 0.5374 - accuracy: 0.8101\n",
      "Epoch 29/50\n",
      "840/840 [==============================] - 4s 5ms/step - loss: 0.5135 - accuracy: 0.8228\n",
      "Epoch 30/50\n",
      "840/840 [==============================] - 4s 5ms/step - loss: 0.4862 - accuracy: 0.8350\n",
      "Epoch 31/50\n",
      "840/840 [==============================] - 4s 5ms/step - loss: 0.4884 - accuracy: 0.8311\n",
      "Epoch 32/50\n",
      "840/840 [==============================] - 4s 5ms/step - loss: 0.4685 - accuracy: 0.8378\n",
      "Epoch 33/50\n",
      "840/840 [==============================] - 4s 5ms/step - loss: 0.4645 - accuracy: 0.8423\n",
      "Epoch 34/50\n",
      "840/840 [==============================] - 4s 5ms/step - loss: 0.4717 - accuracy: 0.8356\n",
      "Epoch 35/50\n",
      "840/840 [==============================] - 4s 5ms/step - loss: 0.4403 - accuracy: 0.8494\n",
      "Epoch 36/50\n",
      "840/840 [==============================] - 4s 5ms/step - loss: 0.4219 - accuracy: 0.8591\n",
      "Epoch 37/50\n",
      "840/840 [==============================] - 4s 5ms/step - loss: 0.4014 - accuracy: 0.8646\n",
      "Epoch 38/50\n",
      "840/840 [==============================] - 4s 5ms/step - loss: 0.4154 - accuracy: 0.8571\n",
      "Epoch 39/50\n",
      "840/840 [==============================] - 4s 5ms/step - loss: 0.3947 - accuracy: 0.8664\n",
      "Epoch 40/50\n",
      "840/840 [==============================] - 4s 5ms/step - loss: 0.3886 - accuracy: 0.8667\n",
      "Epoch 41/50\n",
      "840/840 [==============================] - 4s 5ms/step - loss: 0.3827 - accuracy: 0.8677\n",
      "Epoch 42/50\n",
      "840/840 [==============================] - 4s 5ms/step - loss: 0.3700 - accuracy: 0.8729\n",
      "Epoch 43/50\n",
      "840/840 [==============================] - 4s 5ms/step - loss: 0.3587 - accuracy: 0.8786\n",
      "Epoch 44/50\n",
      "840/840 [==============================] - 4s 5ms/step - loss: 0.3540 - accuracy: 0.8814\n",
      "Epoch 45/50\n",
      "840/840 [==============================] - 4s 5ms/step - loss: 0.3435 - accuracy: 0.8862\n",
      "Epoch 46/50\n",
      "840/840 [==============================] - 4s 5ms/step - loss: 0.3379 - accuracy: 0.8866\n",
      "Epoch 47/50\n",
      "840/840 [==============================] - 4s 5ms/step - loss: 0.3295 - accuracy: 0.8881\n",
      "Epoch 48/50\n",
      "840/840 [==============================] - 4s 5ms/step - loss: 0.3213 - accuracy: 0.8903\n",
      "Epoch 49/50\n",
      "840/840 [==============================] - 4s 5ms/step - loss: 0.3106 - accuracy: 0.8976\n",
      "Epoch 50/50\n",
      "840/840 [==============================] - 4s 5ms/step - loss: 0.3111 - accuracy: 0.8966\n"
     ]
    }
   ],
   "source": [
    "epochs = 50\n",
    "model.fit(x_train, y_train, batch_size=batch_size, shuffle=True, epochs=epochs, callbacks=[model_checkpoint])\n",
    "model.save(model_dir)"
   ]
  },
  {
   "cell_type": "code",
   "execution_count": 9,
   "metadata": {},
   "outputs": [
    {
     "name": "stdout",
     "output_type": "stream",
     "text": [
      "53/53 [==============================] - 0s 3ms/step - loss: 0.8107 - accuracy: 0.7452\n",
      "Test loss: 0.8106610178947449\n",
      "Test accuracy: 0.7452380657196045\n"
     ]
    }
   ],
   "source": [
    "score = model.evaluate(x_test, y_test, verbose=1)\n",
    "print(\"Test loss:\", score[0])\n",
    "print(\"Test accuracy:\", score[1])"
   ]
  },
  {
   "cell_type": "code",
   "execution_count": 13,
   "metadata": {},
   "outputs": [
    {
     "name": "stdout",
     "output_type": "stream",
     "text": [
      "(1, 1680, 219)\n"
     ]
    }
   ],
   "source": [
    "print(np.shape(np.array([x_test])))"
   ]
  },
  {
   "cell_type": "code",
   "execution_count": 15,
   "metadata": {},
   "outputs": [
    {
     "name": "stdout",
     "output_type": "stream",
     "text": [
      "[===========================================================-] 98.4% ...\r"
     ]
    },
    {
     "data": {
      "image/png": "[encoded data removed]",
      "text/plain": [
       "<Figure size 432x432 with 1 Axes>"
      ]
     },
     "metadata": {
      "needs_background": "light"
     },
     "output_type": "display_data"
    }
   ],
   "source": [
    "# draw confusion matrix\n",
    "import sys\n",
    "def progress(count, total, status=''):\n",
    "    bar_len = 60\n",
    "    filled_len = int(round(bar_len * count / float(total)))\n",
    "\n",
    "    percents = round(100.0 * count / float(total), 1)\n",
    "    bar = '=' * filled_len + '-' * (bar_len - filled_len)\n",
    "\n",
    "    sys.stdout.write('[%s] %s%s ...%s\\r' % (bar, percents, '%', status))\n",
    "    sys.stdout.flush() \n",
    "\n",
    "i = 0\n",
    "cmatrix = np.zeros((14,14), dtype=np.int16)\n",
    "bat = int(len(x_test)/60)\n",
    "for i in range(0, len(x_test),bat):\n",
    "    progress(i, 1679)\n",
    "    result = model.predict_on_batch(x_test[i:i+bat])\n",
    "    ans = y_test[i:i+bat]\n",
    "    for j in range(bat):\n",
    "        id1 = np.argmax(result[j])\n",
    "        id2 = np.argmax(ans[j])\n",
    "        cmatrix[id1, id2] = cmatrix[id1][id2] + 1\n",
    "\n",
    "cmatrix = np.absolute(cmatrix)\n",
    "# print(repr(cmatrix))\n",
    "\n",
    "fig = plt.figure(figsize=(6,6))\n",
    "plt.imshow(cmatrix)\n",
    "plt.title(\"Plot 2D array\")\n",
    "plt.show()"
   ]
  },
  {
   "cell_type": "markdown",
   "metadata": {},
   "source": [
    "Confusion: <br>\n",
    "flatten vs brittle <br>\n",
    "plated partially_purple vs plated purple\n"
   ]
  },
  {
   "cell_type": "code",
   "execution_count": 16,
   "metadata": {},
   "outputs": [
    {
     "name": "stdout",
     "output_type": "stream",
     "text": [
      "[0.858, 0.692, 0.625, 0.508, 0.558, 0.892, 0.867, 0.875, 0.967, 0.575, 0.35, 0.775, 0.958, 0.933]\n",
      "0.7452142857142857\n"
     ]
    }
   ],
   "source": [
    "acc = []\n",
    "for i in range(14):\n",
    "    acc.append(np.round(cmatrix[i][i]/120,3))\n",
    "print(acc)\n",
    "print(np.mean(acc))"
   ]
  }
 ],
 "metadata": {
  "interpreter": {
   "hash": "26de051ba29f2982a8de78e945f0abaf191376122a1563185a90213a26c5da77"
  },
  "kernelspec": {
   "display_name": "Python 3.10.4 64-bit",
   "language": "python",
   "name": "python3"
  },
  "language_info": {
   "codemirror_mode": {
    "name": "ipython",
    "version": 3
   },
   "file_extension": ".py",
   "mimetype": "text/x-python",
   "name": "python",
   "nbconvert_exporter": "python",
   "pygments_lexer": "ipython3",
   "version": "3.10.4"
  },
  "orig_nbformat": 4
 },
 "nbformat": 4,
 "nbformat_minor": 2
}
