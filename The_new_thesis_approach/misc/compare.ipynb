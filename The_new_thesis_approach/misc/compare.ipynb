{
 "cells": [
  {
   "cell_type": "code",
   "execution_count": 1,
   "metadata": {},
   "outputs": [],
   "source": [
    "import os,pathlib\n",
    "import numpy as np"
   ]
  },
  {
   "cell_type": "code",
   "execution_count": 2,
   "metadata": {},
   "outputs": [],
   "source": [
    "cwd = os.getcwd()\n",
    "x_train1_dir = pathlib.Path(cwd + '/data/X_train_375_2.npz')\n",
    "x_train2_dir = pathlib.Path(cwd + '/data/X_train_399.npz')"
   ]
  },
  {
   "cell_type": "code",
   "execution_count": 3,
   "metadata": {},
   "outputs": [],
   "source": [
    "x_train375 = np.asarray(np.load(x_train1_dir, allow_pickle=True)['arr_0'], dtype=np.float32)\n",
    "x_train399 = np.asarray(np.load(x_train2_dir, allow_pickle=True)['arr_0'], dtype=np.float32)"
   ]
  },
  {
   "cell_type": "code",
   "execution_count": 12,
   "metadata": {},
   "outputs": [],
   "source": [
    "k = 12"
   ]
  },
  {
   "cell_type": "code",
   "execution_count": 14,
   "metadata": {},
   "outputs": [
    {
     "name": "stdout",
     "output_type": "stream",
     "text": [
      "[1.8800000e+02 3.2100000e+02 4.4191500e+04 1.0338448e+03 1.9094775e+02\n",
      " 3.0271909e+02 1.6915913e+00 4.6758000e+04 1.6074913e+02 9.4511098e-01\n",
      " 7.3227781e-01 2.2522211e+01]\n"
     ]
    }
   ],
   "source": [
    "print(x_train399[682][k:k+12])"
   ]
  },
  {
   "cell_type": "code",
   "execution_count": 9,
   "metadata": {},
   "outputs": [],
   "source": [
    "# np.subtract(x_train375[0],x_train399[0][0:375])"
   ]
  }
 ],
 "metadata": {
  "interpreter": {
   "hash": "26de051ba29f2982a8de78e945f0abaf191376122a1563185a90213a26c5da77"
  },
  "kernelspec": {
   "display_name": "Python 3.10.4 64-bit",
   "language": "python",
   "name": "python3"
  },
  "language_info": {
   "codemirror_mode": {
    "name": "ipython",
    "version": 3
   },
   "file_extension": ".py",
   "mimetype": "text/x-python",
   "name": "python",
   "nbconvert_exporter": "python",
   "pygments_lexer": "ipython3",
   "version": "3.10.4"
  },
  "orig_nbformat": 4
 },
 "nbformat": 4,
 "nbformat_minor": 2
}
