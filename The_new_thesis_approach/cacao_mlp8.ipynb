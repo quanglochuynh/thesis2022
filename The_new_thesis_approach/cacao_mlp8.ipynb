{
 "cells": [
  {
   "cell_type": "code",
   "execution_count": 5,
   "metadata": {},
   "outputs": [
    {
     "name": "stdout",
     "output_type": "stream",
     "text": [
      "OS: Windows\n",
      "0 :  overall_geometry\n",
      "1 :  overall_rgb\n",
      "2 :  overall_hsv\n",
      "3 :  n1\n",
      "4 :  structure\n",
      "5 :  n2\n",
      "6 :  moldered\n",
      "7 :  color_grid\n",
      "8 :  color_grid_2\n",
      "9 :  glcm_grid\n",
      "10 :  comp_hsv\n",
      "11 :  glcm_2\n",
      "12 :  lbp\n"
     ]
    }
   ],
   "source": [
    "import numpy as np\n",
    "import os\n",
    "import tensorflow as tf\n",
    "from tensorflow import keras\n",
    "from keras import layers\n",
    "import matplotlib.pyplot as plt\n",
    "from image_extractor import DataSetup\n",
    "data = DataSetup()\n"
   ]
  },
  {
   "cell_type": "code",
   "execution_count": 7,
   "metadata": {},
   "outputs": [
    {
     "name": "stdout",
     "output_type": "stream",
     "text": [
      "x_test size: (1680, 257)\n",
      "x_train size: (6720, 257)\n",
      "y_test size: (1680, 14)\n",
      "y_train size: (6720, 14)\n",
      "Model name = ' overall_geometry_overall_rgb_n1_structure_n2_moldered_glcm_2_lbp.h5 '\n",
      "D:./TF_backup/mlp/overall_geometry_overall_rgb_n1_structure_n2_moldered_glcm_2_lbp.h5\n"
     ]
    }
   ],
   "source": [
    "data.concat(dataID=[0, 1, 3,4,5,6,11,12])\n",
    "model_dir = 'D:./TF_backup/mlp/' + data.model_name\n",
    "checkpoint_dir = 'D:./TF_checkpoint/mlp/weight/'\n",
    "print(model_dir)\n",
    "\n",
    "input_shape = (data.length,)\n",
    "batch_size = 8\n",
    "\n",
    "model_checkpoint = keras.callbacks.ModelCheckpoint(\n",
    "    checkpoint_dir,\n",
    "    save_weights_only=True,\n",
    "    monitor='val_accuracy',\n",
    "    mode='max',\n",
    ")"
   ]
  },
  {
   "cell_type": "code",
   "execution_count": 8,
   "metadata": {},
   "outputs": [],
   "source": [
    "normalizer = layers.Normalization()\n",
    "normalizer.adapt(data.x_train)\n",
    "\n",
    "# Define model\n",
    "input_layer = layers.Input(shape=input_shape)\n",
    "norm = normalizer(input_layer)\n",
    "den1 = layers.Dense(1024, activation='relu', kernel_initializer='HeNormal')(norm)\n",
    "drop1 = layers.Dropout(0.2)(den1)\n",
    "den2 = layers.Dense(1024, activation='relu', kernel_initializer='HeNormal')(drop1)\n",
    "drop2 = layers.Dropout(0.2)(den2)\n",
    "den3 = layers.Dense(1024, activation='relu', kernel_initializer='HeNormal')(drop2)\n",
    "drop3 = layers.Dropout(0.2)(den3)\n",
    "den4 = layers.Dense(14, activation='softmax')(drop3)\n",
    "model = keras.Model(input_layer, den4)\n",
    "\n",
    "opt = tf.keras.optimizers.SGD(\n",
    "    learning_rate=0.0001,\n",
    "    momentum=0.8,\n",
    "    nesterov=True,\n",
    "    name='SGD',\n",
    ")\n",
    "\n",
    "model.compile(\n",
    "    optimizer=opt, \n",
    "    loss=\"categorical_crossentropy\", \n",
    "    metrics=[\"accuracy\"]\n",
    "    )"
   ]
  },
  {
   "cell_type": "code",
   "execution_count": 9,
   "metadata": {},
   "outputs": [
    {
     "name": "stdout",
     "output_type": "stream",
     "text": [
      "Model: \"model_1\"\n",
      "_________________________________________________________________\n",
      " Layer (type)                Output Shape              Param #   \n",
      "=================================================================\n",
      " input_2 (InputLayer)        [(None, 257)]             0         \n",
      "                                                                 \n",
      " normalization_1 (Normalizat  (None, 257)              515       \n",
      " ion)                                                            \n",
      "                                                                 \n",
      " dense_4 (Dense)             (None, 1024)              264192    \n",
      "                                                                 \n",
      " dropout_3 (Dropout)         (None, 1024)              0         \n",
      "                                                                 \n",
      " dense_5 (Dense)             (None, 1024)              1049600   \n",
      "                                                                 \n",
      " dropout_4 (Dropout)         (None, 1024)              0         \n",
      "                                                                 \n",
      " dense_6 (Dense)             (None, 1024)              1049600   \n",
      "                                                                 \n",
      " dropout_5 (Dropout)         (None, 1024)              0         \n",
      "                                                                 \n",
      " dense_7 (Dense)             (None, 14)                14350     \n",
      "                                                                 \n",
      "=================================================================\n",
      "Total params: 2,378,257\n",
      "Trainable params: 2,377,742\n",
      "Non-trainable params: 515\n",
      "_________________________________________________________________\n"
     ]
    }
   ],
   "source": [
    "model.summary()"
   ]
  },
  {
   "cell_type": "code",
   "execution_count": 10,
   "metadata": {},
   "outputs": [
    {
     "name": "stdout",
     "output_type": "stream",
     "text": [
      "Epoch 1/40\n",
      "840/840 [==============================] - 5s 6ms/step - loss: 2.6396 - accuracy: 0.2062\n",
      "Epoch 2/40\n",
      "840/840 [==============================] - 4s 5ms/step - loss: 1.9609 - accuracy: 0.3668\n",
      "Epoch 3/40\n",
      "840/840 [==============================] - 4s 5ms/step - loss: 1.7084 - accuracy: 0.4464\n",
      "Epoch 4/40\n",
      "840/840 [==============================] - 4s 5ms/step - loss: 1.5400 - accuracy: 0.4845\n",
      "Epoch 5/40\n",
      "840/840 [==============================] - 4s 5ms/step - loss: 1.4029 - accuracy: 0.5249\n",
      "Epoch 6/40\n",
      "840/840 [==============================] - 4s 5ms/step - loss: 1.3327 - accuracy: 0.5455\n",
      "Epoch 7/40\n",
      "840/840 [==============================] - 4s 5ms/step - loss: 1.2503 - accuracy: 0.5661\n",
      "Epoch 8/40\n",
      "840/840 [==============================] - 4s 5ms/step - loss: 1.1819 - accuracy: 0.5882\n",
      "Epoch 9/40\n",
      "840/840 [==============================] - 4s 5ms/step - loss: 1.1405 - accuracy: 0.6092\n",
      "Epoch 10/40\n",
      "840/840 [==============================] - 4s 5ms/step - loss: 1.1062 - accuracy: 0.6144\n",
      "Epoch 11/40\n",
      "840/840 [==============================] - 4s 5ms/step - loss: 1.0542 - accuracy: 0.6344\n",
      "Epoch 12/40\n",
      "840/840 [==============================] - 4s 5ms/step - loss: 1.0185 - accuracy: 0.6385\n",
      "Epoch 13/40\n",
      "840/840 [==============================] - 4s 5ms/step - loss: 0.9996 - accuracy: 0.6504\n",
      "Epoch 14/40\n",
      "840/840 [==============================] - 4s 5ms/step - loss: 0.9583 - accuracy: 0.6625\n",
      "Epoch 15/40\n",
      "840/840 [==============================] - 4s 5ms/step - loss: 0.9281 - accuracy: 0.6775\n",
      "Epoch 16/40\n",
      "840/840 [==============================] - 4s 5ms/step - loss: 0.9097 - accuracy: 0.6853\n",
      "Epoch 17/40\n",
      "840/840 [==============================] - 4s 5ms/step - loss: 0.8920 - accuracy: 0.6845\n",
      "Epoch 18/40\n",
      "840/840 [==============================] - 4s 5ms/step - loss: 0.8704 - accuracy: 0.6900\n",
      "Epoch 19/40\n",
      "840/840 [==============================] - 4s 5ms/step - loss: 0.8430 - accuracy: 0.7028\n",
      "Epoch 20/40\n",
      "840/840 [==============================] - 4s 5ms/step - loss: 0.8214 - accuracy: 0.7118\n",
      "Epoch 21/40\n",
      "840/840 [==============================] - 4s 5ms/step - loss: 0.8158 - accuracy: 0.7092\n",
      "Epoch 22/40\n",
      "840/840 [==============================] - 4s 5ms/step - loss: 0.7869 - accuracy: 0.7249\n",
      "Epoch 23/40\n",
      "840/840 [==============================] - 4s 5ms/step - loss: 0.7729 - accuracy: 0.7260\n",
      "Epoch 24/40\n",
      "840/840 [==============================] - 4s 5ms/step - loss: 0.7599 - accuracy: 0.7301\n",
      "Epoch 25/40\n",
      "840/840 [==============================] - 4s 5ms/step - loss: 0.7269 - accuracy: 0.7481\n",
      "Epoch 26/40\n",
      "840/840 [==============================] - 4s 5ms/step - loss: 0.7155 - accuracy: 0.7472\n",
      "Epoch 27/40\n",
      "840/840 [==============================] - 4s 5ms/step - loss: 0.7190 - accuracy: 0.7409\n",
      "Epoch 28/40\n",
      "840/840 [==============================] - 4s 5ms/step - loss: 0.7005 - accuracy: 0.7513\n",
      "Epoch 29/40\n",
      "840/840 [==============================] - 4s 5ms/step - loss: 0.6816 - accuracy: 0.7567\n",
      "Epoch 30/40\n",
      "840/840 [==============================] - 4s 5ms/step - loss: 0.6654 - accuracy: 0.7676\n",
      "Epoch 31/40\n",
      "840/840 [==============================] - 4s 5ms/step - loss: 0.6581 - accuracy: 0.7695\n",
      "Epoch 32/40\n",
      "840/840 [==============================] - 4s 5ms/step - loss: 0.6631 - accuracy: 0.7711\n",
      "Epoch 33/40\n",
      "840/840 [==============================] - 4s 5ms/step - loss: 0.6413 - accuracy: 0.7762\n",
      "Epoch 34/40\n",
      "840/840 [==============================] - 4s 5ms/step - loss: 0.6177 - accuracy: 0.7845\n",
      "Epoch 35/40\n",
      "840/840 [==============================] - 4s 5ms/step - loss: 0.6124 - accuracy: 0.7848\n",
      "Epoch 36/40\n",
      "840/840 [==============================] - 4s 5ms/step - loss: 0.6044 - accuracy: 0.7881\n",
      "Epoch 37/40\n",
      "840/840 [==============================] - 4s 5ms/step - loss: 0.6041 - accuracy: 0.7826\n",
      "Epoch 38/40\n",
      "840/840 [==============================] - 4s 5ms/step - loss: 0.5899 - accuracy: 0.7903\n",
      "Epoch 39/40\n",
      "840/840 [==============================] - 4s 5ms/step - loss: 0.5795 - accuracy: 0.7949\n",
      "Epoch 40/40\n",
      "840/840 [==============================] - 4s 5ms/step - loss: 0.5681 - accuracy: 0.7979\n"
     ]
    }
   ],
   "source": [
    "epochs = 40\n",
    "model.fit(data.x_train, data.y_train, batch_size=batch_size, shuffle=True, epochs=epochs, callbacks=[model_checkpoint])\n",
    "model.save(model_dir)"
   ]
  },
  {
   "cell_type": "code",
   "execution_count": 11,
   "metadata": {},
   "outputs": [
    {
     "name": "stdout",
     "output_type": "stream",
     "text": [
      "53/53 [==============================] - 0s 5ms/step - loss: 0.8740 - accuracy: 0.6845\n",
      "Test loss: 0.8739766478538513\n",
      "Test accuracy: 0.6845238208770752\n"
     ]
    }
   ],
   "source": [
    "score = model.evaluate(data.x_test, data.y_test, verbose=1)\n",
    "print(\"Test loss:\", score[0])\n",
    "print(\"Test accuracy:\", score[1])"
   ]
  },
  {
   "cell_type": "code",
   "execution_count": 12,
   "metadata": {},
   "outputs": [
    {
     "data": {
      "image/png": "[encoded data removed]",
      "text/plain": [
       "<Figure size 432x432 with 1 Axes>"
      ]
     },
     "metadata": {
      "needs_background": "light"
     },
     "output_type": "display_data"
    }
   ],
   "source": [
    "i = 0\n",
    "cmatrix = np.zeros((14,14), dtype=np.int16)\n",
    "bat = int(len(data.x_test)/60)\n",
    "for i in range(0, len(data.x_test),bat):\n",
    "    result = model.predict_on_batch(data.x_test[i:i+bat])\n",
    "    ans = data.y_test[i:i+bat]\n",
    "    for j in range(bat):\n",
    "        id1 = np.argmax(result[j])\n",
    "        id2 = np.argmax(ans[j])\n",
    "        cmatrix[id1, id2] = cmatrix[id1][id2] + 1\n",
    "\n",
    "cmatrix = np.absolute(cmatrix)\n",
    "# print(repr(cmatrix))\n",
    "\n",
    "fig = plt.figure(figsize=(6,6))\n",
    "plt.imshow(cmatrix)\n",
    "plt.title(\"Plot 2D array\")\n",
    "plt.show()"
   ]
  },
  {
   "cell_type": "code",
   "execution_count": 13,
   "metadata": {},
   "outputs": [
    {
     "name": "stdout",
     "output_type": "stream",
     "text": [
      "[0.825, 0.667, 0.55, 0.242, 0.542, 0.933, 0.9, 0.908, 0.975, 0.417, 0.15, 0.708, 0.9, 0.867]\n",
      "0.6845714285714285\n"
     ]
    }
   ],
   "source": [
    "acc = []\n",
    "for i in range(14):\n",
    "    acc.append(np.round(cmatrix[i][i]/120,3))\n",
    "print(acc)\n",
    "print(np.mean(acc))"
   ]
  }
 ],
 "metadata": {
  "kernelspec": {
   "display_name": "Python 3.10.4 64-bit",
   "language": "python",
   "name": "python3"
  },
  "language_info": {
   "codemirror_mode": {
    "name": "ipython",
    "version": 3
   },
   "file_extension": ".py",
   "mimetype": "text/x-python",
   "name": "python",
   "nbconvert_exporter": "python",
   "pygments_lexer": "ipython3",
   "version": "3.10.4"
  },
  "orig_nbformat": 4,
  "vscode": {
   "interpreter": {
    "hash": "26de051ba29f2982a8de78e945f0abaf191376122a1563185a90213a26c5da77"
   }
  }
 },
 "nbformat": 4,
 "nbformat_minor": 2
}
