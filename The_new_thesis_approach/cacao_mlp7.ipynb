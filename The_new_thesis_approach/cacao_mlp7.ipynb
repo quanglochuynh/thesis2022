{
 "cells": [
  {
   "cell_type": "code",
   "execution_count": 31,
   "metadata": {},
   "outputs": [],
   "source": [
    "import numpy as np\n",
    "import pathlib\n",
    "import os\n",
    "import tensorflow as tf\n",
    "from tensorflow import keras\n",
    "from keras import layers\n",
    "import matplotlib.pyplot as plt"
   ]
  },
  {
   "cell_type": "code",
   "execution_count": 53,
   "metadata": {},
   "outputs": [],
   "source": [
    "input_shape = (375,)\n",
    "batch_size = 16\n",
    "\n",
    "cwd = os.getcwd()\n",
    "x_train_dir = pathlib.Path(cwd + '/data/X_train_375_2.npz')\n",
    "y_train_dir = pathlib.Path(cwd + '/data/Y_train_195.npz')\n",
    "x_test_dir  = pathlib.Path(cwd + '/data/X_test_375_2.npz')\n",
    "y_test_dir  = pathlib.Path(cwd + '/data/Y_test_195.npz')\n",
    "checkpoint_dir = pathlib.Path('D:./TF_checkpoint/mlp/weight/')\n",
    "model_dir = pathlib.Path('D:./TF_backup/mlp/mlp7_399.h5')\n",
    "\n",
    "x_train = np.asarray(np.load(x_train_dir, allow_pickle=True)['arr_0'], dtype=np.float32)\n",
    "y_train = np.asarray(np.load(y_train_dir, allow_pickle=True)['arr_0'], dtype=np.float32)\n",
    "x_test = np.asarray(np.load(x_test_dir, allow_pickle=True)['arr_0'], dtype=np.float32)\n",
    "y_test = np.asarray(np.load(y_test_dir, allow_pickle=True)['arr_0'], dtype=np.float32)\n",
    "\n",
    "model_checkpoint = keras.callbacks.ModelCheckpoint(\n",
    "    checkpoint_dir,\n",
    "    save_weights_only=True,\n",
    "    monitor='val_accuracy',\n",
    "    mode='max',\n",
    ")"
   ]
  },
  {
   "cell_type": "code",
   "execution_count": 54,
   "metadata": {},
   "outputs": [
    {
     "name": "stdout",
     "output_type": "stream",
     "text": [
      "(6720, 375)\n"
     ]
    }
   ],
   "source": [
    "print(np.shape(x_train))"
   ]
  },
  {
   "cell_type": "code",
   "execution_count": 55,
   "metadata": {},
   "outputs": [],
   "source": [
    "normalizer = layers.Normalization()\n",
    "normalizer.adapt(x_train)\n",
    "\n",
    "# Define model\n",
    "input_layer = layers.Input(shape=input_shape)\n",
    "norm = normalizer(input_layer)\n",
    "den1 = layers.Dense(512, activation='relu', kernel_initializer='HeNormal')(norm)\n",
    "drop1 = layers.Dropout(0.2)(den1)\n",
    "den2 = layers.Dense(512, activation='relu', kernel_initializer='HeNormal')(drop1)\n",
    "drop2 = layers.Dropout(0.2)(den2)\n",
    "den3 = layers.Dense(256, activation='relu', kernel_initializer='HeNormal')(drop2)\n",
    "drop3 = layers.Dropout(0.2)(den3)\n",
    "den4 = layers.Dense(14, activation='softmax')(drop3)\n",
    "model = keras.Model(input_layer, den4)\n",
    "\n",
    "opt = tf.keras.optimizers.SGD(\n",
    "    learning_rate=0.0001,\n",
    "    momentum=0.8,\n",
    "    nesterov=True,\n",
    "    name='SGD',\n",
    ")\n",
    "\n",
    "model.compile(\n",
    "    optimizer=opt, \n",
    "    loss=\"categorical_crossentropy\", \n",
    "    metrics=[\"accuracy\"]\n",
    "    )"
   ]
  },
  {
   "cell_type": "code",
   "execution_count": 48,
   "metadata": {},
   "outputs": [
    {
     "name": "stdout",
     "output_type": "stream",
     "text": [
      "Model: \"model_11\"\n",
      "_________________________________________________________________\n",
      " Layer (type)                Output Shape              Param #   \n",
      "=================================================================\n",
      " input_12 (InputLayer)       [(None, 771)]             0         \n",
      "                                                                 \n",
      " normalization_11 (Normaliza  (None, 771)              1543      \n",
      " tion)                                                           \n",
      "                                                                 \n",
      " dense_44 (Dense)            (None, 1024)              790528    \n",
      "                                                                 \n",
      " dropout_33 (Dropout)        (None, 1024)              0         \n",
      "                                                                 \n",
      " dense_45 (Dense)            (None, 1024)              1049600   \n",
      "                                                                 \n",
      " dropout_34 (Dropout)        (None, 1024)              0         \n",
      "                                                                 \n",
      " dense_46 (Dense)            (None, 512)               524800    \n",
      "                                                                 \n",
      " dropout_35 (Dropout)        (None, 512)               0         \n",
      "                                                                 \n",
      " dense_47 (Dense)            (None, 14)                7182      \n",
      "                                                                 \n",
      "=================================================================\n",
      "Total params: 2,373,653\n",
      "Trainable params: 2,372,110\n",
      "Non-trainable params: 1,543\n",
      "_________________________________________________________________\n"
     ]
    }
   ],
   "source": [
    "model.summary()"
   ]
  },
  {
   "cell_type": "code",
   "execution_count": 56,
   "metadata": {},
   "outputs": [
    {
     "name": "stdout",
     "output_type": "stream",
     "text": [
      "Epoch 1/50\n",
      "420/420 [==============================] - 2s 5ms/step - loss: 3.0831 - accuracy: 0.0701\n",
      "Epoch 2/50\n",
      "420/420 [==============================] - 2s 4ms/step - loss: 2.9703 - accuracy: 0.0749\n",
      "Epoch 3/50\n",
      "420/420 [==============================] - 2s 4ms/step - loss: 2.9215 - accuracy: 0.0741\n",
      "Epoch 4/50\n",
      "420/420 [==============================] - 2s 4ms/step - loss: 2.8984 - accuracy: 0.0698\n",
      "Epoch 5/50\n",
      "420/420 [==============================] - 2s 4ms/step - loss: 2.8459 - accuracy: 0.0717\n",
      "Epoch 6/50\n",
      "420/420 [==============================] - 2s 4ms/step - loss: 2.8343 - accuracy: 0.0737\n",
      "Epoch 7/50\n",
      "420/420 [==============================] - 2s 4ms/step - loss: 2.8269 - accuracy: 0.0738\n",
      "Epoch 8/50\n",
      "420/420 [==============================] - 2s 4ms/step - loss: 2.8132 - accuracy: 0.0756\n",
      "Epoch 9/50\n",
      "420/420 [==============================] - 2s 4ms/step - loss: 2.8035 - accuracy: 0.0717\n",
      "Epoch 10/50\n",
      "420/420 [==============================] - 2s 4ms/step - loss: 2.7854 - accuracy: 0.0783\n",
      "Epoch 11/50\n",
      "420/420 [==============================] - 2s 4ms/step - loss: 2.7753 - accuracy: 0.0824\n",
      "Epoch 12/50\n",
      "420/420 [==============================] - 2s 4ms/step - loss: 2.7530 - accuracy: 0.0762\n",
      "Epoch 13/50\n",
      "420/420 [==============================] - 2s 4ms/step - loss: 2.7441 - accuracy: 0.0793\n",
      "Epoch 14/50\n",
      "420/420 [==============================] - 2s 4ms/step - loss: 2.7406 - accuracy: 0.0807\n",
      "Epoch 15/50\n",
      "420/420 [==============================] - 2s 4ms/step - loss: 2.7348 - accuracy: 0.0787\n",
      "Epoch 16/50\n",
      "420/420 [==============================] - 2s 4ms/step - loss: 2.7210 - accuracy: 0.0844\n",
      "Epoch 17/50\n",
      "420/420 [==============================] - 2s 4ms/step - loss: 2.7157 - accuracy: 0.0868\n",
      "Epoch 18/50\n",
      "420/420 [==============================] - 2s 4ms/step - loss: 2.7096 - accuracy: 0.0804\n",
      "Epoch 19/50\n",
      "420/420 [==============================] - 2s 4ms/step - loss: 2.7136 - accuracy: 0.0756\n",
      "Epoch 20/50\n",
      "420/420 [==============================] - 2s 4ms/step - loss: 2.6998 - accuracy: 0.0762\n",
      "Epoch 21/50\n",
      "420/420 [==============================] - 2s 4ms/step - loss: 2.6911 - accuracy: 0.0833\n",
      "Epoch 22/50\n",
      "420/420 [==============================] - 2s 4ms/step - loss: 2.6877 - accuracy: 0.0857\n",
      "Epoch 23/50\n",
      "420/420 [==============================] - 2s 4ms/step - loss: 2.6998 - accuracy: 0.0854\n",
      "Epoch 24/50\n",
      "420/420 [==============================] - 2s 4ms/step - loss: 2.6826 - accuracy: 0.0839\n",
      "Epoch 25/50\n",
      "420/420 [==============================] - 2s 4ms/step - loss: 2.6811 - accuracy: 0.0802\n",
      "Epoch 26/50\n",
      "420/420 [==============================] - 2s 4ms/step - loss: 2.6757 - accuracy: 0.0859\n",
      "Epoch 27/50\n",
      "420/420 [==============================] - 2s 4ms/step - loss: 2.6766 - accuracy: 0.0844\n",
      "Epoch 28/50\n",
      "420/420 [==============================] - 2s 4ms/step - loss: 2.6690 - accuracy: 0.0881\n",
      "Epoch 29/50\n",
      "420/420 [==============================] - 2s 4ms/step - loss: 2.6648 - accuracy: 0.0856\n",
      "Epoch 30/50\n",
      "420/420 [==============================] - 2s 4ms/step - loss: 2.6663 - accuracy: 0.0856\n",
      "Epoch 31/50\n",
      "420/420 [==============================] - 2s 4ms/step - loss: 2.6596 - accuracy: 0.0872\n",
      "Epoch 32/50\n",
      "420/420 [==============================] - 2s 4ms/step - loss: 2.6620 - accuracy: 0.0848\n",
      "Epoch 33/50\n",
      "420/420 [==============================] - 2s 4ms/step - loss: 2.6532 - accuracy: 0.0882\n",
      "Epoch 34/50\n",
      "420/420 [==============================] - 2s 4ms/step - loss: 2.6662 - accuracy: 0.0835\n",
      "Epoch 35/50\n",
      "420/420 [==============================] - 2s 4ms/step - loss: 2.6548 - accuracy: 0.0876\n",
      "Epoch 36/50\n",
      "420/420 [==============================] - 2s 4ms/step - loss: 2.6587 - accuracy: 0.0848\n",
      "Epoch 37/50\n",
      "420/420 [==============================] - 2s 4ms/step - loss: 2.6618 - accuracy: 0.0812\n",
      "Epoch 38/50\n",
      "420/420 [==============================] - 2s 4ms/step - loss: 2.6521 - accuracy: 0.0897\n",
      "Epoch 39/50\n",
      "420/420 [==============================] - 2s 4ms/step - loss: 2.6490 - accuracy: 0.0890\n",
      "Epoch 40/50\n",
      "420/420 [==============================] - 2s 4ms/step - loss: 2.6533 - accuracy: 0.0866\n",
      "Epoch 41/50\n",
      "420/420 [==============================] - 2s 4ms/step - loss: 2.6394 - accuracy: 0.0906\n",
      "Epoch 42/50\n",
      "420/420 [==============================] - 2s 4ms/step - loss: 2.6422 - accuracy: 0.0985\n",
      "Epoch 43/50\n",
      "420/420 [==============================] - 2s 4ms/step - loss: 2.6406 - accuracy: 0.0927\n",
      "Epoch 44/50\n",
      "420/420 [==============================] - 2s 4ms/step - loss: 2.6441 - accuracy: 0.0912\n",
      "Epoch 45/50\n",
      "420/420 [==============================] - 2s 4ms/step - loss: 2.6382 - accuracy: 0.0984\n",
      "Epoch 46/50\n",
      "420/420 [==============================] - 2s 4ms/step - loss: 2.6393 - accuracy: 0.0943\n",
      "Epoch 47/50\n",
      "420/420 [==============================] - 2s 4ms/step - loss: 2.6449 - accuracy: 0.0915\n",
      "Epoch 48/50\n",
      "420/420 [==============================] - 2s 4ms/step - loss: 2.6336 - accuracy: 0.0969\n",
      "Epoch 49/50\n",
      "420/420 [==============================] - 2s 4ms/step - loss: 2.6335 - accuracy: 0.0952\n",
      "Epoch 50/50\n",
      "420/420 [==============================] - 2s 4ms/step - loss: 2.6399 - accuracy: 0.0996\n"
     ]
    }
   ],
   "source": [
    "epochs = 50\n",
    "model.fit(x_train, y_train, batch_size=batch_size, shuffle=True, epochs=epochs, callbacks=[model_checkpoint])\n",
    "model.save(model_dir)"
   ]
  },
  {
   "cell_type": "code",
   "execution_count": 52,
   "metadata": {},
   "outputs": [
    {
     "name": "stdout",
     "output_type": "stream",
     "text": [
      "53/53 [==============================] - 0s 5ms/step - loss: 2.6916 - accuracy: 0.0685\n",
      "Test loss: 2.691631555557251\n",
      "Test accuracy: 0.0684523805975914\n"
     ]
    }
   ],
   "source": [
    "score = model.evaluate(x_test, y_test, verbose=1)\n",
    "print(\"Test loss:\", score[0])\n",
    "print(\"Test accuracy:\", score[1])"
   ]
  },
  {
   "cell_type": "code",
   "execution_count": 13,
   "metadata": {},
   "outputs": [
    {
     "name": "stdout",
     "output_type": "stream",
     "text": [
      "(1, 1680, 219)\n"
     ]
    }
   ],
   "source": [
    "print(np.shape(np.array([x_test])))"
   ]
  },
  {
   "cell_type": "code",
   "execution_count": 57,
   "metadata": {},
   "outputs": [
    {
     "name": "stdout",
     "output_type": "stream",
     "text": [
      "array([[18, 10,  3,  4, 11,  2,  9,  4,  9,  3,  9,  8,  6, 13],9.9% ...\n",
      "       [11, 14,  4, 11, 10,  8,  8, 15,  7, 11,  7,  9,  9, 10],\n",
      "       [ 5, 11, 13, 10,  9, 12,  5, 12, 10, 12, 10,  8, 13, 11],\n",
      "       [ 9,  6, 25, 22, 17, 21,  8, 10, 23, 15, 15, 17, 13,  6],\n",
      "       [ 3,  0,  3,  1,  4,  2,  2,  2,  0,  2,  0,  3,  1,  0],\n",
      "       [ 5,  9, 15, 12, 10, 14,  5,  6, 11, 15, 14, 10, 12,  4],\n",
      "       [ 9,  4,  4,  4,  8,  2, 13,  5,  9,  7,  5,  4,  4,  8],\n",
      "       [ 3,  6,  3,  2,  7,  3,  5,  5,  3,  3,  3,  7, 10,  2],\n",
      "       [ 3,  7,  9,  5,  5,  9,  5,  7, 10,  5, 13,  7,  9,  3],\n",
      "       [20, 27, 26, 32, 18, 34, 19, 30, 28, 21, 24, 25, 28, 18],\n",
      "       [ 4,  5,  4,  1,  1,  1,  1,  3,  0,  3,  3,  2,  1,  0],\n",
      "       [ 6,  4,  3,  6,  9,  2,  5,  8,  4, 11,  7, 10,  7,  6],\n",
      "       [ 5,  9,  2,  2,  2,  3,  2,  4,  3,  2,  3,  3,  2,  4],\n",
      "       [19,  8,  6,  8,  9,  7, 33,  9,  3, 10,  7,  7,  5, 35]],\n",
      "      dtype=int16)\n"
     ]
    },
    {
     "data": {
      "image/png": "[encoded data removed]",
      "text/plain": [
       "<Figure size 432x432 with 1 Axes>"
      ]
     },
     "metadata": {
      "needs_background": "light"
     },
     "output_type": "display_data"
    }
   ],
   "source": [
    "# draw confusion matrix\n",
    "import sys\n",
    "def progress(count, total, status=''):\n",
    "    bar_len = 60\n",
    "    filled_len = int(round(bar_len * count / float(total)))\n",
    "\n",
    "    percents = round(100.0 * count / float(total), 1)\n",
    "    bar = '=' * filled_len + '-' * (bar_len - filled_len)\n",
    "\n",
    "    sys.stdout.write('[%s] %s%s ...%s\\r' % (bar, percents, '%', status))\n",
    "    sys.stdout.flush() \n",
    "\n",
    "i = 0\n",
    "cmatrix = np.zeros((14,14), dtype=np.int16)\n",
    "for i in range(len(x_test)):\n",
    "    progress(i, 1680)\n",
    "    result = model.predict(np.array([x_test[i]])).flatten()\n",
    "    id1 = np.argmax(result)\n",
    "    id2 = np.argmax(y_test[i])\n",
    "    cmatrix[id1][id2] = cmatrix[id1][id2] + 1\n",
    "    # break\n",
    "\n",
    "cmatrix = np.absolute(cmatrix)\n",
    "print(repr(cmatrix))\n",
    "\n",
    "fig = plt.figure(figsize=(6,6))\n",
    "plt.imshow(cmatrix)\n",
    "plt.title(\"Plot 2D array\")\n",
    "plt.show()"
   ]
  },
  {
   "cell_type": "markdown",
   "metadata": {},
   "source": [
    "Confusion: <br>\n",
    "flatten vs brittle <br>\n",
    "plated partially_purple vs plated purple\n"
   ]
  },
  {
   "cell_type": "code",
   "execution_count": 58,
   "metadata": {},
   "outputs": [
    {
     "name": "stdout",
     "output_type": "stream",
     "text": [
      "[0.15, 0.117, 0.108, 0.183, 0.033, 0.117, 0.108, 0.042, 0.083, 0.175, 0.025, 0.083, 0.017, 0.292]\n"
     ]
    }
   ],
   "source": [
    "acc = []\n",
    "for i in range(14):\n",
    "    acc.append(np.round(cmatrix[i][i]/120,3))\n",
    "print(acc)"
   ]
  }
 ],
 "metadata": {
  "interpreter": {
   "hash": "26de051ba29f2982a8de78e945f0abaf191376122a1563185a90213a26c5da77"
  },
  "kernelspec": {
   "display_name": "Python 3.10.4 64-bit",
   "language": "python",
   "name": "python3"
  },
  "language_info": {
   "codemirror_mode": {
    "name": "ipython",
    "version": 3
   },
   "file_extension": ".py",
   "mimetype": "text/x-python",
   "name": "python",
   "nbconvert_exporter": "python",
   "pygments_lexer": "ipython3",
   "version": "3.10.4"
  },
  "orig_nbformat": 4
 },
 "nbformat": 4,
 "nbformat_minor": 2
}
