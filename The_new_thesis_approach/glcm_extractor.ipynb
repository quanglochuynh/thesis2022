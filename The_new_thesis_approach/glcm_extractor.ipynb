{
 "cells": [
  {
   "cell_type": "code",
   "execution_count": 2,
   "metadata": {},
   "outputs": [],
   "source": [
    "import cv2\n",
    "import numpy as np\n",
    "import matplotlib.pyplot as plt \n",
    "from image_extractor import select_feature\n",
    "\n",
    "image_dir  = 'D:/Thesis_data/Backups/Color_Corrected_512x512/Agglutinated/image (99).JPG'\n",
    "# image_dir = 'D:/Thesis_data/Backups/Color_Corrected_512x512/Plated_Purple/image (2).JPG'\n",
    "# image_dir = 'D:/Thesis_data/Backups/Color_Corrected_512x512/Compartmentalized_Purple/image (69).JPG'\n",
    "\n",
    "\n",
    "plt.rcParams['figure.dpi'] = 102.46\n",
    "plt.rcParams[\"figure.figsize\"] = (12,6)\n",
    "\n",
    "image  = cv2.imread(image_dir)\n"
   ]
  },
  {
   "cell_type": "code",
   "execution_count": 3,
   "metadata": {},
   "outputs": [],
   "source": [
    "ov_geo, ov_stat, geo_ft, stat_ft, glcm_con, glcm_dis, glcm_ene, glcm_cor = select_feature(image)\n"
   ]
  },
  {
   "cell_type": "code",
   "execution_count": 6,
   "metadata": {},
   "outputs": [
    {
     "name": "stdout",
     "output_type": "stream",
     "text": [
      "[[1.45789247 1.5361124  0.70159314 1.53987957]\n",
      " [2.89378125 2.37585927 1.60585474 2.43460192]\n",
      " [3.8404154  3.51232079 2.24598481 3.72532642]\n",
      " [4.52079029 3.96760924 2.84375    4.20879085]]\n",
      "[[0.62355438 0.64489733 0.40790441 0.65218465]\n",
      " [0.96378125 0.85473691 0.68342391 0.86898513]\n",
      " [1.17216082 1.11299923 0.84247385 1.15133769]\n",
      " [1.31411415 1.21147929 0.97458584 1.25041298]]\n",
      "[[0.45509411 0.45125846 0.4726026  0.45102935]\n",
      " [0.42521882 0.43063276 0.44689147 0.43087172]\n",
      " [0.40536494 0.40255713 0.43065034 0.40320024]\n",
      " [0.3892907  0.39116334 0.41830593 0.39255869]]\n",
      "[[0.87417658 0.86755543 0.93938258 0.86723062]\n",
      " [0.75002697 0.79548231 0.86151784 0.79042565]\n",
      " [0.66643223 0.69689851 0.80671002 0.67851684]\n",
      " [0.60481767 0.65692054 0.75579837 0.63606554]]\n"
     ]
    }
   ],
   "source": [
    "# print(np.shape(glcm))\n",
    "print(glcm_con)\n",
    "print(glcm_dis)\n",
    "print(glcm_ene)\n",
    "print(glcm_cor)"
   ]
  }
 ],
 "metadata": {
  "interpreter": {
   "hash": "26de051ba29f2982a8de78e945f0abaf191376122a1563185a90213a26c5da77"
  },
  "kernelspec": {
   "display_name": "Python 3.10.4 64-bit",
   "language": "python",
   "name": "python3"
  },
  "language_info": {
   "codemirror_mode": {
    "name": "ipython",
    "version": 3
   },
   "file_extension": ".py",
   "mimetype": "text/x-python",
   "name": "python",
   "nbconvert_exporter": "python",
   "pygments_lexer": "ipython3",
   "version": "3.10.4"
  },
  "orig_nbformat": 4
 },
 "nbformat": 4,
 "nbformat_minor": 2
}
