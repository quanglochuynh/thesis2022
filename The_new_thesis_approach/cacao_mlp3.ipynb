{
 "cells": [
  {
   "cell_type": "code",
   "execution_count": 1,
   "metadata": {},
   "outputs": [],
   "source": [
    "import numpy as np\n",
    "from neural_network import MultilayerNeuralNetwork, dataset, ReLU, Sigmoid\n",
    "import pathlib\n",
    "import os"
   ]
  },
  {
   "cell_type": "code",
   "execution_count": 2,
   "metadata": {},
   "outputs": [],
   "source": [
    "input_shape = (394,)\n",
    "batch_size = 64\n",
    "\n",
    "cwd = os.getcwd()\n",
    "x_train_dir = pathlib.Path(cwd + '/data/X_train_183.npz')\n",
    "y_train_dir = pathlib.Path(cwd + '/data/Y_train_183.npz')\n",
    "x_test_dir  = pathlib.Path(cwd + '/data/X_test_183.npz')\n",
    "y_test_dir  = pathlib.Path(cwd + '/data/Y_test_183.npz')\n",
    "\n",
    "\n",
    "x_train = np.asarray(np.load(x_train_dir, allow_pickle=True)['arr_0'], dtype=np.float32)\n",
    "y_train = np.asarray(np.load(y_train_dir, allow_pickle=True)['arr_0'], dtype=np.float32)\n",
    "x_test = np.asarray(np.load(x_test_dir, allow_pickle=True)['arr_0'], dtype=np.float32)\n",
    "y_test = np.asarray(np.load(y_test_dir, allow_pickle=True)['arr_0'], dtype=np.float32)"
   ]
  },
  {
   "cell_type": "code",
   "execution_count": 3,
   "metadata": {},
   "outputs": [],
   "source": [
    "train_ds = dataset(x_train, y_train)\n",
    "test_ds = dataset(x_test, y_test)"
   ]
  },
  {
   "cell_type": "code",
   "execution_count": 4,
   "metadata": {},
   "outputs": [],
   "source": [
    "mlp = MultilayerNeuralNetwork([183, 128, 128,14], 0.0001, activation=[ReLU, ReLU, ReLU,Sigmoid])"
   ]
  },
  {
   "cell_type": "code",
   "execution_count": 5,
   "metadata": {},
   "outputs": [
    {
     "name": "stdout",
     "output_type": "stream",
     "text": [
      "Training...\n",
      "Epoch 1/2\n"
     ]
    },
    {
     "ename": "TypeError",
     "evalue": "ReLU.func() missing 1 required positional argument: 'x'",
     "output_type": "error",
     "traceback": [
      "\u001b[1;31m---------------------------------------------------------------------------\u001b[0m",
      "\u001b[1;31mTypeError\u001b[0m                                 Traceback (most recent call last)",
      "\u001b[1;32mc:\\Users\\quang\\Documents\\thesis2022\\The_new_thesis_approach\\my_mlp.ipynb Cell 5'\u001b[0m in \u001b[0;36m<cell line: 1>\u001b[1;34m()\u001b[0m\n\u001b[1;32m----> <a href='vscode-notebook-cell:/c%3A/Users/quang/Documents/thesis2022/The_new_thesis_approach/my_mlp.ipynb#ch0000004?line=0'>1</a>\u001b[0m mlp\u001b[39m.\u001b[39;49mfit(dataset\u001b[39m=\u001b[39;49mtrain_ds, epochs\u001b[39m=\u001b[39;49m\u001b[39m2\u001b[39;49m, initial_lr\u001b[39m=\u001b[39;49m\u001b[39m0.001\u001b[39;49m)\n",
      "File \u001b[1;32mc:\\Users\\quang\\Documents\\thesis2022\\The_new_thesis_approach\\neural_network.py:114\u001b[0m, in \u001b[0;36mMultilayerNeuralNetwork.fit\u001b[1;34m(self, dataset, epochs, initial_lr, damping_coeficient)\u001b[0m\n\u001b[0;32m    <a href='file:///c%3A/Users/quang/Documents/thesis2022/The_new_thesis_approach/neural_network.py?line=111'>112</a>\u001b[0m \u001b[39mprint\u001b[39m(\u001b[39m'\u001b[39m\u001b[39mEpoch \u001b[39m\u001b[39m'\u001b[39m \u001b[39m+\u001b[39m \u001b[39mstr\u001b[39m(i\u001b[39m+\u001b[39m\u001b[39m1\u001b[39m) \u001b[39m+\u001b[39m \u001b[39m'\u001b[39m\u001b[39m/\u001b[39m\u001b[39m'\u001b[39m \u001b[39m+\u001b[39m \u001b[39mstr\u001b[39m(epochs))\n\u001b[0;32m    <a href='file:///c%3A/Users/quang/Documents/thesis2022/The_new_thesis_approach/neural_network.py?line=112'>113</a>\u001b[0m \u001b[39mfor\u001b[39;00m j \u001b[39min\u001b[39;00m \u001b[39mrange\u001b[39m(dataset\u001b[39m.\u001b[39mlength):\n\u001b[1;32m--> <a href='file:///c%3A/Users/quang/Documents/thesis2022/The_new_thesis_approach/neural_network.py?line=113'>114</a>\u001b[0m     err \u001b[39m=\u001b[39m \u001b[39mself\u001b[39;49m\u001b[39m.\u001b[39;49mbatch_train(x,y)\n\u001b[0;32m    <a href='file:///c%3A/Users/quang/Documents/thesis2022/The_new_thesis_approach/neural_network.py?line=114'>115</a>\u001b[0m     \u001b[39mself\u001b[39m\u001b[39m.\u001b[39mlearning_rate \u001b[39m=\u001b[39m \u001b[39mself\u001b[39m\u001b[39m.\u001b[39mlearning_rate \u001b[39m*\u001b[39m damping_coeficient\n\u001b[0;32m    <a href='file:///c%3A/Users/quang/Documents/thesis2022/The_new_thesis_approach/neural_network.py?line=115'>116</a>\u001b[0m     \u001b[39mprint\u001b[39m(\u001b[39m'\u001b[39m\u001b[39mTraining accuracy:\u001b[39m\u001b[39m'\u001b[39m, err)\n",
      "File \u001b[1;32mc:\\Users\\quang\\Documents\\thesis2022\\The_new_thesis_approach\\neural_network.py:88\u001b[0m, in \u001b[0;36mMultilayerNeuralNetwork.batch_train\u001b[1;34m(self, input_array, target_array)\u001b[0m\n\u001b[0;32m     <a href='file:///c%3A/Users/quang/Documents/thesis2022/The_new_thesis_approach/neural_network.py?line=85'>86</a>\u001b[0m     feed_matrix \u001b[39m=\u001b[39m Matrix\u001b[39m.\u001b[39mmultiply(\u001b[39mself\u001b[39m\u001b[39m.\u001b[39mweight_matrix[i], feed_matrix)\n\u001b[0;32m     <a href='file:///c%3A/Users/quang/Documents/thesis2022/The_new_thesis_approach/neural_network.py?line=86'>87</a>\u001b[0m     feed_matrix \u001b[39m=\u001b[39m Matrix\u001b[39m.\u001b[39madd(feed_matrix, \u001b[39mself\u001b[39m\u001b[39m.\u001b[39mbias_matrix[i])\n\u001b[1;32m---> <a href='file:///c%3A/Users/quang/Documents/thesis2022/The_new_thesis_approach/neural_network.py?line=87'>88</a>\u001b[0m     feed_matrix \u001b[39m=\u001b[39m Matrix\u001b[39m.\u001b[39mmap(feed_matrix, \u001b[39mself\u001b[39;49m\u001b[39m.\u001b[39;49mactivation[i]\u001b[39m.\u001b[39;49mfunc())\n\u001b[0;32m     <a href='file:///c%3A/Users/quang/Documents/thesis2022/The_new_thesis_approach/neural_network.py?line=88'>89</a>\u001b[0m     layer_result_matrix_array\u001b[39m.\u001b[39mappend(feed_matrix)\n\u001b[0;32m     <a href='file:///c%3A/Users/quang/Documents/thesis2022/The_new_thesis_approach/neural_network.py?line=89'>90</a>\u001b[0m feed_result_matrix \u001b[39m=\u001b[39m layer_result_matrix_array[\u001b[39mlen\u001b[39m(layer_result_matrix_array)\u001b[39m-\u001b[39m\u001b[39m1\u001b[39m]\n",
      "\u001b[1;31mTypeError\u001b[0m: ReLU.func() missing 1 required positional argument: 'x'"
     ]
    }
   ],
   "source": [
    "mlp.fit(dataset=train_ds, epochs=2, initial_lr=0.001)"
   ]
  }
 ],
 "metadata": {
  "interpreter": {
   "hash": "26de051ba29f2982a8de78e945f0abaf191376122a1563185a90213a26c5da77"
  },
  "kernelspec": {
   "display_name": "Python 3.10.4 64-bit",
   "language": "python",
   "name": "python3"
  },
  "language_info": {
   "codemirror_mode": {
    "name": "ipython",
    "version": 3
   },
   "file_extension": ".py",
   "mimetype": "text/x-python",
   "name": "python",
   "nbconvert_exporter": "python",
   "pygments_lexer": "ipython3",
   "version": "3.10.4"
  },
  "orig_nbformat": 4
 },
 "nbformat": 4,
 "nbformat_minor": 2
}
