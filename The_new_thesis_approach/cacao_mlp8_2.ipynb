{
 "cells": [
  {
   "cell_type": "code",
   "execution_count": 1,
   "metadata": {},
   "outputs": [
    {
     "name": "stdout",
     "output_type": "stream",
     "text": [
      "OS: Windows\n",
      "0 :  overall_geometry\n",
      "1 :  overall_rgb\n",
      "2 :  overall_hsv\n",
      "3 :  n1\n",
      "4 :  structure\n",
      "5 :  n2\n",
      "6 :  moldered\n",
      "7 :  color_grid\n",
      "8 :  color_grid_2\n",
      "9 :  glcm_grid\n",
      "10 :  comp_hsv\n",
      "11 :  glcm_2\n",
      "12 :  lbp\n",
      "13 :  haralick\n"
     ]
    }
   ],
   "source": [
    "import numpy as np\n",
    "import os\n",
    "import tensorflow as tf\n",
    "from tensorflow import keras\n",
    "from keras import layers\n",
    "import matplotlib.pyplot as plt\n",
    "from image_extractor import DataSetup\n",
    "data = DataSetup()"
   ]
  },
  {
   "cell_type": "code",
   "execution_count": 57,
   "metadata": {},
   "outputs": [
    {
     "name": "stdout",
     "output_type": "stream",
     "text": [
      "x_test size: (1680, 443)\n",
      "x_train size: (6720, 443)\n",
      "y_test size: (1680, 14)\n",
      "y_train size: (6720, 14)\n",
      "Model name = ' overall_geometry_color_grid_2_comp_hsv_lbp_haralick.h5 '\n",
      "D:./TF_backup/mlp/overall_geometry_color_grid_2_comp_hsv_lbp_haralick.h5\n"
     ]
    }
   ],
   "source": [
    "data.concat(dataID=[0, 8, 10, 12, 13])\n",
    "model_dir = 'D:./TF_backup/mlp/' + data.model_name\n",
    "checkpoint_dir = 'D:./TF_checkpoint/mlp/weight/'\n",
    "print(model_dir)\n",
    "\n",
    "input_shape = (data.length,)\n",
    "batch_size = 8\n",
    "\n",
    "model_checkpoint = keras.callbacks.ModelCheckpoint(\n",
    "    checkpoint_dir,\n",
    "    save_weights_only=True,\n",
    "    monitor='val_accuracy',\n",
    "    mode='max',\n",
    ")"
   ]
  },
  {
   "cell_type": "code",
   "execution_count": 58,
   "metadata": {},
   "outputs": [],
   "source": [
    "normalizer = layers.Normalization()\n",
    "normalizer.adapt(data.x_train)\n",
    "\n",
    "# Define model\n",
    "input_layer = layers.Input(shape=input_shape)\n",
    "norm = normalizer(input_layer)\n",
    "den1 = layers.Dense(1024, activation='relu', kernel_initializer='HeNormal')(norm)\n",
    "drop1 = layers.Dropout(0.2)(den1)\n",
    "den2 = layers.Dense(1024, activation='relu', kernel_initializer='HeNormal')(drop1)\n",
    "drop2 = layers.Dropout(0.2)(den2)\n",
    "den3 = layers.Dense(512, activation='relu', kernel_initializer='HeNormal')(drop2)\n",
    "drop3 = layers.Dropout(0.2)(den3)\n",
    "den4 = layers.Dense(512, activation='relu', kernel_initializer='HeNormal')(drop3)\n",
    "drop4 = layers.Dropout(0.2)(den4)\n",
    "den5 = layers.Dense(14, activation='softmax')(drop4)\n",
    "model = keras.Model(input_layer, den5)\n",
    "\n",
    "opt = tf.keras.optimizers.SGD(\n",
    "    learning_rate=0.0001,\n",
    "    momentum=0.4,\n",
    "    nesterov=True,\n",
    "    name='SGD',\n",
    ")\n",
    "\n",
    "model.compile(\n",
    "    optimizer=opt, \n",
    "    loss=\"categorical_crossentropy\", \n",
    "    metrics=[\"accuracy\"]\n",
    "    )"
   ]
  },
  {
   "cell_type": "code",
   "execution_count": 59,
   "metadata": {},
   "outputs": [
    {
     "name": "stdout",
     "output_type": "stream",
     "text": [
      "Model: \"model_7\"\n",
      "_________________________________________________________________\n",
      " Layer (type)                Output Shape              Param #   \n",
      "=================================================================\n",
      " input_8 (InputLayer)        [(None, 443)]             0         \n",
      "                                                                 \n",
      " normalization_7 (Normalizat  (None, 443)              887       \n",
      " ion)                                                            \n",
      "                                                                 \n",
      " dense_35 (Dense)            (None, 1024)              454656    \n",
      "                                                                 \n",
      " dropout_28 (Dropout)        (None, 1024)              0         \n",
      "                                                                 \n",
      " dense_36 (Dense)            (None, 1024)              1049600   \n",
      "                                                                 \n",
      " dropout_29 (Dropout)        (None, 1024)              0         \n",
      "                                                                 \n",
      " dense_37 (Dense)            (None, 512)               524800    \n",
      "                                                                 \n",
      " dropout_30 (Dropout)        (None, 512)               0         \n",
      "                                                                 \n",
      " dense_38 (Dense)            (None, 512)               262656    \n",
      "                                                                 \n",
      " dropout_31 (Dropout)        (None, 512)               0         \n",
      "                                                                 \n",
      " dense_39 (Dense)            (None, 14)                7182      \n",
      "                                                                 \n",
      "=================================================================\n",
      "Total params: 2,299,781\n",
      "Trainable params: 2,298,894\n",
      "Non-trainable params: 887\n",
      "_________________________________________________________________\n"
     ]
    }
   ],
   "source": [
    "model.summary()"
   ]
  },
  {
   "cell_type": "code",
   "execution_count": 60,
   "metadata": {},
   "outputs": [
    {
     "name": "stdout",
     "output_type": "stream",
     "text": [
      "Epoch 1/40\n",
      "840/840 [==============================] - 5s 5ms/step - loss: 3.0551 - accuracy: 0.1379\n",
      "Epoch 2/40\n",
      "840/840 [==============================] - 4s 5ms/step - loss: 2.4280 - accuracy: 0.2436\n",
      "Epoch 3/40\n",
      "840/840 [==============================] - 4s 5ms/step - loss: 2.1508 - accuracy: 0.3064\n",
      "Epoch 4/40\n",
      "840/840 [==============================] - 4s 5ms/step - loss: 1.9276 - accuracy: 0.3646\n",
      "Epoch 5/40\n",
      "840/840 [==============================] - 4s 5ms/step - loss: 1.7939 - accuracy: 0.4040\n",
      "Epoch 6/40\n",
      "840/840 [==============================] - 4s 5ms/step - loss: 1.6632 - accuracy: 0.4458\n",
      "Epoch 7/40\n",
      "840/840 [==============================] - 4s 5ms/step - loss: 1.5948 - accuracy: 0.4719\n",
      "Epoch 8/40\n",
      "840/840 [==============================] - 4s 5ms/step - loss: 1.5223 - accuracy: 0.4905\n",
      "Epoch 9/40\n",
      "840/840 [==============================] - 4s 5ms/step - loss: 1.4677 - accuracy: 0.5046\n",
      "Epoch 10/40\n",
      "840/840 [==============================] - 4s 5ms/step - loss: 1.3987 - accuracy: 0.5201\n",
      "Epoch 11/40\n",
      "840/840 [==============================] - 4s 5ms/step - loss: 1.3427 - accuracy: 0.5464\n",
      "Epoch 12/40\n",
      "840/840 [==============================] - 4s 5ms/step - loss: 1.3108 - accuracy: 0.5549\n",
      "Epoch 13/40\n",
      "840/840 [==============================] - 4s 5ms/step - loss: 1.2498 - accuracy: 0.5674\n",
      "Epoch 14/40\n",
      "840/840 [==============================] - 4s 5ms/step - loss: 1.2377 - accuracy: 0.5719\n",
      "Epoch 15/40\n",
      "840/840 [==============================] - 4s 5ms/step - loss: 1.2071 - accuracy: 0.5909\n",
      "Epoch 16/40\n",
      "840/840 [==============================] - 4s 5ms/step - loss: 1.1433 - accuracy: 0.6024\n",
      "Epoch 17/40\n",
      "840/840 [==============================] - 4s 5ms/step - loss: 1.1335 - accuracy: 0.6049\n",
      "Epoch 18/40\n",
      "840/840 [==============================] - 4s 5ms/step - loss: 1.1157 - accuracy: 0.6097\n",
      "Epoch 19/40\n",
      "840/840 [==============================] - 4s 5ms/step - loss: 1.0884 - accuracy: 0.6179\n",
      "Epoch 20/40\n",
      "840/840 [==============================] - 4s 5ms/step - loss: 1.0547 - accuracy: 0.6278\n",
      "Epoch 21/40\n",
      "840/840 [==============================] - 4s 5ms/step - loss: 1.0557 - accuracy: 0.6308\n",
      "Epoch 22/40\n",
      "840/840 [==============================] - 5s 6ms/step - loss: 1.0245 - accuracy: 0.6356\n",
      "Epoch 23/40\n",
      "840/840 [==============================] - 4s 5ms/step - loss: 1.0226 - accuracy: 0.6430\n",
      "Epoch 24/40\n",
      "840/840 [==============================] - 4s 5ms/step - loss: 0.9829 - accuracy: 0.6504\n",
      "Epoch 25/40\n",
      "840/840 [==============================] - 4s 5ms/step - loss: 0.9726 - accuracy: 0.6618\n",
      "Epoch 26/40\n",
      "840/840 [==============================] - 4s 5ms/step - loss: 0.9539 - accuracy: 0.6626\n",
      "Epoch 27/40\n",
      "840/840 [==============================] - 4s 5ms/step - loss: 0.9364 - accuracy: 0.6653\n",
      "Epoch 28/40\n",
      "840/840 [==============================] - 4s 5ms/step - loss: 0.9394 - accuracy: 0.6711\n",
      "Epoch 29/40\n",
      "840/840 [==============================] - 4s 5ms/step - loss: 0.9271 - accuracy: 0.6726\n",
      "Epoch 30/40\n",
      "840/840 [==============================] - 4s 5ms/step - loss: 0.9059 - accuracy: 0.6851\n",
      "Epoch 31/40\n",
      "840/840 [==============================] - 4s 5ms/step - loss: 0.9016 - accuracy: 0.6732\n",
      "Epoch 32/40\n",
      "840/840 [==============================] - 4s 5ms/step - loss: 0.8723 - accuracy: 0.6865\n",
      "Epoch 33/40\n",
      "840/840 [==============================] - 4s 5ms/step - loss: 0.8601 - accuracy: 0.6942\n",
      "Epoch 34/40\n",
      "840/840 [==============================] - 4s 5ms/step - loss: 0.8533 - accuracy: 0.6996\n",
      "Epoch 35/40\n",
      "840/840 [==============================] - 4s 5ms/step - loss: 0.8452 - accuracy: 0.6976\n",
      "Epoch 36/40\n",
      "840/840 [==============================] - 4s 5ms/step - loss: 0.8324 - accuracy: 0.7027\n",
      "Epoch 37/40\n",
      "840/840 [==============================] - 4s 5ms/step - loss: 0.8123 - accuracy: 0.7137\n",
      "Epoch 38/40\n",
      "840/840 [==============================] - 4s 5ms/step - loss: 0.8110 - accuracy: 0.7137\n",
      "Epoch 39/40\n",
      "840/840 [==============================] - 4s 5ms/step - loss: 0.8003 - accuracy: 0.7159\n",
      "Epoch 40/40\n",
      "840/840 [==============================] - 4s 5ms/step - loss: 0.7897 - accuracy: 0.7198\n"
     ]
    }
   ],
   "source": [
    "epochs = 40\n",
    "model.fit(data.x_train, data.y_train, batch_size=batch_size, shuffle=True, epochs=epochs, callbacks=[model_checkpoint])\n",
    "model.save(model_dir)"
   ]
  },
  {
   "cell_type": "code",
   "execution_count": 61,
   "metadata": {},
   "outputs": [
    {
     "name": "stdout",
     "output_type": "stream",
     "text": [
      "53/53 [==============================] - 0s 2ms/step - loss: 0.9171 - accuracy: 0.6923\n",
      "Test loss: 0.9171092510223389\n",
      "Test accuracy: 0.6922619342803955\n"
     ]
    }
   ],
   "source": [
    "score = model.evaluate(data.x_test, data.y_test, verbose=1)\n",
    "print(\"Test loss:\", score[0])\n",
    "print(\"Test accuracy:\", score[1])"
   ]
  },
  {
   "cell_type": "code",
   "execution_count": 62,
   "metadata": {},
   "outputs": [
    {
     "data": {
      "image/png": "[encoded data removed]",
      "text/plain": [
       "<Figure size 432x432 with 1 Axes>"
      ]
     },
     "metadata": {
      "needs_background": "light"
     },
     "output_type": "display_data"
    }
   ],
   "source": [
    "i = 0\n",
    "cmatrix = np.zeros((14,14), dtype=np.int16)\n",
    "bat = int(len(data.x_test)/60)\n",
    "for i in range(0, len(data.x_test),bat):\n",
    "    result = model.predict_on_batch(data.x_test[i:i+bat])\n",
    "    ans = data.y_test[i:i+bat]\n",
    "    for j in range(bat):\n",
    "        id1 = np.argmax(result[j])\n",
    "        id2 = np.argmax(ans[j])\n",
    "        cmatrix[id1, id2] = cmatrix[id1][id2] + 1\n",
    "\n",
    "cmatrix = np.absolute(cmatrix)\n",
    "# print(repr(cmatrix))\n",
    "\n",
    "fig = plt.figure(figsize=(6,6))\n",
    "plt.imshow(cmatrix)\n",
    "plt.title(\"Plot 2D array\")\n",
    "plt.show()"
   ]
  },
  {
   "cell_type": "code",
   "execution_count": 63,
   "metadata": {},
   "outputs": [
    {
     "name": "stdout",
     "output_type": "stream",
     "text": [
      "[0.675, 0.55, 0.65, 0.483, 0.292, 0.808, 0.925, 0.917, 0.917, 0.467, 0.325, 0.833, 0.925, 0.925]\n",
      "0.6922857142857144\n"
     ]
    }
   ],
   "source": [
    "acc = []\n",
    "for i in range(14):\n",
    "    acc.append(np.round(cmatrix[i][i]/120,3))\n",
    "print(acc)\n",
    "print(np.mean(acc))"
   ]
  }
 ],
 "metadata": {
  "kernelspec": {
   "display_name": "Python 3.10.4 64-bit",
   "language": "python",
   "name": "python3"
  },
  "language_info": {
   "codemirror_mode": {
    "name": "ipython",
    "version": 3
   },
   "file_extension": ".py",
   "mimetype": "text/x-python",
   "name": "python",
   "nbconvert_exporter": "python",
   "pygments_lexer": "ipython3",
   "version": "3.10.4"
  },
  "orig_nbformat": 4,
  "vscode": {
   "interpreter": {
    "hash": "26de051ba29f2982a8de78e945f0abaf191376122a1563185a90213a26c5da77"
   }
  }
 },
 "nbformat": 4,
 "nbformat_minor": 2
}
