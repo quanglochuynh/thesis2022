{
 "cells": [
  {
   "cell_type": "code",
   "execution_count": 49,
   "metadata": {},
   "outputs": [],
   "source": [
    "import cv2\n",
    "import numpy as np\n",
    "from numpy import shape\n",
    "import matplotlib.pyplot as plt \n",
    "from image_extractor import feature_extract\n",
    "\n",
    "image_dir  = 'D:/Thesis_data/Backups/Color_Corrected_512x512/Agglutinated/image (1).JPG'\n",
    "# image_dir  = 'D:/Thesis_data/Backups/Color_Corrected_512x512/Brittle/image (1).JPG'\n",
    "# image_dir = 'D:/Thesis_data/Backups/Color_Corrected_512x512/Plated_Purple/image (10).JPG'\n",
    "# image_dir = 'D:/Thesis_data/Backups/Color_Corrected_512x512/Compartmentalized_PartiallyPurple/image (1).JPG'\n",
    "# image_dir = 'D:/Thesis_data/Backups/Color_Corrected_512x512/Compartmentalized_Brown/image (1).JPG'\n",
    "# image_dir = 'D:/Thesis_data/Backups/Color_Corrected_512x512/Plated_White/image (72).JPG'\n",
    "# image_dir = 'D:/Thesis_data/Backups/Color_Corrected_512x512/Plated_Slaty/image (71).JPG'\n",
    "# image_dir = 'D:/Thesis_data/Backups/Color_Corrected_512x512/Compartmentalized_Slaty/image (1).JPG'\n",
    "# image_dir = 'D:/Thesis_data/Backups/Color_Corrected_512x512/Moldered/image (7).JPG'\n",
    "# image_dir = 'D:/Thesis_data/mlp_data/testing_img/Agglutinated/image(1).JPG'\n",
    "\n",
    "plt.rcParams['figure.dpi'] = 102.46 "
   ]
  },
  {
   "cell_type": "code",
   "execution_count": 50,
   "metadata": {},
   "outputs": [],
   "source": [
    "extractor = feature_extract()\n",
    "image_bgr = cv2.imread(image_dir)\n",
    "extractor.extract(image_bgr)\n"
   ]
  },
  {
   "cell_type": "code",
   "execution_count": 51,
   "metadata": {},
   "outputs": [
    {
     "data": {
      "text/plain": [
       "array([ 1.16905847e+02,  1.92123878e+02,  2.13175139e+01,  1.82028539e+01,\n",
       "        1.07164994e+02,  8.88384659e+01,  4.86391635e+00,  2.03321905e+01,\n",
       "        1.53500000e+02,  3.58500000e+02,  3.00000000e+00,  7.00000000e+00,\n",
       "        1.20477545e+02,  2.30354332e+02,  2.22703800e+01,  4.05445004e+00,\n",
       "        4.15882378e+01,  1.34852936e+02,  3.41282196e+01,  4.28746462e+00,\n",
       "        1.48819399e+02,  1.73754753e+02,  1.87194552e+01,  3.95500070e+00,\n",
       "        6.50201741e+01,  8.09658881e+01,  1.94686114e+01,  2.32116513e+01,\n",
       "        3.59255986e+01,  4.00263892e+01,  1.06907737e+00,  3.45662437e+00,\n",
       "        0.00000000e+00,  0.00000000e+00,  0.00000000e+00,  0.00000000e+00,\n",
       "        6.00544682e+01,  8.99697037e+01,  1.10917606e+01,  3.28243256e-01,\n",
       "        0.00000000e+00,  0.00000000e+00,  0.00000000e+00,  0.00000000e+00,\n",
       "        5.99914552e+01,  5.07410583e+01,  8.32715311e+00,  8.48550720e-01,\n",
       "       -1.28846792e-02, -1.30859403e-01,  8.87244506e-01,  2.45538048e+00,\n",
       "       -1.48473208e+00,  6.98387207e-01, -4.90926514e-01,  2.41466415e-01,\n",
       "        0.00000000e+00,  0.00000000e+00,  0.00000000e+00,  0.00000000e+00,\n",
       "        0.00000000e+00,  0.00000000e+00,  0.00000000e+00,  0.00000000e+00,\n",
       "        0.00000000e+00,  0.00000000e+00,  0.00000000e+00,  0.00000000e+00,\n",
       "       -1.10112814e+00,  7.91872890e-01,  7.01276180e-01,  8.87981847e-01,\n",
       "        1.47025133e+00,  1.20778001e+00,  1.91292975e-01, -5.81698494e+00,\n",
       "       -2.29301170e-01,  6.99378720e-01,  9.91236053e-01,  6.22847828e-01,\n",
       "        3.00000000e+00,  3.00000000e+00,  3.00000000e+00,  3.00000000e+00,\n",
       "        2.00000000e+00,  2.00000000e+00,  2.00000000e+00,  2.00000000e+00,\n",
       "        3.00000000e+00,  3.00000000e+00,  3.00000000e+00,  3.00000000e+00,\n",
       "        7.03094083e-01,  9.87700430e-01,  8.87653033e-01,  8.46452627e-01])"
      ]
     },
     "execution_count": 51,
     "metadata": {},
     "output_type": "execute_result"
    }
   ],
   "source": [
    "((extractor.structure))"
   ]
  },
  {
   "cell_type": "code",
   "execution_count": 52,
   "metadata": {},
   "outputs": [
    {
     "name": "stdout",
     "output_type": "stream",
     "text": [
      "38\n"
     ]
    }
   ],
   "source": [
    "print(extractor.n2)"
   ]
  },
  {
   "cell_type": "code",
   "execution_count": 53,
   "metadata": {},
   "outputs": [
    {
     "data": {
      "text/plain": [
       "(56,)"
      ]
     },
     "execution_count": 53,
     "metadata": {},
     "output_type": "execute_result"
    }
   ],
   "source": [
    "shape(extractor.mold)"
   ]
  },
  {
   "cell_type": "code",
   "execution_count": 54,
   "metadata": {},
   "outputs": [
    {
     "name": "stdout",
     "output_type": "stream",
     "text": [
      "[252, 373, 77269.0, 1172.4894560575485, 267.4194030761719, 383.3051452636719, 1.6402595137482228, 79956.5, 196.33718872070312, 0.9663879734605691, 0.822045618962509, 6.103277807866851]\n"
     ]
    }
   ],
   "source": [
    "print(extractor.overall_geometry)"
   ]
  },
  {
   "cell_type": "code",
   "execution_count": 55,
   "metadata": {},
   "outputs": [
    {
     "data": {
      "text/plain": [
       "array([90.08984   , 79.8994    , 52.618237  , 49.549633  , 45.39174   ,\n",
       "       30.185934  , -0.8192901 , -0.68765134, -0.46233264, -0.61187583,\n",
       "       -0.75621855, -0.45938212], dtype=float32)"
      ]
     },
     "execution_count": 55,
     "metadata": {},
     "output_type": "execute_result"
    }
   ],
   "source": [
    "(extractor.overall_rgb_stat)"
   ]
  },
  {
   "cell_type": "code",
   "execution_count": 56,
   "metadata": {},
   "outputs": [
    {
     "data": {
      "text/plain": [
       "array([23.079918  , 85.97742   , 90.780014  , 29.30934   , 48.817097  ,\n",
       "       49.629498  ,  3.9593065 , -0.5897722 , -0.84107566, 17.02361   ,\n",
       "       -0.595323  , -0.57765955], dtype=float32)"
      ]
     },
     "execution_count": 56,
     "metadata": {},
     "output_type": "execute_result"
    }
   ],
   "source": [
    "extractor.overall_hsv_stat"
   ]
  },
  {
   "cell_type": "code",
   "execution_count": 57,
   "metadata": {},
   "outputs": [
    {
     "data": {
      "text/plain": [
       "(12,)"
      ]
     },
     "execution_count": 57,
     "metadata": {},
     "output_type": "execute_result"
    }
   ],
   "source": [
    "shape(extractor.glcm_correlation)"
   ]
  },
  {
   "cell_type": "code",
   "execution_count": 58,
   "metadata": {},
   "outputs": [
    {
     "data": {
      "text/plain": [
       "(12,)"
      ]
     },
     "execution_count": 58,
     "metadata": {},
     "output_type": "execute_result"
    }
   ],
   "source": [
    "shape(extractor.glcm_dissimilarity)"
   ]
  },
  {
   "cell_type": "code",
   "execution_count": 59,
   "metadata": {},
   "outputs": [
    {
     "data": {
      "text/plain": [
       "(192,)"
      ]
     },
     "execution_count": 59,
     "metadata": {},
     "output_type": "execute_result"
    }
   ],
   "source": [
    "shape(extractor.grid_stat)"
   ]
  }
 ],
 "metadata": {
  "interpreter": {
   "hash": "26de051ba29f2982a8de78e945f0abaf191376122a1563185a90213a26c5da77"
  },
  "kernelspec": {
   "display_name": "Python 3.10.4 64-bit",
   "language": "python",
   "name": "python3"
  },
  "language_info": {
   "codemirror_mode": {
    "name": "ipython",
    "version": 3
   },
   "file_extension": ".py",
   "mimetype": "text/x-python",
   "name": "python",
   "nbconvert_exporter": "python",
   "pygments_lexer": "ipython3",
   "version": "3.10.4"
  },
  "orig_nbformat": 4
 },
 "nbformat": 4,
 "nbformat_minor": 2
}
