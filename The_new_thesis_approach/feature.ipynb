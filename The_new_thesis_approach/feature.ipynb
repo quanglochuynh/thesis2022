{
 "cells": [
  {
   "cell_type": "code",
   "execution_count": 15,
   "metadata": {},
   "outputs": [],
   "source": [
    "import cv2\n",
    "import numpy as np\n",
    "from numpy import shape\n",
    "import matplotlib.pyplot as plt \n",
    "from image_extractor import select_feature, feature_extract\n",
    "\n",
    "# image_dir  = 'D:/Thesis_data/Backups/Color_Corrected_512x512/Agglutinated/image (2).JPG'\n",
    "# image_dir  = 'D:/Thesis_data/Backups/Color_Corrected_512x512/Brittle/image (87).JPG'\n",
    "# image_dir = 'D:/Thesis_data/Backups/Color_Corrected_512x512/Plated_Purple/image (10).JPG'\n",
    "# image_dir = 'D:/Thesis_data/Backups/Color_Corrected_512x512/Compartmentalized_Purple/image (100).JPG'\n",
    "# image_dir = 'D:/Thesis_data/Backups/Color_Corrected_512x512/Compartmentalized_White/image (24).JPG'\n",
    "# image_dir = 'D:/Thesis_data/Backups/Color_Corrected_512x512/Plated_White/image (72).JPG'\n",
    "image_dir = 'D:/Thesis_data/Backups/Color_Corrected_512x512/Plated_Slaty/image (71).JPG'\n",
    "# image_dir = 'D:/Thesis_data/Backups/Color_Corrected_512x512/Compartmentalized_Slaty/image (56).JPG'\n",
    "# image_dir = 'D:/Thesis_data/Backups/Color_Corrected_512x512/Moldered/image (7).JPG'\n",
    "\n",
    "plt.rcParams['figure.dpi'] = 102.46 "
   ]
  },
  {
   "cell_type": "code",
   "execution_count": 16,
   "metadata": {},
   "outputs": [],
   "source": [
    "# features = select_feature(image_dir)\n",
    "# print(type(features))"
   ]
  },
  {
   "cell_type": "code",
   "execution_count": 17,
   "metadata": {},
   "outputs": [],
   "source": [
    "extractor = feature_extract()\n",
    "image_bgr = cv2.imread(image_dir)\n",
    "extractor.process(image_bgr)\n"
   ]
  },
  {
   "cell_type": "code",
   "execution_count": 22,
   "metadata": {},
   "outputs": [
    {
     "name": "stdout",
     "output_type": "stream",
     "text": [
      "[ 8.30300425e+01  1.68025805e+02  1.22120454e+01  1.01232140e+01\n",
      "  1.38620605e+02  2.20582367e+02  2.69516212e+00  1.92460666e+01\n",
      "  0.00000000e+00  0.00000000e+00  0.00000000e+00  0.00000000e+00\n",
      "  9.05000000e+01  2.46000000e+02  4.00000000e+00  2.10000000e+01\n",
      "  0.00000000e+00  0.00000000e+00  0.00000000e+00  0.00000000e+00\n",
      "  0.00000000e+00  0.00000000e+00  0.00000000e+00  0.00000000e+00\n",
      "  3.08888126e+01  7.01054722e+01  1.12350570e+01  9.87211292e+00\n",
      "  1.17942810e+00  7.11823425e+01  9.06307876e-01  4.93523264e+00\n",
      "  0.00000000e+00  0.00000000e+00  0.00000000e+00  0.00000000e+00\n",
      "  0.00000000e+00  0.00000000e+00  0.00000000e+00  0.00000000e+00\n",
      "  0.00000000e+00  0.00000000e+00  0.00000000e+00  0.00000000e+00\n",
      "  0.00000000e+00  0.00000000e+00  0.00000000e+00  0.00000000e+00\n",
      "  1.87788819e-01  3.92972509e-01  1.26421494e+00  1.24605615e+00\n",
      "  0.00000000e+00  0.00000000e+00  0.00000000e+00  0.00000000e+00\n",
      "  0.00000000e+00  0.00000000e+00  0.00000000e+00  0.00000000e+00\n",
      "  0.00000000e+00  0.00000000e+00  0.00000000e+00  0.00000000e+00\n",
      "  0.00000000e+00  0.00000000e+00  0.00000000e+00  0.00000000e+00\n",
      "  0.00000000e+00  0.00000000e+00  0.00000000e+00  0.00000000e+00\n",
      "  3.93227364e-01  1.14275247e+00 -8.65701237e-01 -3.03266216e-01\n",
      "  2.00000000e+00  2.00000000e+00  2.00000000e+00  2.00000000e+00\n",
      "  3.00000000e+00  3.00000000e+00  3.00000000e+00  3.00000000e+00\n",
      "  3.00000000e+00  3.00000000e+00  3.00000000e+00  3.00000000e+00\n",
      "  3.00000000e+00  3.00000000e+00  3.00000000e+00  3.00000000e+00\n",
      "  3.00000000e+00  3.00000000e+00  3.00000000e+00  3.00000000e+00]\n"
     ]
    }
   ],
   "source": [
    "print((extractor.structure))"
   ]
  },
  {
   "cell_type": "code",
   "execution_count": 19,
   "metadata": {},
   "outputs": [
    {
     "name": "stdout",
     "output_type": "stream",
     "text": [
      "[ 7.84210526e+00  1.05000000e+01  1.09360671e+02  1.05273005e+02\n",
      "  6.69593585e+01  5.12637427e+01  4.87051859e+01  3.20886448e+01\n",
      " -1.18060602e-01 -8.08597819e-02  5.34688174e-02 -1.09203143e+00\n",
      " -1.08633609e+00 -8.68412757e-01  3.61667422e+00  7.52102317e+00\n",
      "  1.67848359e+01  1.28170756e+01  1.29126456e+01  2.47702812e+01\n",
      "  2.27888540e+01  8.49178628e+00  5.47908584e-01  5.27484025e-01\n",
      "  4.53520112e-01  4.66359201e-01  4.71645596e-01  4.54887182e-01\n",
      "  1.40937162e+00  2.11586481e+00  1.58104388e+00  3.62584069e-01\n",
      " -2.13737323e-01  4.38664130e-02  8.37776728e-02 -5.32802542e-02\n",
      "  7.27772915e-02  3.23708310e-02 -1.70237914e-01  8.76682737e-01\n",
      "  8.36509200e-01  7.32670029e-01  1.07649425e+00  3.86356586e+00\n",
      "  5.90927303e+00  3.83865460e+00 -1.17296398e+00 -1.87617099e+00\n",
      " -1.81857498e+00 -9.70797830e-01 -8.90531694e-01 -7.59251810e-01\n",
      " -3.46081908e-01  1.80064263e-01 -1.14073799e-02 -2.68576021e-01]\n"
     ]
    }
   ],
   "source": [
    "print(extractor.mold)"
   ]
  },
  {
   "cell_type": "code",
   "execution_count": 20,
   "metadata": {},
   "outputs": [
    {
     "name": "stdout",
     "output_type": "stream",
     "text": [
      "[171, 82, 171, 349, 45677.0, 970.6072062253952, 170.9042205810547, 342.262451171875, 1.7893288378110643, 47249.0, 174.2356719970703, 0.9667294545916316, 0.7653781062015114, 1.839204506189209]\n"
     ]
    }
   ],
   "source": [
    "print(extractor.overall_geometry)"
   ]
  },
  {
   "cell_type": "code",
   "execution_count": 21,
   "metadata": {},
   "outputs": [
    {
     "name": "stdout",
     "output_type": "stream",
     "text": [
      "[67.18516    66.938416   46.0716     46.471848   44.016083   29.156612\n",
      "  0.22330204 -0.12166926 -0.4317345   0.1067353  -0.30239233 -0.5968161 ]\n"
     ]
    }
   ],
   "source": [
    "print(extractor.overall_statistic)"
   ]
  }
 ],
 "metadata": {
  "interpreter": {
   "hash": "26de051ba29f2982a8de78e945f0abaf191376122a1563185a90213a26c5da77"
  },
  "kernelspec": {
   "display_name": "Python 3.10.4 64-bit",
   "language": "python",
   "name": "python3"
  },
  "language_info": {
   "codemirror_mode": {
    "name": "ipython",
    "version": 3
   },
   "file_extension": ".py",
   "mimetype": "text/x-python",
   "name": "python",
   "nbconvert_exporter": "python",
   "pygments_lexer": "ipython3",
   "version": "3.10.4"
  },
  "orig_nbformat": 4
 },
 "nbformat": 4,
 "nbformat_minor": 2
}
