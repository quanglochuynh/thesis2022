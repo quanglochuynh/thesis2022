{
 "cells": [
  {
   "cell_type": "code",
   "execution_count": 1,
   "metadata": {},
   "outputs": [],
   "source": [
    "import numpy as np\n",
    "from numpy import shape\n",
    "\n",
    "dir = 'D:/Thesis_data/mlp_data/'\n"
   ]
  },
  {
   "cell_type": "code",
   "execution_count": 6,
   "metadata": {},
   "outputs": [
    {
     "data": {
      "text/plain": [
       "(6720, 195)"
      ]
     },
     "execution_count": 6,
     "metadata": {},
     "output_type": "execute_result"
    }
   ],
   "source": [
    "x_train = np.load(dir + 'X_train_195.npz')['arr_0']\n",
    "shape(x_train)"
   ]
  },
  {
   "cell_type": "code",
   "execution_count": 7,
   "metadata": {},
   "outputs": [
    {
     "data": {
      "text/plain": [
       "(1680, 195)"
      ]
     },
     "execution_count": 7,
     "metadata": {},
     "output_type": "execute_result"
    }
   ],
   "source": [
    "x_test = np.load(dir + 'X_test_195.npz')['arr_0']\n",
    "shape(x_test)"
   ]
  },
  {
   "cell_type": "code",
   "execution_count": 8,
   "metadata": {},
   "outputs": [
    {
     "data": {
      "text/plain": [
       "array([ 8.39183502e+01,  7.23588715e+01,  4.10415115e+01,  5.81993942e+01,\n",
       "        5.11200447e+01,  3.11644573e+01, -5.40404618e-01, -4.39529091e-01,\n",
       "       -7.26958551e-03, -1.29363155e+00, -1.28459537e+00, -8.83364975e-01,\n",
       "        1.53367786e+01,  9.14732361e+01,  8.43358154e+01,  1.13065233e+01,\n",
       "        6.39819679e+01,  5.83529167e+01,  3.45141143e-01, -5.10505497e-01,\n",
       "       -5.52776754e-01,  6.66575336e+00, -1.32491291e+00, -1.29176605e+00,\n",
       "        2.94000000e+02,  4.65000000e+02,  9.48975000e+04,  1.34997682e+03,\n",
       "        2.72582123e+02,  4.45317261e+02,  1.70580682e+00,  9.87040000e+04,\n",
       "        2.32155762e+02,  9.61435200e-01,  6.94151854e-01,  3.35410197e+00])"
      ]
     },
     "execution_count": 8,
     "metadata": {},
     "output_type": "execute_result"
    }
   ],
   "source": [
    "x_test[0][0:36]"
   ]
  },
  {
   "cell_type": "code",
   "execution_count": 12,
   "metadata": {},
   "outputs": [
    {
     "data": {
      "text/plain": [
       "(6720, 192)"
      ]
     },
     "execution_count": 12,
     "metadata": {},
     "output_type": "execute_result"
    }
   ],
   "source": [
    "glcm_train = np.load(dir + 'grid_train.npz')['arr_0']\n",
    "shape(glcm_train)"
   ]
  },
  {
   "cell_type": "code",
   "execution_count": 13,
   "metadata": {},
   "outputs": [
    {
     "data": {
      "text/plain": [
       "(1680, 192)"
      ]
     },
     "execution_count": 13,
     "metadata": {},
     "output_type": "execute_result"
    }
   ],
   "source": [
    "glcm_test = np.load(dir+'grid_test.npz')['arr_0']\n",
    "shape(glcm_test)"
   ]
  },
  {
   "cell_type": "code",
   "execution_count": 14,
   "metadata": {},
   "outputs": [
    {
     "data": {
      "text/plain": [
       "(6720, 399)"
      ]
     },
     "execution_count": 14,
     "metadata": {},
     "output_type": "execute_result"
    }
   ],
   "source": [
    "new_X_train = np.concatenate([x_train, glcm_train], axis=1)\n",
    "shape(new_X_train)"
   ]
  },
  {
   "cell_type": "code",
   "execution_count": 15,
   "metadata": {},
   "outputs": [
    {
     "data": {
      "text/plain": [
       "(1680, 399)"
      ]
     },
     "execution_count": 15,
     "metadata": {},
     "output_type": "execute_result"
    }
   ],
   "source": [
    "new_X_test = np.concatenate([x_test, glcm_test], axis=1)\n",
    "shape(new_X_test)"
   ]
  },
  {
   "cell_type": "code",
   "execution_count": 8,
   "metadata": {},
   "outputs": [
    {
     "name": "stdout",
     "output_type": "stream",
     "text": [
      "[0.32743527 0.35439839 0.53808617 0.34363972 0.24683746 0.2939529\n",
      " 0.46232164 0.28190383 0.18986964 0.24890406 0.41040796 0.23677735\n",
      " 2.83286673 2.76313645 2.27691338 2.79385167 3.03716342 2.91719946\n",
      " 2.48655449 2.94378808 3.17943436 3.02656405 2.628307   3.05300197]\n"
     ]
    }
   ],
   "source": [
    "print(glcm_train[4])"
   ]
  },
  {
   "cell_type": "code",
   "execution_count": 16,
   "metadata": {},
   "outputs": [],
   "source": [
    "np.savez_compressed(dir + 'X_test_399.npz', new_X_test)\n",
    "np.savez_compressed(dir + 'X_train_399.npz', new_X_train)"
   ]
  }
 ],
 "metadata": {
  "interpreter": {
   "hash": "26de051ba29f2982a8de78e945f0abaf191376122a1563185a90213a26c5da77"
  },
  "kernelspec": {
   "display_name": "Python 3.10.4 64-bit",
   "language": "python",
   "name": "python3"
  },
  "language_info": {
   "codemirror_mode": {
    "name": "ipython",
    "version": 3
   },
   "file_extension": ".py",
   "mimetype": "text/x-python",
   "name": "python",
   "nbconvert_exporter": "python",
   "pygments_lexer": "ipython3",
   "version": "3.10.4"
  },
  "orig_nbformat": 4
 },
 "nbformat": 4,
 "nbformat_minor": 2
}
