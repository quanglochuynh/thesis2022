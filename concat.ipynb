{
 "cells": [
  {
   "cell_type": "code",
   "execution_count": 8,
   "metadata": {},
   "outputs": [],
   "source": [
    "import numpy as np\n",
    "from numpy import shape\n",
    "\n",
    "dir = 'D:/Thesis_data/mlp_data/new/'\n"
   ]
  },
  {
   "cell_type": "code",
   "execution_count": 10,
   "metadata": {},
   "outputs": [
    {
     "name": "stdout",
     "output_type": "stream",
     "text": [
      "(6720, 12)\n",
      "(6720, 12)\n",
      "(6720, 12)\n",
      "(6720, 6)\n",
      "(6720, 96)\n",
      "(6720, 1)\n",
      "(6720, 56)\n",
      "(6720, 192)\n",
      "(6720, 256)\n"
     ]
    }
   ],
   "source": [
    "train_geometry = np.load(dir + 'train_overall_geometry.npz')['arr_0']\n",
    "print(shape(train_geometry))\n",
    "train_rgb = np.load(dir + 'train_overall_rgb.npz')['arr_0']\n",
    "print(shape(train_rgb))\n",
    "train_hsv = np.load(dir + 'train_overall_hsv.npz')['arr_0']\n",
    "print(shape(train_hsv))\n",
    "train_n1 = np.load(dir + 'train_n1.npz')['arr_0']\n",
    "print(shape(train_n1))\n",
    "train_structure = np.load(dir + 'train_structure.npz')['arr_0']\n",
    "print(shape(train_structure))\n",
    "train_n2 = np.load(dir + 'train_n2.npz')['arr_0']\n",
    "print(shape(train_n2))\n",
    "train_moldered = np.load(dir + 'train_moldered.npz')['arr_0']\n",
    "print(shape(train_moldered))\n",
    "train_color_grid = np.load(dir + 'train_color_grid.npz')['arr_0']\n",
    "print(shape(train_color_grid))\n",
    "train_glcm_grid = np.load(dir + 'train_glcm_grid.npz')['arr_0']\n",
    "print(shape(train_glcm_grid))"
   ]
  },
  {
   "cell_type": "code",
   "execution_count": 11,
   "metadata": {},
   "outputs": [
    {
     "name": "stdout",
     "output_type": "stream",
     "text": [
      "(1680, 12)\n",
      "(1680, 12)\n",
      "(1680, 12)\n",
      "(1680, 6)\n",
      "(1680, 96)\n",
      "(1680, 1)\n",
      "(1680, 56)\n",
      "(1680, 192)\n",
      "(1680, 256)\n"
     ]
    }
   ],
   "source": [
    "test_geometry = np.load(dir + 'test_overall_geometry.npz')['arr_0']\n",
    "print(shape(test_geometry))\n",
    "test_rgb = np.load(dir + 'test_overall_rgb.npz')['arr_0']\n",
    "print(shape(test_rgb))\n",
    "test_hsv = np.load(dir + 'test_overall_hsv.npz')['arr_0']\n",
    "print(shape(test_hsv))\n",
    "test_n1 = np.load(dir + 'test_n1.npz')['arr_0']\n",
    "print(shape(test_n1))\n",
    "test_structure = np.load(dir + 'test_structure.npz')['arr_0']\n",
    "print(shape(test_structure))\n",
    "test_n2 = np.load(dir + 'test_n2.npz')['arr_0']\n",
    "print(shape(test_n2))\n",
    "test_moldered = np.load(dir + 'test_moldered.npz')['arr_0']\n",
    "print(shape(test_moldered))\n",
    "test_color_grid = np.load(dir + 'test_color_grid.npz')['arr_0']\n",
    "print(shape(test_color_grid))\n",
    "test_glcm_grid = np.load(dir + 'test_glcm_grid.npz')['arr_0']\n",
    "print(shape(test_glcm_grid))"
   ]
  },
  {
   "cell_type": "code",
   "execution_count": 12,
   "metadata": {},
   "outputs": [
    {
     "data": {
      "text/plain": [
       "(6720, 631)"
      ]
     },
     "execution_count": 12,
     "metadata": {},
     "output_type": "execute_result"
    }
   ],
   "source": [
    "new_X_train = np.concatenate([train_geometry, train_rgb, train_n1, train_structure, train_n2, train_moldered, train_color_grid, train_glcm_grid], axis=1)\n",
    "shape(new_X_train)"
   ]
  },
  {
   "cell_type": "code",
   "execution_count": 14,
   "metadata": {},
   "outputs": [
    {
     "data": {
      "text/plain": [
       "(1680, 631)"
      ]
     },
     "execution_count": 14,
     "metadata": {},
     "output_type": "execute_result"
    }
   ],
   "source": [
    "new_X_test = np.concatenate([test_geometry, test_rgb, test_n1, test_structure, test_n2, test_moldered, test_color_grid, test_glcm_grid], axis=1)\n",
    "shape(new_X_test)"
   ]
  },
  {
   "cell_type": "code",
   "execution_count": 14,
   "metadata": {},
   "outputs": [],
   "source": [
    "np.savez_compressed(dir + 'X_test_631_new.npz', new_X_test)\n",
    "np.savez_compressed(dir + 'X_train_631_new.npz', new_X_train)"
   ]
  }
 ],
 "metadata": {
  "interpreter": {
   "hash": "26de051ba29f2982a8de78e945f0abaf191376122a1563185a90213a26c5da77"
  },
  "kernelspec": {
   "display_name": "Python 3.10.4 64-bit",
   "language": "python",
   "name": "python3"
  },
  "language_info": {
   "codemirror_mode": {
    "name": "ipython",
    "version": 3
   },
   "file_extension": ".py",
   "mimetype": "text/x-python",
   "name": "python",
   "nbconvert_exporter": "python",
   "pygments_lexer": "ipython3",
   "version": "3.10.4"
  },
  "orig_nbformat": 4
 },
 "nbformat": 4,
 "nbformat_minor": 2
}
